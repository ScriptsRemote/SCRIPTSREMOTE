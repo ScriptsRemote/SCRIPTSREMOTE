{
  "nbformat": 4,
  "nbformat_minor": 0,
  "metadata": {
    "colab": {
      "provenance": [],
      "mount_file_id": "1JjraXzk5WMytcLuWA5C2275ebj2d5dRx",
      "authorship_tag": "ABX9TyMn64WF2AX6azEL/oGKDzMY",
      "include_colab_link": true
    },
    "kernelspec": {
      "name": "python3",
      "display_name": "Python 3"
    },
    "language_info": {
      "name": "python"
    },
    "widgets": {
      "application/vnd.jupyter.widget-state+json": {
        "b3f5f2f2a71148878c3d12fcaff48761": {
          "model_module": "jupyter-leaflet",
          "model_name": "LeafletMapModel",
          "model_module_version": "^0.17",
          "state": {
            "_dom_classes": [],
            "_model_module": "jupyter-leaflet",
            "_model_module_version": "^0.17",
            "_model_name": "LeafletMapModel",
            "_view_count": null,
            "_view_module": "jupyter-leaflet",
            "_view_module_version": "^0.17",
            "_view_name": "LeafletMapView",
            "bottom": 143809.81817626953,
            "bounce_at_zoom_limits": true,
            "box_zoom": true,
            "center": [
              -16.833222102671144,
              -47.336339421807104
            ],
            "close_popup_on_click": true,
            "controls": [
              "IPY_MODEL_01fa45f6bab84ec8ae5884b3a65de21c",
              "IPY_MODEL_c0e84ad4839149cdbba4f89d7ddac26d",
              "IPY_MODEL_5f22a5f206764e8eb51e6ed82c9d3977",
              "IPY_MODEL_11591bb1e6214009949d1a857b95134f",
              "IPY_MODEL_42d929beb000465bb8222682f469cf66",
              "IPY_MODEL_97715eebd3414854b66a587b5cf181f4",
              "IPY_MODEL_06cfde90835841f09fafd283218aca44",
              "IPY_MODEL_77e988dfc0244f7395940efda1538b69"
            ],
            "crs": {
              "name": "EPSG3857",
              "custom": false
            },
            "default_style": "IPY_MODEL_d72008e00da642a0a1cb522e541ca20e",
            "double_click_zoom": true,
            "dragging": true,
            "dragging_style": "IPY_MODEL_fa4056ecfffe4a7b945c5a02bab9b972",
            "east": -46.449193425713354,
            "fullscreen": false,
            "inertia": true,
            "inertia_deceleration": 3000,
            "inertia_max_speed": 1500,
            "interpolation": "bilinear",
            "keyboard": true,
            "keyboard_pan_offset": 80,
            "keyboard_zoom_offset": 1,
            "layers": [
              "IPY_MODEL_2aa558d25bb0407ebd5442cfbbe0023c",
              "IPY_MODEL_34fd9a2f844c48c79cf0819b3f0594af",
              "IPY_MODEL_2ae6fa221a3746c8b769ea9d6a6a8345"
            ],
            "layout": "IPY_MODEL_4e7a6ef1693d4ab89c349b7bdadb59b6",
            "left": 95956.72955169389,
            "max_zoom": 24,
            "min_zoom": null,
            "modisdate": "2023-05-04",
            "north": -16.438480012696726,
            "options": [
              "bounce_at_zoom_limits",
              "box_zoom",
              "center",
              "close_popup_on_click",
              "double_click_zoom",
              "dragging",
              "fullscreen",
              "inertia",
              "inertia_deceleration",
              "inertia_max_speed",
              "interpolation",
              "keyboard",
              "keyboard_pan_offset",
              "keyboard_zoom_offset",
              "max_zoom",
              "min_zoom",
              "prefer_canvas",
              "scroll_wheel_zoom",
              "tap",
              "tap_tolerance",
              "touch_zoom",
              "world_copy_jump",
              "zoom",
              "zoom_animation_threshold",
              "zoom_delta",
              "zoom_snap"
            ],
            "panes": {},
            "prefer_canvas": false,
            "right": 97248.72955169389,
            "scroll_wheel_zoom": true,
            "south": -17.227143092306488,
            "style": "IPY_MODEL_d72008e00da642a0a1cb522e541ca20e",
            "tap": true,
            "tap_tolerance": 15,
            "top": 143209.81817626953,
            "touch_zoom": true,
            "west": -48.22348541790085,
            "window_url": "https://ue36102kmk-496ff2e9c6d22116-0-colab.googleusercontent.com/outputframe.html?vrz=colab-20230503-060127-RC00_529051665",
            "world_copy_jump": false,
            "zoom": 10,
            "zoom_animation_threshold": 4,
            "zoom_delta": 1,
            "zoom_snap": 1
          }
        },
        "01fa45f6bab84ec8ae5884b3a65de21c": {
          "model_module": "jupyter-leaflet",
          "model_name": "LeafletWidgetControlModel",
          "model_module_version": "^0.17",
          "state": {
            "_model_module": "jupyter-leaflet",
            "_model_module_version": "^0.17",
            "_model_name": "LeafletWidgetControlModel",
            "_view_count": null,
            "_view_module": "jupyter-leaflet",
            "_view_module_version": "^0.17",
            "_view_name": "LeafletWidgetControlView",
            "max_height": null,
            "max_width": null,
            "min_height": null,
            "min_width": null,
            "options": [
              "position",
              "transparent_bg"
            ],
            "position": "topleft",
            "transparent_bg": false,
            "widget": "IPY_MODEL_a21cc8b9e3f84e4ba7277b2cab432edf"
          }
        },
        "c0e84ad4839149cdbba4f89d7ddac26d": {
          "model_module": "jupyter-leaflet",
          "model_name": "LeafletZoomControlModel",
          "model_module_version": "^0.17",
          "state": {
            "_model_module": "jupyter-leaflet",
            "_model_module_version": "^0.17",
            "_model_name": "LeafletZoomControlModel",
            "_view_count": null,
            "_view_module": "jupyter-leaflet",
            "_view_module_version": "^0.17",
            "_view_name": "LeafletZoomControlView",
            "options": [
              "position",
              "zoom_in_text",
              "zoom_in_title",
              "zoom_out_text",
              "zoom_out_title"
            ],
            "position": "topleft",
            "zoom_in_text": "+",
            "zoom_in_title": "Zoom in",
            "zoom_out_text": "-",
            "zoom_out_title": "Zoom out"
          }
        },
        "5f22a5f206764e8eb51e6ed82c9d3977": {
          "model_module": "jupyter-leaflet",
          "model_name": "LeafletScaleControlModel",
          "model_module_version": "^0.17",
          "state": {
            "_model_module": "jupyter-leaflet",
            "_model_module_version": "^0.17",
            "_model_name": "LeafletScaleControlModel",
            "_view_count": null,
            "_view_module": "jupyter-leaflet",
            "_view_module_version": "^0.17",
            "_view_name": "LeafletScaleControlView",
            "imperial": true,
            "max_width": 100,
            "metric": true,
            "options": [
              "imperial",
              "max_width",
              "metric",
              "position",
              "update_when_idle"
            ],
            "position": "bottomleft",
            "update_when_idle": false
          }
        },
        "11591bb1e6214009949d1a857b95134f": {
          "model_module": "jupyter-leaflet",
          "model_name": "LeafletFullScreenControlModel",
          "model_module_version": "^0.17",
          "state": {
            "_model_module": "jupyter-leaflet",
            "_model_module_version": "^0.17",
            "_model_name": "LeafletFullScreenControlModel",
            "_view_count": null,
            "_view_module": "jupyter-leaflet",
            "_view_module_version": "^0.17",
            "_view_name": "LeafletFullScreenControlView",
            "options": [
              "position"
            ],
            "position": "topleft"
          }
        },
        "42d929beb000465bb8222682f469cf66": {
          "model_module": "jupyter-leaflet",
          "model_name": "LeafletMeasureControlModel",
          "model_module_version": "^0.17",
          "state": {
            "_custom_units": {},
            "_model_module": "jupyter-leaflet",
            "_model_module_version": "^0.17",
            "_model_name": "LeafletMeasureControlModel",
            "_view_count": null,
            "_view_module": "jupyter-leaflet",
            "_view_module_version": "^0.17",
            "_view_name": "LeafletMeasureControlView",
            "active_color": "orange",
            "capture_z_index": 10000,
            "completed_color": "#C8F2BE",
            "options": [
              "active_color",
              "capture_z_index",
              "completed_color",
              "popup_options",
              "position",
              "primary_area_unit",
              "primary_length_unit",
              "secondary_area_unit",
              "secondary_length_unit"
            ],
            "popup_options": {
              "className": "leaflet-measure-resultpopup",
              "autoPanPadding": [
                10,
                10
              ]
            },
            "position": "bottomleft",
            "primary_area_unit": "acres",
            "primary_length_unit": "kilometers",
            "secondary_area_unit": null,
            "secondary_length_unit": null
          }
        },
        "97715eebd3414854b66a587b5cf181f4": {
          "model_module": "jupyter-leaflet",
          "model_name": "LeafletAttributionControlModel",
          "model_module_version": "^0.17",
          "state": {
            "_model_module": "jupyter-leaflet",
            "_model_module_version": "^0.17",
            "_model_name": "LeafletAttributionControlModel",
            "_view_count": null,
            "_view_module": "jupyter-leaflet",
            "_view_module_version": "^0.17",
            "_view_name": "LeafletAttributionControlView",
            "options": [
              "position",
              "prefix"
            ],
            "position": "bottomright",
            "prefix": "ipyleaflet"
          }
        },
        "06cfde90835841f09fafd283218aca44": {
          "model_module": "jupyter-leaflet",
          "model_name": "LeafletDrawControlModel",
          "model_module_version": "^0.17",
          "state": {
            "_model_module": "jupyter-leaflet",
            "_model_module_version": "^0.17",
            "_model_name": "LeafletDrawControlModel",
            "_view_count": null,
            "_view_module": "jupyter-leaflet",
            "_view_module_version": "^0.17",
            "_view_name": "LeafletDrawControlView",
            "circle": {
              "shapeOptions": {
                "color": "#3388ff"
              }
            },
            "circlemarker": {},
            "data": [],
            "edit": true,
            "marker": {
              "shapeOptions": {
                "color": "#3388ff"
              }
            },
            "options": [
              "position"
            ],
            "polygon": {
              "shapeOptions": {}
            },
            "polyline": {
              "shapeOptions": {}
            },
            "position": "topleft",
            "rectangle": {
              "shapeOptions": {
                "color": "#3388ff"
              }
            },
            "remove": true
          }
        },
        "77e988dfc0244f7395940efda1538b69": {
          "model_module": "jupyter-leaflet",
          "model_name": "LeafletWidgetControlModel",
          "model_module_version": "^0.17",
          "state": {
            "_model_module": "jupyter-leaflet",
            "_model_module_version": "^0.17",
            "_model_name": "LeafletWidgetControlModel",
            "_view_count": null,
            "_view_module": "jupyter-leaflet",
            "_view_module_version": "^0.17",
            "_view_name": "LeafletWidgetControlView",
            "max_height": null,
            "max_width": null,
            "min_height": null,
            "min_width": null,
            "options": [
              "position",
              "transparent_bg"
            ],
            "position": "topright",
            "transparent_bg": false,
            "widget": "IPY_MODEL_31e846ec98074f95ae93a01d5491c206"
          }
        },
        "d72008e00da642a0a1cb522e541ca20e": {
          "model_module": "jupyter-leaflet",
          "model_name": "LeafletMapStyleModel",
          "model_module_version": "^0.17",
          "state": {
            "_model_module": "jupyter-leaflet",
            "_model_module_version": "^0.17",
            "_model_name": "LeafletMapStyleModel",
            "_view_count": null,
            "_view_module": "@jupyter-widgets/base",
            "_view_module_version": "1.2.0",
            "_view_name": "StyleView",
            "cursor": "grab"
          }
        },
        "fa4056ecfffe4a7b945c5a02bab9b972": {
          "model_module": "jupyter-leaflet",
          "model_name": "LeafletMapStyleModel",
          "model_module_version": "^0.17",
          "state": {
            "_model_module": "jupyter-leaflet",
            "_model_module_version": "^0.17",
            "_model_name": "LeafletMapStyleModel",
            "_view_count": null,
            "_view_module": "@jupyter-widgets/base",
            "_view_module_version": "1.2.0",
            "_view_name": "StyleView",
            "cursor": "move"
          }
        },
        "2aa558d25bb0407ebd5442cfbbe0023c": {
          "model_module": "jupyter-leaflet",
          "model_name": "LeafletTileLayerModel",
          "model_module_version": "^0.17",
          "state": {
            "_model_module": "jupyter-leaflet",
            "_model_module_version": "^0.17",
            "_model_name": "LeafletTileLayerModel",
            "_view_count": null,
            "_view_module": "jupyter-leaflet",
            "_view_module_version": "^0.17",
            "_view_name": "LeafletTileLayerView",
            "attribution": "&copy; <a href=\"https://www.openstreetmap.org/copyright\">OpenStreetMap</a> contributors",
            "base": true,
            "bottom": true,
            "bounds": null,
            "detect_retina": false,
            "loading": false,
            "max_native_zoom": null,
            "max_zoom": 19,
            "min_native_zoom": null,
            "min_zoom": 1,
            "name": "OpenStreetMap.Mapnik",
            "no_wrap": false,
            "opacity": 1,
            "options": [
              "attribution",
              "bounds",
              "detect_retina",
              "max_native_zoom",
              "max_zoom",
              "min_native_zoom",
              "min_zoom",
              "no_wrap",
              "tile_size",
              "tms",
              "zoom_offset"
            ],
            "pane": "",
            "popup": null,
            "popup_max_height": null,
            "popup_max_width": 300,
            "popup_min_width": 50,
            "show_loading": false,
            "subitems": [],
            "tile_size": 256,
            "tms": false,
            "url": "https://tile.openstreetmap.org/{z}/{x}/{y}.png",
            "visible": true,
            "zoom_offset": 0
          }
        },
        "34fd9a2f844c48c79cf0819b3f0594af": {
          "model_module": "jupyter-leaflet",
          "model_name": "LeafletTileLayerModel",
          "model_module_version": "^0.17",
          "state": {
            "_model_module": "jupyter-leaflet",
            "_model_module_version": "^0.17",
            "_model_name": "LeafletTileLayerModel",
            "_view_count": null,
            "_view_module": "jupyter-leaflet",
            "_view_module_version": "^0.17",
            "_view_name": "LeafletTileLayerView",
            "attribution": "Google",
            "base": false,
            "bottom": true,
            "bounds": null,
            "detect_retina": false,
            "loading": false,
            "max_native_zoom": null,
            "max_zoom": 22,
            "min_native_zoom": null,
            "min_zoom": 0,
            "name": "Google Maps",
            "no_wrap": false,
            "opacity": 1,
            "options": [
              "attribution",
              "bounds",
              "detect_retina",
              "max_native_zoom",
              "max_zoom",
              "min_native_zoom",
              "min_zoom",
              "no_wrap",
              "tile_size",
              "tms",
              "zoom_offset"
            ],
            "pane": "",
            "popup": null,
            "popup_max_height": null,
            "popup_max_width": 300,
            "popup_min_width": 50,
            "show_loading": false,
            "subitems": [],
            "tile_size": 256,
            "tms": false,
            "url": "https://mt1.google.com/vt/lyrs=m&x={x}&y={y}&z={z}",
            "visible": true,
            "zoom_offset": 0
          }
        },
        "2ae6fa221a3746c8b769ea9d6a6a8345": {
          "model_module": "jupyter-leaflet",
          "model_name": "LeafletTileLayerModel",
          "model_module_version": "^0.17",
          "state": {
            "_model_module": "jupyter-leaflet",
            "_model_module_version": "^0.17",
            "_model_name": "LeafletTileLayerModel",
            "_view_count": null,
            "_view_module": "jupyter-leaflet",
            "_view_module_version": "^0.17",
            "_view_name": "LeafletTileLayerView",
            "attribution": "Google Earth Engine",
            "base": false,
            "bottom": true,
            "bounds": null,
            "detect_retina": false,
            "loading": false,
            "max_native_zoom": null,
            "max_zoom": 24,
            "min_native_zoom": null,
            "min_zoom": 0,
            "name": "S2 RGB",
            "no_wrap": false,
            "opacity": 1,
            "options": [
              "attribution",
              "bounds",
              "detect_retina",
              "max_native_zoom",
              "max_zoom",
              "min_native_zoom",
              "min_zoom",
              "no_wrap",
              "tile_size",
              "tms",
              "zoom_offset"
            ],
            "pane": "",
            "popup": null,
            "popup_max_height": null,
            "popup_max_width": 300,
            "popup_min_width": 50,
            "show_loading": false,
            "subitems": [],
            "tile_size": 256,
            "tms": false,
            "url": "https://earthengine.googleapis.com/v1alpha/projects/earthengine-legacy/maps/fdaf8fafe6104435095105fe60d298f4-e54fb45c4230f9ac386605d05030d10b/tiles/{z}/{x}/{y}",
            "visible": true,
            "zoom_offset": 0
          }
        },
        "4e7a6ef1693d4ab89c349b7bdadb59b6": {
          "model_module": "@jupyter-widgets/base",
          "model_name": "LayoutModel",
          "model_module_version": "1.2.0",
          "state": {
            "_model_module": "@jupyter-widgets/base",
            "_model_module_version": "1.2.0",
            "_model_name": "LayoutModel",
            "_view_count": null,
            "_view_module": "@jupyter-widgets/base",
            "_view_module_version": "1.2.0",
            "_view_name": "LayoutView",
            "align_content": null,
            "align_items": null,
            "align_self": null,
            "border": null,
            "bottom": null,
            "display": null,
            "flex": null,
            "flex_flow": null,
            "grid_area": null,
            "grid_auto_columns": null,
            "grid_auto_flow": null,
            "grid_auto_rows": null,
            "grid_column": null,
            "grid_gap": null,
            "grid_row": null,
            "grid_template_areas": null,
            "grid_template_columns": null,
            "grid_template_rows": null,
            "height": "600px",
            "justify_content": null,
            "justify_items": null,
            "left": null,
            "margin": null,
            "max_height": null,
            "max_width": null,
            "min_height": null,
            "min_width": null,
            "object_fit": null,
            "object_position": null,
            "order": null,
            "overflow": null,
            "overflow_x": null,
            "overflow_y": null,
            "padding": null,
            "right": null,
            "top": null,
            "visibility": null,
            "width": null
          }
        },
        "bb471780aa8841eeb9b083cae2418d29": {
          "model_module": "jupyter-leaflet",
          "model_name": "LeafletMapStyleModel",
          "model_module_version": "^0.17",
          "state": {
            "_model_module": "jupyter-leaflet",
            "_model_module_version": "^0.17",
            "_model_name": "LeafletMapStyleModel",
            "_view_count": null,
            "_view_module": "@jupyter-widgets/base",
            "_view_module_version": "1.2.0",
            "_view_name": "StyleView",
            "cursor": "grab"
          }
        },
        "a21cc8b9e3f84e4ba7277b2cab432edf": {
          "model_module": "@jupyter-widgets/controls",
          "model_name": "HBoxModel",
          "model_module_version": "1.5.0",
          "state": {
            "_dom_classes": [],
            "_model_module": "@jupyter-widgets/controls",
            "_model_module_version": "1.5.0",
            "_model_name": "HBoxModel",
            "_view_count": null,
            "_view_module": "@jupyter-widgets/controls",
            "_view_module_version": "1.5.0",
            "_view_name": "HBoxView",
            "box_style": "",
            "children": [
              "IPY_MODEL_0795f23f16eb452ab4f40ace2685345e"
            ],
            "layout": "IPY_MODEL_ce364bfcde87421c9ad1cb438d27aa53"
          }
        },
        "31e846ec98074f95ae93a01d5491c206": {
          "model_module": "@jupyter-widgets/controls",
          "model_name": "VBoxModel",
          "model_module_version": "1.5.0",
          "state": {
            "_dom_classes": [],
            "_model_module": "@jupyter-widgets/controls",
            "_model_module_version": "1.5.0",
            "_model_name": "VBoxModel",
            "_view_count": null,
            "_view_module": "@jupyter-widgets/controls",
            "_view_module_version": "1.5.0",
            "_view_name": "VBoxView",
            "box_style": "",
            "children": [
              "IPY_MODEL_84f6e6b8569f4b80831a0e6ec8faf645"
            ],
            "layout": "IPY_MODEL_917a5c24e32e459ba8caace3e5610b94"
          }
        },
        "0795f23f16eb452ab4f40ace2685345e": {
          "model_module": "@jupyter-widgets/controls",
          "model_name": "ToggleButtonModel",
          "model_module_version": "1.5.0",
          "state": {
            "_dom_classes": [],
            "_model_module": "@jupyter-widgets/controls",
            "_model_module_version": "1.5.0",
            "_model_name": "ToggleButtonModel",
            "_view_count": null,
            "_view_module": "@jupyter-widgets/controls",
            "_view_module_version": "1.5.0",
            "_view_name": "ToggleButtonView",
            "button_style": "",
            "description": "",
            "description_tooltip": null,
            "disabled": false,
            "icon": "globe",
            "layout": "IPY_MODEL_5017e53264f0458a83977fd24e1ec898",
            "style": "IPY_MODEL_5e919745949a477797f2372291ff5ffc",
            "tooltip": "Search location/data",
            "value": false
          }
        },
        "ce364bfcde87421c9ad1cb438d27aa53": {
          "model_module": "@jupyter-widgets/base",
          "model_name": "LayoutModel",
          "model_module_version": "1.2.0",
          "state": {
            "_model_module": "@jupyter-widgets/base",
            "_model_module_version": "1.2.0",
            "_model_name": "LayoutModel",
            "_view_count": null,
            "_view_module": "@jupyter-widgets/base",
            "_view_module_version": "1.2.0",
            "_view_name": "LayoutView",
            "align_content": null,
            "align_items": null,
            "align_self": null,
            "border": null,
            "bottom": null,
            "display": null,
            "flex": null,
            "flex_flow": null,
            "grid_area": null,
            "grid_auto_columns": null,
            "grid_auto_flow": null,
            "grid_auto_rows": null,
            "grid_column": null,
            "grid_gap": null,
            "grid_row": null,
            "grid_template_areas": null,
            "grid_template_columns": null,
            "grid_template_rows": null,
            "height": null,
            "justify_content": null,
            "justify_items": null,
            "left": null,
            "margin": null,
            "max_height": null,
            "max_width": null,
            "min_height": null,
            "min_width": null,
            "object_fit": null,
            "object_position": null,
            "order": null,
            "overflow": null,
            "overflow_x": null,
            "overflow_y": null,
            "padding": null,
            "right": null,
            "top": null,
            "visibility": null,
            "width": null
          }
        },
        "84f6e6b8569f4b80831a0e6ec8faf645": {
          "model_module": "@jupyter-widgets/controls",
          "model_name": "ToggleButtonModel",
          "model_module_version": "1.5.0",
          "state": {
            "_dom_classes": [],
            "_model_module": "@jupyter-widgets/controls",
            "_model_module_version": "1.5.0",
            "_model_name": "ToggleButtonModel",
            "_view_count": null,
            "_view_module": "@jupyter-widgets/controls",
            "_view_module_version": "1.5.0",
            "_view_name": "ToggleButtonView",
            "button_style": "",
            "description": "",
            "description_tooltip": null,
            "disabled": false,
            "icon": "wrench",
            "layout": "IPY_MODEL_36f577a5548a4cdb8be3e87b2a098b7b",
            "style": "IPY_MODEL_30b1af5b69e44a5f9f94a5a083693a0a",
            "tooltip": "Toolbar",
            "value": false
          }
        },
        "917a5c24e32e459ba8caace3e5610b94": {
          "model_module": "@jupyter-widgets/base",
          "model_name": "LayoutModel",
          "model_module_version": "1.2.0",
          "state": {
            "_model_module": "@jupyter-widgets/base",
            "_model_module_version": "1.2.0",
            "_model_name": "LayoutModel",
            "_view_count": null,
            "_view_module": "@jupyter-widgets/base",
            "_view_module_version": "1.2.0",
            "_view_name": "LayoutView",
            "align_content": null,
            "align_items": null,
            "align_self": null,
            "border": null,
            "bottom": null,
            "display": null,
            "flex": null,
            "flex_flow": null,
            "grid_area": null,
            "grid_auto_columns": null,
            "grid_auto_flow": null,
            "grid_auto_rows": null,
            "grid_column": null,
            "grid_gap": null,
            "grid_row": null,
            "grid_template_areas": null,
            "grid_template_columns": null,
            "grid_template_rows": null,
            "height": null,
            "justify_content": null,
            "justify_items": null,
            "left": null,
            "margin": null,
            "max_height": null,
            "max_width": null,
            "min_height": null,
            "min_width": null,
            "object_fit": null,
            "object_position": null,
            "order": null,
            "overflow": null,
            "overflow_x": null,
            "overflow_y": null,
            "padding": null,
            "right": null,
            "top": null,
            "visibility": null,
            "width": null
          }
        },
        "5017e53264f0458a83977fd24e1ec898": {
          "model_module": "@jupyter-widgets/base",
          "model_name": "LayoutModel",
          "model_module_version": "1.2.0",
          "state": {
            "_model_module": "@jupyter-widgets/base",
            "_model_module_version": "1.2.0",
            "_model_name": "LayoutModel",
            "_view_count": null,
            "_view_module": "@jupyter-widgets/base",
            "_view_module_version": "1.2.0",
            "_view_name": "LayoutView",
            "align_content": null,
            "align_items": null,
            "align_self": null,
            "border": null,
            "bottom": null,
            "display": null,
            "flex": null,
            "flex_flow": null,
            "grid_area": null,
            "grid_auto_columns": null,
            "grid_auto_flow": null,
            "grid_auto_rows": null,
            "grid_column": null,
            "grid_gap": null,
            "grid_row": null,
            "grid_template_areas": null,
            "grid_template_columns": null,
            "grid_template_rows": null,
            "height": "28px",
            "justify_content": null,
            "justify_items": null,
            "left": null,
            "margin": null,
            "max_height": null,
            "max_width": null,
            "min_height": null,
            "min_width": null,
            "object_fit": null,
            "object_position": null,
            "order": null,
            "overflow": null,
            "overflow_x": null,
            "overflow_y": null,
            "padding": "0px 0px 0px 4px",
            "right": null,
            "top": null,
            "visibility": null,
            "width": "28px"
          }
        },
        "5e919745949a477797f2372291ff5ffc": {
          "model_module": "@jupyter-widgets/controls",
          "model_name": "DescriptionStyleModel",
          "model_module_version": "1.5.0",
          "state": {
            "_model_module": "@jupyter-widgets/controls",
            "_model_module_version": "1.5.0",
            "_model_name": "DescriptionStyleModel",
            "_view_count": null,
            "_view_module": "@jupyter-widgets/base",
            "_view_module_version": "1.2.0",
            "_view_name": "StyleView",
            "description_width": ""
          }
        },
        "36f577a5548a4cdb8be3e87b2a098b7b": {
          "model_module": "@jupyter-widgets/base",
          "model_name": "LayoutModel",
          "model_module_version": "1.2.0",
          "state": {
            "_model_module": "@jupyter-widgets/base",
            "_model_module_version": "1.2.0",
            "_model_name": "LayoutModel",
            "_view_count": null,
            "_view_module": "@jupyter-widgets/base",
            "_view_module_version": "1.2.0",
            "_view_name": "LayoutView",
            "align_content": null,
            "align_items": null,
            "align_self": null,
            "border": null,
            "bottom": null,
            "display": null,
            "flex": null,
            "flex_flow": null,
            "grid_area": null,
            "grid_auto_columns": null,
            "grid_auto_flow": null,
            "grid_auto_rows": null,
            "grid_column": null,
            "grid_gap": null,
            "grid_row": null,
            "grid_template_areas": null,
            "grid_template_columns": null,
            "grid_template_rows": null,
            "height": "28px",
            "justify_content": null,
            "justify_items": null,
            "left": null,
            "margin": null,
            "max_height": null,
            "max_width": null,
            "min_height": null,
            "min_width": null,
            "object_fit": null,
            "object_position": null,
            "order": null,
            "overflow": null,
            "overflow_x": null,
            "overflow_y": null,
            "padding": "0px 0px 0px 4px",
            "right": null,
            "top": null,
            "visibility": null,
            "width": "28px"
          }
        },
        "30b1af5b69e44a5f9f94a5a083693a0a": {
          "model_module": "@jupyter-widgets/controls",
          "model_name": "DescriptionStyleModel",
          "model_module_version": "1.5.0",
          "state": {
            "_model_module": "@jupyter-widgets/controls",
            "_model_module_version": "1.5.0",
            "_model_name": "DescriptionStyleModel",
            "_view_count": null,
            "_view_module": "@jupyter-widgets/base",
            "_view_module_version": "1.2.0",
            "_view_name": "StyleView",
            "description_width": ""
          }
        },
        "3c06e36a167a4841815fdaa0b20a7352": {
          "model_module": "jupyter-leaflet",
          "model_name": "LeafletMapModel",
          "model_module_version": "^0.17",
          "state": {
            "_dom_classes": [],
            "_model_module": "jupyter-leaflet",
            "_model_module_version": "^0.17",
            "_model_name": "LeafletMapModel",
            "_view_count": null,
            "_view_module": "jupyter-leaflet",
            "_view_module_version": "^0.17",
            "_view_name": "LeafletMapView",
            "bottom": 574518.8182067871,
            "bounce_at_zoom_limits": true,
            "box_zoom": true,
            "center": [
              -16.892213703846437,
              -47.622740808237666
            ],
            "close_popup_on_click": true,
            "controls": [
              "IPY_MODEL_7b840ca5649345b19002a4e29c8836aa",
              "IPY_MODEL_b4c24a6569f646a080bfe345615185bf",
              "IPY_MODEL_172b050468b34199888268ac2417582a",
              "IPY_MODEL_583355d7f2a9409db291614ca16dacdc",
              "IPY_MODEL_60f33c04797a48ae842750947f3737cd",
              "IPY_MODEL_7bf29621086248799910b1819858a3d2",
              "IPY_MODEL_7ab5e34c1ae741af8eecfdde1321f2ab",
              "IPY_MODEL_58cbb8348e5947129b5651b6facd1ec2"
            ],
            "crs": {
              "name": "EPSG3857",
              "custom": false
            },
            "default_style": "IPY_MODEL_8b8a44f2b643436382458febd36ddde4",
            "double_click_zoom": true,
            "dragging": true,
            "dragging_style": "IPY_MODEL_ff4aa1c58b384cdd8b5b2a353b71503c",
            "east": -47.40095430921423,
            "fullscreen": false,
            "inertia": true,
            "inertia_deceleration": 3000,
            "inertia_max_speed": 1500,
            "interpolation": "bilinear",
            "keyboard": true,
            "keyboard_pan_offset": 80,
            "keyboard_zoom_offset": 1,
            "layers": [
              "IPY_MODEL_2ed3e6d7e7dc48109270787caf617284",
              "IPY_MODEL_34fd9a2f844c48c79cf0819b3f0594af",
              "IPY_MODEL_1d6982812d5240d593362743767e8cc4",
              "IPY_MODEL_df25798f7b8e4a79beddd968c1d1f36e",
              "IPY_MODEL_ce759bc2c0b8444b8e8f013939e8c5c3"
            ],
            "layout": "IPY_MODEL_32699af067d945c7ade9c43d1db06e5f",
            "left": 384930.7137062816,
            "max_zoom": 24,
            "min_zoom": null,
            "modisdate": "2023-05-04",
            "north": -16.79363517841784,
            "options": [
              "bounce_at_zoom_limits",
              "box_zoom",
              "center",
              "close_popup_on_click",
              "double_click_zoom",
              "dragging",
              "fullscreen",
              "inertia",
              "inertia_deceleration",
              "inertia_max_speed",
              "interpolation",
              "keyboard",
              "keyboard_pan_offset",
              "keyboard_zoom_offset",
              "max_zoom",
              "min_zoom",
              "prefer_canvas",
              "scroll_wheel_zoom",
              "tap",
              "tap_tolerance",
              "touch_zoom",
              "world_copy_jump",
              "zoom",
              "zoom_animation_threshold",
              "zoom_delta",
              "zoom_snap"
            ],
            "panes": {},
            "prefer_canvas": false,
            "right": 386222.7137062816,
            "scroll_wheel_zoom": true,
            "south": -16.990740751022912,
            "style": "IPY_MODEL_8b8a44f2b643436382458febd36ddde4",
            "tap": true,
            "tap_tolerance": 15,
            "top": 573918.8182067871,
            "touch_zoom": true,
            "west": -47.84452730726112,
            "window_url": "https://ue36102kmk-496ff2e9c6d22116-0-colab.googleusercontent.com/outputframe.html?vrz=colab-20230503-060127-RC00_529051665",
            "world_copy_jump": false,
            "zoom": 12,
            "zoom_animation_threshold": 4,
            "zoom_delta": 1,
            "zoom_snap": 1
          }
        },
        "7b840ca5649345b19002a4e29c8836aa": {
          "model_module": "jupyter-leaflet",
          "model_name": "LeafletWidgetControlModel",
          "model_module_version": "^0.17",
          "state": {
            "_model_module": "jupyter-leaflet",
            "_model_module_version": "^0.17",
            "_model_name": "LeafletWidgetControlModel",
            "_view_count": null,
            "_view_module": "jupyter-leaflet",
            "_view_module_version": "^0.17",
            "_view_name": "LeafletWidgetControlView",
            "max_height": null,
            "max_width": null,
            "min_height": null,
            "min_width": null,
            "options": [
              "position",
              "transparent_bg"
            ],
            "position": "topleft",
            "transparent_bg": false,
            "widget": "IPY_MODEL_aa1fb420dc764d5681661baf20697f2c"
          }
        },
        "b4c24a6569f646a080bfe345615185bf": {
          "model_module": "jupyter-leaflet",
          "model_name": "LeafletZoomControlModel",
          "model_module_version": "^0.17",
          "state": {
            "_model_module": "jupyter-leaflet",
            "_model_module_version": "^0.17",
            "_model_name": "LeafletZoomControlModel",
            "_view_count": null,
            "_view_module": "jupyter-leaflet",
            "_view_module_version": "^0.17",
            "_view_name": "LeafletZoomControlView",
            "options": [
              "position",
              "zoom_in_text",
              "zoom_in_title",
              "zoom_out_text",
              "zoom_out_title"
            ],
            "position": "topleft",
            "zoom_in_text": "+",
            "zoom_in_title": "Zoom in",
            "zoom_out_text": "-",
            "zoom_out_title": "Zoom out"
          }
        },
        "172b050468b34199888268ac2417582a": {
          "model_module": "jupyter-leaflet",
          "model_name": "LeafletScaleControlModel",
          "model_module_version": "^0.17",
          "state": {
            "_model_module": "jupyter-leaflet",
            "_model_module_version": "^0.17",
            "_model_name": "LeafletScaleControlModel",
            "_view_count": null,
            "_view_module": "jupyter-leaflet",
            "_view_module_version": "^0.17",
            "_view_name": "LeafletScaleControlView",
            "imperial": true,
            "max_width": 100,
            "metric": true,
            "options": [
              "imperial",
              "max_width",
              "metric",
              "position",
              "update_when_idle"
            ],
            "position": "bottomleft",
            "update_when_idle": false
          }
        },
        "583355d7f2a9409db291614ca16dacdc": {
          "model_module": "jupyter-leaflet",
          "model_name": "LeafletFullScreenControlModel",
          "model_module_version": "^0.17",
          "state": {
            "_model_module": "jupyter-leaflet",
            "_model_module_version": "^0.17",
            "_model_name": "LeafletFullScreenControlModel",
            "_view_count": null,
            "_view_module": "jupyter-leaflet",
            "_view_module_version": "^0.17",
            "_view_name": "LeafletFullScreenControlView",
            "options": [
              "position"
            ],
            "position": "topleft"
          }
        },
        "60f33c04797a48ae842750947f3737cd": {
          "model_module": "jupyter-leaflet",
          "model_name": "LeafletMeasureControlModel",
          "model_module_version": "^0.17",
          "state": {
            "_custom_units": {},
            "_model_module": "jupyter-leaflet",
            "_model_module_version": "^0.17",
            "_model_name": "LeafletMeasureControlModel",
            "_view_count": null,
            "_view_module": "jupyter-leaflet",
            "_view_module_version": "^0.17",
            "_view_name": "LeafletMeasureControlView",
            "active_color": "orange",
            "capture_z_index": 10000,
            "completed_color": "#C8F2BE",
            "options": [
              "active_color",
              "capture_z_index",
              "completed_color",
              "popup_options",
              "position",
              "primary_area_unit",
              "primary_length_unit",
              "secondary_area_unit",
              "secondary_length_unit"
            ],
            "popup_options": {
              "className": "leaflet-measure-resultpopup",
              "autoPanPadding": [
                10,
                10
              ]
            },
            "position": "bottomleft",
            "primary_area_unit": "acres",
            "primary_length_unit": "kilometers",
            "secondary_area_unit": null,
            "secondary_length_unit": null
          }
        },
        "7bf29621086248799910b1819858a3d2": {
          "model_module": "jupyter-leaflet",
          "model_name": "LeafletAttributionControlModel",
          "model_module_version": "^0.17",
          "state": {
            "_model_module": "jupyter-leaflet",
            "_model_module_version": "^0.17",
            "_model_name": "LeafletAttributionControlModel",
            "_view_count": null,
            "_view_module": "jupyter-leaflet",
            "_view_module_version": "^0.17",
            "_view_name": "LeafletAttributionControlView",
            "options": [
              "position",
              "prefix"
            ],
            "position": "bottomright",
            "prefix": "ipyleaflet"
          }
        },
        "7ab5e34c1ae741af8eecfdde1321f2ab": {
          "model_module": "jupyter-leaflet",
          "model_name": "LeafletDrawControlModel",
          "model_module_version": "^0.17",
          "state": {
            "_model_module": "jupyter-leaflet",
            "_model_module_version": "^0.17",
            "_model_name": "LeafletDrawControlModel",
            "_view_count": null,
            "_view_module": "jupyter-leaflet",
            "_view_module_version": "^0.17",
            "_view_name": "LeafletDrawControlView",
            "circle": {
              "shapeOptions": {
                "color": "#3388ff"
              }
            },
            "circlemarker": {},
            "data": [],
            "edit": true,
            "marker": {
              "shapeOptions": {
                "color": "#3388ff"
              }
            },
            "options": [
              "position"
            ],
            "polygon": {
              "shapeOptions": {}
            },
            "polyline": {
              "shapeOptions": {}
            },
            "position": "topleft",
            "rectangle": {
              "shapeOptions": {
                "color": "#3388ff"
              }
            },
            "remove": true
          }
        },
        "58cbb8348e5947129b5651b6facd1ec2": {
          "model_module": "jupyter-leaflet",
          "model_name": "LeafletWidgetControlModel",
          "model_module_version": "^0.17",
          "state": {
            "_model_module": "jupyter-leaflet",
            "_model_module_version": "^0.17",
            "_model_name": "LeafletWidgetControlModel",
            "_view_count": null,
            "_view_module": "jupyter-leaflet",
            "_view_module_version": "^0.17",
            "_view_name": "LeafletWidgetControlView",
            "max_height": null,
            "max_width": null,
            "min_height": null,
            "min_width": null,
            "options": [
              "position",
              "transparent_bg"
            ],
            "position": "topright",
            "transparent_bg": false,
            "widget": "IPY_MODEL_bee73301c5a144949ed088f91e504c0c"
          }
        },
        "8b8a44f2b643436382458febd36ddde4": {
          "model_module": "jupyter-leaflet",
          "model_name": "LeafletMapStyleModel",
          "model_module_version": "^0.17",
          "state": {
            "_model_module": "jupyter-leaflet",
            "_model_module_version": "^0.17",
            "_model_name": "LeafletMapStyleModel",
            "_view_count": null,
            "_view_module": "@jupyter-widgets/base",
            "_view_module_version": "1.2.0",
            "_view_name": "StyleView",
            "cursor": "grab"
          }
        },
        "ff4aa1c58b384cdd8b5b2a353b71503c": {
          "model_module": "jupyter-leaflet",
          "model_name": "LeafletMapStyleModel",
          "model_module_version": "^0.17",
          "state": {
            "_model_module": "jupyter-leaflet",
            "_model_module_version": "^0.17",
            "_model_name": "LeafletMapStyleModel",
            "_view_count": null,
            "_view_module": "@jupyter-widgets/base",
            "_view_module_version": "1.2.0",
            "_view_name": "StyleView",
            "cursor": "move"
          }
        },
        "2ed3e6d7e7dc48109270787caf617284": {
          "model_module": "jupyter-leaflet",
          "model_name": "LeafletTileLayerModel",
          "model_module_version": "^0.17",
          "state": {
            "_model_module": "jupyter-leaflet",
            "_model_module_version": "^0.17",
            "_model_name": "LeafletTileLayerModel",
            "_view_count": null,
            "_view_module": "jupyter-leaflet",
            "_view_module_version": "^0.17",
            "_view_name": "LeafletTileLayerView",
            "attribution": "&copy; <a href=\"https://www.openstreetmap.org/copyright\">OpenStreetMap</a> contributors",
            "base": true,
            "bottom": true,
            "bounds": null,
            "detect_retina": false,
            "loading": false,
            "max_native_zoom": null,
            "max_zoom": 19,
            "min_native_zoom": null,
            "min_zoom": 1,
            "name": "OpenStreetMap.Mapnik",
            "no_wrap": false,
            "opacity": 1,
            "options": [
              "attribution",
              "bounds",
              "detect_retina",
              "max_native_zoom",
              "max_zoom",
              "min_native_zoom",
              "min_zoom",
              "no_wrap",
              "tile_size",
              "tms",
              "zoom_offset"
            ],
            "pane": "",
            "popup": null,
            "popup_max_height": null,
            "popup_max_width": 300,
            "popup_min_width": 50,
            "show_loading": false,
            "subitems": [],
            "tile_size": 256,
            "tms": false,
            "url": "https://tile.openstreetmap.org/{z}/{x}/{y}.png",
            "visible": true,
            "zoom_offset": 0
          }
        },
        "1d6982812d5240d593362743767e8cc4": {
          "model_module": "jupyter-leaflet",
          "model_name": "LeafletTileLayerModel",
          "model_module_version": "^0.17",
          "state": {
            "_model_module": "jupyter-leaflet",
            "_model_module_version": "^0.17",
            "_model_name": "LeafletTileLayerModel",
            "_view_count": null,
            "_view_module": "jupyter-leaflet",
            "_view_module_version": "^0.17",
            "_view_name": "LeafletTileLayerView",
            "attribution": "Google Earth Engine",
            "base": false,
            "bottom": true,
            "bounds": null,
            "detect_retina": false,
            "loading": false,
            "max_native_zoom": null,
            "max_zoom": 24,
            "min_native_zoom": null,
            "min_zoom": 0,
            "name": "S2 RGB",
            "no_wrap": false,
            "opacity": 1,
            "options": [
              "attribution",
              "bounds",
              "detect_retina",
              "max_native_zoom",
              "max_zoom",
              "min_native_zoom",
              "min_zoom",
              "no_wrap",
              "tile_size",
              "tms",
              "zoom_offset"
            ],
            "pane": "",
            "popup": null,
            "popup_max_height": null,
            "popup_max_width": 300,
            "popup_min_width": 50,
            "show_loading": false,
            "subitems": [],
            "tile_size": 256,
            "tms": false,
            "url": "https://earthengine.googleapis.com/v1alpha/projects/earthengine-legacy/maps/c62f9370be32fa9917c87f547bd06fea-87d4b534f689e597adceb771d3ff077f/tiles/{z}/{x}/{y}",
            "visible": true,
            "zoom_offset": 0
          }
        },
        "df25798f7b8e4a79beddd968c1d1f36e": {
          "model_module": "jupyter-leaflet",
          "model_name": "LeafletTileLayerModel",
          "model_module_version": "^0.17",
          "state": {
            "_model_module": "jupyter-leaflet",
            "_model_module_version": "^0.17",
            "_model_name": "LeafletTileLayerModel",
            "_view_count": null,
            "_view_module": "jupyter-leaflet",
            "_view_module_version": "^0.17",
            "_view_name": "LeafletTileLayerView",
            "attribution": "Google Earth Engine",
            "base": false,
            "bottom": true,
            "bounds": null,
            "detect_retina": false,
            "loading": false,
            "max_native_zoom": null,
            "max_zoom": 24,
            "min_native_zoom": null,
            "min_zoom": 0,
            "name": "S2 NRG",
            "no_wrap": false,
            "opacity": 1,
            "options": [
              "attribution",
              "bounds",
              "detect_retina",
              "max_native_zoom",
              "max_zoom",
              "min_native_zoom",
              "min_zoom",
              "no_wrap",
              "tile_size",
              "tms",
              "zoom_offset"
            ],
            "pane": "",
            "popup": null,
            "popup_max_height": null,
            "popup_max_width": 300,
            "popup_min_width": 50,
            "show_loading": false,
            "subitems": [],
            "tile_size": 256,
            "tms": false,
            "url": "https://earthengine.googleapis.com/v1alpha/projects/earthengine-legacy/maps/df8cbdb08091095843bc082631547540-77843269b345b23778deef194551ad1c/tiles/{z}/{x}/{y}",
            "visible": true,
            "zoom_offset": 0
          }
        },
        "ce759bc2c0b8444b8e8f013939e8c5c3": {
          "model_module": "jupyter-leaflet",
          "model_name": "LeafletTileLayerModel",
          "model_module_version": "^0.17",
          "state": {
            "_model_module": "jupyter-leaflet",
            "_model_module_version": "^0.17",
            "_model_name": "LeafletTileLayerModel",
            "_view_count": null,
            "_view_module": "jupyter-leaflet",
            "_view_module_version": "^0.17",
            "_view_name": "LeafletTileLayerView",
            "attribution": "Google Earth Engine",
            "base": false,
            "bottom": true,
            "bounds": null,
            "detect_retina": false,
            "loading": false,
            "max_native_zoom": null,
            "max_zoom": 24,
            "min_native_zoom": null,
            "min_zoom": 0,
            "name": "S2 SNB",
            "no_wrap": false,
            "opacity": 1,
            "options": [
              "attribution",
              "bounds",
              "detect_retina",
              "max_native_zoom",
              "max_zoom",
              "min_native_zoom",
              "min_zoom",
              "no_wrap",
              "tile_size",
              "tms",
              "zoom_offset"
            ],
            "pane": "",
            "popup": null,
            "popup_max_height": null,
            "popup_max_width": 300,
            "popup_min_width": 50,
            "show_loading": false,
            "subitems": [],
            "tile_size": 256,
            "tms": false,
            "url": "https://earthengine.googleapis.com/v1alpha/projects/earthengine-legacy/maps/5c4042656e213aac350fd59407f19368-35abbe768e8826bb2971b4d7df4cf69b/tiles/{z}/{x}/{y}",
            "visible": true,
            "zoom_offset": 0
          }
        },
        "32699af067d945c7ade9c43d1db06e5f": {
          "model_module": "@jupyter-widgets/base",
          "model_name": "LayoutModel",
          "model_module_version": "1.2.0",
          "state": {
            "_model_module": "@jupyter-widgets/base",
            "_model_module_version": "1.2.0",
            "_model_name": "LayoutModel",
            "_view_count": null,
            "_view_module": "@jupyter-widgets/base",
            "_view_module_version": "1.2.0",
            "_view_name": "LayoutView",
            "align_content": null,
            "align_items": null,
            "align_self": null,
            "border": null,
            "bottom": null,
            "display": null,
            "flex": null,
            "flex_flow": null,
            "grid_area": null,
            "grid_auto_columns": null,
            "grid_auto_flow": null,
            "grid_auto_rows": null,
            "grid_column": null,
            "grid_gap": null,
            "grid_row": null,
            "grid_template_areas": null,
            "grid_template_columns": null,
            "grid_template_rows": null,
            "height": "600px",
            "justify_content": null,
            "justify_items": null,
            "left": null,
            "margin": null,
            "max_height": null,
            "max_width": null,
            "min_height": null,
            "min_width": null,
            "object_fit": null,
            "object_position": null,
            "order": null,
            "overflow": null,
            "overflow_x": null,
            "overflow_y": null,
            "padding": null,
            "right": null,
            "top": null,
            "visibility": null,
            "width": null
          }
        },
        "b2014cc0545c41c09be4967a0da793cc": {
          "model_module": "jupyter-leaflet",
          "model_name": "LeafletMapStyleModel",
          "model_module_version": "^0.17",
          "state": {
            "_model_module": "jupyter-leaflet",
            "_model_module_version": "^0.17",
            "_model_name": "LeafletMapStyleModel",
            "_view_count": null,
            "_view_module": "@jupyter-widgets/base",
            "_view_module_version": "1.2.0",
            "_view_name": "StyleView",
            "cursor": "grab"
          }
        },
        "aa1fb420dc764d5681661baf20697f2c": {
          "model_module": "@jupyter-widgets/controls",
          "model_name": "HBoxModel",
          "model_module_version": "1.5.0",
          "state": {
            "_dom_classes": [],
            "_model_module": "@jupyter-widgets/controls",
            "_model_module_version": "1.5.0",
            "_model_name": "HBoxModel",
            "_view_count": null,
            "_view_module": "@jupyter-widgets/controls",
            "_view_module_version": "1.5.0",
            "_view_name": "HBoxView",
            "box_style": "",
            "children": [
              "IPY_MODEL_f70a57dcfaf94ac39cdab965b15adbca"
            ],
            "layout": "IPY_MODEL_e665c9e0d93d499a9a057f362d1f6484"
          }
        },
        "bee73301c5a144949ed088f91e504c0c": {
          "model_module": "@jupyter-widgets/controls",
          "model_name": "VBoxModel",
          "model_module_version": "1.5.0",
          "state": {
            "_dom_classes": [],
            "_model_module": "@jupyter-widgets/controls",
            "_model_module_version": "1.5.0",
            "_model_name": "VBoxModel",
            "_view_count": null,
            "_view_module": "@jupyter-widgets/controls",
            "_view_module_version": "1.5.0",
            "_view_name": "VBoxView",
            "box_style": "",
            "children": [
              "IPY_MODEL_9fddb4f76cb74f3bb2f4b5d42061d567"
            ],
            "layout": "IPY_MODEL_a2963236ba004cddaf693efe73466df4"
          }
        },
        "f70a57dcfaf94ac39cdab965b15adbca": {
          "model_module": "@jupyter-widgets/controls",
          "model_name": "ToggleButtonModel",
          "model_module_version": "1.5.0",
          "state": {
            "_dom_classes": [],
            "_model_module": "@jupyter-widgets/controls",
            "_model_module_version": "1.5.0",
            "_model_name": "ToggleButtonModel",
            "_view_count": null,
            "_view_module": "@jupyter-widgets/controls",
            "_view_module_version": "1.5.0",
            "_view_name": "ToggleButtonView",
            "button_style": "",
            "description": "",
            "description_tooltip": null,
            "disabled": false,
            "icon": "globe",
            "layout": "IPY_MODEL_e9a652a7173d4787b7ec475240abf298",
            "style": "IPY_MODEL_a05b0c8c0c3b40028487227ba113517a",
            "tooltip": "Search location/data",
            "value": false
          }
        },
        "e665c9e0d93d499a9a057f362d1f6484": {
          "model_module": "@jupyter-widgets/base",
          "model_name": "LayoutModel",
          "model_module_version": "1.2.0",
          "state": {
            "_model_module": "@jupyter-widgets/base",
            "_model_module_version": "1.2.0",
            "_model_name": "LayoutModel",
            "_view_count": null,
            "_view_module": "@jupyter-widgets/base",
            "_view_module_version": "1.2.0",
            "_view_name": "LayoutView",
            "align_content": null,
            "align_items": null,
            "align_self": null,
            "border": null,
            "bottom": null,
            "display": null,
            "flex": null,
            "flex_flow": null,
            "grid_area": null,
            "grid_auto_columns": null,
            "grid_auto_flow": null,
            "grid_auto_rows": null,
            "grid_column": null,
            "grid_gap": null,
            "grid_row": null,
            "grid_template_areas": null,
            "grid_template_columns": null,
            "grid_template_rows": null,
            "height": null,
            "justify_content": null,
            "justify_items": null,
            "left": null,
            "margin": null,
            "max_height": null,
            "max_width": null,
            "min_height": null,
            "min_width": null,
            "object_fit": null,
            "object_position": null,
            "order": null,
            "overflow": null,
            "overflow_x": null,
            "overflow_y": null,
            "padding": null,
            "right": null,
            "top": null,
            "visibility": null,
            "width": null
          }
        },
        "9fddb4f76cb74f3bb2f4b5d42061d567": {
          "model_module": "@jupyter-widgets/controls",
          "model_name": "ToggleButtonModel",
          "model_module_version": "1.5.0",
          "state": {
            "_dom_classes": [],
            "_model_module": "@jupyter-widgets/controls",
            "_model_module_version": "1.5.0",
            "_model_name": "ToggleButtonModel",
            "_view_count": null,
            "_view_module": "@jupyter-widgets/controls",
            "_view_module_version": "1.5.0",
            "_view_name": "ToggleButtonView",
            "button_style": "",
            "description": "",
            "description_tooltip": null,
            "disabled": false,
            "icon": "wrench",
            "layout": "IPY_MODEL_f919c092c20e45c3a522bcc03665dbc0",
            "style": "IPY_MODEL_44f271c147f347eea35625bf9421861b",
            "tooltip": "Toolbar",
            "value": false
          }
        },
        "a2963236ba004cddaf693efe73466df4": {
          "model_module": "@jupyter-widgets/base",
          "model_name": "LayoutModel",
          "model_module_version": "1.2.0",
          "state": {
            "_model_module": "@jupyter-widgets/base",
            "_model_module_version": "1.2.0",
            "_model_name": "LayoutModel",
            "_view_count": null,
            "_view_module": "@jupyter-widgets/base",
            "_view_module_version": "1.2.0",
            "_view_name": "LayoutView",
            "align_content": null,
            "align_items": null,
            "align_self": null,
            "border": null,
            "bottom": null,
            "display": null,
            "flex": null,
            "flex_flow": null,
            "grid_area": null,
            "grid_auto_columns": null,
            "grid_auto_flow": null,
            "grid_auto_rows": null,
            "grid_column": null,
            "grid_gap": null,
            "grid_row": null,
            "grid_template_areas": null,
            "grid_template_columns": null,
            "grid_template_rows": null,
            "height": null,
            "justify_content": null,
            "justify_items": null,
            "left": null,
            "margin": null,
            "max_height": null,
            "max_width": null,
            "min_height": null,
            "min_width": null,
            "object_fit": null,
            "object_position": null,
            "order": null,
            "overflow": null,
            "overflow_x": null,
            "overflow_y": null,
            "padding": null,
            "right": null,
            "top": null,
            "visibility": null,
            "width": null
          }
        },
        "e9a652a7173d4787b7ec475240abf298": {
          "model_module": "@jupyter-widgets/base",
          "model_name": "LayoutModel",
          "model_module_version": "1.2.0",
          "state": {
            "_model_module": "@jupyter-widgets/base",
            "_model_module_version": "1.2.0",
            "_model_name": "LayoutModel",
            "_view_count": null,
            "_view_module": "@jupyter-widgets/base",
            "_view_module_version": "1.2.0",
            "_view_name": "LayoutView",
            "align_content": null,
            "align_items": null,
            "align_self": null,
            "border": null,
            "bottom": null,
            "display": null,
            "flex": null,
            "flex_flow": null,
            "grid_area": null,
            "grid_auto_columns": null,
            "grid_auto_flow": null,
            "grid_auto_rows": null,
            "grid_column": null,
            "grid_gap": null,
            "grid_row": null,
            "grid_template_areas": null,
            "grid_template_columns": null,
            "grid_template_rows": null,
            "height": "28px",
            "justify_content": null,
            "justify_items": null,
            "left": null,
            "margin": null,
            "max_height": null,
            "max_width": null,
            "min_height": null,
            "min_width": null,
            "object_fit": null,
            "object_position": null,
            "order": null,
            "overflow": null,
            "overflow_x": null,
            "overflow_y": null,
            "padding": "0px 0px 0px 4px",
            "right": null,
            "top": null,
            "visibility": null,
            "width": "28px"
          }
        },
        "a05b0c8c0c3b40028487227ba113517a": {
          "model_module": "@jupyter-widgets/controls",
          "model_name": "DescriptionStyleModel",
          "model_module_version": "1.5.0",
          "state": {
            "_model_module": "@jupyter-widgets/controls",
            "_model_module_version": "1.5.0",
            "_model_name": "DescriptionStyleModel",
            "_view_count": null,
            "_view_module": "@jupyter-widgets/base",
            "_view_module_version": "1.2.0",
            "_view_name": "StyleView",
            "description_width": ""
          }
        },
        "f919c092c20e45c3a522bcc03665dbc0": {
          "model_module": "@jupyter-widgets/base",
          "model_name": "LayoutModel",
          "model_module_version": "1.2.0",
          "state": {
            "_model_module": "@jupyter-widgets/base",
            "_model_module_version": "1.2.0",
            "_model_name": "LayoutModel",
            "_view_count": null,
            "_view_module": "@jupyter-widgets/base",
            "_view_module_version": "1.2.0",
            "_view_name": "LayoutView",
            "align_content": null,
            "align_items": null,
            "align_self": null,
            "border": null,
            "bottom": null,
            "display": null,
            "flex": null,
            "flex_flow": null,
            "grid_area": null,
            "grid_auto_columns": null,
            "grid_auto_flow": null,
            "grid_auto_rows": null,
            "grid_column": null,
            "grid_gap": null,
            "grid_row": null,
            "grid_template_areas": null,
            "grid_template_columns": null,
            "grid_template_rows": null,
            "height": "28px",
            "justify_content": null,
            "justify_items": null,
            "left": null,
            "margin": null,
            "max_height": null,
            "max_width": null,
            "min_height": null,
            "min_width": null,
            "object_fit": null,
            "object_position": null,
            "order": null,
            "overflow": null,
            "overflow_x": null,
            "overflow_y": null,
            "padding": "0px 0px 0px 4px",
            "right": null,
            "top": null,
            "visibility": null,
            "width": "28px"
          }
        },
        "44f271c147f347eea35625bf9421861b": {
          "model_module": "@jupyter-widgets/controls",
          "model_name": "DescriptionStyleModel",
          "model_module_version": "1.5.0",
          "state": {
            "_model_module": "@jupyter-widgets/controls",
            "_model_module_version": "1.5.0",
            "_model_name": "DescriptionStyleModel",
            "_view_count": null,
            "_view_module": "@jupyter-widgets/base",
            "_view_module_version": "1.2.0",
            "_view_name": "StyleView",
            "description_width": ""
          }
        },
        "2565d453b4be4aeab0c4584a2f448016": {
          "model_module": "jupyter-leaflet",
          "model_name": "LeafletMapModel",
          "model_module_version": "^0.17",
          "state": {
            "_dom_classes": [],
            "_model_module": "jupyter-leaflet",
            "_model_module_version": "^0.17",
            "_model_name": "LeafletMapModel",
            "_view_count": null,
            "_view_module": "jupyter-leaflet",
            "_view_module_version": "^0.17",
            "_view_name": "LeafletMapView",
            "bottom": 287249.7272644043,
            "bounce_at_zoom_limits": true,
            "box_zoom": true,
            "center": [
              -16.78727060669426,
              -47.488343446811854
            ],
            "close_popup_on_click": true,
            "controls": [
              "IPY_MODEL_b0ff6f94f3c3490da6dd742543915871",
              "IPY_MODEL_273d8684933740839a1b16623571d44b",
              "IPY_MODEL_408903aace8f49b087804d8d36ddbac0",
              "IPY_MODEL_52108ab225294c42a749d2b8ff639ecb",
              "IPY_MODEL_b3b50e525921459bb9910515bad45f3b",
              "IPY_MODEL_a9567706205d4046b4f31d637a1bd84f",
              "IPY_MODEL_1609feae9a4741d5a0a74870556747cd",
              "IPY_MODEL_2810a26b37764fd0b3ce3a61f02b8828"
            ],
            "crs": {
              "name": "EPSG3857",
              "custom": false
            },
            "default_style": "IPY_MODEL_9032cec5b91f4cfc8f0106c74fe81839",
            "double_click_zoom": true,
            "dragging": true,
            "dragging_style": "IPY_MODEL_08df1894341c4a5a91d330b0cfd7a9d8",
            "east": -47.04477044876498,
            "fullscreen": false,
            "inertia": true,
            "inertia_deceleration": 3000,
            "inertia_max_speed": 1500,
            "interpolation": "bilinear",
            "keyboard": true,
            "keyboard_pan_offset": 80,
            "keyboard_zoom_offset": 1,
            "layers": [
              "IPY_MODEL_cdd1183b2eb042e18bd509a721e09420",
              "IPY_MODEL_34fd9a2f844c48c79cf0819b3f0594af",
              "IPY_MODEL_3cc7b857efc24e138322677adf7ef281",
              "IPY_MODEL_941102558bdc4a06a4b32d290cd2b5e1",
              "IPY_MODEL_f777ec4f4fe24458a605ca0124718d6e"
            ],
            "layout": "IPY_MODEL_3b5190f498864e00adf9763f67204c72",
            "left": 192338.0871971053,
            "max_zoom": 24,
            "min_zoom": null,
            "modisdate": "2023-05-04",
            "north": -16.58995360635166,
            "options": [
              "bounce_at_zoom_limits",
              "box_zoom",
              "center",
              "close_popup_on_click",
              "double_click_zoom",
              "dragging",
              "fullscreen",
              "inertia",
              "inertia_deceleration",
              "inertia_max_speed",
              "interpolation",
              "keyboard",
              "keyboard_pan_offset",
              "keyboard_zoom_offset",
              "max_zoom",
              "min_zoom",
              "prefer_canvas",
              "scroll_wheel_zoom",
              "tap",
              "tap_tolerance",
              "touch_zoom",
              "world_copy_jump",
              "zoom",
              "zoom_animation_threshold",
              "zoom_delta",
              "zoom_snap"
            ],
            "panes": {},
            "prefer_canvas": false,
            "right": 193630.0871971053,
            "scroll_wheel_zoom": true,
            "south": -16.984382823577114,
            "style": "IPY_MODEL_9032cec5b91f4cfc8f0106c74fe81839",
            "tap": true,
            "tap_tolerance": 15,
            "top": 286649.7272644043,
            "touch_zoom": true,
            "west": -47.93191644485872,
            "window_url": "https://ue36102kmk-496ff2e9c6d22116-0-colab.googleusercontent.com/outputframe.html?vrz=colab-20230503-060127-RC00_529051665",
            "world_copy_jump": false,
            "zoom": 11,
            "zoom_animation_threshold": 4,
            "zoom_delta": 1,
            "zoom_snap": 1
          }
        },
        "b0ff6f94f3c3490da6dd742543915871": {
          "model_module": "jupyter-leaflet",
          "model_name": "LeafletWidgetControlModel",
          "model_module_version": "^0.17",
          "state": {
            "_model_module": "jupyter-leaflet",
            "_model_module_version": "^0.17",
            "_model_name": "LeafletWidgetControlModel",
            "_view_count": null,
            "_view_module": "jupyter-leaflet",
            "_view_module_version": "^0.17",
            "_view_name": "LeafletWidgetControlView",
            "max_height": null,
            "max_width": null,
            "min_height": null,
            "min_width": null,
            "options": [
              "position",
              "transparent_bg"
            ],
            "position": "topleft",
            "transparent_bg": false,
            "widget": "IPY_MODEL_b0ebe5b665e54a57b3099f72f2bbd9eb"
          }
        },
        "273d8684933740839a1b16623571d44b": {
          "model_module": "jupyter-leaflet",
          "model_name": "LeafletZoomControlModel",
          "model_module_version": "^0.17",
          "state": {
            "_model_module": "jupyter-leaflet",
            "_model_module_version": "^0.17",
            "_model_name": "LeafletZoomControlModel",
            "_view_count": null,
            "_view_module": "jupyter-leaflet",
            "_view_module_version": "^0.17",
            "_view_name": "LeafletZoomControlView",
            "options": [
              "position",
              "zoom_in_text",
              "zoom_in_title",
              "zoom_out_text",
              "zoom_out_title"
            ],
            "position": "topleft",
            "zoom_in_text": "+",
            "zoom_in_title": "Zoom in",
            "zoom_out_text": "-",
            "zoom_out_title": "Zoom out"
          }
        },
        "408903aace8f49b087804d8d36ddbac0": {
          "model_module": "jupyter-leaflet",
          "model_name": "LeafletScaleControlModel",
          "model_module_version": "^0.17",
          "state": {
            "_model_module": "jupyter-leaflet",
            "_model_module_version": "^0.17",
            "_model_name": "LeafletScaleControlModel",
            "_view_count": null,
            "_view_module": "jupyter-leaflet",
            "_view_module_version": "^0.17",
            "_view_name": "LeafletScaleControlView",
            "imperial": true,
            "max_width": 100,
            "metric": true,
            "options": [
              "imperial",
              "max_width",
              "metric",
              "position",
              "update_when_idle"
            ],
            "position": "bottomleft",
            "update_when_idle": false
          }
        },
        "52108ab225294c42a749d2b8ff639ecb": {
          "model_module": "jupyter-leaflet",
          "model_name": "LeafletFullScreenControlModel",
          "model_module_version": "^0.17",
          "state": {
            "_model_module": "jupyter-leaflet",
            "_model_module_version": "^0.17",
            "_model_name": "LeafletFullScreenControlModel",
            "_view_count": null,
            "_view_module": "jupyter-leaflet",
            "_view_module_version": "^0.17",
            "_view_name": "LeafletFullScreenControlView",
            "options": [
              "position"
            ],
            "position": "topleft"
          }
        },
        "b3b50e525921459bb9910515bad45f3b": {
          "model_module": "jupyter-leaflet",
          "model_name": "LeafletMeasureControlModel",
          "model_module_version": "^0.17",
          "state": {
            "_custom_units": {},
            "_model_module": "jupyter-leaflet",
            "_model_module_version": "^0.17",
            "_model_name": "LeafletMeasureControlModel",
            "_view_count": null,
            "_view_module": "jupyter-leaflet",
            "_view_module_version": "^0.17",
            "_view_name": "LeafletMeasureControlView",
            "active_color": "orange",
            "capture_z_index": 10000,
            "completed_color": "#C8F2BE",
            "options": [
              "active_color",
              "capture_z_index",
              "completed_color",
              "popup_options",
              "position",
              "primary_area_unit",
              "primary_length_unit",
              "secondary_area_unit",
              "secondary_length_unit"
            ],
            "popup_options": {
              "className": "leaflet-measure-resultpopup",
              "autoPanPadding": [
                10,
                10
              ]
            },
            "position": "bottomleft",
            "primary_area_unit": "acres",
            "primary_length_unit": "kilometers",
            "secondary_area_unit": null,
            "secondary_length_unit": null
          }
        },
        "a9567706205d4046b4f31d637a1bd84f": {
          "model_module": "jupyter-leaflet",
          "model_name": "LeafletAttributionControlModel",
          "model_module_version": "^0.17",
          "state": {
            "_model_module": "jupyter-leaflet",
            "_model_module_version": "^0.17",
            "_model_name": "LeafletAttributionControlModel",
            "_view_count": null,
            "_view_module": "jupyter-leaflet",
            "_view_module_version": "^0.17",
            "_view_name": "LeafletAttributionControlView",
            "options": [
              "position",
              "prefix"
            ],
            "position": "bottomright",
            "prefix": "ipyleaflet"
          }
        },
        "1609feae9a4741d5a0a74870556747cd": {
          "model_module": "jupyter-leaflet",
          "model_name": "LeafletDrawControlModel",
          "model_module_version": "^0.17",
          "state": {
            "_model_module": "jupyter-leaflet",
            "_model_module_version": "^0.17",
            "_model_name": "LeafletDrawControlModel",
            "_view_count": null,
            "_view_module": "jupyter-leaflet",
            "_view_module_version": "^0.17",
            "_view_name": "LeafletDrawControlView",
            "circle": {
              "shapeOptions": {
                "color": "#3388ff"
              }
            },
            "circlemarker": {},
            "data": [],
            "edit": true,
            "marker": {
              "shapeOptions": {
                "color": "#3388ff"
              }
            },
            "options": [
              "position"
            ],
            "polygon": {
              "shapeOptions": {}
            },
            "polyline": {
              "shapeOptions": {}
            },
            "position": "topleft",
            "rectangle": {
              "shapeOptions": {
                "color": "#3388ff"
              }
            },
            "remove": true
          }
        },
        "2810a26b37764fd0b3ce3a61f02b8828": {
          "model_module": "jupyter-leaflet",
          "model_name": "LeafletWidgetControlModel",
          "model_module_version": "^0.17",
          "state": {
            "_model_module": "jupyter-leaflet",
            "_model_module_version": "^0.17",
            "_model_name": "LeafletWidgetControlModel",
            "_view_count": null,
            "_view_module": "jupyter-leaflet",
            "_view_module_version": "^0.17",
            "_view_name": "LeafletWidgetControlView",
            "max_height": null,
            "max_width": null,
            "min_height": null,
            "min_width": null,
            "options": [
              "position",
              "transparent_bg"
            ],
            "position": "topright",
            "transparent_bg": false,
            "widget": "IPY_MODEL_bc9abe804b334b6da574b62d7ad038b1"
          }
        },
        "9032cec5b91f4cfc8f0106c74fe81839": {
          "model_module": "jupyter-leaflet",
          "model_name": "LeafletMapStyleModel",
          "model_module_version": "^0.17",
          "state": {
            "_model_module": "jupyter-leaflet",
            "_model_module_version": "^0.17",
            "_model_name": "LeafletMapStyleModel",
            "_view_count": null,
            "_view_module": "@jupyter-widgets/base",
            "_view_module_version": "1.2.0",
            "_view_name": "StyleView",
            "cursor": "grab"
          }
        },
        "08df1894341c4a5a91d330b0cfd7a9d8": {
          "model_module": "jupyter-leaflet",
          "model_name": "LeafletMapStyleModel",
          "model_module_version": "^0.17",
          "state": {
            "_model_module": "jupyter-leaflet",
            "_model_module_version": "^0.17",
            "_model_name": "LeafletMapStyleModel",
            "_view_count": null,
            "_view_module": "@jupyter-widgets/base",
            "_view_module_version": "1.2.0",
            "_view_name": "StyleView",
            "cursor": "move"
          }
        },
        "cdd1183b2eb042e18bd509a721e09420": {
          "model_module": "jupyter-leaflet",
          "model_name": "LeafletTileLayerModel",
          "model_module_version": "^0.17",
          "state": {
            "_model_module": "jupyter-leaflet",
            "_model_module_version": "^0.17",
            "_model_name": "LeafletTileLayerModel",
            "_view_count": null,
            "_view_module": "jupyter-leaflet",
            "_view_module_version": "^0.17",
            "_view_name": "LeafletTileLayerView",
            "attribution": "&copy; <a href=\"https://www.openstreetmap.org/copyright\">OpenStreetMap</a> contributors",
            "base": true,
            "bottom": true,
            "bounds": null,
            "detect_retina": false,
            "loading": false,
            "max_native_zoom": null,
            "max_zoom": 19,
            "min_native_zoom": null,
            "min_zoom": 1,
            "name": "OpenStreetMap.Mapnik",
            "no_wrap": false,
            "opacity": 1,
            "options": [
              "attribution",
              "bounds",
              "detect_retina",
              "max_native_zoom",
              "max_zoom",
              "min_native_zoom",
              "min_zoom",
              "no_wrap",
              "tile_size",
              "tms",
              "zoom_offset"
            ],
            "pane": "",
            "popup": null,
            "popup_max_height": null,
            "popup_max_width": 300,
            "popup_min_width": 50,
            "show_loading": false,
            "subitems": [],
            "tile_size": 256,
            "tms": false,
            "url": "https://tile.openstreetmap.org/{z}/{x}/{y}.png",
            "visible": true,
            "zoom_offset": 0
          }
        },
        "3cc7b857efc24e138322677adf7ef281": {
          "model_module": "jupyter-leaflet",
          "model_name": "LeafletTileLayerModel",
          "model_module_version": "^0.17",
          "state": {
            "_model_module": "jupyter-leaflet",
            "_model_module_version": "^0.17",
            "_model_name": "LeafletTileLayerModel",
            "_view_count": null,
            "_view_module": "jupyter-leaflet",
            "_view_module_version": "^0.17",
            "_view_name": "LeafletTileLayerView",
            "attribution": "Google Earth Engine",
            "base": false,
            "bottom": true,
            "bounds": null,
            "detect_retina": false,
            "loading": false,
            "max_native_zoom": null,
            "max_zoom": 24,
            "min_native_zoom": null,
            "min_zoom": 0,
            "name": "S2 RGB",
            "no_wrap": false,
            "opacity": 1,
            "options": [
              "attribution",
              "bounds",
              "detect_retina",
              "max_native_zoom",
              "max_zoom",
              "min_native_zoom",
              "min_zoom",
              "no_wrap",
              "tile_size",
              "tms",
              "zoom_offset"
            ],
            "pane": "",
            "popup": null,
            "popup_max_height": null,
            "popup_max_width": 300,
            "popup_min_width": 50,
            "show_loading": false,
            "subitems": [],
            "tile_size": 256,
            "tms": false,
            "url": "https://earthengine.googleapis.com/v1alpha/projects/earthengine-legacy/maps/d17112230fef6956e665ce43cd59d14f-16cdbcb1ca041fed7af13050454e026c/tiles/{z}/{x}/{y}",
            "visible": true,
            "zoom_offset": 0
          }
        },
        "941102558bdc4a06a4b32d290cd2b5e1": {
          "model_module": "jupyter-leaflet",
          "model_name": "LeafletTileLayerModel",
          "model_module_version": "^0.17",
          "state": {
            "_model_module": "jupyter-leaflet",
            "_model_module_version": "^0.17",
            "_model_name": "LeafletTileLayerModel",
            "_view_count": null,
            "_view_module": "jupyter-leaflet",
            "_view_module_version": "^0.17",
            "_view_name": "LeafletTileLayerView",
            "attribution": "Google Earth Engine",
            "base": false,
            "bottom": true,
            "bounds": null,
            "detect_retina": false,
            "loading": false,
            "max_native_zoom": null,
            "max_zoom": 24,
            "min_native_zoom": null,
            "min_zoom": 0,
            "name": "S2 NRG",
            "no_wrap": false,
            "opacity": 1,
            "options": [
              "attribution",
              "bounds",
              "detect_retina",
              "max_native_zoom",
              "max_zoom",
              "min_native_zoom",
              "min_zoom",
              "no_wrap",
              "tile_size",
              "tms",
              "zoom_offset"
            ],
            "pane": "",
            "popup": null,
            "popup_max_height": null,
            "popup_max_width": 300,
            "popup_min_width": 50,
            "show_loading": false,
            "subitems": [],
            "tile_size": 256,
            "tms": false,
            "url": "https://earthengine.googleapis.com/v1alpha/projects/earthengine-legacy/maps/a986b9a1aee38ec79e4b0beda8727c8e-c79b2189c25abfb2d53fc1691e4e94f7/tiles/{z}/{x}/{y}",
            "visible": true,
            "zoom_offset": 0
          }
        },
        "f777ec4f4fe24458a605ca0124718d6e": {
          "model_module": "jupyter-leaflet",
          "model_name": "LeafletTileLayerModel",
          "model_module_version": "^0.17",
          "state": {
            "_model_module": "jupyter-leaflet",
            "_model_module_version": "^0.17",
            "_model_name": "LeafletTileLayerModel",
            "_view_count": null,
            "_view_module": "jupyter-leaflet",
            "_view_module_version": "^0.17",
            "_view_name": "LeafletTileLayerView",
            "attribution": "Google Earth Engine",
            "base": false,
            "bottom": true,
            "bounds": null,
            "detect_retina": false,
            "loading": false,
            "max_native_zoom": null,
            "max_zoom": 24,
            "min_native_zoom": null,
            "min_zoom": 0,
            "name": "S2 SNB",
            "no_wrap": false,
            "opacity": 1,
            "options": [
              "attribution",
              "bounds",
              "detect_retina",
              "max_native_zoom",
              "max_zoom",
              "min_native_zoom",
              "min_zoom",
              "no_wrap",
              "tile_size",
              "tms",
              "zoom_offset"
            ],
            "pane": "",
            "popup": null,
            "popup_max_height": null,
            "popup_max_width": 300,
            "popup_min_width": 50,
            "show_loading": false,
            "subitems": [],
            "tile_size": 256,
            "tms": false,
            "url": "https://earthengine.googleapis.com/v1alpha/projects/earthengine-legacy/maps/545cdc029fe558308da6228a865ff16d-c73421867b971a2c565b11c262d4f113/tiles/{z}/{x}/{y}",
            "visible": true,
            "zoom_offset": 0
          }
        },
        "3b5190f498864e00adf9763f67204c72": {
          "model_module": "@jupyter-widgets/base",
          "model_name": "LayoutModel",
          "model_module_version": "1.2.0",
          "state": {
            "_model_module": "@jupyter-widgets/base",
            "_model_module_version": "1.2.0",
            "_model_name": "LayoutModel",
            "_view_count": null,
            "_view_module": "@jupyter-widgets/base",
            "_view_module_version": "1.2.0",
            "_view_name": "LayoutView",
            "align_content": null,
            "align_items": null,
            "align_self": null,
            "border": null,
            "bottom": null,
            "display": null,
            "flex": null,
            "flex_flow": null,
            "grid_area": null,
            "grid_auto_columns": null,
            "grid_auto_flow": null,
            "grid_auto_rows": null,
            "grid_column": null,
            "grid_gap": null,
            "grid_row": null,
            "grid_template_areas": null,
            "grid_template_columns": null,
            "grid_template_rows": null,
            "height": "600px",
            "justify_content": null,
            "justify_items": null,
            "left": null,
            "margin": null,
            "max_height": null,
            "max_width": null,
            "min_height": null,
            "min_width": null,
            "object_fit": null,
            "object_position": null,
            "order": null,
            "overflow": null,
            "overflow_x": null,
            "overflow_y": null,
            "padding": null,
            "right": null,
            "top": null,
            "visibility": null,
            "width": null
          }
        },
        "590bd20157d947759ff7732022ca19bb": {
          "model_module": "jupyter-leaflet",
          "model_name": "LeafletMapStyleModel",
          "model_module_version": "^0.17",
          "state": {
            "_model_module": "jupyter-leaflet",
            "_model_module_version": "^0.17",
            "_model_name": "LeafletMapStyleModel",
            "_view_count": null,
            "_view_module": "@jupyter-widgets/base",
            "_view_module_version": "1.2.0",
            "_view_name": "StyleView",
            "cursor": "grab"
          }
        },
        "b0ebe5b665e54a57b3099f72f2bbd9eb": {
          "model_module": "@jupyter-widgets/controls",
          "model_name": "HBoxModel",
          "model_module_version": "1.5.0",
          "state": {
            "_dom_classes": [],
            "_model_module": "@jupyter-widgets/controls",
            "_model_module_version": "1.5.0",
            "_model_name": "HBoxModel",
            "_view_count": null,
            "_view_module": "@jupyter-widgets/controls",
            "_view_module_version": "1.5.0",
            "_view_name": "HBoxView",
            "box_style": "",
            "children": [
              "IPY_MODEL_16ab35161f31479aada06621f58d88fa"
            ],
            "layout": "IPY_MODEL_75028e8c32fa4ad3ac2b8bd5d6c0629f"
          }
        },
        "bc9abe804b334b6da574b62d7ad038b1": {
          "model_module": "@jupyter-widgets/controls",
          "model_name": "VBoxModel",
          "model_module_version": "1.5.0",
          "state": {
            "_dom_classes": [],
            "_model_module": "@jupyter-widgets/controls",
            "_model_module_version": "1.5.0",
            "_model_name": "VBoxModel",
            "_view_count": null,
            "_view_module": "@jupyter-widgets/controls",
            "_view_module_version": "1.5.0",
            "_view_name": "VBoxView",
            "box_style": "",
            "children": [
              "IPY_MODEL_e88d6284198745b2969093cb0ec379bc"
            ],
            "layout": "IPY_MODEL_d3103d513e0744ecaec21deda8e6a2ee"
          }
        },
        "16ab35161f31479aada06621f58d88fa": {
          "model_module": "@jupyter-widgets/controls",
          "model_name": "ToggleButtonModel",
          "model_module_version": "1.5.0",
          "state": {
            "_dom_classes": [],
            "_model_module": "@jupyter-widgets/controls",
            "_model_module_version": "1.5.0",
            "_model_name": "ToggleButtonModel",
            "_view_count": null,
            "_view_module": "@jupyter-widgets/controls",
            "_view_module_version": "1.5.0",
            "_view_name": "ToggleButtonView",
            "button_style": "",
            "description": "",
            "description_tooltip": null,
            "disabled": false,
            "icon": "globe",
            "layout": "IPY_MODEL_063a7a95e21a4b1c91e4ed24c1b76fa6",
            "style": "IPY_MODEL_b1b84019a7394d608bf2f161a2ea88a5",
            "tooltip": "Search location/data",
            "value": false
          }
        },
        "75028e8c32fa4ad3ac2b8bd5d6c0629f": {
          "model_module": "@jupyter-widgets/base",
          "model_name": "LayoutModel",
          "model_module_version": "1.2.0",
          "state": {
            "_model_module": "@jupyter-widgets/base",
            "_model_module_version": "1.2.0",
            "_model_name": "LayoutModel",
            "_view_count": null,
            "_view_module": "@jupyter-widgets/base",
            "_view_module_version": "1.2.0",
            "_view_name": "LayoutView",
            "align_content": null,
            "align_items": null,
            "align_self": null,
            "border": null,
            "bottom": null,
            "display": null,
            "flex": null,
            "flex_flow": null,
            "grid_area": null,
            "grid_auto_columns": null,
            "grid_auto_flow": null,
            "grid_auto_rows": null,
            "grid_column": null,
            "grid_gap": null,
            "grid_row": null,
            "grid_template_areas": null,
            "grid_template_columns": null,
            "grid_template_rows": null,
            "height": null,
            "justify_content": null,
            "justify_items": null,
            "left": null,
            "margin": null,
            "max_height": null,
            "max_width": null,
            "min_height": null,
            "min_width": null,
            "object_fit": null,
            "object_position": null,
            "order": null,
            "overflow": null,
            "overflow_x": null,
            "overflow_y": null,
            "padding": null,
            "right": null,
            "top": null,
            "visibility": null,
            "width": null
          }
        },
        "e88d6284198745b2969093cb0ec379bc": {
          "model_module": "@jupyter-widgets/controls",
          "model_name": "ToggleButtonModel",
          "model_module_version": "1.5.0",
          "state": {
            "_dom_classes": [],
            "_model_module": "@jupyter-widgets/controls",
            "_model_module_version": "1.5.0",
            "_model_name": "ToggleButtonModel",
            "_view_count": null,
            "_view_module": "@jupyter-widgets/controls",
            "_view_module_version": "1.5.0",
            "_view_name": "ToggleButtonView",
            "button_style": "",
            "description": "",
            "description_tooltip": null,
            "disabled": false,
            "icon": "wrench",
            "layout": "IPY_MODEL_f33213a38e6d41b3bb39289dfb957e65",
            "style": "IPY_MODEL_20d139bb613743fd8d9ca74b92ff58d4",
            "tooltip": "Toolbar",
            "value": false
          }
        },
        "d3103d513e0744ecaec21deda8e6a2ee": {
          "model_module": "@jupyter-widgets/base",
          "model_name": "LayoutModel",
          "model_module_version": "1.2.0",
          "state": {
            "_model_module": "@jupyter-widgets/base",
            "_model_module_version": "1.2.0",
            "_model_name": "LayoutModel",
            "_view_count": null,
            "_view_module": "@jupyter-widgets/base",
            "_view_module_version": "1.2.0",
            "_view_name": "LayoutView",
            "align_content": null,
            "align_items": null,
            "align_self": null,
            "border": null,
            "bottom": null,
            "display": null,
            "flex": null,
            "flex_flow": null,
            "grid_area": null,
            "grid_auto_columns": null,
            "grid_auto_flow": null,
            "grid_auto_rows": null,
            "grid_column": null,
            "grid_gap": null,
            "grid_row": null,
            "grid_template_areas": null,
            "grid_template_columns": null,
            "grid_template_rows": null,
            "height": null,
            "justify_content": null,
            "justify_items": null,
            "left": null,
            "margin": null,
            "max_height": null,
            "max_width": null,
            "min_height": null,
            "min_width": null,
            "object_fit": null,
            "object_position": null,
            "order": null,
            "overflow": null,
            "overflow_x": null,
            "overflow_y": null,
            "padding": null,
            "right": null,
            "top": null,
            "visibility": null,
            "width": null
          }
        },
        "063a7a95e21a4b1c91e4ed24c1b76fa6": {
          "model_module": "@jupyter-widgets/base",
          "model_name": "LayoutModel",
          "model_module_version": "1.2.0",
          "state": {
            "_model_module": "@jupyter-widgets/base",
            "_model_module_version": "1.2.0",
            "_model_name": "LayoutModel",
            "_view_count": null,
            "_view_module": "@jupyter-widgets/base",
            "_view_module_version": "1.2.0",
            "_view_name": "LayoutView",
            "align_content": null,
            "align_items": null,
            "align_self": null,
            "border": null,
            "bottom": null,
            "display": null,
            "flex": null,
            "flex_flow": null,
            "grid_area": null,
            "grid_auto_columns": null,
            "grid_auto_flow": null,
            "grid_auto_rows": null,
            "grid_column": null,
            "grid_gap": null,
            "grid_row": null,
            "grid_template_areas": null,
            "grid_template_columns": null,
            "grid_template_rows": null,
            "height": "28px",
            "justify_content": null,
            "justify_items": null,
            "left": null,
            "margin": null,
            "max_height": null,
            "max_width": null,
            "min_height": null,
            "min_width": null,
            "object_fit": null,
            "object_position": null,
            "order": null,
            "overflow": null,
            "overflow_x": null,
            "overflow_y": null,
            "padding": "0px 0px 0px 4px",
            "right": null,
            "top": null,
            "visibility": null,
            "width": "28px"
          }
        },
        "b1b84019a7394d608bf2f161a2ea88a5": {
          "model_module": "@jupyter-widgets/controls",
          "model_name": "DescriptionStyleModel",
          "model_module_version": "1.5.0",
          "state": {
            "_model_module": "@jupyter-widgets/controls",
            "_model_module_version": "1.5.0",
            "_model_name": "DescriptionStyleModel",
            "_view_count": null,
            "_view_module": "@jupyter-widgets/base",
            "_view_module_version": "1.2.0",
            "_view_name": "StyleView",
            "description_width": ""
          }
        },
        "f33213a38e6d41b3bb39289dfb957e65": {
          "model_module": "@jupyter-widgets/base",
          "model_name": "LayoutModel",
          "model_module_version": "1.2.0",
          "state": {
            "_model_module": "@jupyter-widgets/base",
            "_model_module_version": "1.2.0",
            "_model_name": "LayoutModel",
            "_view_count": null,
            "_view_module": "@jupyter-widgets/base",
            "_view_module_version": "1.2.0",
            "_view_name": "LayoutView",
            "align_content": null,
            "align_items": null,
            "align_self": null,
            "border": null,
            "bottom": null,
            "display": null,
            "flex": null,
            "flex_flow": null,
            "grid_area": null,
            "grid_auto_columns": null,
            "grid_auto_flow": null,
            "grid_auto_rows": null,
            "grid_column": null,
            "grid_gap": null,
            "grid_row": null,
            "grid_template_areas": null,
            "grid_template_columns": null,
            "grid_template_rows": null,
            "height": "28px",
            "justify_content": null,
            "justify_items": null,
            "left": null,
            "margin": null,
            "max_height": null,
            "max_width": null,
            "min_height": null,
            "min_width": null,
            "object_fit": null,
            "object_position": null,
            "order": null,
            "overflow": null,
            "overflow_x": null,
            "overflow_y": null,
            "padding": "0px 0px 0px 4px",
            "right": null,
            "top": null,
            "visibility": null,
            "width": "28px"
          }
        },
        "20d139bb613743fd8d9ca74b92ff58d4": {
          "model_module": "@jupyter-widgets/controls",
          "model_name": "DescriptionStyleModel",
          "model_module_version": "1.5.0",
          "state": {
            "_model_module": "@jupyter-widgets/controls",
            "_model_module_version": "1.5.0",
            "_model_name": "DescriptionStyleModel",
            "_view_count": null,
            "_view_module": "@jupyter-widgets/base",
            "_view_module_version": "1.2.0",
            "_view_name": "StyleView",
            "description_width": ""
          }
        },
        "6a81da1956f141ffb170bbc44e5a5074": {
          "model_module": "jupyter-leaflet",
          "model_name": "LeafletMapModel",
          "model_module_version": "^0.17",
          "state": {
            "_dom_classes": [],
            "_model_module": "jupyter-leaflet",
            "_model_module_version": "^0.17",
            "_model_name": "LeafletMapModel",
            "_view_count": null,
            "_view_module": "jupyter-leaflet",
            "_view_module_version": "^0.17",
            "_view_name": "LeafletMapView",
            "bottom": 574454.4545288086,
            "bounce_at_zoom_limits": true,
            "box_zoom": true,
            "center": [
              -16.871068444043935,
              -47.450669557018735
            ],
            "close_popup_on_click": true,
            "controls": [
              "IPY_MODEL_6e05dcd1d02f4f05aae1a0389ed7e012",
              "IPY_MODEL_ab2c1d1ac5e345358de696635936096c",
              "IPY_MODEL_575e44129d23405d9058dec74e80e2dc",
              "IPY_MODEL_a705ef0dcec74a2bbfb16e38972dc508",
              "IPY_MODEL_042f34e35888467eac358becfe253c88",
              "IPY_MODEL_4ced4598d6a3427889fa4fd3dd3bb8fd",
              "IPY_MODEL_b38619bf4f45478c9f0033ce34f5e6ce",
              "IPY_MODEL_7e7707947cda44a39629414278c06a12"
            ],
            "crs": {
              "name": "EPSG3857",
              "custom": false
            },
            "default_style": "IPY_MODEL_f259ffe051fe4454beb0c5cce0b88637",
            "double_click_zoom": true,
            "dragging": true,
            "dragging_style": "IPY_MODEL_f58d7f19d670408f9d6f16d97a1d4bcd",
            "east": -47.2288830579953,
            "fullscreen": false,
            "inertia": true,
            "inertia_deceleration": 3000,
            "inertia_max_speed": 1500,
            "interpolation": "bilinear",
            "keyboard": true,
            "keyboard_pan_offset": 80,
            "keyboard_zoom_offset": 1,
            "layers": [
              "IPY_MODEL_73e3057fcb36409c98b342dac7d177cf",
              "IPY_MODEL_34fd9a2f844c48c79cf0819b3f0594af",
              "IPY_MODEL_aa74ab8bedac47e69bb3311f49625689",
              "IPY_MODEL_f481e730065641a38eb4f334bd1b58e9"
            ],
            "layout": "IPY_MODEL_6d2daaf7de4240af932e7ff76770fb2d",
            "left": 385431.9075516098,
            "max_zoom": 24,
            "min_zoom": null,
            "modisdate": "2023-05-04",
            "north": -16.77247890869267,
            "options": [
              "bounce_at_zoom_limits",
              "box_zoom",
              "center",
              "close_popup_on_click",
              "double_click_zoom",
              "dragging",
              "fullscreen",
              "inertia",
              "inertia_deceleration",
              "inertia_max_speed",
              "interpolation",
              "keyboard",
              "keyboard_pan_offset",
              "keyboard_zoom_offset",
              "max_zoom",
              "min_zoom",
              "prefer_canvas",
              "scroll_wheel_zoom",
              "tap",
              "tap_tolerance",
              "touch_zoom",
              "world_copy_jump",
              "zoom",
              "zoom_animation_threshold",
              "zoom_delta",
              "zoom_snap"
            ],
            "panes": {},
            "prefer_canvas": false,
            "right": 386723.9075516098,
            "scroll_wheel_zoom": true,
            "south": -16.969606557949067,
            "style": "IPY_MODEL_f259ffe051fe4454beb0c5cce0b88637",
            "tap": true,
            "tap_tolerance": 15,
            "top": 573854.4545288086,
            "touch_zoom": true,
            "west": -47.67245605604217,
            "window_url": "https://ue36102kmk-496ff2e9c6d22116-0-colab.googleusercontent.com/outputframe.html?vrz=colab-20230503-060127-RC00_529051665",
            "world_copy_jump": false,
            "zoom": 12,
            "zoom_animation_threshold": 4,
            "zoom_delta": 1,
            "zoom_snap": 1
          }
        },
        "6e05dcd1d02f4f05aae1a0389ed7e012": {
          "model_module": "jupyter-leaflet",
          "model_name": "LeafletWidgetControlModel",
          "model_module_version": "^0.17",
          "state": {
            "_model_module": "jupyter-leaflet",
            "_model_module_version": "^0.17",
            "_model_name": "LeafletWidgetControlModel",
            "_view_count": null,
            "_view_module": "jupyter-leaflet",
            "_view_module_version": "^0.17",
            "_view_name": "LeafletWidgetControlView",
            "max_height": null,
            "max_width": null,
            "min_height": null,
            "min_width": null,
            "options": [
              "position",
              "transparent_bg"
            ],
            "position": "topleft",
            "transparent_bg": false,
            "widget": "IPY_MODEL_7f958d31e03249028b12cc8c47f5d092"
          }
        },
        "ab2c1d1ac5e345358de696635936096c": {
          "model_module": "jupyter-leaflet",
          "model_name": "LeafletZoomControlModel",
          "model_module_version": "^0.17",
          "state": {
            "_model_module": "jupyter-leaflet",
            "_model_module_version": "^0.17",
            "_model_name": "LeafletZoomControlModel",
            "_view_count": null,
            "_view_module": "jupyter-leaflet",
            "_view_module_version": "^0.17",
            "_view_name": "LeafletZoomControlView",
            "options": [
              "position",
              "zoom_in_text",
              "zoom_in_title",
              "zoom_out_text",
              "zoom_out_title"
            ],
            "position": "topleft",
            "zoom_in_text": "+",
            "zoom_in_title": "Zoom in",
            "zoom_out_text": "-",
            "zoom_out_title": "Zoom out"
          }
        },
        "575e44129d23405d9058dec74e80e2dc": {
          "model_module": "jupyter-leaflet",
          "model_name": "LeafletScaleControlModel",
          "model_module_version": "^0.17",
          "state": {
            "_model_module": "jupyter-leaflet",
            "_model_module_version": "^0.17",
            "_model_name": "LeafletScaleControlModel",
            "_view_count": null,
            "_view_module": "jupyter-leaflet",
            "_view_module_version": "^0.17",
            "_view_name": "LeafletScaleControlView",
            "imperial": true,
            "max_width": 100,
            "metric": true,
            "options": [
              "imperial",
              "max_width",
              "metric",
              "position",
              "update_when_idle"
            ],
            "position": "bottomleft",
            "update_when_idle": false
          }
        },
        "a705ef0dcec74a2bbfb16e38972dc508": {
          "model_module": "jupyter-leaflet",
          "model_name": "LeafletFullScreenControlModel",
          "model_module_version": "^0.17",
          "state": {
            "_model_module": "jupyter-leaflet",
            "_model_module_version": "^0.17",
            "_model_name": "LeafletFullScreenControlModel",
            "_view_count": null,
            "_view_module": "jupyter-leaflet",
            "_view_module_version": "^0.17",
            "_view_name": "LeafletFullScreenControlView",
            "options": [
              "position"
            ],
            "position": "topleft"
          }
        },
        "042f34e35888467eac358becfe253c88": {
          "model_module": "jupyter-leaflet",
          "model_name": "LeafletMeasureControlModel",
          "model_module_version": "^0.17",
          "state": {
            "_custom_units": {},
            "_model_module": "jupyter-leaflet",
            "_model_module_version": "^0.17",
            "_model_name": "LeafletMeasureControlModel",
            "_view_count": null,
            "_view_module": "jupyter-leaflet",
            "_view_module_version": "^0.17",
            "_view_name": "LeafletMeasureControlView",
            "active_color": "orange",
            "capture_z_index": 10000,
            "completed_color": "#C8F2BE",
            "options": [
              "active_color",
              "capture_z_index",
              "completed_color",
              "popup_options",
              "position",
              "primary_area_unit",
              "primary_length_unit",
              "secondary_area_unit",
              "secondary_length_unit"
            ],
            "popup_options": {
              "className": "leaflet-measure-resultpopup",
              "autoPanPadding": [
                10,
                10
              ]
            },
            "position": "bottomleft",
            "primary_area_unit": "acres",
            "primary_length_unit": "kilometers",
            "secondary_area_unit": null,
            "secondary_length_unit": null
          }
        },
        "4ced4598d6a3427889fa4fd3dd3bb8fd": {
          "model_module": "jupyter-leaflet",
          "model_name": "LeafletAttributionControlModel",
          "model_module_version": "^0.17",
          "state": {
            "_model_module": "jupyter-leaflet",
            "_model_module_version": "^0.17",
            "_model_name": "LeafletAttributionControlModel",
            "_view_count": null,
            "_view_module": "jupyter-leaflet",
            "_view_module_version": "^0.17",
            "_view_name": "LeafletAttributionControlView",
            "options": [
              "position",
              "prefix"
            ],
            "position": "bottomright",
            "prefix": "ipyleaflet"
          }
        },
        "b38619bf4f45478c9f0033ce34f5e6ce": {
          "model_module": "jupyter-leaflet",
          "model_name": "LeafletDrawControlModel",
          "model_module_version": "^0.17",
          "state": {
            "_model_module": "jupyter-leaflet",
            "_model_module_version": "^0.17",
            "_model_name": "LeafletDrawControlModel",
            "_view_count": null,
            "_view_module": "jupyter-leaflet",
            "_view_module_version": "^0.17",
            "_view_name": "LeafletDrawControlView",
            "circle": {
              "shapeOptions": {
                "color": "#3388ff"
              }
            },
            "circlemarker": {},
            "data": [],
            "edit": true,
            "marker": {
              "shapeOptions": {
                "color": "#3388ff"
              }
            },
            "options": [
              "position"
            ],
            "polygon": {
              "shapeOptions": {}
            },
            "polyline": {
              "shapeOptions": {}
            },
            "position": "topleft",
            "rectangle": {
              "shapeOptions": {
                "color": "#3388ff"
              }
            },
            "remove": true
          }
        },
        "7e7707947cda44a39629414278c06a12": {
          "model_module": "jupyter-leaflet",
          "model_name": "LeafletWidgetControlModel",
          "model_module_version": "^0.17",
          "state": {
            "_model_module": "jupyter-leaflet",
            "_model_module_version": "^0.17",
            "_model_name": "LeafletWidgetControlModel",
            "_view_count": null,
            "_view_module": "jupyter-leaflet",
            "_view_module_version": "^0.17",
            "_view_name": "LeafletWidgetControlView",
            "max_height": null,
            "max_width": null,
            "min_height": null,
            "min_width": null,
            "options": [
              "position",
              "transparent_bg"
            ],
            "position": "topright",
            "transparent_bg": false,
            "widget": "IPY_MODEL_254e56df20fc4abcb35f07400354e55e"
          }
        },
        "f259ffe051fe4454beb0c5cce0b88637": {
          "model_module": "jupyter-leaflet",
          "model_name": "LeafletMapStyleModel",
          "model_module_version": "^0.17",
          "state": {
            "_model_module": "jupyter-leaflet",
            "_model_module_version": "^0.17",
            "_model_name": "LeafletMapStyleModel",
            "_view_count": null,
            "_view_module": "@jupyter-widgets/base",
            "_view_module_version": "1.2.0",
            "_view_name": "StyleView",
            "cursor": "grab"
          }
        },
        "f58d7f19d670408f9d6f16d97a1d4bcd": {
          "model_module": "jupyter-leaflet",
          "model_name": "LeafletMapStyleModel",
          "model_module_version": "^0.17",
          "state": {
            "_model_module": "jupyter-leaflet",
            "_model_module_version": "^0.17",
            "_model_name": "LeafletMapStyleModel",
            "_view_count": null,
            "_view_module": "@jupyter-widgets/base",
            "_view_module_version": "1.2.0",
            "_view_name": "StyleView",
            "cursor": "move"
          }
        },
        "73e3057fcb36409c98b342dac7d177cf": {
          "model_module": "jupyter-leaflet",
          "model_name": "LeafletTileLayerModel",
          "model_module_version": "^0.17",
          "state": {
            "_model_module": "jupyter-leaflet",
            "_model_module_version": "^0.17",
            "_model_name": "LeafletTileLayerModel",
            "_view_count": null,
            "_view_module": "jupyter-leaflet",
            "_view_module_version": "^0.17",
            "_view_name": "LeafletTileLayerView",
            "attribution": "&copy; <a href=\"https://www.openstreetmap.org/copyright\">OpenStreetMap</a> contributors",
            "base": true,
            "bottom": true,
            "bounds": null,
            "detect_retina": false,
            "loading": false,
            "max_native_zoom": null,
            "max_zoom": 19,
            "min_native_zoom": null,
            "min_zoom": 1,
            "name": "OpenStreetMap.Mapnik",
            "no_wrap": false,
            "opacity": 1,
            "options": [
              "attribution",
              "bounds",
              "detect_retina",
              "max_native_zoom",
              "max_zoom",
              "min_native_zoom",
              "min_zoom",
              "no_wrap",
              "tile_size",
              "tms",
              "zoom_offset"
            ],
            "pane": "",
            "popup": null,
            "popup_max_height": null,
            "popup_max_width": 300,
            "popup_min_width": 50,
            "show_loading": false,
            "subitems": [],
            "tile_size": 256,
            "tms": false,
            "url": "https://tile.openstreetmap.org/{z}/{x}/{y}.png",
            "visible": true,
            "zoom_offset": 0
          }
        },
        "aa74ab8bedac47e69bb3311f49625689": {
          "model_module": "jupyter-leaflet",
          "model_name": "LeafletTileLayerModel",
          "model_module_version": "^0.17",
          "state": {
            "_model_module": "jupyter-leaflet",
            "_model_module_version": "^0.17",
            "_model_name": "LeafletTileLayerModel",
            "_view_count": null,
            "_view_module": "jupyter-leaflet",
            "_view_module_version": "^0.17",
            "_view_name": "LeafletTileLayerView",
            "attribution": "Google Earth Engine",
            "base": false,
            "bottom": true,
            "bounds": null,
            "detect_retina": false,
            "loading": false,
            "max_native_zoom": null,
            "max_zoom": 24,
            "min_native_zoom": null,
            "min_zoom": 0,
            "name": "S2 RGB",
            "no_wrap": false,
            "opacity": 1,
            "options": [
              "attribution",
              "bounds",
              "detect_retina",
              "max_native_zoom",
              "max_zoom",
              "min_native_zoom",
              "min_zoom",
              "no_wrap",
              "tile_size",
              "tms",
              "zoom_offset"
            ],
            "pane": "",
            "popup": null,
            "popup_max_height": null,
            "popup_max_width": 300,
            "popup_min_width": 50,
            "show_loading": false,
            "subitems": [],
            "tile_size": 256,
            "tms": false,
            "url": "https://earthengine.googleapis.com/v1alpha/projects/earthengine-legacy/maps/d17112230fef6956e665ce43cd59d14f-19edb468d595292b0ab37994d7a3ff00/tiles/{z}/{x}/{y}",
            "visible": true,
            "zoom_offset": 0
          }
        },
        "f481e730065641a38eb4f334bd1b58e9": {
          "model_module": "jupyter-leaflet",
          "model_name": "LeafletTileLayerModel",
          "model_module_version": "^0.17",
          "state": {
            "_model_module": "jupyter-leaflet",
            "_model_module_version": "^0.17",
            "_model_name": "LeafletTileLayerModel",
            "_view_count": null,
            "_view_module": "jupyter-leaflet",
            "_view_module_version": "^0.17",
            "_view_name": "LeafletTileLayerView",
            "attribution": "Google Earth Engine",
            "base": false,
            "bottom": true,
            "bounds": null,
            "detect_retina": false,
            "loading": false,
            "max_native_zoom": null,
            "max_zoom": 24,
            "min_native_zoom": null,
            "min_zoom": 0,
            "name": "S2 NDVI",
            "no_wrap": false,
            "opacity": 1,
            "options": [
              "attribution",
              "bounds",
              "detect_retina",
              "max_native_zoom",
              "max_zoom",
              "min_native_zoom",
              "min_zoom",
              "no_wrap",
              "tile_size",
              "tms",
              "zoom_offset"
            ],
            "pane": "",
            "popup": null,
            "popup_max_height": null,
            "popup_max_width": 300,
            "popup_min_width": 50,
            "show_loading": false,
            "subitems": [],
            "tile_size": 256,
            "tms": false,
            "url": "https://earthengine.googleapis.com/v1alpha/projects/earthengine-legacy/maps/32357b746571aad299aa33f0fa8f6e68-159aac4fb8cf4e1325f655f948c19f48/tiles/{z}/{x}/{y}",
            "visible": true,
            "zoom_offset": 0
          }
        },
        "6d2daaf7de4240af932e7ff76770fb2d": {
          "model_module": "@jupyter-widgets/base",
          "model_name": "LayoutModel",
          "model_module_version": "1.2.0",
          "state": {
            "_model_module": "@jupyter-widgets/base",
            "_model_module_version": "1.2.0",
            "_model_name": "LayoutModel",
            "_view_count": null,
            "_view_module": "@jupyter-widgets/base",
            "_view_module_version": "1.2.0",
            "_view_name": "LayoutView",
            "align_content": null,
            "align_items": null,
            "align_self": null,
            "border": null,
            "bottom": null,
            "display": null,
            "flex": null,
            "flex_flow": null,
            "grid_area": null,
            "grid_auto_columns": null,
            "grid_auto_flow": null,
            "grid_auto_rows": null,
            "grid_column": null,
            "grid_gap": null,
            "grid_row": null,
            "grid_template_areas": null,
            "grid_template_columns": null,
            "grid_template_rows": null,
            "height": "600px",
            "justify_content": null,
            "justify_items": null,
            "left": null,
            "margin": null,
            "max_height": null,
            "max_width": null,
            "min_height": null,
            "min_width": null,
            "object_fit": null,
            "object_position": null,
            "order": null,
            "overflow": null,
            "overflow_x": null,
            "overflow_y": null,
            "padding": null,
            "right": null,
            "top": null,
            "visibility": null,
            "width": null
          }
        },
        "cc66be1c92bd4753a6e81d09c1b21799": {
          "model_module": "jupyter-leaflet",
          "model_name": "LeafletMapStyleModel",
          "model_module_version": "^0.17",
          "state": {
            "_model_module": "jupyter-leaflet",
            "_model_module_version": "^0.17",
            "_model_name": "LeafletMapStyleModel",
            "_view_count": null,
            "_view_module": "@jupyter-widgets/base",
            "_view_module_version": "1.2.0",
            "_view_name": "StyleView",
            "cursor": "grab"
          }
        },
        "7f958d31e03249028b12cc8c47f5d092": {
          "model_module": "@jupyter-widgets/controls",
          "model_name": "HBoxModel",
          "model_module_version": "1.5.0",
          "state": {
            "_dom_classes": [],
            "_model_module": "@jupyter-widgets/controls",
            "_model_module_version": "1.5.0",
            "_model_name": "HBoxModel",
            "_view_count": null,
            "_view_module": "@jupyter-widgets/controls",
            "_view_module_version": "1.5.0",
            "_view_name": "HBoxView",
            "box_style": "",
            "children": [
              "IPY_MODEL_199ca740e497477c822e0eeebb3d856c"
            ],
            "layout": "IPY_MODEL_aea320db4dc14a58ac4bebcf60691f26"
          }
        },
        "254e56df20fc4abcb35f07400354e55e": {
          "model_module": "@jupyter-widgets/controls",
          "model_name": "VBoxModel",
          "model_module_version": "1.5.0",
          "state": {
            "_dom_classes": [],
            "_model_module": "@jupyter-widgets/controls",
            "_model_module_version": "1.5.0",
            "_model_name": "VBoxModel",
            "_view_count": null,
            "_view_module": "@jupyter-widgets/controls",
            "_view_module_version": "1.5.0",
            "_view_name": "VBoxView",
            "box_style": "",
            "children": [
              "IPY_MODEL_e22ed9fcb756462bb4e6dfcf3e4283b5"
            ],
            "layout": "IPY_MODEL_689f1a7ca796489bbadc2d3e83a2bbf7"
          }
        },
        "199ca740e497477c822e0eeebb3d856c": {
          "model_module": "@jupyter-widgets/controls",
          "model_name": "ToggleButtonModel",
          "model_module_version": "1.5.0",
          "state": {
            "_dom_classes": [],
            "_model_module": "@jupyter-widgets/controls",
            "_model_module_version": "1.5.0",
            "_model_name": "ToggleButtonModel",
            "_view_count": null,
            "_view_module": "@jupyter-widgets/controls",
            "_view_module_version": "1.5.0",
            "_view_name": "ToggleButtonView",
            "button_style": "",
            "description": "",
            "description_tooltip": null,
            "disabled": false,
            "icon": "globe",
            "layout": "IPY_MODEL_697b0c75523943ff89647c3dd7135552",
            "style": "IPY_MODEL_f772eeed6af948e283967973585da4d0",
            "tooltip": "Search location/data",
            "value": false
          }
        },
        "aea320db4dc14a58ac4bebcf60691f26": {
          "model_module": "@jupyter-widgets/base",
          "model_name": "LayoutModel",
          "model_module_version": "1.2.0",
          "state": {
            "_model_module": "@jupyter-widgets/base",
            "_model_module_version": "1.2.0",
            "_model_name": "LayoutModel",
            "_view_count": null,
            "_view_module": "@jupyter-widgets/base",
            "_view_module_version": "1.2.0",
            "_view_name": "LayoutView",
            "align_content": null,
            "align_items": null,
            "align_self": null,
            "border": null,
            "bottom": null,
            "display": null,
            "flex": null,
            "flex_flow": null,
            "grid_area": null,
            "grid_auto_columns": null,
            "grid_auto_flow": null,
            "grid_auto_rows": null,
            "grid_column": null,
            "grid_gap": null,
            "grid_row": null,
            "grid_template_areas": null,
            "grid_template_columns": null,
            "grid_template_rows": null,
            "height": null,
            "justify_content": null,
            "justify_items": null,
            "left": null,
            "margin": null,
            "max_height": null,
            "max_width": null,
            "min_height": null,
            "min_width": null,
            "object_fit": null,
            "object_position": null,
            "order": null,
            "overflow": null,
            "overflow_x": null,
            "overflow_y": null,
            "padding": null,
            "right": null,
            "top": null,
            "visibility": null,
            "width": null
          }
        },
        "e22ed9fcb756462bb4e6dfcf3e4283b5": {
          "model_module": "@jupyter-widgets/controls",
          "model_name": "ToggleButtonModel",
          "model_module_version": "1.5.0",
          "state": {
            "_dom_classes": [],
            "_model_module": "@jupyter-widgets/controls",
            "_model_module_version": "1.5.0",
            "_model_name": "ToggleButtonModel",
            "_view_count": null,
            "_view_module": "@jupyter-widgets/controls",
            "_view_module_version": "1.5.0",
            "_view_name": "ToggleButtonView",
            "button_style": "",
            "description": "",
            "description_tooltip": null,
            "disabled": false,
            "icon": "wrench",
            "layout": "IPY_MODEL_9f7771061919432693381ebfb6413244",
            "style": "IPY_MODEL_25d3328e4abf4c64b918c4f58711154c",
            "tooltip": "Toolbar",
            "value": false
          }
        },
        "689f1a7ca796489bbadc2d3e83a2bbf7": {
          "model_module": "@jupyter-widgets/base",
          "model_name": "LayoutModel",
          "model_module_version": "1.2.0",
          "state": {
            "_model_module": "@jupyter-widgets/base",
            "_model_module_version": "1.2.0",
            "_model_name": "LayoutModel",
            "_view_count": null,
            "_view_module": "@jupyter-widgets/base",
            "_view_module_version": "1.2.0",
            "_view_name": "LayoutView",
            "align_content": null,
            "align_items": null,
            "align_self": null,
            "border": null,
            "bottom": null,
            "display": null,
            "flex": null,
            "flex_flow": null,
            "grid_area": null,
            "grid_auto_columns": null,
            "grid_auto_flow": null,
            "grid_auto_rows": null,
            "grid_column": null,
            "grid_gap": null,
            "grid_row": null,
            "grid_template_areas": null,
            "grid_template_columns": null,
            "grid_template_rows": null,
            "height": null,
            "justify_content": null,
            "justify_items": null,
            "left": null,
            "margin": null,
            "max_height": null,
            "max_width": null,
            "min_height": null,
            "min_width": null,
            "object_fit": null,
            "object_position": null,
            "order": null,
            "overflow": null,
            "overflow_x": null,
            "overflow_y": null,
            "padding": null,
            "right": null,
            "top": null,
            "visibility": null,
            "width": null
          }
        },
        "697b0c75523943ff89647c3dd7135552": {
          "model_module": "@jupyter-widgets/base",
          "model_name": "LayoutModel",
          "model_module_version": "1.2.0",
          "state": {
            "_model_module": "@jupyter-widgets/base",
            "_model_module_version": "1.2.0",
            "_model_name": "LayoutModel",
            "_view_count": null,
            "_view_module": "@jupyter-widgets/base",
            "_view_module_version": "1.2.0",
            "_view_name": "LayoutView",
            "align_content": null,
            "align_items": null,
            "align_self": null,
            "border": null,
            "bottom": null,
            "display": null,
            "flex": null,
            "flex_flow": null,
            "grid_area": null,
            "grid_auto_columns": null,
            "grid_auto_flow": null,
            "grid_auto_rows": null,
            "grid_column": null,
            "grid_gap": null,
            "grid_row": null,
            "grid_template_areas": null,
            "grid_template_columns": null,
            "grid_template_rows": null,
            "height": "28px",
            "justify_content": null,
            "justify_items": null,
            "left": null,
            "margin": null,
            "max_height": null,
            "max_width": null,
            "min_height": null,
            "min_width": null,
            "object_fit": null,
            "object_position": null,
            "order": null,
            "overflow": null,
            "overflow_x": null,
            "overflow_y": null,
            "padding": "0px 0px 0px 4px",
            "right": null,
            "top": null,
            "visibility": null,
            "width": "28px"
          }
        },
        "f772eeed6af948e283967973585da4d0": {
          "model_module": "@jupyter-widgets/controls",
          "model_name": "DescriptionStyleModel",
          "model_module_version": "1.5.0",
          "state": {
            "_model_module": "@jupyter-widgets/controls",
            "_model_module_version": "1.5.0",
            "_model_name": "DescriptionStyleModel",
            "_view_count": null,
            "_view_module": "@jupyter-widgets/base",
            "_view_module_version": "1.2.0",
            "_view_name": "StyleView",
            "description_width": ""
          }
        },
        "9f7771061919432693381ebfb6413244": {
          "model_module": "@jupyter-widgets/base",
          "model_name": "LayoutModel",
          "model_module_version": "1.2.0",
          "state": {
            "_model_module": "@jupyter-widgets/base",
            "_model_module_version": "1.2.0",
            "_model_name": "LayoutModel",
            "_view_count": null,
            "_view_module": "@jupyter-widgets/base",
            "_view_module_version": "1.2.0",
            "_view_name": "LayoutView",
            "align_content": null,
            "align_items": null,
            "align_self": null,
            "border": null,
            "bottom": null,
            "display": null,
            "flex": null,
            "flex_flow": null,
            "grid_area": null,
            "grid_auto_columns": null,
            "grid_auto_flow": null,
            "grid_auto_rows": null,
            "grid_column": null,
            "grid_gap": null,
            "grid_row": null,
            "grid_template_areas": null,
            "grid_template_columns": null,
            "grid_template_rows": null,
            "height": "28px",
            "justify_content": null,
            "justify_items": null,
            "left": null,
            "margin": null,
            "max_height": null,
            "max_width": null,
            "min_height": null,
            "min_width": null,
            "object_fit": null,
            "object_position": null,
            "order": null,
            "overflow": null,
            "overflow_x": null,
            "overflow_y": null,
            "padding": "0px 0px 0px 4px",
            "right": null,
            "top": null,
            "visibility": null,
            "width": "28px"
          }
        },
        "25d3328e4abf4c64b918c4f58711154c": {
          "model_module": "@jupyter-widgets/controls",
          "model_name": "DescriptionStyleModel",
          "model_module_version": "1.5.0",
          "state": {
            "_model_module": "@jupyter-widgets/controls",
            "_model_module_version": "1.5.0",
            "_model_name": "DescriptionStyleModel",
            "_view_count": null,
            "_view_module": "@jupyter-widgets/base",
            "_view_module_version": "1.2.0",
            "_view_name": "StyleView",
            "description_width": ""
          }
        }
      }
    }
  },
  "cells": [
    {
      "cell_type": "markdown",
      "metadata": {
        "id": "view-in-github",
        "colab_type": "text"
      },
      "source": [
        "<a href=\"https://colab.research.google.com/github/ScriptsRemote/SCRIPTSREMOTE/blob/main/2_An%C3%A1lises_Geoespaciais_utilizando_Python_e_GEE.ipynb\" target=\"_parent\"><img src=\"https://colab.research.google.com/assets/colab-badge.svg\" alt=\"Open In Colab\"/></a>"
      ]
    },
    {
      "cell_type": "markdown",
      "source": [
        "<font color='orange'><b><font size='6'>Análises Geoespaciais utilizando Pythone e GEE</font></b></font>\n",
        "\n",
        "* Vamos trabalhar com composição de bandas\n",
        "* Vamos calcular o NDVI\n",
        "* Vamos utilizar funções\n",
        "* Vamos fazer uma análise de série temporal\n"
      ],
      "metadata": {
        "id": "eGVehd5fGRIV"
      }
    },
    {
      "cell_type": "markdown",
      "source": [
        "<font color='orange'><b><font size='5'>Como utilizar o GEE?</font></b></font>"
      ],
      "metadata": {
        "id": "g4u5UL4_G37V"
      }
    },
    {
      "cell_type": "code",
      "source": [
        "##Precisamos instalar as bibliotecas que permitirão\n",
        "## nosso acesso as servidores do Earth Engine.\n",
        "\n",
        "##para instalar vamos usar o comando pip\n",
        "!pip install earthengine-api -q\n",
        "!pip install geemap -q"
      ],
      "metadata": {
        "id": "lyYU1cj5GfYz"
      },
      "execution_count": null,
      "outputs": []
    },
    {
      "cell_type": "code",
      "source": [
        "###Após instalar nossas bibliotecas\n",
        "###Precisar importar para nosso ambiente\n",
        "import ee \n",
        "import geemap"
      ],
      "metadata": {
        "id": "oRsHpXLxH8p9"
      },
      "execution_count": 2,
      "outputs": []
    },
    {
      "cell_type": "markdown",
      "source": [
        "<font color='orange'><b><font size='5'>Tudo certo, posso começar?</font></b></font>\n",
        "\n",
        "Não, ainda não!\n",
        "\n",
        "Você precisa realizar autenticação de sua conta GEE."
      ],
      "metadata": {
        "id": "hvQo6YAWIJr9"
      }
    },
    {
      "cell_type": "code",
      "source": [
        "###Autenticação \n",
        "ee.Authenticate()\n",
        "ee.Initialize()"
      ],
      "metadata": {
        "id": "VFdyZA1mIHvN"
      },
      "execution_count": null,
      "outputs": []
    },
    {
      "cell_type": "markdown",
      "source": [
        "<font color='orange'><b><font size='5'>Vamos abrir nossa coleção de imagens e selecionar a imagem com menor percentual de nuvem?</font></b></font>\n",
        "\n",
        "* Vamos acessar uma base de dados [Clique aqui]( https://developers.google.com/earth-engine/datasets)\n",
        "* Vamos aprender com aplicar filtros a uma coleção de imagens\n",
        "* Vamos analisar as informações"
      ],
      "metadata": {
        "id": "wtCMqdv-IzVd"
      }
    },
    {
      "cell_type": "code",
      "source": [
        "##Vamos selecionar uma base de dados\n",
        "##Acesse este link -> https://developers.google.com/earth-engine/datasets/\n",
        "\n",
        "##Definindo nossa região\n",
        "ponto = ee.Geometry.Point([-47.608357195575195, -16.767451754807453])\n",
        "\n",
        "##Definindo nossa variável \n",
        "collection =ee.ImageCollection(\"COPERNICUS/S2_SR_HARMONIZED\")\\\n",
        "                      .filterBounds(ponto)\\\n",
        "                      .filterDate('2021-01-01','2023-01-01')\n",
        "\n",
        "##Vamos visualizar essa coleção\n",
        "Map = geemap.Map(location=(-16.76,-47.60), zoom=10)\n",
        "##Adicionando o Layer\n",
        "Map.addLayer(collection)\n",
        "##Visualizar o map\n",
        "Map"
      ],
      "metadata": {
        "id": "pGs5Y9BBJc2M"
      },
      "execution_count": null,
      "outputs": []
    },
    {
      "cell_type": "code",
      "source": [
        "##Vamos realizar a composição das bandas \n",
        "Map = geemap.Map(location=(-16.76,-47.60), zoom=10)\n",
        "##Adicionando o Layer\n",
        "Map.addLayer(collection, {'bands':['B4','B3','B2'],'min':100, 'max':2000},'S2 RGB')\n",
        "##Visualizar o map\n",
        "Map"
      ],
      "metadata": {
        "id": "O8UKNig0uSaB"
      },
      "execution_count": null,
      "outputs": []
    },
    {
      "cell_type": "markdown",
      "source": [
        "<font color='orange'><b><font size='5'>Nossa coleção de imagens tem muitas nuvens, vamos aprender como filtrar?</font></b></font>"
      ],
      "metadata": {
        "id": "iWbk6WqLusc6"
      }
    },
    {
      "cell_type": "code",
      "source": [
        "##Primeiro vamos comprender o número de imagens que temos \n",
        "print('Quantas imagens temos?', collection.size().getInfo())"
      ],
      "metadata": {
        "id": "RYSeyheAu0iC"
      },
      "execution_count": null,
      "outputs": []
    },
    {
      "cell_type": "code",
      "source": [
        "##Agora vamos verificar as propriedades da imagem\n",
        "print('Acessando os metadados', collection.first().propertyNames().getInfo())"
      ],
      "metadata": {
        "id": "OfEZOyXEu-4p"
      },
      "execution_count": null,
      "outputs": []
    },
    {
      "cell_type": "code",
      "source": [
        "##Agora sabemos que existe uma propriedade \n",
        "##Que permite filtrar imagens pelo CLOUDY_PIXEL_PERCENTAGE\n",
        "collection = collection.filter(ee.Filter.lt('CLOUDY_PIXEL_PERCENTAGE',1))\n",
        "print('Quantas imagens temos pós filtro?', collection.size().getInfo())"
      ],
      "metadata": {
        "id": "aLFt63aMvb66"
      },
      "execution_count": null,
      "outputs": []
    },
    {
      "cell_type": "code",
      "source": [
        "##Como seleciono a imagem com menor percentual de nuvens?\n",
        "img = collection.sort('CLOUDY_PIXEL_PERCENTAGE').first()\n",
        "##Visualizando informações sobre nossa imagem\n",
        "img"
      ],
      "metadata": {
        "id": "4s_3K4SPvzxj"
      },
      "execution_count": null,
      "outputs": []
    },
    {
      "cell_type": "code",
      "source": [
        "#Extraindo informações para nosso relatório\n",
        "print('Qual o % de nuvens?', img.get('CLOUDY_PIXEL_PERCENTAGE').getInfo())\n",
        "print('Qual o ID?', img.get('PRODUCT_ID').getInfo())\n",
        "print('Qual a Data?', img.date().format('YYYY-MM-dd').getInfo())"
      ],
      "metadata": {
        "id": "SmEZdQkBwV2a"
      },
      "execution_count": null,
      "outputs": []
    },
    {
      "cell_type": "code",
      "source": [
        "##Vamos visualizar nossa imagem\n",
        "Map = geemap.Map(location=(-16.76,-47.60), zoom=10)\n",
        "##Adicionando o Layer\n",
        "Map.addLayer(img, {'bands':['B4','B3','B2'],'min':100, 'max':2000},'S2 RGB')\n",
        "##Visualizar o map\n",
        "Map"
      ],
      "metadata": {
        "colab": {
          "base_uri": "https://localhost:8080/",
          "height": 621,
          "referenced_widgets": [
            "b3f5f2f2a71148878c3d12fcaff48761",
            "01fa45f6bab84ec8ae5884b3a65de21c",
            "c0e84ad4839149cdbba4f89d7ddac26d",
            "5f22a5f206764e8eb51e6ed82c9d3977",
            "11591bb1e6214009949d1a857b95134f",
            "42d929beb000465bb8222682f469cf66",
            "97715eebd3414854b66a587b5cf181f4",
            "06cfde90835841f09fafd283218aca44",
            "77e988dfc0244f7395940efda1538b69",
            "d72008e00da642a0a1cb522e541ca20e",
            "fa4056ecfffe4a7b945c5a02bab9b972",
            "2aa558d25bb0407ebd5442cfbbe0023c",
            "34fd9a2f844c48c79cf0819b3f0594af",
            "2ae6fa221a3746c8b769ea9d6a6a8345",
            "4e7a6ef1693d4ab89c349b7bdadb59b6",
            "bb471780aa8841eeb9b083cae2418d29",
            "a21cc8b9e3f84e4ba7277b2cab432edf",
            "31e846ec98074f95ae93a01d5491c206",
            "0795f23f16eb452ab4f40ace2685345e",
            "ce364bfcde87421c9ad1cb438d27aa53",
            "84f6e6b8569f4b80831a0e6ec8faf645",
            "917a5c24e32e459ba8caace3e5610b94",
            "5017e53264f0458a83977fd24e1ec898",
            "5e919745949a477797f2372291ff5ffc",
            "36f577a5548a4cdb8be3e87b2a098b7b",
            "30b1af5b69e44a5f9f94a5a083693a0a"
          ]
        },
        "id": "R5RaWkH3xQwR",
        "outputId": "9a872255-37ae-4fe7-edd3-7ac843512fe2"
      },
      "execution_count": 125,
      "outputs": [
        {
          "output_type": "display_data",
          "data": {
            "text/plain": [
              "Map(center=[-16.76, -47.6], controls=(WidgetControl(options=['position', 'transparent_bg'], widget=HBox(childr…"
            ],
            "application/vnd.jupyter.widget-view+json": {
              "version_major": 2,
              "version_minor": 0,
              "model_id": "b3f5f2f2a71148878c3d12fcaff48761"
            }
          },
          "metadata": {
            "application/vnd.jupyter.widget-view+json": {
              "colab": {
                "custom_widget_manager": {
                  "url": "https://ssl.gstatic.com/colaboratory-static/widgets/colab-cdn-widget-manager/b3e629b1971e1542/manager.min.js"
                }
              }
            }
          }
        }
      ]
    },
    {
      "cell_type": "markdown",
      "source": [
        "<font color='orange'><b><font size='5'>Vamos trabalhar com diferentes composições?</font></b></font>\n",
        "\n",
        "Usamos composições de bandas para realçar determinadas características que a partir da reorganização das bandas nos canais RGB se apresentam de maneira distintas.\n",
        "\n",
        "* Cor verdadeira - Representa as cores da maneira que nossos olhos costumam ver. Composta por Red, Green e Blue;\n",
        "\n",
        "* Infravermelho - Permite identificar diferentes o estado da vegetação. Nir (infravermelho próximo), Red e Green. A banda do Infravermelho próximo reflete a clorofila, permintindo realçar áreas vegetadas.\n",
        "\n",
        "* Agricultura: Esta composição permite monitorar a saúde das plantações, pois as bandas do infravermelho de ondas curtas e do infravermelho destacam a vegetação densa que aparece como verde vivo.SWIR 1,Nir, Blue"
      ],
      "metadata": {
        "id": "kiNZR8wsxnDL"
      }
    },
    {
      "cell_type": "code",
      "source": [
        "##Vamos visualizar nossa imagem\n",
        "Map = geemap.Map(location=(-16.76,-47.60), zoom=10)\n",
        "##Adicionando o Layer\n",
        "Map.addLayer(img, {'bands':['B4','B3','B2'],'min':50, 'max':3650},'S2 RGB')\n",
        "Map.addLayer(img, {'bands':['B8','B4','B3'],'min':50, 'max':3650},'S2 NRG')\n",
        "Map.addLayer(img, {'bands':['B11','B8','B2'],'min':50, 'max':3650},'S2 SNB')\n",
        "##Visualizar o map\n",
        "Map"
      ],
      "metadata": {
        "colab": {
          "base_uri": "https://localhost:8080/",
          "height": 621,
          "referenced_widgets": [
            "3c06e36a167a4841815fdaa0b20a7352",
            "7b840ca5649345b19002a4e29c8836aa",
            "b4c24a6569f646a080bfe345615185bf",
            "172b050468b34199888268ac2417582a",
            "583355d7f2a9409db291614ca16dacdc",
            "60f33c04797a48ae842750947f3737cd",
            "7bf29621086248799910b1819858a3d2",
            "7ab5e34c1ae741af8eecfdde1321f2ab",
            "58cbb8348e5947129b5651b6facd1ec2",
            "8b8a44f2b643436382458febd36ddde4",
            "ff4aa1c58b384cdd8b5b2a353b71503c",
            "2ed3e6d7e7dc48109270787caf617284",
            "34fd9a2f844c48c79cf0819b3f0594af",
            "1d6982812d5240d593362743767e8cc4",
            "df25798f7b8e4a79beddd968c1d1f36e",
            "ce759bc2c0b8444b8e8f013939e8c5c3",
            "32699af067d945c7ade9c43d1db06e5f",
            "b2014cc0545c41c09be4967a0da793cc",
            "aa1fb420dc764d5681661baf20697f2c",
            "bee73301c5a144949ed088f91e504c0c",
            "f70a57dcfaf94ac39cdab965b15adbca",
            "e665c9e0d93d499a9a057f362d1f6484",
            "9fddb4f76cb74f3bb2f4b5d42061d567",
            "a2963236ba004cddaf693efe73466df4",
            "e9a652a7173d4787b7ec475240abf298",
            "a05b0c8c0c3b40028487227ba113517a",
            "f919c092c20e45c3a522bcc03665dbc0",
            "44f271c147f347eea35625bf9421861b"
          ]
        },
        "id": "t84BpSX_3nBL",
        "outputId": "d6a33f71-b912-47d4-e9ad-70f83a54e1c5"
      },
      "execution_count": 124,
      "outputs": [
        {
          "output_type": "display_data",
          "data": {
            "text/plain": [
              "Map(center=[-16.76, -47.6], controls=(WidgetControl(options=['position', 'transparent_bg'], widget=HBox(childr…"
            ],
            "application/vnd.jupyter.widget-view+json": {
              "version_major": 2,
              "version_minor": 0,
              "model_id": "3c06e36a167a4841815fdaa0b20a7352"
            }
          },
          "metadata": {
            "application/vnd.jupyter.widget-view+json": {
              "colab": {
                "custom_widget_manager": {
                  "url": "https://ssl.gstatic.com/colaboratory-static/widgets/colab-cdn-widget-manager/b3e629b1971e1542/manager.min.js"
                }
              }
            }
          }
        }
      ]
    },
    {
      "cell_type": "markdown",
      "source": [
        "<font color='orange'><b><font size='5'>Como recortar essa imagem pelo shp?</font></b></font>\n",
        "\n",
        "* Vamos instalar o geopandas e converter nosso shp para json"
      ],
      "metadata": {
        "id": "C40GIPa98KZz"
      }
    },
    {
      "cell_type": "code",
      "source": [
        "##Instalando biliotecas\n",
        "!pip install geopandas descartes -q"
      ],
      "metadata": {
        "id": "kaXhHShH-om0"
      },
      "execution_count": null,
      "outputs": []
    },
    {
      "cell_type": "code",
      "source": [
        "##Importando as bibliotecas necessárias\n",
        "import geopandas as gpd\n",
        "import json\n",
        "import pandas as pd"
      ],
      "metadata": {
        "id": "uZ1eluIK-uj7"
      },
      "execution_count": 31,
      "outputs": []
    },
    {
      "cell_type": "code",
      "source": [
        "###Abindo uma shp do nosso drive\n",
        "gdf = gpd.read_file('/content/drive/MyDrive/BASES/BR_Municipios_2021.shp')\n",
        "gdf.head()"
      ],
      "metadata": {
        "id": "YKE2zN6-8Ov0"
      },
      "execution_count": null,
      "outputs": []
    },
    {
      "cell_type": "code",
      "source": [
        "##Filtrando o município de interesse\n",
        "municipio = gdf[gdf.NM_MUN=='Cristalina']\n",
        "municipio"
      ],
      "metadata": {
        "id": "zJVAtZp98HOk"
      },
      "execution_count": null,
      "outputs": []
    },
    {
      "cell_type": "code",
      "source": [
        "##Convertendo para Json e depois definindo a feature\n",
        "shp_to_json = municipio.to_json()\n",
        "##Carregando o arquivo json\n",
        "roi = json.loads(shp_to_json)\n",
        "##selecionando as features\n",
        "roi = roi['features']\n",
        "##Verificando o processo\n",
        "roi"
      ],
      "metadata": {
        "id": "mf4Q65Y5_Nuz"
      },
      "execution_count": null,
      "outputs": []
    },
    {
      "cell_type": "code",
      "source": [
        "##Após converter o arquivo como Json e carregar, podemos usar\n",
        "##Como uma feature e realizar nossas análises\n",
        "region = ee.FeatureCollection(roi)\n",
        "region"
      ],
      "metadata": {
        "id": "r2-Fp2oc_p_s"
      },
      "execution_count": null,
      "outputs": []
    },
    {
      "cell_type": "code",
      "source": [
        "##Recortando nossa imagem pelo limite do município\n",
        "img_clip = img.clip(region)\n",
        "##Vamos visualizar nossa imagem\n",
        "Map = geemap.Map(location=(-16.76,-47.60), zoom=10)\n",
        "##Adicionando o Layer\n",
        "Map.addLayer(img_clip, {'bands':['B4','B3','B2'],'min':50, 'max':3650},'S2 RGB')\n",
        "Map.addLayer(img_clip, {'bands':['B8','B4','B3'],'min':50, 'max':3650},'S2 NRG')\n",
        "Map.addLayer(img_clip, {'bands':['B11','B8','B2'],'min':50, 'max':3650},'S2 SNB')\n",
        "##Visualizar o map\n",
        "Map"
      ],
      "metadata": {
        "colab": {
          "base_uri": "https://localhost:8080/",
          "height": 621,
          "referenced_widgets": [
            "2565d453b4be4aeab0c4584a2f448016",
            "b0ff6f94f3c3490da6dd742543915871",
            "273d8684933740839a1b16623571d44b",
            "408903aace8f49b087804d8d36ddbac0",
            "52108ab225294c42a749d2b8ff639ecb",
            "b3b50e525921459bb9910515bad45f3b",
            "a9567706205d4046b4f31d637a1bd84f",
            "1609feae9a4741d5a0a74870556747cd",
            "2810a26b37764fd0b3ce3a61f02b8828",
            "9032cec5b91f4cfc8f0106c74fe81839",
            "08df1894341c4a5a91d330b0cfd7a9d8",
            "cdd1183b2eb042e18bd509a721e09420",
            "34fd9a2f844c48c79cf0819b3f0594af",
            "3cc7b857efc24e138322677adf7ef281",
            "941102558bdc4a06a4b32d290cd2b5e1",
            "f777ec4f4fe24458a605ca0124718d6e",
            "3b5190f498864e00adf9763f67204c72",
            "590bd20157d947759ff7732022ca19bb",
            "b0ebe5b665e54a57b3099f72f2bbd9eb",
            "bc9abe804b334b6da574b62d7ad038b1",
            "16ab35161f31479aada06621f58d88fa",
            "75028e8c32fa4ad3ac2b8bd5d6c0629f",
            "e88d6284198745b2969093cb0ec379bc",
            "d3103d513e0744ecaec21deda8e6a2ee",
            "063a7a95e21a4b1c91e4ed24c1b76fa6",
            "b1b84019a7394d608bf2f161a2ea88a5",
            "f33213a38e6d41b3bb39289dfb957e65",
            "20d139bb613743fd8d9ca74b92ff58d4"
          ]
        },
        "id": "RcDnDB4j_xm7",
        "outputId": "3addeb5c-c7c1-424b-fc37-83d8547b79fe"
      },
      "execution_count": 126,
      "outputs": [
        {
          "output_type": "display_data",
          "data": {
            "text/plain": [
              "Map(center=[-16.76, -47.6], controls=(WidgetControl(options=['position', 'transparent_bg'], widget=HBox(childr…"
            ],
            "application/vnd.jupyter.widget-view+json": {
              "version_major": 2,
              "version_minor": 0,
              "model_id": "2565d453b4be4aeab0c4584a2f448016"
            }
          },
          "metadata": {
            "application/vnd.jupyter.widget-view+json": {
              "colab": {
                "custom_widget_manager": {
                  "url": "https://ssl.gstatic.com/colaboratory-static/widgets/colab-cdn-widget-manager/b3e629b1971e1542/manager.min.js"
                }
              }
            }
          }
        }
      ]
    },
    {
      "cell_type": "markdown",
      "source": [
        "<font color='orange'><b><font size='5'>Como calcular o NDVI?</font></b></font>\n",
        "\n",
        "* Índices auxiliam a compreender comportamentos espectrais asspciados a determinadas bandas.\n",
        "Com base nas respostas das assinaturas espectrais, conseguimos realizar normalizações ou \n",
        "expressões matemáticas para deliniamento de cursos de água, vegetação ou outras feições.\n",
        "\n",
        "* As primeiras ferramentas baseadas no índice de vegetação de diferença normalizada (NDVI) foram desenvolvidas na década de 1970 ( Rouse et al., 1973 )\n",
        "\n",
        "* O Índice de Vegetação por Diferença Normalizada (NDVI) permite quantificar a vegetação medindo a diferença entre o infravermelho próximo (que a vegetação reflete fortemente) e a luz vermelha (que a vegetação absorve).\n",
        "\n",
        "* Equação NDVI=NIR-Red/NIR+Red\n"
      ],
      "metadata": {
        "id": "hB-4n3WkAYCc"
      }
    },
    {
      "cell_type": "code",
      "source": [
        "##Primeiro precisamos criar nossa normalização \n",
        "ndvi = img_clip.normalizedDifference(['B8','B4']).rename('NDVI') ## na agricultura, os agricultores usam o NDVI para agricultura de precisão e para medir a biomassa.\n",
        "\n",
        "##Vamos visualizar nossa imagem\n",
        "Map = geemap.Map(location=(-16.76,-47.60), zoom=10)\n",
        "##Adicionando o Layer\n",
        "Map.addLayer(img_clip,{'bands':['B4','B3','B2'],'min':50, 'max':3650},'S2 RGB')\n",
        "##Visualizar o NDVI\n",
        "Map.addLayer(ndvi,{'palette':['red','yellow','green'],'min':0, 'max':1},'S2 NDVI')\n",
        "##Visualizar o map\n",
        "Map"
      ],
      "metadata": {
        "colab": {
          "base_uri": "https://localhost:8080/",
          "height": 621,
          "referenced_widgets": [
            "6a81da1956f141ffb170bbc44e5a5074",
            "6e05dcd1d02f4f05aae1a0389ed7e012",
            "ab2c1d1ac5e345358de696635936096c",
            "575e44129d23405d9058dec74e80e2dc",
            "a705ef0dcec74a2bbfb16e38972dc508",
            "042f34e35888467eac358becfe253c88",
            "4ced4598d6a3427889fa4fd3dd3bb8fd",
            "b38619bf4f45478c9f0033ce34f5e6ce",
            "7e7707947cda44a39629414278c06a12",
            "f259ffe051fe4454beb0c5cce0b88637",
            "f58d7f19d670408f9d6f16d97a1d4bcd",
            "73e3057fcb36409c98b342dac7d177cf",
            "34fd9a2f844c48c79cf0819b3f0594af",
            "aa74ab8bedac47e69bb3311f49625689",
            "f481e730065641a38eb4f334bd1b58e9",
            "6d2daaf7de4240af932e7ff76770fb2d",
            "cc66be1c92bd4753a6e81d09c1b21799",
            "7f958d31e03249028b12cc8c47f5d092",
            "254e56df20fc4abcb35f07400354e55e",
            "199ca740e497477c822e0eeebb3d856c",
            "aea320db4dc14a58ac4bebcf60691f26",
            "e22ed9fcb756462bb4e6dfcf3e4283b5",
            "689f1a7ca796489bbadc2d3e83a2bbf7",
            "697b0c75523943ff89647c3dd7135552",
            "f772eeed6af948e283967973585da4d0",
            "9f7771061919432693381ebfb6413244",
            "25d3328e4abf4c64b918c4f58711154c"
          ]
        },
        "id": "6-clgkZ5A77k",
        "outputId": "619c54df-2a9e-4239-dbf2-c515d890a1db"
      },
      "execution_count": 127,
      "outputs": [
        {
          "output_type": "display_data",
          "data": {
            "text/plain": [
              "Map(center=[-16.76, -47.6], controls=(WidgetControl(options=['position', 'transparent_bg'], widget=HBox(childr…"
            ],
            "application/vnd.jupyter.widget-view+json": {
              "version_major": 2,
              "version_minor": 0,
              "model_id": "6a81da1956f141ffb170bbc44e5a5074"
            }
          },
          "metadata": {
            "application/vnd.jupyter.widget-view+json": {
              "colab": {
                "custom_widget_manager": {
                  "url": "https://ssl.gstatic.com/colaboratory-static/widgets/colab-cdn-widget-manager/b3e629b1971e1542/manager.min.js"
                }
              }
            }
          }
        }
      ]
    },
    {
      "cell_type": "markdown",
      "source": [
        "<font color='orange'><b><font size='5'>Criando Funções e Séries temporais?</font></b></font>\n",
        "\n",
        "* As funções e o map são dois elementos fundamentais que ajudam os usuários a processar e analisar esses dados.\n",
        "\n",
        "* Em Python, funções são blocos de código que realizam uma tarefa específica e podem ser reutilizadas em diferentes partes do programa. \n",
        "\n",
        "* Elas são definidas usando a palavra-chave def, seguida do nome da função, uma lista de parâmetros (entre parênteses) e dois pontos. O bloco de código da função é definido com indentação. As funções são usadas para simplificar tarefas complexas, reduzir a redundância do código e tornar o código mais organizado e legível.\n",
        "\n",
        "* Por exemplo, existem funções para calcular índices de vegetação, somar valores de pixel, executar análises de séries temporais e muito mais.\n",
        "\n",
        "* O método map() é uma das funções mais importantes do Google Earth Engine. Ele permite a aplicação de uma função a todos os elementos de uma coleção de dados. Por exemplo, é possível usar o método map() para aplicar uma função que calcule o índice de vegetação de diferença normalizada (NDVI) a uma coleção de imagens de satélite, gerando um mapa que mostra a vegetação em uma determinada região.\n"
      ],
      "metadata": {
        "id": "wuVqQQGtFPiF"
      }
    },
    {
      "cell_type": "code",
      "source": [
        "##Função do Fator de escala e inserir a propriedade data\n",
        "def scale(image):\n",
        "  return image.multiply(0.0001)\\\n",
        "               .clip(region)\\\n",
        "               .copyProperties(image, image.propertyNames())\\\n",
        "               .set('date', image.date().format('YYYY-MM-dd'))\n",
        "\n",
        "##Função para calcular o ndvi\n",
        "def ndvi_calc(image):\n",
        "  ndvi = image.normalizedDifference(['B8','B4']).rename('NDVI')\n",
        "  return image.addBands(ndvi)"
      ],
      "metadata": {
        "id": "F-67llCfFVQU"
      },
      "execution_count": 86,
      "outputs": []
    },
    {
      "cell_type": "code",
      "source": [
        "##Agora podemos aplicar as funções na nossa coleção\n",
        "ndvi_collection = collection.map(scale).map(ndvi_calc)\n",
        "print(ndvi_collection.size().getInfo())"
      ],
      "metadata": {
        "id": "govqvQhCJF8p"
      },
      "execution_count": null,
      "outputs": []
    },
    {
      "cell_type": "code",
      "source": [
        "##Verificando as bandas \n",
        "ndvi_collection"
      ],
      "metadata": {
        "id": "W00LKMMpJSxI"
      },
      "execution_count": null,
      "outputs": []
    },
    {
      "cell_type": "markdown",
      "source": [
        "<font color='orange'><b><font size='5'>Estatísticas de nossa área de estudo</font></b></font>\n",
        "\n",
        "Nesta etapa vamos extrair as estatísticas por região (área de estudo) e gerar nosso dataframe para criar gráficos.\n",
        "\n",
        "Para obter estatísticas de imagem em várias regiões armazenadas em um FeatureCollection, você pode usar image.reduceRegions() para reduzir várias regiões de uma vez. A entrada para reduceRegions() é uma Image e uma FeatureCollection. A saída é outra FeatureCollection com a saída reduceRegions() definida como propriedades em cada Feature. \n",
        "\n",
        "[fonte](https://developers.google.com/earth-engine/guides/reducers_reduce_regions)\n",
        "\n",
        "<center>\n",
        "<image src =https://developers.google.com/earth-engine/images/Reduce_region_diagram.png>\n",
        "<center> Figure 1. An illustration of an ee.Reducer applied to an image and a region."
      ],
      "metadata": {
        "id": "4NvZpL12NYNf"
      }
    },
    {
      "cell_type": "code",
      "source": [
        "##Função para converter informações da imagem em tabela\n",
        "def reduce (image):\n",
        "\n",
        "    ##Aplicando o redutor para nosssa região\n",
        "    serie_reduce = image.reduceRegions(**{\n",
        "                        'collection':region,\n",
        "                        'reducer': ee.Reducer.mean().combine(**{\n",
        "                        'reducer2': ee.Reducer.min(), \n",
        "                                    'sharedInputs': True}).combine(**{\n",
        "                        'reducer2': ee.Reducer.max(),\n",
        "                                    'sharedInputs': True}), \n",
        "                        'scale': 20\n",
        "                        })\n",
        "     \n",
        "    ##Retorne a variável e adicione propriedades\n",
        "    # A função lambda é uma forma de definir funções anônimas em Python, ou seja, \n",
        "    # funções sem um nome específico que podem ser definidas e usadas no mesmo lugar. \n",
        "    serie_reduce = serie_reduce.map(lambda f: f.set({'millis': image.get('millis')}))\\\n",
        "                                .map(lambda f: f.set({'date': image.get('date')}))         \n",
        "\n",
        "    ##Finalize a função copiando as propriedades da imagem\n",
        "    return serie_reduce.copyProperties(image, [\"system:time_start\"])\n",
        "\n",
        "##Aplicando a função de redução na Coleção \n",
        "stats_table = ndvi_collection.select('NDVI').map(reduce)\\\n",
        "                        .flatten()\\\n",
        "                        .sort('date',True)\\\n",
        "                        .select(['NM_MUN','SIGLA','date','min','mean','max'],\n",
        "                                ['NM_MUN','SIGLA','date','NDVI_min','NDVI_mean','NDVI_max'])\n",
        "\n",
        "##Verificando os dados e as propriedades\n",
        "print(stats_table.size().getInfo())\n",
        "stats_table.first().propertyNames().getInfo()"
      ],
      "metadata": {
        "id": "GE6JGAANNnMn"
      },
      "execution_count": null,
      "outputs": []
    },
    {
      "cell_type": "code",
      "source": [
        "##Convertendo os dados para tabela\n",
        "# Podemos converter um FeatureCollection em um DataFrame\n",
        "#  usando a função auxiliar `geemap` `ee_to_pandas`.\n",
        "df = geemap.ee_to_pandas(stats_table)\n",
        "df.head()"
      ],
      "metadata": {
        "colab": {
          "base_uri": "https://localhost:8080/",
          "height": 206
        },
        "id": "JQ03IBIBPaGt",
        "outputId": "5b96ccf8-3fe3-43db-8a28-02cf3b1f1ca1"
      },
      "execution_count": 90,
      "outputs": [
        {
          "output_type": "execute_result",
          "data": {
            "text/plain": [
              "         date      NM_MUN SIGLA  NDVI_min  NDVI_mean  NDVI_max\n",
              "0  2021-04-24  Cristalina    GO -0.936000   0.602805  0.959302\n",
              "1  2021-04-24  Cristalina    GO -0.983740   0.599242  0.973545\n",
              "2  2021-05-14  Cristalina    GO -0.680000   0.603705  0.944002\n",
              "3  2021-05-14  Cristalina    GO -0.678337   0.601363  0.942652\n",
              "4  2021-06-08  Cristalina    GO -0.886364   0.544920  0.951617"
            ],
            "text/html": [
              "\n",
              "  <div id=\"df-1d7270de-62b4-417f-ab3a-3a0bb14dedb3\">\n",
              "    <div class=\"colab-df-container\">\n",
              "      <div>\n",
              "<style scoped>\n",
              "    .dataframe tbody tr th:only-of-type {\n",
              "        vertical-align: middle;\n",
              "    }\n",
              "\n",
              "    .dataframe tbody tr th {\n",
              "        vertical-align: top;\n",
              "    }\n",
              "\n",
              "    .dataframe thead th {\n",
              "        text-align: right;\n",
              "    }\n",
              "</style>\n",
              "<table border=\"1\" class=\"dataframe\">\n",
              "  <thead>\n",
              "    <tr style=\"text-align: right;\">\n",
              "      <th></th>\n",
              "      <th>date</th>\n",
              "      <th>NM_MUN</th>\n",
              "      <th>SIGLA</th>\n",
              "      <th>NDVI_min</th>\n",
              "      <th>NDVI_mean</th>\n",
              "      <th>NDVI_max</th>\n",
              "    </tr>\n",
              "  </thead>\n",
              "  <tbody>\n",
              "    <tr>\n",
              "      <th>0</th>\n",
              "      <td>2021-04-24</td>\n",
              "      <td>Cristalina</td>\n",
              "      <td>GO</td>\n",
              "      <td>-0.936000</td>\n",
              "      <td>0.602805</td>\n",
              "      <td>0.959302</td>\n",
              "    </tr>\n",
              "    <tr>\n",
              "      <th>1</th>\n",
              "      <td>2021-04-24</td>\n",
              "      <td>Cristalina</td>\n",
              "      <td>GO</td>\n",
              "      <td>-0.983740</td>\n",
              "      <td>0.599242</td>\n",
              "      <td>0.973545</td>\n",
              "    </tr>\n",
              "    <tr>\n",
              "      <th>2</th>\n",
              "      <td>2021-05-14</td>\n",
              "      <td>Cristalina</td>\n",
              "      <td>GO</td>\n",
              "      <td>-0.680000</td>\n",
              "      <td>0.603705</td>\n",
              "      <td>0.944002</td>\n",
              "    </tr>\n",
              "    <tr>\n",
              "      <th>3</th>\n",
              "      <td>2021-05-14</td>\n",
              "      <td>Cristalina</td>\n",
              "      <td>GO</td>\n",
              "      <td>-0.678337</td>\n",
              "      <td>0.601363</td>\n",
              "      <td>0.942652</td>\n",
              "    </tr>\n",
              "    <tr>\n",
              "      <th>4</th>\n",
              "      <td>2021-06-08</td>\n",
              "      <td>Cristalina</td>\n",
              "      <td>GO</td>\n",
              "      <td>-0.886364</td>\n",
              "      <td>0.544920</td>\n",
              "      <td>0.951617</td>\n",
              "    </tr>\n",
              "  </tbody>\n",
              "</table>\n",
              "</div>\n",
              "      <button class=\"colab-df-convert\" onclick=\"convertToInteractive('df-1d7270de-62b4-417f-ab3a-3a0bb14dedb3')\"\n",
              "              title=\"Convert this dataframe to an interactive table.\"\n",
              "              style=\"display:none;\">\n",
              "        \n",
              "  <svg xmlns=\"http://www.w3.org/2000/svg\" height=\"24px\"viewBox=\"0 0 24 24\"\n",
              "       width=\"24px\">\n",
              "    <path d=\"M0 0h24v24H0V0z\" fill=\"none\"/>\n",
              "    <path d=\"M18.56 5.44l.94 2.06.94-2.06 2.06-.94-2.06-.94-.94-2.06-.94 2.06-2.06.94zm-11 1L8.5 8.5l.94-2.06 2.06-.94-2.06-.94L8.5 2.5l-.94 2.06-2.06.94zm10 10l.94 2.06.94-2.06 2.06-.94-2.06-.94-.94-2.06-.94 2.06-2.06.94z\"/><path d=\"M17.41 7.96l-1.37-1.37c-.4-.4-.92-.59-1.43-.59-.52 0-1.04.2-1.43.59L10.3 9.45l-7.72 7.72c-.78.78-.78 2.05 0 2.83L4 21.41c.39.39.9.59 1.41.59.51 0 1.02-.2 1.41-.59l7.78-7.78 2.81-2.81c.8-.78.8-2.07 0-2.86zM5.41 20L4 18.59l7.72-7.72 1.47 1.35L5.41 20z\"/>\n",
              "  </svg>\n",
              "      </button>\n",
              "      \n",
              "  <style>\n",
              "    .colab-df-container {\n",
              "      display:flex;\n",
              "      flex-wrap:wrap;\n",
              "      gap: 12px;\n",
              "    }\n",
              "\n",
              "    .colab-df-convert {\n",
              "      background-color: #E8F0FE;\n",
              "      border: none;\n",
              "      border-radius: 50%;\n",
              "      cursor: pointer;\n",
              "      display: none;\n",
              "      fill: #1967D2;\n",
              "      height: 32px;\n",
              "      padding: 0 0 0 0;\n",
              "      width: 32px;\n",
              "    }\n",
              "\n",
              "    .colab-df-convert:hover {\n",
              "      background-color: #E2EBFA;\n",
              "      box-shadow: 0px 1px 2px rgba(60, 64, 67, 0.3), 0px 1px 3px 1px rgba(60, 64, 67, 0.15);\n",
              "      fill: #174EA6;\n",
              "    }\n",
              "\n",
              "    [theme=dark] .colab-df-convert {\n",
              "      background-color: #3B4455;\n",
              "      fill: #D2E3FC;\n",
              "    }\n",
              "\n",
              "    [theme=dark] .colab-df-convert:hover {\n",
              "      background-color: #434B5C;\n",
              "      box-shadow: 0px 1px 3px 1px rgba(0, 0, 0, 0.15);\n",
              "      filter: drop-shadow(0px 1px 2px rgba(0, 0, 0, 0.3));\n",
              "      fill: #FFFFFF;\n",
              "    }\n",
              "  </style>\n",
              "\n",
              "      <script>\n",
              "        const buttonEl =\n",
              "          document.querySelector('#df-1d7270de-62b4-417f-ab3a-3a0bb14dedb3 button.colab-df-convert');\n",
              "        buttonEl.style.display =\n",
              "          google.colab.kernel.accessAllowed ? 'block' : 'none';\n",
              "\n",
              "        async function convertToInteractive(key) {\n",
              "          const element = document.querySelector('#df-1d7270de-62b4-417f-ab3a-3a0bb14dedb3');\n",
              "          const dataTable =\n",
              "            await google.colab.kernel.invokeFunction('convertToInteractive',\n",
              "                                                     [key], {});\n",
              "          if (!dataTable) return;\n",
              "\n",
              "          const docLinkHtml = 'Like what you see? Visit the ' +\n",
              "            '<a target=\"_blank\" href=https://colab.research.google.com/notebooks/data_table.ipynb>data table notebook</a>'\n",
              "            + ' to learn more about interactive tables.';\n",
              "          element.innerHTML = '';\n",
              "          dataTable['output_type'] = 'display_data';\n",
              "          await google.colab.output.renderOutput(dataTable, element);\n",
              "          const docLink = document.createElement('div');\n",
              "          docLink.innerHTML = docLinkHtml;\n",
              "          element.appendChild(docLink);\n",
              "        }\n",
              "      </script>\n",
              "    </div>\n",
              "  </div>\n",
              "  "
            ]
          },
          "metadata": {},
          "execution_count": 90
        }
      ]
    },
    {
      "cell_type": "markdown",
      "source": [
        "<font color='orange'><b><font size='5'>Gerando nosso gráfico</font></b></font>"
      ],
      "metadata": {
        "id": "rBTHh8YjP64o"
      }
    },
    {
      "cell_type": "code",
      "source": [
        "##Importar bibliotecas\n",
        "import matplotlib.pyplot as plt\n",
        "\n",
        "#converte a coluna \"date\" para o tipo datetime do Pandas.\n",
        "df['date'] = pd.to_datetime(df['date'])\n",
        "\n",
        "# A função subplots() é utilizada para criar uma figura com um único subplot.\n",
        "# define o tamanho da figura do subplot e do ax\n",
        "fig, ax = plt.subplots(figsize=(10, 5))  \n",
        "\n",
        "# cria o gráfico de linha com os valores de NDVI médio em relação à data\n",
        "plt.plot(df['date'], df['NDVI_mean'], color='green', linewidth=2) \n",
        "\n",
        "# define o rótulo do eixo x \n",
        "plt.xlabel('Data') \n",
        "\n",
        "# define o rótulo do eixo y\n",
        "plt.ylabel('NDVI médio')\n",
        "\n",
        "# define o título do gráfico\n",
        "plt.title('Variação do NDVI médio ao longo do tempo') \n",
        "\n",
        "# gira os rótulos das datas para se encaixar melhor\n",
        "plt.xticks(rotation=45)\n",
        "\n",
        "\n",
        "# adiciona o grid\n",
        "plt.grid(linestyle='--', linewidth=0.5)\n",
        "\n",
        "# salva o gráfico em um arquivo PNG\n",
        "plt.savefig('grafico_ndvi.png', dpi=300, bbox_inches='tight')\n",
        "\n",
        "\n",
        "plt.show()  # exibe o gráfico\n"
      ],
      "metadata": {
        "colab": {
          "base_uri": "https://localhost:8080/",
          "height": 524
        },
        "id": "iDcga_36QD7G",
        "outputId": "db9b34aa-1ff9-42f0-9071-d6227e851cc0"
      },
      "execution_count": 104,
      "outputs": [
        {
          "output_type": "display_data",
          "data": {
            "text/plain": [
              "<Figure size 1000x500 with 1 Axes>"
            ],
            "image/png": "[encoded data removed]"
          },
          "metadata": {}
        }
      ]
    },
    {
      "cell_type": "markdown",
      "source": [
        "<font color='orange'><b><font size='5'>Como baixar todas as imagens?</font></b></font>\n",
        "\n",
        "* Para realizar o download vamos usar a seguinte função\n",
        "\n",
        "* Definir uma região de interesse (neste exemplo vamos começar com uma geometria)\n",
        "\n",
        "* Clique aqui e acesse o Code Editor para Definir nossa geometria -> [Code Editor](https://code.earthengine.google.com/)\n",
        "\n",
        "* Na barra de ferramentas à esquerda da tela, selecione a opção \"Geometry\" para criar uma nova geometria."
      ],
      "metadata": {
        "id": "lNYp7zLnNT8W"
      }
    },
    {
      "cell_type": "code",
      "source": [
        "##Função para download\n",
        "download = geemap.ee_export_image_collection_to_drive(ndvi_collection.select(['NDVI']).limit(3),##Retirar o .limit(3) apenas para exemplificar\n",
        "                                                      region=region.geometry(), \n",
        "                                                      folder='MINICURSO_GEE', \n",
        "                                                      scale=20,\n",
        "                                                      crs='EPSG:4674', ##sirgas 2000 epsg:4674\n",
        "                                                      maxPixels=1e13, \n",
        "                                                      fileFormat='GeoTIFF') #Salvará as imagens automaticamente do Drive"
      ],
      "metadata": {
        "id": "Ygmo49QMNbyL"
      },
      "execution_count": null,
      "outputs": []
    },
    {
      "cell_type": "markdown",
      "source": [
        "<font color='orange'><b><font size='5'>Criando um Timelapse</font></b></font>"
      ],
      "metadata": {
        "id": "v-ALNiNEawbo"
      }
    },
    {
      "cell_type": "code",
      "source": [
        "##Pacote para baixar o vídeo \n",
        "from ee import batch \n",
        "\n",
        "##Criando um vídeo\n",
        "def convertBit(image):\n",
        "    return image.uint8() \n",
        "\n",
        "##Limite do Vídeo\n",
        "roi = ee.Geometry.Polygon(\n",
        "        [[[-47.811089281756836, -16.582980307114198],\n",
        "          [-47.811089281756836, -16.961662012568745],\n",
        "          [-47.38124919386621, -16.961662012568745],\n",
        "          [-47.38124919386621, -16.582980307114198]]])\n",
        "\n",
        "\n",
        "##Padronizando a visualização com uma função\n",
        "def visualize(image):\n",
        "  return image.visualize(**{'min': 0,'max': 1,'palette': ['red','yellow','green']}) ###aplicando a máscara\n",
        "\n",
        "\n",
        "##chamando a conversão \n",
        "outputVideo = ndvi_collection.select('NDVI')\\\n",
        "                            .map(visualize)\\\n",
        "                            .map(convertBit)\n",
        "\n",
        "#Export to video.\n",
        "out = batch.Export.video.toDrive(outputVideo, \n",
        "                                 description='Timelapse_Cristalina', \n",
        "                                 folder= 'MINICURSO_GEE', \n",
        "                                 dimensions = 720, \n",
        "                                 framesPerSecond = 2,\n",
        "                                 region=roi, \n",
        "                                 maxPixels=1e13, \n",
        "                                 maxFrames=10000)\n",
        "\n",
        "## Processar o download para o drive\n",
        "process = batch.Task.start(out)"
      ],
      "metadata": {
        "id": "-c-NVlfLaw2p"
      },
      "execution_count": 123,
      "outputs": []
    },
    {
      "cell_type": "code",
      "source": [
        "##Verificando o Status do Download\n",
        "out.status()"
      ],
      "metadata": {
        "colab": {
          "base_uri": "https://localhost:8080/",
          "height": 0
        },
        "id": "wt1AFn0scG9q",
        "outputId": "1364b5c3-a4ff-490b-f3c8-af9f24b28915"
      },
      "execution_count": 122,
      "outputs": [
        {
          "output_type": "execute_result",
          "data": {
            "text/plain": [
              "{'state': 'RUNNING',\n",
              " 'description': 'Timelapse_Cristalina',\n",
              " 'creation_timestamp_ms': 1683333208566,\n",
              " 'update_timestamp_ms': 1683333225204,\n",
              " 'start_timestamp_ms': 1683333225169,\n",
              " 'task_type': 'EXPORT_VIDEO',\n",
              " 'attempt': 1,\n",
              " 'id': 'KRPLTTGCTO5NJUWFVWG5CB5J',\n",
              " 'name': 'projects/earthengine-legacy/operations/KRPLTTGCTO5NJUWFVWG5CB5J'}"
            ]
          },
          "metadata": {},
          "execution_count": 122
        }
      ]
    }
  ]
}