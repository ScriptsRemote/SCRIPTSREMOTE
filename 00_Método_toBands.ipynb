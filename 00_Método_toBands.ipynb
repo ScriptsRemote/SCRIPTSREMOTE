{
  "nbformat": 4,
  "nbformat_minor": 0,
  "metadata": {
    "colab": {
      "name": "00 - Método_toBands",
      "provenance": [],
      "machine_shape": "hm",
      "collapsed_sections": []
    },
    "kernelspec": {
      "name": "python3",
      "display_name": "Python 3"
    },
    "language_info": {
      "name": "python"
    }
  },
  "cells": [
    {
      "cell_type": "markdown",
      "source": [
        "# ***Gerando um dataframe utilizando toBands***\n",
        "\n",
        "Neste exemplo vamos criar um dataframe e analisar uma série temporal de NDVI, utilizando o método toBands.\n",
        "\n",
        "1. Definir a área de estudo e a coleção de imagens\n",
        "2. Cálcular índices de vegetação e água\n",
        "3. Exportar dados \n",
        "4. Gerar Gráficos"
      ],
      "metadata": {
        "id": "tKrf-EXFaNyS"
      }
    },
    {
      "cell_type": "markdown",
      "source": [
        "# ***Instalação de Bibliotecas***"
      ],
      "metadata": {
        "id": "6-UCzRU6Bjou"
      }
    },
    {
      "cell_type": "code",
      "execution_count": null,
      "metadata": {
        "id": "ws9ddlCkuw2k"
      },
      "outputs": [],
      "source": [
        "!pip install earthengine-api\n",
        "!pip install geemap\n",
        "!pip install rasterio"
      ]
    },
    {
      "cell_type": "code",
      "source": [
        "import geemap    \n",
        "import ee, datetime    # Google Earth Engine\n",
        "\n",
        "import rasterio as rio\n",
        "from rasterio.plot import show\n",
        "from rasterio.plot import show_hist\n",
        "from rasterio import plot as rasterplot\n",
        "\n",
        "import pandas as pd\n",
        "import numpy as np\n",
        "\n",
        "from matplotlib import pyplot \n",
        "import seaborn as sns\n",
        "import matplotlib.pyplot as plt\n",
        "from matplotlib import cm"
      ],
      "metadata": {
        "id": "0ZUCXilvvD5F"
      },
      "execution_count": 15,
      "outputs": []
    },
    {
      "cell_type": "code",
      "source": [
        "ee.Authenticate()\n",
        "ee.Initialize()"
      ],
      "metadata": {
        "id": "L5xG1_qA_sqY"
      },
      "execution_count": null,
      "outputs": []
    },
    {
      "cell_type": "markdown",
      "source": [
        "# ***AREA DE ESTUDO***"
      ],
      "metadata": {
        "id": "Pks8Y61KbQLc"
      }
    },
    {
      "cell_type": "markdown",
      "source": [
        "Para acessa a área de estudo visualize o [Link.]('https://code.earthengine.google.com/0d6598513af2dfe9480f0ee15e1092af')"
      ],
      "metadata": {
        "id": "3LpnQG-qmjuH"
      }
    },
    {
      "cell_type": "code",
      "source": [
        "talhao =ee.Geometry.Polygon(\n",
        "        [[[-53.35307660925514, -29.64834442110997],\n",
        "          [-53.35307660925514, -29.659831172280285],\n",
        "          [-53.334708841921156, -29.659831172280285],\n",
        "          [-53.334708841921156, -29.64834442110997]]])"
      ],
      "metadata": {
        "id": "I9hwAtBgAjZA"
      },
      "execution_count": 4,
      "outputs": []
    },
    {
      "cell_type": "code",
      "source": [
        "#Definição da área de estudo \n",
        "ROI_MAP = geemap.Map(location=[-29.6407,-53.3347],zoom_start=10)\n",
        "ROI_MAP.add_basemap('HYBRID')\n",
        "\n",
        "##Adicionando a feature  = Converte para Image (desenha o limite)\n",
        "limite = ee.Image().paint(talhao, 0, 2)\n",
        "ROI_MAP.addLayer(limite,{'palette':'blue'}, 'ROI')\n",
        "\n",
        "ROI_MAP"
      ],
      "metadata": {
        "id": "uj3yLr4Parwg"
      },
      "execution_count": null,
      "outputs": []
    },
    {
      "cell_type": "markdown",
      "metadata": {
        "id": "1P3BbHgPfupc"
      },
      "source": [
        "# ***SELEÇÃO DE IMAGENS***"
      ]
    },
    {
      "cell_type": "code",
      "execution_count": 6,
      "metadata": {
        "id": "rj3Uho7EsXKQ"
      },
      "outputs": [],
      "source": [
        "##Função para o cálculo dos índices\n",
        "def indices(image):\n",
        "  ndvi =  image.normalizedDifference(['B8', 'B4']).rename('NDVI');# Rouse 1973\n",
        "  ndwi = image.normalizedDifference(['B3', 'B8']).rename ('NDWI'); ##Mc Feeters 1996\n",
        "  \n",
        "  return image.divide(10000).addBands([ndvi,ndwi])"
      ]
    },
    {
      "cell_type": "code",
      "execution_count": 7,
      "metadata": {
        "colab": {
          "base_uri": "https://localhost:8080/"
        },
        "id": "3Tb8BhZFpNsn",
        "outputId": "4804ab3b-b1ad-4bc2-e514-45f39381fe72"
      },
      "outputs": [
        {
          "output_type": "stream",
          "name": "stdout",
          "text": [
            "Nº total de imagens : 49\n"
          ]
        }
      ],
      "source": [
        "##Agora vamos obter um ee.Image de um ee.ImageCollection\n",
        "Sentinel2 = ee.ImageCollection('COPERNICUS/S2_SR')\\\n",
        "         .filterBounds(ee.Geometry.Point([-53.34363523352272, -29.654311728213607]))\\\n",
        "         .filterDate('2017-01-01', '2022-03-31')\\\n",
        "         .filter(ee.Filter.lt('CLOUDY_PIXEL_PERCENTAGE',1))\\\n",
        "         .map(indices)\\\n",
        "   \n",
        "\n",
        "print('Nº total de imagens :', Sentinel2.size().getInfo())"
      ]
    },
    {
      "cell_type": "code",
      "execution_count": 9,
      "metadata": {
        "id": "vYHhyaCdsthZ",
        "colab": {
          "base_uri": "https://localhost:8080/"
        },
        "outputId": "7285382d-169e-41c9-f338-8f0b3cd7f971"
      },
      "outputs": [
        {
          "output_type": "stream",
          "name": "stdout",
          "text": [
            "['B1', 'B2', 'B3', 'B4', 'B5', 'B6', 'B7', 'B8', 'B8A', 'B9', 'B11', 'B12', 'AOT', 'WVP', 'SCL', 'TCI_R', 'TCI_G', 'TCI_B', 'MSK_CLDPRB', 'MSK_SNWPRB', 'QA10', 'QA20', 'QA60', 'NDVI', 'NDWI']\n"
          ]
        }
      ],
      "source": [
        "# Nome das bandas disponíveis para nossa análise\n",
        "print(Sentinel2.first().bandNames().getInfo())"
      ]
    },
    {
      "cell_type": "markdown",
      "source": [
        "# ***EMPILHAR IMAGENS COMO BANDAS E BAIXAR A IMAGEM***\n",
        "\n",
        "1. Vamos utilizar a coleção de imagens com a seleção da banda de interesse, neste caso o NDVI, e posteriormente vamos utilizar o método .toBands.\n",
        "\n",
        "2. Ao utilizar o \"toBands\" empilhamos nossas imagens da coleção como bandas. Em resumo, teremos uma imagem com n bandas que correspondem a imagem1, imagem2, e imagem...n da nossa ImageCollection."
      ],
      "metadata": {
        "id": "UHbFsSV8azaP"
      }
    },
    {
      "cell_type": "code",
      "source": [
        "##Método toBands\n",
        "sentinel_tobands = Sentinel2.select(['NDVI']).toBands()\n",
        "sentinel_tobands.bandNames().getInfo()"
      ],
      "metadata": {
        "id": "pDkX39LnYd0W"
      },
      "execution_count": null,
      "outputs": []
    },
    {
      "cell_type": "code",
      "source": [
        "##Função para download\n",
        "download = geemap.ee_export_image_to_drive(sentinel_tobands,description='Sentinel_ToBands',\n",
        "                                          region=talhao, \n",
        "                                          folder='MASTERCLASS', \n",
        "                                          scale=30,\n",
        "                                          crs='EPSG:4674' , \n",
        "                                          max_pixels=1e13, \n",
        "                                          file_format='GeoTIFF') #Salvará as imagens automaticamente do Drive"
      ],
      "metadata": {
        "id": "gkYzEfkbBEqV",
        "colab": {
          "base_uri": "https://localhost:8080/"
        },
        "outputId": "98969937-1ff9-44a9-93e0-6a0a7e470831"
      },
      "execution_count": null,
      "outputs": [
        {
          "output_type": "stream",
          "name": "stdout",
          "text": [
            "Exporting Sentinel_ToBands ...\n"
          ]
        }
      ]
    },
    {
      "cell_type": "code",
      "source": [
        "##Vamos abrir nossa image com as bandas do índice\n",
        "img = rio.open('/content/drive/MyDrive/MASTERCLASS/Sentinel_ToBands.tif')"
      ],
      "metadata": {
        "id": "PFc1GJg7c0yF"
      },
      "execution_count": 18,
      "outputs": []
    },
    {
      "cell_type": "code",
      "source": [
        "#lendo como matriz\n",
        "img = img.read()\n",
        "img.shape"
      ],
      "metadata": {
        "id": "BAOVD-TQda2X"
      },
      "execution_count": null,
      "outputs": []
    },
    {
      "cell_type": "code",
      "source": [
        "#Transpose CxHxW para HxWxC\n",
        "img = img.transpose([1,2,0])\n",
        "img.shape"
      ],
      "metadata": {
        "id": "vE0CbGI0dMVY"
      },
      "execution_count": null,
      "outputs": []
    },
    {
      "cell_type": "code",
      "source": [
        "##seleciona ndvi da nossa lista\n",
        "ndvi = img[:,:,:49] "
      ],
      "metadata": {
        "id": "zygyOmX-bzqO"
      },
      "execution_count": 22,
      "outputs": []
    },
    {
      "cell_type": "code",
      "source": [
        "#Reprojetando nossa matriz\n",
        "ndvi2 = ndvi.reshape(ndvi.shape[0]*ndvi.shape[1],ndvi.shape[2])\n",
        "ndvi2.shape"
      ],
      "metadata": {
        "id": "rbOq8UjpcIhM"
      },
      "execution_count": null,
      "outputs": []
    },
    {
      "cell_type": "code",
      "source": [
        "#Reprojetando nossa matriz\n",
        "ndvi2=ndvi2.transpose()\n",
        "ndvi2.shape"
      ],
      "metadata": {
        "id": "KcH8oOljcIaW"
      },
      "execution_count": null,
      "outputs": []
    },
    {
      "cell_type": "code",
      "source": [
        "##Após reprojetar nossa imagem para uma matrix, vamos converter para um dataframe\n",
        "df = pd.DataFrame(ndvi2)"
      ],
      "metadata": {
        "id": "5MOpdb3fftzD"
      },
      "execution_count": 28,
      "outputs": []
    },
    {
      "cell_type": "code",
      "source": [
        "##Criando uma coluna de data e inserindo o período da nossas imagens\n",
        "df['data'] = pd.date_range(start='2018-12-29', end='2022-03-28', periods=49)"
      ],
      "metadata": {
        "id": "rpkt1jN3gKn3"
      },
      "execution_count": 29,
      "outputs": []
    },
    {
      "cell_type": "code",
      "source": [
        "df.head()"
      ],
      "metadata": {
        "colab": {
          "base_uri": "https://localhost:8080/",
          "height": 235
        },
        "id": "yX1LqGVGMf_m",
        "outputId": "d641f4cd-cec3-4bb1-9985-0364aa1709ba"
      },
      "execution_count": 30,
      "outputs": [
        {
          "output_type": "execute_result",
          "data": {
            "text/plain": [
              "          0         1         2         3         4         5         6  \\\n",
              "0  0.582459  0.796870  0.781484  0.812681  0.796411  0.788314  0.814041   \n",
              "1  0.816474  0.912670  0.909915  0.922489  0.921971  0.920062  0.924190   \n",
              "2  0.761468  0.914882  0.912642  0.915546  0.913728  0.916735  0.918540   \n",
              "3  0.620724  0.719147  0.694157  0.674309  0.679790  0.688299  0.700234   \n",
              "4  0.355447  0.366757  0.353811  0.381143  0.358289  0.346099  0.333795   \n",
              "\n",
              "          7         8         9  ...      3027      3028      3029      3030  \\\n",
              "0  0.811924  0.807882  0.803599  ...  0.265812  0.224660  0.240969  0.211669   \n",
              "1  0.927273  0.922301  0.920738  ...  0.912922  0.918024  0.886264  0.882875   \n",
              "2  0.914894  0.914216  0.916239  ...  0.930144  0.931598  0.893031  0.900743   \n",
              "3  0.689205  0.690074  0.678836  ...  0.843612  0.839590  0.832130  0.851852   \n",
              "4  0.322888  0.337926  0.347251  ...  0.197897  0.176290  0.209021  0.185564   \n",
              "\n",
              "       3031      3032      3033      3034      3035                data  \n",
              "0  0.240479  0.257399  0.257622  0.272303  0.299142 2018-12-29 00:00:00  \n",
              "1  0.749847  0.687611  0.620710  0.528511  0.733333 2019-01-22 16:30:00  \n",
              "2  0.813668  0.746438  0.668412  0.543781  0.819815 2019-02-16 09:00:00  \n",
              "3  0.820499  0.789075  0.718047  0.622463  0.810936 2019-03-13 01:30:00  \n",
              "4  0.222885  0.258938  0.308313  0.322204  0.201514 2019-04-06 18:00:00  \n",
              "\n",
              "[5 rows x 3037 columns]"
            ],
            "text/html": [
              "\n",
              "  <div id=\"df-524fc2a9-9c82-472d-b96f-84714ec204dd\">\n",
              "    <div class=\"colab-df-container\">\n",
              "      <div>\n",
              "<style scoped>\n",
              "    .dataframe tbody tr th:only-of-type {\n",
              "        vertical-align: middle;\n",
              "    }\n",
              "\n",
              "    .dataframe tbody tr th {\n",
              "        vertical-align: top;\n",
              "    }\n",
              "\n",
              "    .dataframe thead th {\n",
              "        text-align: right;\n",
              "    }\n",
              "</style>\n",
              "<table border=\"1\" class=\"dataframe\">\n",
              "  <thead>\n",
              "    <tr style=\"text-align: right;\">\n",
              "      <th></th>\n",
              "      <th>0</th>\n",
              "      <th>1</th>\n",
              "      <th>2</th>\n",
              "      <th>3</th>\n",
              "      <th>4</th>\n",
              "      <th>5</th>\n",
              "      <th>6</th>\n",
              "      <th>7</th>\n",
              "      <th>8</th>\n",
              "      <th>9</th>\n",
              "      <th>...</th>\n",
              "      <th>3027</th>\n",
              "      <th>3028</th>\n",
              "      <th>3029</th>\n",
              "      <th>3030</th>\n",
              "      <th>3031</th>\n",
              "      <th>3032</th>\n",
              "      <th>3033</th>\n",
              "      <th>3034</th>\n",
              "      <th>3035</th>\n",
              "      <th>data</th>\n",
              "    </tr>\n",
              "  </thead>\n",
              "  <tbody>\n",
              "    <tr>\n",
              "      <th>0</th>\n",
              "      <td>0.582459</td>\n",
              "      <td>0.796870</td>\n",
              "      <td>0.781484</td>\n",
              "      <td>0.812681</td>\n",
              "      <td>0.796411</td>\n",
              "      <td>0.788314</td>\n",
              "      <td>0.814041</td>\n",
              "      <td>0.811924</td>\n",
              "      <td>0.807882</td>\n",
              "      <td>0.803599</td>\n",
              "      <td>...</td>\n",
              "      <td>0.265812</td>\n",
              "      <td>0.224660</td>\n",
              "      <td>0.240969</td>\n",
              "      <td>0.211669</td>\n",
              "      <td>0.240479</td>\n",
              "      <td>0.257399</td>\n",
              "      <td>0.257622</td>\n",
              "      <td>0.272303</td>\n",
              "      <td>0.299142</td>\n",
              "      <td>2018-12-29 00:00:00</td>\n",
              "    </tr>\n",
              "    <tr>\n",
              "      <th>1</th>\n",
              "      <td>0.816474</td>\n",
              "      <td>0.912670</td>\n",
              "      <td>0.909915</td>\n",
              "      <td>0.922489</td>\n",
              "      <td>0.921971</td>\n",
              "      <td>0.920062</td>\n",
              "      <td>0.924190</td>\n",
              "      <td>0.927273</td>\n",
              "      <td>0.922301</td>\n",
              "      <td>0.920738</td>\n",
              "      <td>...</td>\n",
              "      <td>0.912922</td>\n",
              "      <td>0.918024</td>\n",
              "      <td>0.886264</td>\n",
              "      <td>0.882875</td>\n",
              "      <td>0.749847</td>\n",
              "      <td>0.687611</td>\n",
              "      <td>0.620710</td>\n",
              "      <td>0.528511</td>\n",
              "      <td>0.733333</td>\n",
              "      <td>2019-01-22 16:30:00</td>\n",
              "    </tr>\n",
              "    <tr>\n",
              "      <th>2</th>\n",
              "      <td>0.761468</td>\n",
              "      <td>0.914882</td>\n",
              "      <td>0.912642</td>\n",
              "      <td>0.915546</td>\n",
              "      <td>0.913728</td>\n",
              "      <td>0.916735</td>\n",
              "      <td>0.918540</td>\n",
              "      <td>0.914894</td>\n",
              "      <td>0.914216</td>\n",
              "      <td>0.916239</td>\n",
              "      <td>...</td>\n",
              "      <td>0.930144</td>\n",
              "      <td>0.931598</td>\n",
              "      <td>0.893031</td>\n",
              "      <td>0.900743</td>\n",
              "      <td>0.813668</td>\n",
              "      <td>0.746438</td>\n",
              "      <td>0.668412</td>\n",
              "      <td>0.543781</td>\n",
              "      <td>0.819815</td>\n",
              "      <td>2019-02-16 09:00:00</td>\n",
              "    </tr>\n",
              "    <tr>\n",
              "      <th>3</th>\n",
              "      <td>0.620724</td>\n",
              "      <td>0.719147</td>\n",
              "      <td>0.694157</td>\n",
              "      <td>0.674309</td>\n",
              "      <td>0.679790</td>\n",
              "      <td>0.688299</td>\n",
              "      <td>0.700234</td>\n",
              "      <td>0.689205</td>\n",
              "      <td>0.690074</td>\n",
              "      <td>0.678836</td>\n",
              "      <td>...</td>\n",
              "      <td>0.843612</td>\n",
              "      <td>0.839590</td>\n",
              "      <td>0.832130</td>\n",
              "      <td>0.851852</td>\n",
              "      <td>0.820499</td>\n",
              "      <td>0.789075</td>\n",
              "      <td>0.718047</td>\n",
              "      <td>0.622463</td>\n",
              "      <td>0.810936</td>\n",
              "      <td>2019-03-13 01:30:00</td>\n",
              "    </tr>\n",
              "    <tr>\n",
              "      <th>4</th>\n",
              "      <td>0.355447</td>\n",
              "      <td>0.366757</td>\n",
              "      <td>0.353811</td>\n",
              "      <td>0.381143</td>\n",
              "      <td>0.358289</td>\n",
              "      <td>0.346099</td>\n",
              "      <td>0.333795</td>\n",
              "      <td>0.322888</td>\n",
              "      <td>0.337926</td>\n",
              "      <td>0.347251</td>\n",
              "      <td>...</td>\n",
              "      <td>0.197897</td>\n",
              "      <td>0.176290</td>\n",
              "      <td>0.209021</td>\n",
              "      <td>0.185564</td>\n",
              "      <td>0.222885</td>\n",
              "      <td>0.258938</td>\n",
              "      <td>0.308313</td>\n",
              "      <td>0.322204</td>\n",
              "      <td>0.201514</td>\n",
              "      <td>2019-04-06 18:00:00</td>\n",
              "    </tr>\n",
              "  </tbody>\n",
              "</table>\n",
              "<p>5 rows × 3037 columns</p>\n",
              "</div>\n",
              "      <button class=\"colab-df-convert\" onclick=\"convertToInteractive('df-524fc2a9-9c82-472d-b96f-84714ec204dd')\"\n",
              "              title=\"Convert this dataframe to an interactive table.\"\n",
              "              style=\"display:none;\">\n",
              "        \n",
              "  <svg xmlns=\"http://www.w3.org/2000/svg\" height=\"24px\"viewBox=\"0 0 24 24\"\n",
              "       width=\"24px\">\n",
              "    <path d=\"M0 0h24v24H0V0z\" fill=\"none\"/>\n",
              "    <path d=\"M18.56 5.44l.94 2.06.94-2.06 2.06-.94-2.06-.94-.94-2.06-.94 2.06-2.06.94zm-11 1L8.5 8.5l.94-2.06 2.06-.94-2.06-.94L8.5 2.5l-.94 2.06-2.06.94zm10 10l.94 2.06.94-2.06 2.06-.94-2.06-.94-.94-2.06-.94 2.06-2.06.94z\"/><path d=\"M17.41 7.96l-1.37-1.37c-.4-.4-.92-.59-1.43-.59-.52 0-1.04.2-1.43.59L10.3 9.45l-7.72 7.72c-.78.78-.78 2.05 0 2.83L4 21.41c.39.39.9.59 1.41.59.51 0 1.02-.2 1.41-.59l7.78-7.78 2.81-2.81c.8-.78.8-2.07 0-2.86zM5.41 20L4 18.59l7.72-7.72 1.47 1.35L5.41 20z\"/>\n",
              "  </svg>\n",
              "      </button>\n",
              "      \n",
              "  <style>\n",
              "    .colab-df-container {\n",
              "      display:flex;\n",
              "      flex-wrap:wrap;\n",
              "      gap: 12px;\n",
              "    }\n",
              "\n",
              "    .colab-df-convert {\n",
              "      background-color: #E8F0FE;\n",
              "      border: none;\n",
              "      border-radius: 50%;\n",
              "      cursor: pointer;\n",
              "      display: none;\n",
              "      fill: #1967D2;\n",
              "      height: 32px;\n",
              "      padding: 0 0 0 0;\n",
              "      width: 32px;\n",
              "    }\n",
              "\n",
              "    .colab-df-convert:hover {\n",
              "      background-color: #E2EBFA;\n",
              "      box-shadow: 0px 1px 2px rgba(60, 64, 67, 0.3), 0px 1px 3px 1px rgba(60, 64, 67, 0.15);\n",
              "      fill: #174EA6;\n",
              "    }\n",
              "\n",
              "    [theme=dark] .colab-df-convert {\n",
              "      background-color: #3B4455;\n",
              "      fill: #D2E3FC;\n",
              "    }\n",
              "\n",
              "    [theme=dark] .colab-df-convert:hover {\n",
              "      background-color: #434B5C;\n",
              "      box-shadow: 0px 1px 3px 1px rgba(0, 0, 0, 0.15);\n",
              "      filter: drop-shadow(0px 1px 2px rgba(0, 0, 0, 0.3));\n",
              "      fill: #FFFFFF;\n",
              "    }\n",
              "  </style>\n",
              "\n",
              "      <script>\n",
              "        const buttonEl =\n",
              "          document.querySelector('#df-524fc2a9-9c82-472d-b96f-84714ec204dd button.colab-df-convert');\n",
              "        buttonEl.style.display =\n",
              "          google.colab.kernel.accessAllowed ? 'block' : 'none';\n",
              "\n",
              "        async function convertToInteractive(key) {\n",
              "          const element = document.querySelector('#df-524fc2a9-9c82-472d-b96f-84714ec204dd');\n",
              "          const dataTable =\n",
              "            await google.colab.kernel.invokeFunction('convertToInteractive',\n",
              "                                                     [key], {});\n",
              "          if (!dataTable) return;\n",
              "\n",
              "          const docLinkHtml = 'Like what you see? Visit the ' +\n",
              "            '<a target=\"_blank\" href=https://colab.research.google.com/notebooks/data_table.ipynb>data table notebook</a>'\n",
              "            + ' to learn more about interactive tables.';\n",
              "          element.innerHTML = '';\n",
              "          dataTable['output_type'] = 'display_data';\n",
              "          await google.colab.output.renderOutput(dataTable, element);\n",
              "          const docLink = document.createElement('div');\n",
              "          docLink.innerHTML = docLinkHtml;\n",
              "          element.appendChild(docLink);\n",
              "        }\n",
              "      </script>\n",
              "    </div>\n",
              "  </div>\n",
              "  "
            ]
          },
          "metadata": {},
          "execution_count": 30
        }
      ]
    },
    {
      "cell_type": "code",
      "source": [
        "##Defina o tamanho da Figura\n",
        "plt.figure(figsize=(12,5))\n",
        "#Defina os parâmetros do gráfico\n",
        "ax = sns.lineplot(data= df, x= 'data', y=49,label='NDVI') ##Dataframe da série histórica\n",
        "##Legendas e eixos\n",
        "plt.legend()\n",
        "plt.title('Série Histórica NDVI')\n",
        "plt.ylim((-1,1))\n",
        "plt.ylabel('NDVI', fontsize=11)\n",
        "plt.xlabel('Datas', fontsize=11)"
      ],
      "metadata": {
        "colab": {
          "base_uri": "https://localhost:8080/",
          "height": 368
        },
        "id": "NI3FBkvBu3JH",
        "outputId": "8c6709a9-baba-4b0f-a390-9515744f3651"
      },
      "execution_count": 69,
      "outputs": [
        {
          "output_type": "execute_result",
          "data": {
            "text/plain": [
              "Text(0.5, 0, 'Datas')"
            ]
          },
          "metadata": {},
          "execution_count": 69
        },
        {
          "output_type": "display_data",
          "data": {
            "text/plain": [
              "<Figure size 864x360 with 1 Axes>"
            ],
            "image/png": "[encoded data removed]"
          },
          "metadata": {
            "needs_background": "light"
          }
        }
      ]
    },
    {
      "cell_type": "code",
      "source": [
        "##Visualizando o comparativo entre as imagens \n",
        "fig, (axr, axg) = pyplot.subplots(1,2, figsize=(15,15))\n",
        "show(img[:,:,0], ax=axr, cmap='RdYlGn', title='Imagem 1')\n",
        "show(img[:,:,48], ax=axg, cmap='RdYlGn', title='Imagem 2')\n",
        "plt.show()"
      ],
      "metadata": {
        "colab": {
          "base_uri": "https://localhost:8080/",
          "height": 307
        },
        "id": "_ddqYtoTQyOX",
        "outputId": "a5b98085-1779-48a8-e99b-004f9fb25473"
      },
      "execution_count": 67,
      "outputs": [
        {
          "output_type": "display_data",
          "data": {
            "text/plain": [
              "<Figure size 1080x1080 with 2 Axes>"
            ],
            "image/png": "[encoded data removed]"
          },
          "metadata": {
            "needs_background": "light"
          }
        }
      ]
    }
  ]
}