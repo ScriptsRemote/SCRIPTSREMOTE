{
  "cells": [
    {
      "cell_type": "markdown",
      "metadata": {
        "id": "view-in-github",
        "colab_type": "text"
      },
      "source": [
        "<a href=\"https://colab.research.google.com/github/ScriptsRemote/SCRIPTSREMOTE/blob/main/00_HydroBr.ipynb\" target=\"_parent\"><img src=\"https://colab.research.google.com/assets/colab-badge.svg\" alt=\"Open In Colab\"/></a>"
      ]
    },
    {
      "cell_type": "markdown",
      "metadata": {
        "id": "M3af1W0qhCuO"
      },
      "source": [
        "## Utilizando o pacote HydroBr\n",
        "\n",
        "### Vamos baixar dados de uma estação da ANA utilizando Python?"
      ]
    },
    {
      "cell_type": "code",
      "execution_count": null,
      "metadata": {
        "id": "FAgiwBkKhCuR"
      },
      "outputs": [],
      "source": [
        "###Importando as Bibliotecas\n",
        "import hydrobr\n",
        "import pandas as pd\n",
        "\n",
        "from matplotlib import pyplot \n",
        "import seaborn as sns\n",
        "import matplotlib.pyplot as plt\n",
        "from plotly.offline import plot\n",
        "from PIL import Image"
      ]
    },
    {
      "cell_type": "code",
      "execution_count": null,
      "metadata": {
        "id": "3WYvIxiQhCuS",
        "outputId": "48f5d83f-5d6e-4b54-8372-97ba8a3b4ab0"
      },
      "outputs": [
        {
          "data": {
            "text/html": [
              "<div>\n",
              "<style scoped>\n",
              "    .dataframe tbody tr th:only-of-type {\n",
              "        vertical-align: middle;\n",
              "    }\n",
              "\n",
              "    .dataframe tbody tr th {\n",
              "        vertical-align: top;\n",
              "    }\n",
              "\n",
              "    .dataframe thead th {\n",
              "        text-align: right;\n",
              "    }\n",
              "</style>\n",
              "<table border=\"1\" class=\"dataframe\">\n",
              "  <thead>\n",
              "    <tr style=\"text-align: right;\">\n",
              "      <th></th>\n",
              "      <th>Name</th>\n",
              "      <th>Code</th>\n",
              "      <th>Type</th>\n",
              "      <th>SubBasin</th>\n",
              "      <th>City</th>\n",
              "      <th>State</th>\n",
              "      <th>Responsible</th>\n",
              "      <th>Latitude</th>\n",
              "      <th>Longitude</th>\n",
              "      <th>StartDate</th>\n",
              "      <th>EndDate</th>\n",
              "      <th>NYD</th>\n",
              "      <th>MD</th>\n",
              "      <th>N_YWOMD</th>\n",
              "      <th>YWMD</th>\n",
              "    </tr>\n",
              "  </thead>\n",
              "  <tbody>\n",
              "    <tr>\n",
              "      <th>0</th>\n",
              "      <td>SALINÓPOLIS</td>\n",
              "      <td>00047000</td>\n",
              "      <td>2</td>\n",
              "      <td>32</td>\n",
              "      <td>SALINÓPOLIS</td>\n",
              "      <td>PARÁ</td>\n",
              "      <td>INMET</td>\n",
              "      <td>-0.6500</td>\n",
              "      <td>-47.5500</td>\n",
              "      <td>1958/01/01</td>\n",
              "      <td>1964/12/31</td>\n",
              "      <td>7</td>\n",
              "      <td>25.0</td>\n",
              "      <td>0</td>\n",
              "      <td>100.0</td>\n",
              "    </tr>\n",
              "    <tr>\n",
              "      <th>1</th>\n",
              "      <td>SALINÓPOLIS</td>\n",
              "      <td>00047002</td>\n",
              "      <td>2</td>\n",
              "      <td>32</td>\n",
              "      <td>SALINÓPOLIS</td>\n",
              "      <td>PARÁ</td>\n",
              "      <td>ANA</td>\n",
              "      <td>-0.6231</td>\n",
              "      <td>-47.3536</td>\n",
              "      <td>1977/12/09</td>\n",
              "      <td>2019/08/31</td>\n",
              "      <td>43</td>\n",
              "      <td>3.5</td>\n",
              "      <td>35</td>\n",
              "      <td>18.6</td>\n",
              "    </tr>\n",
              "    <tr>\n",
              "      <th>2</th>\n",
              "      <td>CURUÇA</td>\n",
              "      <td>00047003</td>\n",
              "      <td>2</td>\n",
              "      <td>32</td>\n",
              "      <td>CURUÇA</td>\n",
              "      <td>PARÁ</td>\n",
              "      <td>ANA</td>\n",
              "      <td>-0.7375</td>\n",
              "      <td>-47.8536</td>\n",
              "      <td>1981/07/01</td>\n",
              "      <td>2019/07/31</td>\n",
              "      <td>39</td>\n",
              "      <td>2.4</td>\n",
              "      <td>29</td>\n",
              "      <td>25.6</td>\n",
              "    </tr>\n",
              "    <tr>\n",
              "      <th>3</th>\n",
              "      <td>PRIMAVERA</td>\n",
              "      <td>00047004</td>\n",
              "      <td>2</td>\n",
              "      <td>32</td>\n",
              "      <td>PRIMAVERA</td>\n",
              "      <td>PARÁ</td>\n",
              "      <td>ANA</td>\n",
              "      <td>-0.9294</td>\n",
              "      <td>-47.0994</td>\n",
              "      <td>1982/02/18</td>\n",
              "      <td>2019/08/31</td>\n",
              "      <td>38</td>\n",
              "      <td>0.0</td>\n",
              "      <td>35</td>\n",
              "      <td>7.9</td>\n",
              "    </tr>\n",
              "    <tr>\n",
              "      <th>4</th>\n",
              "      <td>MARUDA</td>\n",
              "      <td>00047005</td>\n",
              "      <td>2</td>\n",
              "      <td>32</td>\n",
              "      <td>MARAPANIM</td>\n",
              "      <td>PARÁ</td>\n",
              "      <td>ANA</td>\n",
              "      <td>-0.6336</td>\n",
              "      <td>-47.6583</td>\n",
              "      <td>1989/08/21</td>\n",
              "      <td>2019/07/31</td>\n",
              "      <td>31</td>\n",
              "      <td>5.0</td>\n",
              "      <td>20</td>\n",
              "      <td>35.5</td>\n",
              "    </tr>\n",
              "  </tbody>\n",
              "</table>\n",
              "</div>"
            ],
            "text/plain": [
              "          Name      Code  Type  SubBasin         City State Responsible  \\\n",
              "0  SALINÓPOLIS  00047000     2        32  SALINÓPOLIS  PARÁ       INMET   \n",
              "1  SALINÓPOLIS  00047002     2        32  SALINÓPOLIS  PARÁ         ANA   \n",
              "2       CURUÇA  00047003     2        32       CURUÇA  PARÁ         ANA   \n",
              "3    PRIMAVERA  00047004     2        32    PRIMAVERA  PARÁ         ANA   \n",
              "4       MARUDA  00047005     2        32    MARAPANIM  PARÁ         ANA   \n",
              "\n",
              "   Latitude  Longitude   StartDate     EndDate  NYD    MD  N_YWOMD   YWMD  \n",
              "0   -0.6500   -47.5500  1958/01/01  1964/12/31    7  25.0        0  100.0  \n",
              "1   -0.6231   -47.3536  1977/12/09  2019/08/31   43   3.5       35   18.6  \n",
              "2   -0.7375   -47.8536  1981/07/01  2019/07/31   39   2.4       29   25.6  \n",
              "3   -0.9294   -47.0994  1982/02/18  2019/08/31   38   0.0       35    7.9  \n",
              "4   -0.6336   -47.6583  1989/08/21  2019/07/31   31   5.0       20   35.5  "
            ]
          },
          "execution_count": 2,
          "metadata": {},
          "output_type": "execute_result"
        }
      ],
      "source": [
        "###Abrindo dados das estações - Nesta caso vamos trabalhar com dados de precipitação\n",
        "lista_estacaoes = hydrobr.get_data.ANA.list_prec_stations()\n",
        "lista_estacaoes.head()"
      ]
    },
    {
      "cell_type": "code",
      "execution_count": null,
      "metadata": {
        "id": "7BwYMq21hCuT",
        "outputId": "c53e6cd7-7cd6-4215-c7e5-a9c871552a9d"
      },
      "outputs": [
        {
          "data": {
            "text/html": [
              "<div>\n",
              "<style scoped>\n",
              "    .dataframe tbody tr th:only-of-type {\n",
              "        vertical-align: middle;\n",
              "    }\n",
              "\n",
              "    .dataframe tbody tr th {\n",
              "        vertical-align: top;\n",
              "    }\n",
              "\n",
              "    .dataframe thead th {\n",
              "        text-align: right;\n",
              "    }\n",
              "</style>\n",
              "<table border=\"1\" class=\"dataframe\">\n",
              "  <thead>\n",
              "    <tr style=\"text-align: right;\">\n",
              "      <th></th>\n",
              "      <th>Name</th>\n",
              "      <th>Code</th>\n",
              "      <th>Type</th>\n",
              "      <th>SubBasin</th>\n",
              "      <th>City</th>\n",
              "      <th>State</th>\n",
              "      <th>Responsible</th>\n",
              "      <th>Latitude</th>\n",
              "      <th>Longitude</th>\n",
              "      <th>StartDate</th>\n",
              "      <th>EndDate</th>\n",
              "      <th>NYD</th>\n",
              "      <th>MD</th>\n",
              "      <th>N_YWOMD</th>\n",
              "      <th>YWMD</th>\n",
              "    </tr>\n",
              "  </thead>\n",
              "  <tbody>\n",
              "    <tr>\n",
              "      <th>11693</th>\n",
              "      <td>PORTO ALEGRE</td>\n",
              "      <td>03051011</td>\n",
              "      <td>2</td>\n",
              "      <td>87</td>\n",
              "      <td>PORTO ALEGRE</td>\n",
              "      <td>RIO GRANDE DO SUL</td>\n",
              "      <td>INMET</td>\n",
              "      <td>-30.0536</td>\n",
              "      <td>-51.1733</td>\n",
              "      <td>1961/01/01</td>\n",
              "      <td>2019/06/30</td>\n",
              "      <td>59</td>\n",
              "      <td>2.1</td>\n",
              "      <td>52</td>\n",
              "      <td>11.9</td>\n",
              "    </tr>\n",
              "    <tr>\n",
              "      <th>11695</th>\n",
              "      <td>PORTO ALEGRE (STA TERESA-839)</td>\n",
              "      <td>03051015</td>\n",
              "      <td>2</td>\n",
              "      <td>87</td>\n",
              "      <td>PORTO ALEGRE</td>\n",
              "      <td>RIO GRANDE DO SUL</td>\n",
              "      <td>INMET</td>\n",
              "      <td>-30.0667</td>\n",
              "      <td>-51.2167</td>\n",
              "      <td>1966/11/01</td>\n",
              "      <td>1970/12/31</td>\n",
              "      <td>5</td>\n",
              "      <td>11.4</td>\n",
              "      <td>2</td>\n",
              "      <td>60.0</td>\n",
              "    </tr>\n",
              "    <tr>\n",
              "      <th>11704</th>\n",
              "      <td>PORTO ALEGRE - CPRM</td>\n",
              "      <td>03051043</td>\n",
              "      <td>2</td>\n",
              "      <td>87</td>\n",
              "      <td>PORTO ALEGRE</td>\n",
              "      <td>RIO GRANDE DO SUL</td>\n",
              "      <td>ANA</td>\n",
              "      <td>-30.0722</td>\n",
              "      <td>-51.2281</td>\n",
              "      <td>2011/11/03</td>\n",
              "      <td>2019/10/31</td>\n",
              "      <td>9</td>\n",
              "      <td>20.4</td>\n",
              "      <td>0</td>\n",
              "      <td>100.0</td>\n",
              "    </tr>\n",
              "    <tr>\n",
              "      <th>11705</th>\n",
              "      <td>ARROIO DO SALSO</td>\n",
              "      <td>03051045</td>\n",
              "      <td>2</td>\n",
              "      <td>87</td>\n",
              "      <td>PORTO ALEGRE</td>\n",
              "      <td>RIO GRANDE DO SUL</td>\n",
              "      <td>ANA</td>\n",
              "      <td>-30.1692</td>\n",
              "      <td>-51.0739</td>\n",
              "      <td>2013/12/24</td>\n",
              "      <td>2019/09/30</td>\n",
              "      <td>7</td>\n",
              "      <td>2.9</td>\n",
              "      <td>4</td>\n",
              "      <td>42.9</td>\n",
              "    </tr>\n",
              "  </tbody>\n",
              "</table>\n",
              "</div>"
            ],
            "text/plain": [
              "                                Name      Code  Type  SubBasin          City  \\\n",
              "11693                   PORTO ALEGRE  03051011     2        87  PORTO ALEGRE   \n",
              "11695  PORTO ALEGRE (STA TERESA-839)  03051015     2        87  PORTO ALEGRE   \n",
              "11704            PORTO ALEGRE - CPRM  03051043     2        87  PORTO ALEGRE   \n",
              "11705                ARROIO DO SALSO  03051045     2        87  PORTO ALEGRE   \n",
              "\n",
              "                   State Responsible  Latitude  Longitude   StartDate  \\\n",
              "11693  RIO GRANDE DO SUL       INMET  -30.0536   -51.1733  1961/01/01   \n",
              "11695  RIO GRANDE DO SUL       INMET  -30.0667   -51.2167  1966/11/01   \n",
              "11704  RIO GRANDE DO SUL         ANA  -30.0722   -51.2281  2011/11/03   \n",
              "11705  RIO GRANDE DO SUL         ANA  -30.1692   -51.0739  2013/12/24   \n",
              "\n",
              "          EndDate  NYD    MD  N_YWOMD   YWMD  \n",
              "11693  2019/06/30   59   2.1       52   11.9  \n",
              "11695  1970/12/31    5  11.4        2   60.0  \n",
              "11704  2019/10/31    9  20.4        0  100.0  \n",
              "11705  2019/09/30    7   2.9        4   42.9  "
            ]
          },
          "execution_count": 5,
          "metadata": {},
          "output_type": "execute_result"
        }
      ],
      "source": [
        "##Filtrando por Cidade\n",
        "lista_estacaoes_city = lista_estacaoes[lista_estacaoes.City=='PORTO ALEGRE']\n",
        "lista_estacaoes_city"
      ]
    },
    {
      "cell_type": "code",
      "execution_count": null,
      "metadata": {
        "id": "UZpFZkEDhCuT",
        "outputId": "58aeef36-8fce-4e6a-8252-16399614bfd0"
      },
      "outputs": [
        {
          "data": {
            "text/plain": [
              "['03051011', '03051015', '03051043', '03051045']"
            ]
          },
          "execution_count": 6,
          "metadata": {},
          "output_type": "execute_result"
        }
      ],
      "source": [
        "#Obtendo o código das primeiras cinco estações como uma lista\n",
        "codigo_estacao = lista_estacaoes_city.Code.to_list() \n",
        "codigo_estacao"
      ]
    },
    {
      "cell_type": "code",
      "execution_count": null,
      "metadata": {
        "id": "ETAhGN50hCuT",
        "outputId": "08cf3c6f-a522-4178-abb0-8ea2d3647415"
      },
      "outputs": [
        {
          "name": "stderr",
          "output_type": "stream",
          "text": [
            "100%|██████████| 4/4 [01:29<00:00, 22.33s/it]\n"
          ]
        }
      ],
      "source": [
        "#Extraindo dados das estações selecionadas\n",
        "data_stations = hydrobr.get_data.ANA.prec_data(codigo_estacao) "
      ]
    },
    {
      "cell_type": "code",
      "execution_count": null,
      "metadata": {
        "id": "XXXqt4yQhCuU",
        "outputId": "3db56ffb-6779-48de-d351-e1911f9bb1c9"
      },
      "outputs": [
        {
          "name": "stdout",
          "output_type": "stream",
          "text": [
            "<class 'pandas.core.frame.DataFrame'>\n",
            "DatetimeIndex: 22339 entries, 1961-01-01 to 2022-02-28\n",
            "Freq: D\n",
            "Data columns (total 4 columns):\n",
            " #   Column    Non-Null Count  Dtype  \n",
            "---  ------    --------------  -----  \n",
            " 0   03051011  20920 non-null  float64\n",
            " 1   03051015  1349 non-null   float64\n",
            " 2   03051043  2974 non-null   float64\n",
            " 3   03051045  2839 non-null   float64\n",
            "dtypes: float64(4)\n",
            "memory usage: 872.6 KB\n"
          ]
        }
      ],
      "source": [
        "##Obtendo informações sobre as estações \n",
        "data_stations.info()"
      ]
    },
    {
      "cell_type": "code",
      "execution_count": null,
      "metadata": {
        "id": "Jbqv-sm2hCuU",
        "outputId": "d2add229-714a-4e61-8657-39823512bf23"
      },
      "outputs": [
        {
          "data": {
            "text/plain": [
              "'gantt.html'"
            ]
          },
          "execution_count": 9,
          "metadata": {},
          "output_type": "execute_result"
        }
      ],
      "source": [
        "###Veridicando a distribuição dos dados no tempo\n",
        "###O diagrama de Gantt \n",
        "gantt_fig = hydrobr.Plot.gantt(data_stations)\n",
        "gantt_fig.update_layout(\n",
        "    autosize=False,\n",
        "    width=1000,\n",
        "    height=500,\n",
        "    xaxis_title = 'Year',\n",
        "    yaxis_title = 'Station Code',\n",
        "    font=dict(family=\"Courier New, monospace\", size=12))\n",
        "\n",
        "#Para plotar e salvar o gráfico de Gantt como html\n",
        "plot(gantt_fig,filename='gantt' + '.html')"
      ]
    },
    {
      "cell_type": "code",
      "execution_count": null,
      "metadata": {
        "id": "SVnjMkRyhCuV",
        "outputId": "62f3b7a8-c1e6-47cd-af6e-beb25b65e2e8"
      },
      "outputs": [
        {
          "data": {
            "image/png": "[encoded data removed]",
            "text/plain": [
              "<PIL.PngImagePlugin.PngImageFile image mode=RGBA size=1000x500>"
            ]
          },
          "execution_count": 10,
          "metadata": {},
          "output_type": "execute_result"
        }
      ],
      "source": [
        "# Visualizando nosso gráfico no código\n",
        "im = Image.open('C:/Users/Christhian Cunha/Downloads/newplot.png')\n",
        "im"
      ]
    },
    {
      "cell_type": "code",
      "execution_count": null,
      "metadata": {
        "id": "Uo4l3Xr8hCuV",
        "outputId": "19c0f1e5-7d12-468e-ec0a-2151394f2867"
      },
      "outputs": [
        {
          "data": {
            "text/html": [
              "<div>\n",
              "<style scoped>\n",
              "    .dataframe tbody tr th:only-of-type {\n",
              "        vertical-align: middle;\n",
              "    }\n",
              "\n",
              "    .dataframe tbody tr th {\n",
              "        vertical-align: top;\n",
              "    }\n",
              "\n",
              "    .dataframe thead th {\n",
              "        text-align: right;\n",
              "    }\n",
              "</style>\n",
              "<table border=\"1\" class=\"dataframe\">\n",
              "  <thead>\n",
              "    <tr style=\"text-align: right;\">\n",
              "      <th></th>\n",
              "      <th>index</th>\n",
              "      <th>03051011</th>\n",
              "      <th>03051015</th>\n",
              "      <th>03051043</th>\n",
              "      <th>03051045</th>\n",
              "    </tr>\n",
              "  </thead>\n",
              "  <tbody>\n",
              "    <tr>\n",
              "      <th>0</th>\n",
              "      <td>1961-01-01</td>\n",
              "      <td>0.4</td>\n",
              "      <td>NaN</td>\n",
              "      <td>NaN</td>\n",
              "      <td>NaN</td>\n",
              "    </tr>\n",
              "    <tr>\n",
              "      <th>1</th>\n",
              "      <td>1961-01-02</td>\n",
              "      <td>0.0</td>\n",
              "      <td>NaN</td>\n",
              "      <td>NaN</td>\n",
              "      <td>NaN</td>\n",
              "    </tr>\n",
              "    <tr>\n",
              "      <th>2</th>\n",
              "      <td>1961-01-03</td>\n",
              "      <td>0.2</td>\n",
              "      <td>NaN</td>\n",
              "      <td>NaN</td>\n",
              "      <td>NaN</td>\n",
              "    </tr>\n",
              "    <tr>\n",
              "      <th>3</th>\n",
              "      <td>1961-01-04</td>\n",
              "      <td>2.4</td>\n",
              "      <td>NaN</td>\n",
              "      <td>NaN</td>\n",
              "      <td>NaN</td>\n",
              "    </tr>\n",
              "    <tr>\n",
              "      <th>4</th>\n",
              "      <td>1961-01-05</td>\n",
              "      <td>0.0</td>\n",
              "      <td>NaN</td>\n",
              "      <td>NaN</td>\n",
              "      <td>NaN</td>\n",
              "    </tr>\n",
              "    <tr>\n",
              "      <th>...</th>\n",
              "      <td>...</td>\n",
              "      <td>...</td>\n",
              "      <td>...</td>\n",
              "      <td>...</td>\n",
              "      <td>...</td>\n",
              "    </tr>\n",
              "    <tr>\n",
              "      <th>22334</th>\n",
              "      <td>2022-02-24</td>\n",
              "      <td>NaN</td>\n",
              "      <td>NaN</td>\n",
              "      <td>0.0</td>\n",
              "      <td>NaN</td>\n",
              "    </tr>\n",
              "    <tr>\n",
              "      <th>22335</th>\n",
              "      <td>2022-02-25</td>\n",
              "      <td>NaN</td>\n",
              "      <td>NaN</td>\n",
              "      <td>0.3</td>\n",
              "      <td>NaN</td>\n",
              "    </tr>\n",
              "    <tr>\n",
              "      <th>22336</th>\n",
              "      <td>2022-02-26</td>\n",
              "      <td>NaN</td>\n",
              "      <td>NaN</td>\n",
              "      <td>NaN</td>\n",
              "      <td>NaN</td>\n",
              "    </tr>\n",
              "    <tr>\n",
              "      <th>22337</th>\n",
              "      <td>2022-02-27</td>\n",
              "      <td>NaN</td>\n",
              "      <td>NaN</td>\n",
              "      <td>NaN</td>\n",
              "      <td>NaN</td>\n",
              "    </tr>\n",
              "    <tr>\n",
              "      <th>22338</th>\n",
              "      <td>2022-02-28</td>\n",
              "      <td>NaN</td>\n",
              "      <td>NaN</td>\n",
              "      <td>NaN</td>\n",
              "      <td>NaN</td>\n",
              "    </tr>\n",
              "  </tbody>\n",
              "</table>\n",
              "<p>22339 rows × 5 columns</p>\n",
              "</div>"
            ],
            "text/plain": [
              "           index  03051011  03051015  03051043  03051045\n",
              "0     1961-01-01       0.4       NaN       NaN       NaN\n",
              "1     1961-01-02       0.0       NaN       NaN       NaN\n",
              "2     1961-01-03       0.2       NaN       NaN       NaN\n",
              "3     1961-01-04       2.4       NaN       NaN       NaN\n",
              "4     1961-01-05       0.0       NaN       NaN       NaN\n",
              "...          ...       ...       ...       ...       ...\n",
              "22334 2022-02-24       NaN       NaN       0.0       NaN\n",
              "22335 2022-02-25       NaN       NaN       0.3       NaN\n",
              "22336 2022-02-26       NaN       NaN       NaN       NaN\n",
              "22337 2022-02-27       NaN       NaN       NaN       NaN\n",
              "22338 2022-02-28       NaN       NaN       NaN       NaN\n",
              "\n",
              "[22339 rows x 5 columns]"
            ]
          },
          "execution_count": 11,
          "metadata": {},
          "output_type": "execute_result"
        }
      ],
      "source": [
        "##Analisando o DF\n",
        "data_stations_index = data_stations.reset_index()\n",
        "data_stations_index"
      ]
    },
    {
      "cell_type": "code",
      "execution_count": null,
      "metadata": {
        "id": "oIhvpaQuhCuV",
        "outputId": "0df7a103-72b2-4101-822d-2ace229c4d04"
      },
      "outputs": [
        {
          "data": {
            "text/html": [
              "<div>\n",
              "<style scoped>\n",
              "    .dataframe tbody tr th:only-of-type {\n",
              "        vertical-align: middle;\n",
              "    }\n",
              "\n",
              "    .dataframe tbody tr th {\n",
              "        vertical-align: top;\n",
              "    }\n",
              "\n",
              "    .dataframe thead th {\n",
              "        text-align: right;\n",
              "    }\n",
              "</style>\n",
              "<table border=\"1\" class=\"dataframe\">\n",
              "  <thead>\n",
              "    <tr style=\"text-align: right;\">\n",
              "      <th></th>\n",
              "      <th>index</th>\n",
              "      <th>Estacoes</th>\n",
              "      <th>Precipitacao</th>\n",
              "    </tr>\n",
              "  </thead>\n",
              "  <tbody>\n",
              "    <tr>\n",
              "      <th>0</th>\n",
              "      <td>1961-01-01</td>\n",
              "      <td>03051011</td>\n",
              "      <td>0.4</td>\n",
              "    </tr>\n",
              "    <tr>\n",
              "      <th>1</th>\n",
              "      <td>1961-01-02</td>\n",
              "      <td>03051011</td>\n",
              "      <td>0.0</td>\n",
              "    </tr>\n",
              "    <tr>\n",
              "      <th>2</th>\n",
              "      <td>1961-01-03</td>\n",
              "      <td>03051011</td>\n",
              "      <td>0.2</td>\n",
              "    </tr>\n",
              "    <tr>\n",
              "      <th>3</th>\n",
              "      <td>1961-01-04</td>\n",
              "      <td>03051011</td>\n",
              "      <td>2.4</td>\n",
              "    </tr>\n",
              "    <tr>\n",
              "      <th>4</th>\n",
              "      <td>1961-01-05</td>\n",
              "      <td>03051011</td>\n",
              "      <td>0.0</td>\n",
              "    </tr>\n",
              "    <tr>\n",
              "      <th>...</th>\n",
              "      <td>...</td>\n",
              "      <td>...</td>\n",
              "      <td>...</td>\n",
              "    </tr>\n",
              "    <tr>\n",
              "      <th>89351</th>\n",
              "      <td>2022-02-24</td>\n",
              "      <td>03051045</td>\n",
              "      <td>NaN</td>\n",
              "    </tr>\n",
              "    <tr>\n",
              "      <th>89352</th>\n",
              "      <td>2022-02-25</td>\n",
              "      <td>03051045</td>\n",
              "      <td>NaN</td>\n",
              "    </tr>\n",
              "    <tr>\n",
              "      <th>89353</th>\n",
              "      <td>2022-02-26</td>\n",
              "      <td>03051045</td>\n",
              "      <td>NaN</td>\n",
              "    </tr>\n",
              "    <tr>\n",
              "      <th>89354</th>\n",
              "      <td>2022-02-27</td>\n",
              "      <td>03051045</td>\n",
              "      <td>NaN</td>\n",
              "    </tr>\n",
              "    <tr>\n",
              "      <th>89355</th>\n",
              "      <td>2022-02-28</td>\n",
              "      <td>03051045</td>\n",
              "      <td>NaN</td>\n",
              "    </tr>\n",
              "  </tbody>\n",
              "</table>\n",
              "<p>89356 rows × 3 columns</p>\n",
              "</div>"
            ],
            "text/plain": [
              "           index  Estacoes  Precipitacao\n",
              "0     1961-01-01  03051011           0.4\n",
              "1     1961-01-02  03051011           0.0\n",
              "2     1961-01-03  03051011           0.2\n",
              "3     1961-01-04  03051011           2.4\n",
              "4     1961-01-05  03051011           0.0\n",
              "...          ...       ...           ...\n",
              "89351 2022-02-24  03051045           NaN\n",
              "89352 2022-02-25  03051045           NaN\n",
              "89353 2022-02-26  03051045           NaN\n",
              "89354 2022-02-27  03051045           NaN\n",
              "89355 2022-02-28  03051045           NaN\n",
              "\n",
              "[89356 rows x 3 columns]"
            ]
          },
          "execution_count": 12,
          "metadata": {},
          "output_type": "execute_result"
        }
      ],
      "source": [
        "##Preparando a base de dados para realizar o gráfico\n",
        "data_stations_melt = pd.melt(data_stations_index, id_vars='index',\n",
        "                        value_vars=codigo_estacao,   var_name=\"Estacoes\", value_name=\"Precipitacao\")\n",
        "\n",
        "data_stations_melt"
      ]
    },
    {
      "cell_type": "code",
      "execution_count": null,
      "metadata": {
        "id": "dcevBpAXhCuW",
        "outputId": "fe90a80f-5f82-4550-d8de-4ea8dd636a63"
      },
      "outputs": [
        {
          "data": {
            "text/plain": [
              "Text(0, 0.5, 'Precipitação mm/dia')"
            ]
          },
          "execution_count": 13,
          "metadata": {},
          "output_type": "execute_result"
        },
        {
          "data": {
            "image/png": "[encoded data removed]",
            "text/plain": [
              "<Figure size 1500x1000 with 1 Axes>"
            ]
          },
          "metadata": {
            "needs_background": "light"
          },
          "output_type": "display_data"
        }
      ],
      "source": [
        "##Plotando os dados como gráficos e observando as séries temporais\n",
        "##Gráfico série temporal\n",
        "fig, ax = plt.subplots(1,1,figsize=(15, 10), dpi= 100) \n",
        "from matplotlib import rc\n",
        "rc('mathtext', default='regular')\n",
        "plt.xticks(fontsize=10, rotation=85)\n",
        "plt.yticks(fontsize=10)\n",
        "\n",
        "sns.lineplot(x=\"index\", y=\"Precipitacao\", hue=\"Estacoes\", data=data_stations_melt)\\\n",
        "            .set(title='Precipitação estações pluviométricas de Porto Alegre mm/dia-¹')\n",
        "\n",
        "plt.xlabel('Data', fontsize=12)\n",
        "plt.ylabel('Precipitação mm/dia', fontsize=12)"
      ]
    },
    {
      "cell_type": "markdown",
      "metadata": {
        "id": "l7wuGlcahCuW"
      },
      "source": [
        "##### Referencias\n",
        "* ###### Adpatado de Carvalho (2020) - https://wallissoncarvalho.github.io/HydroBr/"
      ]
    }
  ],
  "metadata": {
    "kernelspec": {
      "display_name": "Python 3.10.5 64-bit",
      "language": "python",
      "name": "python3"
    },
    "language_info": {
      "codemirror_mode": {
        "name": "ipython",
        "version": 3
      },
      "file_extension": ".py",
      "mimetype": "text/x-python",
      "name": "python",
      "nbconvert_exporter": "python",
      "pygments_lexer": "ipython3",
      "version": "3.10.5"
    },
    "orig_nbformat": 4,
    "vscode": {
      "interpreter": {
        "hash": "e9430ab256101c7fbb6dd6080f2cd5a76d28d8bbb3aefe2b1e434fc594ec17be"
      }
    },
    "colab": {
      "provenance": [],
      "include_colab_link": true
    }
  },
  "nbformat": 4,
  "nbformat_minor": 0
}