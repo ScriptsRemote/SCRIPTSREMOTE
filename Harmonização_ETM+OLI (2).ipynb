{
  "nbformat": 4,
  "nbformat_minor": 0,
  "metadata": {
    "colab": {
      "name": "Harmonização ETM+OLI.ipynb",
      "provenance": [],
      "collapsed_sections": [
        "S5EVghqDt9ih"
      ]
    },
    "kernelspec": {
      "name": "python3",
      "display_name": "Python 3"
    },
    "language_info": {
      "name": "python"
    }
  },
  "cells": [
    {
      "cell_type": "markdown",
      "source": [
        "# ***Landsat ETM+ to OLI Harmonization***\n",
        "\n",
        "[Fonte]('https://openprairie.sdstate.edu/cgi/viewcontent.cgi?referer=https://scholar.google.com/&httpsredir=1&article=1035&context=gsce_pubs')\n",
        "\n",
        "[Referência]('https://developers.google.com/earth-engine/tutorials/community/landsat-etm-to-oli-harmonization')"
      ],
      "metadata": {
        "id": "nQgtKabwrhmJ"
      }
    },
    {
      "cell_type": "markdown",
      "source": [
        "Este tutorial trata da harmonização da refletância da superfície do Landsat ETM+ com a refletância da superfície do Landsat OLI. Ele fornece:\n",
        "\n",
        "* Uma função de transformação espectral\n",
        "* Funções para criar dados prontos para análise\n",
        "* Um exemplo de visualização de série temporal\n",
        "\n",
        "Destina-se a ser um guia de ponta a ponta para harmonizar e visualizar uma série temporal regional de mais de 35 anos de dados Landsat que podem ser imediatamente aplicadas à(s) sua(s) região(ões) de interesse.\n",
        "\n",
        "Observe que os coeficientes para transformar ETM+ em OLI também se aplicam a TM. Assim, neste tutorial, a referência ao ETM+ é sinônimo de TM."
      ],
      "metadata": {
        "id": "R8WOI6KUroYt"
      }
    },
    {
      "cell_type": "code",
      "source": [
        "!pip install geemap\n",
        "!pip install earthengine-api\n",
        "!pip install geopandas\n",
        "!pip install rasterio"
      ],
      "metadata": {
        "id": "-rGB_GMFuo6h"
      },
      "execution_count": null,
      "outputs": []
    },
    {
      "cell_type": "code",
      "source": [
        "import ee\n",
        "import geemap\n",
        "import rasterio as rio\n",
        "import pandas as pd\n",
        "import geopandas as gpd\n",
        "import matplotlib.pyplot as plt\n",
        "import numpy\n",
        "import altair as alt"
      ],
      "metadata": {
        "id": "iiOTd-ktvLV3"
      },
      "execution_count": 2,
      "outputs": []
    },
    {
      "cell_type": "code",
      "source": [
        "ee.Authenticate()\n",
        "ee.Initialize()"
      ],
      "metadata": {
        "id": "j-u7RVyEvkXS"
      },
      "execution_count": null,
      "outputs": []
    },
    {
      "cell_type": "markdown",
      "source": [
        "# ***Por que harmonização?***\n",
        "\n",
        "Roy et ai. (2016) demonstram que existem diferenças pequenas, mas potencialmente significativas, entre as características espectrais do Landsat ETM+ e OLI, dependendo da aplicação. As razões pelas quais você pode querer harmonizar conjuntos de dados incluem: produzir uma série temporal longa que abrange Landsat TM, ETM+ e OLI, gerar composições intra-anuais de data próxima para reduzir os efeitos de observações ausentes de gaps ETM+ SLC-off e mascaramento de nuvem/sombra , ou aumente a frequência de observação dentro de uma série temporal. Por favor, veja o manuscrito vinculado acima para mais informações."
      ],
      "metadata": {
        "id": "lEx29oOErxGY"
      }
    },
    {
      "cell_type": "markdown",
      "source": [
        "# ***Harmonização***\n",
        "\n",
        "A harmonização é conseguida através da transformação linear do espaço espectral ETM+ para o espaço espectral OLI de acordo com os coeficientes apresentados em Roy et al. (2016) Tabela 2 Coeficientes de regressão OLS. Os coeficientes relativos à banda são definidos no dicionário a seguir com as constantes de imagem de inclinação ( slopes) e interceptação ( ). itcpsObserve que os valores de interceptação y são multiplicados por 10.000 para corresponder à escala dos dados de refletância de superfície do USGS Landsat."
      ],
      "metadata": {
        "id": "S5EVghqDt9ih"
      }
    },
    {
      "cell_type": "code",
      "execution_count": 297,
      "metadata": {
        "id": "ezZDgoqvoi08"
      },
      "outputs": [],
      "source": [
        "coefficients = {\n",
        "  'itcps': ee.Image.constant([0.0003, 0.0088, 0.0061, 0.0412, 0.0254, 0.0172])\n",
        "             .multiply(10000),\n",
        "  'slopes': ee.Image.constant([0.8474, 0.8483, 0.9047, 0.8462, 0.8937, 0.9071])\n",
        "};"
      ]
    },
    {
      "cell_type": "code",
      "source": [
        "print(coefficients.get('slopes'))"
      ],
      "metadata": {
        "colab": {
          "base_uri": "https://localhost:8080/"
        },
        "id": "BRYvD7wz2LKr",
        "outputId": "ea0153b2-fbea-40b6-d200-aa218f2ea1ee"
      },
      "execution_count": 298,
      "outputs": [
        {
          "output_type": "stream",
          "name": "stdout",
          "text": [
            "ee.Image({\n",
            "  \"functionInvocationValue\": {\n",
            "    \"functionName\": \"Image.constant\",\n",
            "    \"arguments\": {\n",
            "      \"value\": {\n",
            "        \"constantValue\": [\n",
            "          0.8474,\n",
            "          0.8483,\n",
            "          0.9047,\n",
            "          0.8462,\n",
            "          0.8937,\n",
            "          0.9071\n",
            "        ]\n",
            "      }\n",
            "    }\n",
            "  }\n",
            "})\n"
          ]
        }
      ]
    },
    {
      "cell_type": "markdown",
      "source": [
        "Os nomes das bandas ETM+ e OLI para a mesma janela de resposta espectral não são iguais e precisam ser padronizados. As funções a seguir selecionam apenas as bandas de refletância e a pixel_qabanda de cada conjunto de dados e as renomeiam de acordo com a faixa de comprimento de onda que representam."
      ],
      "metadata": {
        "id": "4MWqzWE3ucSU"
      }
    },
    {
      "cell_type": "code",
      "source": [
        "##Função para obter e renomear bandas de interesse do OLI.\n",
        "def renameOli(img):\n",
        "  return img.select(['B2', 'B3', 'B4', 'B5', 'B6', 'B7', 'pixel_qa'],['Blue', 'Green', 'Red', 'NIR', 'SWIR1', 'SWIR2', 'pixel_qa'])\n",
        "  \n",
        "##Função para obter e renomear bandas de interesse do ETM+.\n",
        "def renameEtm(img):\n",
        "  return img.select(['B1', 'B2', 'B3', 'B4', 'B5', 'B7', 'pixel_qa'],['Blue', 'Green', 'Red', 'NIR', 'SWIR1', 'SWIR2', 'pixel_qa'])"
      ],
      "metadata": {
        "id": "H7qFORKZueXb"
      },
      "execution_count": 299,
      "outputs": []
    },
    {
      "cell_type": "markdown",
      "source": [
        "Por fim, defina a função de transformação, que aplica o modelo linear aos dados ETM+, lança o tipo de dados conforme Int16a consistência com OLI e reanexa a pixel_qabanda para uso posterior em mascaramento de nuvem e sombra."
      ],
      "metadata": {
        "id": "9aI3eKv4wTLS"
      }
    },
    {
      "cell_type": "code",
      "source": [
        "def etmToOli(img):\n",
        "  return img.select(['Blue', 'Green', 'Red', 'NIR', 'SWIR1', 'SWIR2'])\\\n",
        "  .multiply(coefficients.get('slopes'))\\\n",
        "  .add(coefficients.get('itcps'))\\\n",
        "  .round()\\\n",
        "  .toShort()\\\n",
        "  .addBands(img.select('pixel_qa'))"
      ],
      "metadata": {
        "id": "fbESBK9pwT0J"
      },
      "execution_count": 300,
      "outputs": []
    },
    {
      "cell_type": "markdown",
      "source": [
        "# ***Mascaramento de nuvens e sombras***\n",
        "\n",
        "Os dados prontos para análise devem ter nuvens e sombras de nuvens mascaradas. A função a seguir usa a banda CFmask ( Zhu et al., 2015 ) pixel_qaincluída em cada imagem de refletância de superfície do Landsat USGS para definir pixels identificados como nuvem e sombra de nuvem como nulos."
      ],
      "metadata": {
        "id": "GAxYh-iOwfwQ"
      }
    },
    {
      "cell_type": "code",
      "source": [
        "def fmask(img):\n",
        "  cloudShadowBitMask = 1 << 3;\n",
        "  cloudsBitMask = 1 << 5;\n",
        "  qa = img.select('pixel_qa');\n",
        "  mask = qa.bitwiseAnd(cloudShadowBitMask).eq(0).And(qa.bitwiseAnd(cloudsBitMask).eq(0));\n",
        "  return img.updateMask(mask)"
      ],
      "metadata": {
        "id": "BNhhJjxSwjMu"
      },
      "execution_count": 301,
      "outputs": []
    },
    {
      "cell_type": "markdown",
      "source": [
        "# ***Cálculo do índice espectral***\n",
        "\n",
        "O próximo aplicativo usa o índice espectral de taxa de queima normalizada (NBR) para representar a história espectral de um pixel florestal afetado por incêndios florestais. NBR é usado porque Cohen et al. (2018) descobriram que entre 13 índices/bandas espectrais, o NBR teve a maior relação sinal/ruído em relação à perturbação florestal (sinal) em todos os EUA. É calculado pela seguinte função."
      ],
      "metadata": {
        "id": "YC2XR8AKwy4Q"
      }
    },
    {
      "cell_type": "code",
      "source": [
        "def calcNbr(img):\n",
        "  return img.normalizedDifference(['NIR', 'SWIR2']).rename('NBR')"
      ],
      "metadata": {
        "id": "gwYDjbUJw3E2"
      },
      "execution_count": 302,
      "outputs": []
    },
    {
      "cell_type": "markdown",
      "source": [
        "# ***Combinar funções***\n",
        "\n",
        "Defina uma função wrapper para cada conjunto de dados que consolide todas as funções acima por conveniência ao aplicá-las às suas respectivas coleções de imagens."
      ],
      "metadata": {
        "id": "TP0kLBqXxCzD"
      }
    },
    {
      "cell_type": "code",
      "source": [
        "##Define a função para preparar as imagens OLI.\n",
        "def prepOli(img):\n",
        "  orig = img\n",
        "  img = renameOli(img)\n",
        "  img = fmask(img)\n",
        "  img = calcNbr(img)\n",
        "  return ee.Image(img.copyProperties(orig, orig.propertyNames()))\n",
        "\n",
        "##Define a função para preparar imagens ETM+.\n",
        "def prepEtm(img):\n",
        "  orig = img\n",
        "  img = renameEtm(img)\n",
        "  img = fmask(img)\n",
        "  img = etmToOli(img)\n",
        "  img = calcNbr(img)\n",
        "  return ee.Image(img.copyProperties(orig, orig.propertyNames()))"
      ],
      "metadata": {
        "id": "e6XLEmv8xGZi"
      },
      "execution_count": 303,
      "outputs": []
    },
    {
      "cell_type": "markdown",
      "source": [
        "# ***Exemplo de série temporal***"
      ],
      "metadata": {
        "id": "Cklmsyj5xc9U"
      }
    },
    {
      "cell_type": "code",
      "source": [
        "##Defina a área de interess\n",
        "aoi = ee.Geometry.Point([-121.70938, 45.43185]);"
      ],
      "metadata": {
        "id": "bWsvGL6sxgRk"
      },
      "execution_count": 304,
      "outputs": []
    },
    {
      "cell_type": "code",
      "source": [
        "##Defina as coleções que irá utilizar\n",
        "oliCol = ee.ImageCollection('LANDSAT/LC08/C01/T1_SR')\n",
        "etmCol = ee.ImageCollection('LANDSAT/LE07/C01/T1_SR')\n",
        "tmCol = ee.ImageCollection('LANDSAT/LT05/C01/T1_SR')"
      ],
      "metadata": {
        "id": "sZpydhICxlxl"
      },
      "execution_count": 305,
      "outputs": []
    },
    {
      "cell_type": "code",
      "source": [
        "print(oliCol.first().bandNames().getInfo())\n",
        "print(etmCol.first().bandNames().getInfo())\n",
        "print(tmCol.first().bandNames().getInfo())"
      ],
      "metadata": {
        "colab": {
          "base_uri": "https://localhost:8080/"
        },
        "id": "Xk7A0PFi6GeO",
        "outputId": "2bf2dfdd-99e8-44e3-9e09-f4d7f49a11f1"
      },
      "execution_count": 306,
      "outputs": [
        {
          "output_type": "stream",
          "name": "stdout",
          "text": [
            "['B1', 'B2', 'B3', 'B4', 'B5', 'B6', 'B7', 'B10', 'B11', 'sr_aerosol', 'pixel_qa', 'radsat_qa']\n",
            "['B1', 'B2', 'B3', 'B4', 'B5', 'B6', 'B7', 'sr_atmos_opacity', 'sr_cloud_qa', 'pixel_qa', 'radsat_qa']\n",
            "['B1', 'B2', 'B3', 'B4', 'B5', 'B6', 'B7', 'sr_atmos_opacity', 'sr_cloud_qa', 'pixel_qa', 'radsat_qa']\n"
          ]
        }
      ]
    },
    {
      "cell_type": "code",
      "source": [
        "##Definir um filtro de coleção de imagens\n",
        "##Defina um filtro para restringir as coleções de imagens pelo limite espacial \n",
        "##da área de interesse, estação de pico da fotossíntese e qualidade.\n",
        "colFilter = ee.Filter.And(\n",
        "    ee.Filter.bounds(aoi), ee.Filter.calendarRange(182, 244, 'day_of_year'),\n",
        "    ee.Filter.lt('CLOUD_COVER', 50), ee.Filter.lt('GEOMETRIC_RMSE_MODEL', 10),\n",
        "    ee.Filter.Or(\n",
        "        ee.Filter.eq('IMAGE_QUALITY', 9),\n",
        "        ee.Filter.eq('IMAGE_QUALITY_OLI', 9)));"
      ],
      "metadata": {
        "id": "FKSyb30zx0LL"
      },
      "execution_count": 307,
      "outputs": []
    },
    {
      "cell_type": "code",
      "source": [
        "##Preparar as coleções\n",
        "##Filtre as coleções e prepare-as para mesclagem.\n",
        "oliCol = oliCol.filter(colFilter).map(prepOli);\n",
        "etmCol = etmCol.filter(colFilter).map(prepEtm);\n",
        "tmCol = tmCol.filter(colFilter).map(prepEtm);\n",
        "\n",
        "##Mesclar as coleções.\n",
        "col = oliCol.merge(etmCol).merge(tmCol);\n",
        "print('Banda da coleção',col.first().bandNames().getInfo())\n",
        "\n",
        "\n"
      ],
      "metadata": {
        "colab": {
          "base_uri": "https://localhost:8080/"
        },
        "id": "3LHp63s7x--m",
        "outputId": "380860fc-5354-42a6-b439-4cc5826cd786"
      },
      "execution_count": 308,
      "outputs": [
        {
          "output_type": "stream",
          "name": "stdout",
          "text": [
            "Banda da coleção ['NBR']\n"
          ]
        }
      ]
    },
    {
      "cell_type": "code",
      "source": [
        "##Total de imagens Utilizadas\n",
        "print(col.size().getInfo())"
      ],
      "metadata": {
        "colab": {
          "base_uri": "https://localhost:8080/"
        },
        "id": "TYgthGwi8qmo",
        "outputId": "dd97c38c-dc34-4e88-d48f-423b24c448ba"
      },
      "execution_count": 309,
      "outputs": [
        {
          "output_type": "stream",
          "name": "stdout",
          "text": [
            "517\n"
          ]
        }
      ]
    },
    {
      "cell_type": "markdown",
      "source": [
        "# ***Faça um gráfico de série temporal exibindo todas as observações***\n",
        "\n",
        "A harmonia entre sensores pode ser avaliada qualitativamente traçando todas as observações como um gráfico de dispersão onde o sensor é discernido pela cor. \n",
        "\n",
        "Mapeie uma função de redução de região sobre a coleção de imagens que calcula a mediana de todos os pixels que cruzam a AOI e define o resultado como uma propriedade da imagem."
      ],
      "metadata": {
        "id": "-wcQlGHV9BzB"
      }
    },
    {
      "cell_type": "code",
      "source": [
        " def reduce(img):\n",
        "      obs = img.reduceRegion(**\n",
        "                             {'geometry': aoi, 'reducer': ee.Reducer.median(), 'scale': 30, 'maxPixels':1e13})\n",
        "      return img.set('NBR', obs.get('NBR'))"
      ],
      "metadata": {
        "id": "SjqHADUx-LOG"
      },
      "execution_count": 310,
      "outputs": []
    },
    {
      "cell_type": "code",
      "source": [
        "def date (image):\n",
        "    return image.copyProperties(image, [\"system:time_start\"]).set('date', image.date().format('YYYY-MM-dd')).set({'millis': image.date().millis()})\n"
      ],
      "metadata": {
        "id": "SfqJ30mCAeGc"
      },
      "execution_count": 311,
      "outputs": []
    },
    {
      "cell_type": "code",
      "source": [
        "allObs = col.map(date).map(reduce)\n",
        "print('Propriedades', allObs.first().propertyNames().getInfo())"
      ],
      "metadata": {
        "colab": {
          "base_uri": "https://localhost:8080/"
        },
        "id": "qt5Lb14Y89Q5",
        "outputId": "4e7532fa-02df-47e1-d64a-a2836f935e9b"
      },
      "execution_count": 312,
      "outputs": [
        {
          "output_type": "stream",
          "name": "stdout",
          "text": [
            "Propriedades ['date', 'SATELLITE', 'SOLAR_AZIMUTH_ANGLE', 'IMAGE_QUALITY_OLI', 'WRS_PATH', 'system:time_start', 'LANDSAT_ID', 'SENSING_TIME', 'ESPA_VERSION', 'SOLAR_ZENITH_ANGLE', 'system:version', 'WRS_ROW', 'GEOMETRIC_RMSE_MODEL_Y', 'CLOUD_COVER_LAND', 'LEVEL1_PRODUCTION_DATE', 'GEOMETRIC_RMSE_MODEL_X', 'system:asset_size', 'millis', 'GEOMETRIC_RMSE_MODEL', 'SR_APP_VERSION', 'PIXEL_QA_VERSION', 'system:index', 'NBR', 'IMAGE_QUALITY_TIRS', 'system:footprint', 'CLOUD_COVER', 'system:id', 'EARTH_SUN_DISTANCE', 'system:bands', 'system:band_names']\n"
          ]
        }
      ]
    },
    {
      "cell_type": "code",
      "source": [
        "##Estabelecendo a lista dos dados\n",
        "Lista = allObs.reduceColumns(ee.Reducer.toList(4), ['SATELLITE','date','millis','NBR']).values().get(0)"
      ],
      "metadata": {
        "id": "S_mP6dSk-gSp"
      },
      "execution_count": 313,
      "outputs": []
    },
    {
      "cell_type": "code",
      "source": [
        "##Convertendo para dataframe\n",
        "df_nbr = pd.DataFrame(Lista.getInfo(), columns=['SATELLITE','date','millis','NBR'])\n",
        "df_nbr"
      ],
      "metadata": {
        "colab": {
          "base_uri": "https://localhost:8080/",
          "height": 423
        },
        "id": "qavRKtgMBbBf",
        "outputId": "f6ff1621-7564-49e0-beaa-67fc51fe0367"
      },
      "execution_count": 314,
      "outputs": [
        {
          "output_type": "execute_result",
          "data": {
            "text/plain": [
              "     SATELLITE        date         millis       NBR\n",
              "0    LANDSAT_8  2013-07-12  1373655111580 -0.232396\n",
              "1    LANDSAT_8  2013-07-28  1375037511700 -0.212800\n",
              "2    LANDSAT_8  2013-08-13  1376419912430 -0.215797\n",
              "3    LANDSAT_8  2014-07-15  1405450184480 -0.157320\n",
              "4    LANDSAT_8  2014-07-31  1406832590110 -0.116492\n",
              "..         ...         ...            ...       ...\n",
              "382  LANDSAT_5  2009-07-24  1248461102410  0.633199\n",
              "383  LANDSAT_5  2010-07-27  1280256389530  0.599819\n",
              "384  LANDSAT_5  2010-08-12  1281638783120  0.633975\n",
              "385  LANDSAT_5  2011-07-30  1312051502040  0.601076\n",
              "386  LANDSAT_5  2011-08-15  1313433893480  0.630435\n",
              "\n",
              "[387 rows x 4 columns]"
            ],
            "text/html": [
              "\n",
              "  <div id=\"df-9e9e8dba-50bd-4b4c-a55d-5308dd67a18d\">\n",
              "    <div class=\"colab-df-container\">\n",
              "      <div>\n",
              "<style scoped>\n",
              "    .dataframe tbody tr th:only-of-type {\n",
              "        vertical-align: middle;\n",
              "    }\n",
              "\n",
              "    .dataframe tbody tr th {\n",
              "        vertical-align: top;\n",
              "    }\n",
              "\n",
              "    .dataframe thead th {\n",
              "        text-align: right;\n",
              "    }\n",
              "</style>\n",
              "<table border=\"1\" class=\"dataframe\">\n",
              "  <thead>\n",
              "    <tr style=\"text-align: right;\">\n",
              "      <th></th>\n",
              "      <th>SATELLITE</th>\n",
              "      <th>date</th>\n",
              "      <th>millis</th>\n",
              "      <th>NBR</th>\n",
              "    </tr>\n",
              "  </thead>\n",
              "  <tbody>\n",
              "    <tr>\n",
              "      <th>0</th>\n",
              "      <td>LANDSAT_8</td>\n",
              "      <td>2013-07-12</td>\n",
              "      <td>1373655111580</td>\n",
              "      <td>-0.232396</td>\n",
              "    </tr>\n",
              "    <tr>\n",
              "      <th>1</th>\n",
              "      <td>LANDSAT_8</td>\n",
              "      <td>2013-07-28</td>\n",
              "      <td>1375037511700</td>\n",
              "      <td>-0.212800</td>\n",
              "    </tr>\n",
              "    <tr>\n",
              "      <th>2</th>\n",
              "      <td>LANDSAT_8</td>\n",
              "      <td>2013-08-13</td>\n",
              "      <td>1376419912430</td>\n",
              "      <td>-0.215797</td>\n",
              "    </tr>\n",
              "    <tr>\n",
              "      <th>3</th>\n",
              "      <td>LANDSAT_8</td>\n",
              "      <td>2014-07-15</td>\n",
              "      <td>1405450184480</td>\n",
              "      <td>-0.157320</td>\n",
              "    </tr>\n",
              "    <tr>\n",
              "      <th>4</th>\n",
              "      <td>LANDSAT_8</td>\n",
              "      <td>2014-07-31</td>\n",
              "      <td>1406832590110</td>\n",
              "      <td>-0.116492</td>\n",
              "    </tr>\n",
              "    <tr>\n",
              "      <th>...</th>\n",
              "      <td>...</td>\n",
              "      <td>...</td>\n",
              "      <td>...</td>\n",
              "      <td>...</td>\n",
              "    </tr>\n",
              "    <tr>\n",
              "      <th>382</th>\n",
              "      <td>LANDSAT_5</td>\n",
              "      <td>2009-07-24</td>\n",
              "      <td>1248461102410</td>\n",
              "      <td>0.633199</td>\n",
              "    </tr>\n",
              "    <tr>\n",
              "      <th>383</th>\n",
              "      <td>LANDSAT_5</td>\n",
              "      <td>2010-07-27</td>\n",
              "      <td>1280256389530</td>\n",
              "      <td>0.599819</td>\n",
              "    </tr>\n",
              "    <tr>\n",
              "      <th>384</th>\n",
              "      <td>LANDSAT_5</td>\n",
              "      <td>2010-08-12</td>\n",
              "      <td>1281638783120</td>\n",
              "      <td>0.633975</td>\n",
              "    </tr>\n",
              "    <tr>\n",
              "      <th>385</th>\n",
              "      <td>LANDSAT_5</td>\n",
              "      <td>2011-07-30</td>\n",
              "      <td>1312051502040</td>\n",
              "      <td>0.601076</td>\n",
              "    </tr>\n",
              "    <tr>\n",
              "      <th>386</th>\n",
              "      <td>LANDSAT_5</td>\n",
              "      <td>2011-08-15</td>\n",
              "      <td>1313433893480</td>\n",
              "      <td>0.630435</td>\n",
              "    </tr>\n",
              "  </tbody>\n",
              "</table>\n",
              "<p>387 rows × 4 columns</p>\n",
              "</div>\n",
              "      <button class=\"colab-df-convert\" onclick=\"convertToInteractive('df-9e9e8dba-50bd-4b4c-a55d-5308dd67a18d')\"\n",
              "              title=\"Convert this dataframe to an interactive table.\"\n",
              "              style=\"display:none;\">\n",
              "        \n",
              "  <svg xmlns=\"http://www.w3.org/2000/svg\" height=\"24px\"viewBox=\"0 0 24 24\"\n",
              "       width=\"24px\">\n",
              "    <path d=\"M0 0h24v24H0V0z\" fill=\"none\"/>\n",
              "    <path d=\"M18.56 5.44l.94 2.06.94-2.06 2.06-.94-2.06-.94-.94-2.06-.94 2.06-2.06.94zm-11 1L8.5 8.5l.94-2.06 2.06-.94-2.06-.94L8.5 2.5l-.94 2.06-2.06.94zm10 10l.94 2.06.94-2.06 2.06-.94-2.06-.94-.94-2.06-.94 2.06-2.06.94z\"/><path d=\"M17.41 7.96l-1.37-1.37c-.4-.4-.92-.59-1.43-.59-.52 0-1.04.2-1.43.59L10.3 9.45l-7.72 7.72c-.78.78-.78 2.05 0 2.83L4 21.41c.39.39.9.59 1.41.59.51 0 1.02-.2 1.41-.59l7.78-7.78 2.81-2.81c.8-.78.8-2.07 0-2.86zM5.41 20L4 18.59l7.72-7.72 1.47 1.35L5.41 20z\"/>\n",
              "  </svg>\n",
              "      </button>\n",
              "      \n",
              "  <style>\n",
              "    .colab-df-container {\n",
              "      display:flex;\n",
              "      flex-wrap:wrap;\n",
              "      gap: 12px;\n",
              "    }\n",
              "\n",
              "    .colab-df-convert {\n",
              "      background-color: #E8F0FE;\n",
              "      border: none;\n",
              "      border-radius: 50%;\n",
              "      cursor: pointer;\n",
              "      display: none;\n",
              "      fill: #1967D2;\n",
              "      height: 32px;\n",
              "      padding: 0 0 0 0;\n",
              "      width: 32px;\n",
              "    }\n",
              "\n",
              "    .colab-df-convert:hover {\n",
              "      background-color: #E2EBFA;\n",
              "      box-shadow: 0px 1px 2px rgba(60, 64, 67, 0.3), 0px 1px 3px 1px rgba(60, 64, 67, 0.15);\n",
              "      fill: #174EA6;\n",
              "    }\n",
              "\n",
              "    [theme=dark] .colab-df-convert {\n",
              "      background-color: #3B4455;\n",
              "      fill: #D2E3FC;\n",
              "    }\n",
              "\n",
              "    [theme=dark] .colab-df-convert:hover {\n",
              "      background-color: #434B5C;\n",
              "      box-shadow: 0px 1px 3px 1px rgba(0, 0, 0, 0.15);\n",
              "      filter: drop-shadow(0px 1px 2px rgba(0, 0, 0, 0.3));\n",
              "      fill: #FFFFFF;\n",
              "    }\n",
              "  </style>\n",
              "\n",
              "      <script>\n",
              "        const buttonEl =\n",
              "          document.querySelector('#df-9e9e8dba-50bd-4b4c-a55d-5308dd67a18d button.colab-df-convert');\n",
              "        buttonEl.style.display =\n",
              "          google.colab.kernel.accessAllowed ? 'block' : 'none';\n",
              "\n",
              "        async function convertToInteractive(key) {\n",
              "          const element = document.querySelector('#df-9e9e8dba-50bd-4b4c-a55d-5308dd67a18d');\n",
              "          const dataTable =\n",
              "            await google.colab.kernel.invokeFunction('convertToInteractive',\n",
              "                                                     [key], {});\n",
              "          if (!dataTable) return;\n",
              "\n",
              "          const docLinkHtml = 'Like what you see? Visit the ' +\n",
              "            '<a target=\"_blank\" href=https://colab.research.google.com/notebooks/data_table.ipynb>data table notebook</a>'\n",
              "            + ' to learn more about interactive tables.';\n",
              "          element.innerHTML = '';\n",
              "          dataTable['output_type'] = 'display_data';\n",
              "          await google.colab.output.renderOutput(dataTable, element);\n",
              "          const docLink = document.createElement('div');\n",
              "          docLink.innerHTML = docLinkHtml;\n",
              "          element.appendChild(docLink);\n",
              "        }\n",
              "      </script>\n",
              "    </div>\n",
              "  </div>\n",
              "  "
            ]
          },
          "metadata": {},
          "execution_count": 314
        }
      ]
    },
    {
      "cell_type": "code",
      "source": [
        "# Função para adicionar variáveis de data ao DataFrame.\n",
        "def add_date_info(df):\n",
        "  df['Timestamp'] = pd.to_datetime(df['millis'], unit='ms')\n",
        "  df['Year'] = pd.DatetimeIndex(df['Timestamp']).year\n",
        "  df['Month'] = pd.DatetimeIndex(df['Timestamp']).month\n",
        "  df['Day'] = pd.DatetimeIndex(df['Timestamp']).day\n",
        "  df['DOY'] = pd.DatetimeIndex(df['Timestamp']).dayofyear\n",
        "  return df"
      ],
      "metadata": {
        "id": "txEhQlbyCG3v"
      },
      "execution_count": 315,
      "outputs": []
    },
    {
      "cell_type": "code",
      "source": [
        "##Adicionando as datas no Dataframe\n",
        "df_nbr = add_date_info(df_nbr)\n",
        "df_nbr.head(5)"
      ],
      "metadata": {
        "colab": {
          "base_uri": "https://localhost:8080/",
          "height": 206
        },
        "id": "th-icDrYCJ5P",
        "outputId": "0ea17070-cbda-4327-b92e-71f77c2f50f9"
      },
      "execution_count": 316,
      "outputs": [
        {
          "output_type": "execute_result",
          "data": {
            "text/plain": [
              "   SATELLITE        date         millis       NBR               Timestamp  \\\n",
              "0  LANDSAT_8  2013-07-12  1373655111580 -0.232396 2013-07-12 18:51:51.580   \n",
              "1  LANDSAT_8  2013-07-28  1375037511700 -0.212800 2013-07-28 18:51:51.700   \n",
              "2  LANDSAT_8  2013-08-13  1376419912430 -0.215797 2013-08-13 18:51:52.430   \n",
              "3  LANDSAT_8  2014-07-15  1405450184480 -0.157320 2014-07-15 18:49:44.480   \n",
              "4  LANDSAT_8  2014-07-31  1406832590110 -0.116492 2014-07-31 18:49:50.110   \n",
              "\n",
              "   Year  Month  Day  DOY  \n",
              "0  2013      7   12  193  \n",
              "1  2013      7   28  209  \n",
              "2  2013      8   13  225  \n",
              "3  2014      7   15  196  \n",
              "4  2014      7   31  212  "
            ],
            "text/html": [
              "\n",
              "  <div id=\"df-f04156bd-385e-414e-bedb-3e2f98db1766\">\n",
              "    <div class=\"colab-df-container\">\n",
              "      <div>\n",
              "<style scoped>\n",
              "    .dataframe tbody tr th:only-of-type {\n",
              "        vertical-align: middle;\n",
              "    }\n",
              "\n",
              "    .dataframe tbody tr th {\n",
              "        vertical-align: top;\n",
              "    }\n",
              "\n",
              "    .dataframe thead th {\n",
              "        text-align: right;\n",
              "    }\n",
              "</style>\n",
              "<table border=\"1\" class=\"dataframe\">\n",
              "  <thead>\n",
              "    <tr style=\"text-align: right;\">\n",
              "      <th></th>\n",
              "      <th>SATELLITE</th>\n",
              "      <th>date</th>\n",
              "      <th>millis</th>\n",
              "      <th>NBR</th>\n",
              "      <th>Timestamp</th>\n",
              "      <th>Year</th>\n",
              "      <th>Month</th>\n",
              "      <th>Day</th>\n",
              "      <th>DOY</th>\n",
              "    </tr>\n",
              "  </thead>\n",
              "  <tbody>\n",
              "    <tr>\n",
              "      <th>0</th>\n",
              "      <td>LANDSAT_8</td>\n",
              "      <td>2013-07-12</td>\n",
              "      <td>1373655111580</td>\n",
              "      <td>-0.232396</td>\n",
              "      <td>2013-07-12 18:51:51.580</td>\n",
              "      <td>2013</td>\n",
              "      <td>7</td>\n",
              "      <td>12</td>\n",
              "      <td>193</td>\n",
              "    </tr>\n",
              "    <tr>\n",
              "      <th>1</th>\n",
              "      <td>LANDSAT_8</td>\n",
              "      <td>2013-07-28</td>\n",
              "      <td>1375037511700</td>\n",
              "      <td>-0.212800</td>\n",
              "      <td>2013-07-28 18:51:51.700</td>\n",
              "      <td>2013</td>\n",
              "      <td>7</td>\n",
              "      <td>28</td>\n",
              "      <td>209</td>\n",
              "    </tr>\n",
              "    <tr>\n",
              "      <th>2</th>\n",
              "      <td>LANDSAT_8</td>\n",
              "      <td>2013-08-13</td>\n",
              "      <td>1376419912430</td>\n",
              "      <td>-0.215797</td>\n",
              "      <td>2013-08-13 18:51:52.430</td>\n",
              "      <td>2013</td>\n",
              "      <td>8</td>\n",
              "      <td>13</td>\n",
              "      <td>225</td>\n",
              "    </tr>\n",
              "    <tr>\n",
              "      <th>3</th>\n",
              "      <td>LANDSAT_8</td>\n",
              "      <td>2014-07-15</td>\n",
              "      <td>1405450184480</td>\n",
              "      <td>-0.157320</td>\n",
              "      <td>2014-07-15 18:49:44.480</td>\n",
              "      <td>2014</td>\n",
              "      <td>7</td>\n",
              "      <td>15</td>\n",
              "      <td>196</td>\n",
              "    </tr>\n",
              "    <tr>\n",
              "      <th>4</th>\n",
              "      <td>LANDSAT_8</td>\n",
              "      <td>2014-07-31</td>\n",
              "      <td>1406832590110</td>\n",
              "      <td>-0.116492</td>\n",
              "      <td>2014-07-31 18:49:50.110</td>\n",
              "      <td>2014</td>\n",
              "      <td>7</td>\n",
              "      <td>31</td>\n",
              "      <td>212</td>\n",
              "    </tr>\n",
              "  </tbody>\n",
              "</table>\n",
              "</div>\n",
              "      <button class=\"colab-df-convert\" onclick=\"convertToInteractive('df-f04156bd-385e-414e-bedb-3e2f98db1766')\"\n",
              "              title=\"Convert this dataframe to an interactive table.\"\n",
              "              style=\"display:none;\">\n",
              "        \n",
              "  <svg xmlns=\"http://www.w3.org/2000/svg\" height=\"24px\"viewBox=\"0 0 24 24\"\n",
              "       width=\"24px\">\n",
              "    <path d=\"M0 0h24v24H0V0z\" fill=\"none\"/>\n",
              "    <path d=\"M18.56 5.44l.94 2.06.94-2.06 2.06-.94-2.06-.94-.94-2.06-.94 2.06-2.06.94zm-11 1L8.5 8.5l.94-2.06 2.06-.94-2.06-.94L8.5 2.5l-.94 2.06-2.06.94zm10 10l.94 2.06.94-2.06 2.06-.94-2.06-.94-.94-2.06-.94 2.06-2.06.94z\"/><path d=\"M17.41 7.96l-1.37-1.37c-.4-.4-.92-.59-1.43-.59-.52 0-1.04.2-1.43.59L10.3 9.45l-7.72 7.72c-.78.78-.78 2.05 0 2.83L4 21.41c.39.39.9.59 1.41.59.51 0 1.02-.2 1.41-.59l7.78-7.78 2.81-2.81c.8-.78.8-2.07 0-2.86zM5.41 20L4 18.59l7.72-7.72 1.47 1.35L5.41 20z\"/>\n",
              "  </svg>\n",
              "      </button>\n",
              "      \n",
              "  <style>\n",
              "    .colab-df-container {\n",
              "      display:flex;\n",
              "      flex-wrap:wrap;\n",
              "      gap: 12px;\n",
              "    }\n",
              "\n",
              "    .colab-df-convert {\n",
              "      background-color: #E8F0FE;\n",
              "      border: none;\n",
              "      border-radius: 50%;\n",
              "      cursor: pointer;\n",
              "      display: none;\n",
              "      fill: #1967D2;\n",
              "      height: 32px;\n",
              "      padding: 0 0 0 0;\n",
              "      width: 32px;\n",
              "    }\n",
              "\n",
              "    .colab-df-convert:hover {\n",
              "      background-color: #E2EBFA;\n",
              "      box-shadow: 0px 1px 2px rgba(60, 64, 67, 0.3), 0px 1px 3px 1px rgba(60, 64, 67, 0.15);\n",
              "      fill: #174EA6;\n",
              "    }\n",
              "\n",
              "    [theme=dark] .colab-df-convert {\n",
              "      background-color: #3B4455;\n",
              "      fill: #D2E3FC;\n",
              "    }\n",
              "\n",
              "    [theme=dark] .colab-df-convert:hover {\n",
              "      background-color: #434B5C;\n",
              "      box-shadow: 0px 1px 3px 1px rgba(0, 0, 0, 0.15);\n",
              "      filter: drop-shadow(0px 1px 2px rgba(0, 0, 0, 0.3));\n",
              "      fill: #FFFFFF;\n",
              "    }\n",
              "  </style>\n",
              "\n",
              "      <script>\n",
              "        const buttonEl =\n",
              "          document.querySelector('#df-f04156bd-385e-414e-bedb-3e2f98db1766 button.colab-df-convert');\n",
              "        buttonEl.style.display =\n",
              "          google.colab.kernel.accessAllowed ? 'block' : 'none';\n",
              "\n",
              "        async function convertToInteractive(key) {\n",
              "          const element = document.querySelector('#df-f04156bd-385e-414e-bedb-3e2f98db1766');\n",
              "          const dataTable =\n",
              "            await google.colab.kernel.invokeFunction('convertToInteractive',\n",
              "                                                     [key], {});\n",
              "          if (!dataTable) return;\n",
              "\n",
              "          const docLinkHtml = 'Like what you see? Visit the ' +\n",
              "            '<a target=\"_blank\" href=https://colab.research.google.com/notebooks/data_table.ipynb>data table notebook</a>'\n",
              "            + ' to learn more about interactive tables.';\n",
              "          element.innerHTML = '';\n",
              "          dataTable['output_type'] = 'display_data';\n",
              "          await google.colab.output.renderOutput(dataTable, element);\n",
              "          const docLink = document.createElement('div');\n",
              "          docLink.innerHTML = docLinkHtml;\n",
              "          element.appendChild(docLink);\n",
              "        }\n",
              "      </script>\n",
              "    </div>\n",
              "  </div>\n",
              "  "
            ]
          },
          "metadata": {},
          "execution_count": 316
        }
      ]
    },
    {
      "cell_type": "code",
      "source": [
        "##Gráfico Série Temporal\n",
        "alt.Chart(df_nbr).mark_point().transform_fold(\n",
        "    ['LANDSAT_5', 'LANDSAT_7', 'LANDSAT_8']).encode(\n",
        "    x=alt.X('date', title='Data',axis=alt.Axis(labelAngle=-80)),\n",
        "    y=alt.Y('NBR:Q', title='NBR', scale=alt.Scale(domain=[-0.5, 1])),color=alt.Color('SATELLITE',\n",
        "                   scale=alt.Scale(\n",
        "            domain=['LANDSAT_5', 'LANDSAT_7', 'LANDSAT_8'],\n",
        "            range=['violet', 'green','blue']),title ='Legenda'),\n",
        "    \n",
        "    \n",
        "    tooltip=[\n",
        "             alt.Tooltip('date:N', title='Data'),\n",
        "             alt.Tooltip('NBR:Q'),\n",
        "             alt.Tooltip('SATELLITE')\n",
        "             \n",
        "             ]).properties(title='Série histórica NBR por ano',width=2000, height=600).interactive()"
      ],
      "metadata": {
        "colab": {
          "base_uri": "https://localhost:8080/",
          "height": 747
        },
        "id": "8cntHofgDHr2",
        "outputId": "d84c0b22-b765-478b-ac4e-155d4884bcbe"
      },
      "execution_count": 317,
      "outputs": [
        {
          "output_type": "execute_result",
          "data": {
            "text/html": [
              "\n",
              "<div id=\"altair-viz-7b5d22aace87400fb163bfb616e3def9\"></div>\n",
              "<script type=\"text/javascript\">\n",
              "  var VEGA_DEBUG = (typeof VEGA_DEBUG == \"undefined\") ? {} : VEGA_DEBUG;\n",
              "  (function(spec, embedOpt){\n",
              "    let outputDiv = document.currentScript.previousElementSibling;\n",
              "    if (outputDiv.id !== \"altair-viz-7b5d22aace87400fb163bfb616e3def9\") {\n",
              "      outputDiv = document.getElementById(\"altair-viz-7b5d22aace87400fb163bfb616e3def9\");\n",
              "    }\n",
              "    const paths = {\n",
              "      \"vega\": \"https://cdn.jsdelivr.net/npm//vega@5?noext\",\n",
              "      \"vega-lib\": \"https://cdn.jsdelivr.net/npm//vega-lib?noext\",\n",
              "      \"vega-lite\": \"https://cdn.jsdelivr.net/npm//vega-lite@4.17.0?noext\",\n",
              "      \"vega-embed\": \"https://cdn.jsdelivr.net/npm//vega-embed@6?noext\",\n",
              "    };\n",
              "\n",
              "    function maybeLoadScript(lib, version) {\n",
              "      var key = `${lib.replace(\"-\", \"\")}_version`;\n",
              "      return (VEGA_DEBUG[key] == version) ?\n",
              "        Promise.resolve(paths[lib]) :\n",
              "        new Promise(function(resolve, reject) {\n",
              "          var s = document.createElement('script');\n",
              "          document.getElementsByTagName(\"head\")[0].appendChild(s);\n",
              "          s.async = true;\n",
              "          s.onload = () => {\n",
              "            VEGA_DEBUG[key] = version;\n",
              "            return resolve(paths[lib]);\n",
              "          };\n",
              "          s.onerror = () => reject(`Error loading script: ${paths[lib]}`);\n",
              "          s.src = paths[lib];\n",
              "        });\n",
              "    }\n",
              "\n",
              "    function showError(err) {\n",
              "      outputDiv.innerHTML = `<div class=\"error\" style=\"color:red;\">${err}</div>`;\n",
              "      throw err;\n",
              "    }\n",
              "\n",
              "    function displayChart(vegaEmbed) {\n",
              "      vegaEmbed(outputDiv, spec, embedOpt)\n",
              "        .catch(err => showError(`Javascript Error: ${err.message}<br>This usually means there's a typo in your chart specification. See the javascript console for the full traceback.`));\n",
              "    }\n",
              "\n",
              "    if(typeof define === \"function\" && define.amd) {\n",
              "      requirejs.config({paths});\n",
              "      require([\"vega-embed\"], displayChart, err => showError(`Error loading script: ${err.message}`));\n",
              "    } else {\n",
              "      maybeLoadScript(\"vega\", \"5\")\n",
              "        .then(() => maybeLoadScript(\"vega-lite\", \"4.17.0\"))\n",
              "        .then(() => maybeLoadScript(\"vega-embed\", \"6\"))\n",
              "        .catch(showError)\n",
              "        .then(() => displayChart(vegaEmbed));\n",
              "    }\n",
              "  })({\"config\": {\"view\": {\"continuousWidth\": 400, \"continuousHeight\": 300}}, \"data\": {\"name\": \"data-3aceadd476727552ad1ac6b870b4f65b\"}, \"mark\": \"point\", \"encoding\": {\"color\": {\"field\": \"SATELLITE\", \"scale\": {\"domain\": [\"LANDSAT_5\", \"LANDSAT_7\", \"LANDSAT_8\"], \"range\": [\"violet\", \"green\", \"blue\"]}, \"title\": \"Legenda\", \"type\": \"nominal\"}, \"tooltip\": [{\"field\": \"date\", \"title\": \"Data\", \"type\": \"nominal\"}, {\"field\": \"NBR\", \"type\": \"quantitative\"}, {\"field\": \"SATELLITE\", \"type\": \"nominal\"}], \"x\": {\"axis\": {\"labelAngle\": -80}, \"field\": \"date\", \"title\": \"Data\", \"type\": \"nominal\"}, \"y\": {\"field\": \"NBR\", \"scale\": {\"domain\": [-0.5, 1]}, \"title\": \"NBR\", \"type\": \"quantitative\"}}, \"height\": 600, \"selection\": {\"selector020\": {\"type\": \"interval\", \"bind\": \"scales\", \"encodings\": [\"x\", \"y\"]}}, \"title\": \"S\\u00e9rie hist\\u00f3rica NBR por ano\", \"transform\": [{\"fold\": [\"LANDSAT_5\", \"LANDSAT_7\", \"LANDSAT_8\"]}], \"width\": 2000, \"$schema\": \"https://vega.github.io/schema/vega-lite/v4.17.0.json\", \"datasets\": {\"data-3aceadd476727552ad1ac6b870b4f65b\": [{\"SATELLITE\": \"LANDSAT_8\", \"date\": \"2013-07-12\", \"millis\": 1373655111580, \"NBR\": -0.23239649440918705, \"Timestamp\": \"2013-07-12T18:51:51.580000\", \"Year\": 2013, \"Month\": 7, \"Day\": 12, \"DOY\": 193}, {\"SATELLITE\": \"LANDSAT_8\", \"date\": \"2013-07-28\", \"millis\": 1375037511700, \"NBR\": -0.2128, \"Timestamp\": \"2013-07-28T18:51:51.700000\", \"Year\": 2013, \"Month\": 7, \"Day\": 28, \"DOY\": 209}, {\"SATELLITE\": \"LANDSAT_8\", \"date\": \"2013-08-13\", \"millis\": 1376419912430, \"NBR\": -0.2157968970380818, \"Timestamp\": \"2013-08-13T18:51:52.430000\", \"Year\": 2013, \"Month\": 8, \"Day\": 13, \"DOY\": 225}, {\"SATELLITE\": \"LANDSAT_8\", \"date\": \"2014-07-15\", \"millis\": 1405450184480, \"NBR\": -0.15732040012124887, \"Timestamp\": \"2014-07-15T18:49:44.480000\", \"Year\": 2014, \"Month\": 7, \"Day\": 15, \"DOY\": 196}, {\"SATELLITE\": \"LANDSAT_8\", \"date\": \"2014-07-31\", \"millis\": 1406832590110, \"NBR\": -0.11649214659685864, \"Timestamp\": \"2014-07-31T18:49:50.110000\", \"Year\": 2014, \"Month\": 7, \"Day\": 31, \"DOY\": 212}, {\"SATELLITE\": \"LANDSAT_8\", \"date\": \"2014-08-16\", \"millis\": 1408214996280, \"NBR\": -0.03288958496476116, \"Timestamp\": \"2014-08-16T18:49:56.280000\", \"Year\": 2014, \"Month\": 8, \"Day\": 16, \"DOY\": 228}, {\"SATELLITE\": \"LANDSAT_8\", \"date\": \"2014-09-01\", \"millis\": 1409597398470, \"NBR\": -0.0734094616639478, \"Timestamp\": \"2014-09-01T18:49:58.470000\", \"Year\": 2014, \"Month\": 9, \"Day\": 1, \"DOY\": 244}, {\"SATELLITE\": \"LANDSAT_8\", \"date\": \"2015-07-02\", \"millis\": 1435862956920, \"NBR\": -0.07337278106508875, \"Timestamp\": \"2015-07-02T18:49:16.920000\", \"Year\": 2015, \"Month\": 7, \"Day\": 2, \"DOY\": 183}, {\"SATELLITE\": \"LANDSAT_8\", \"date\": \"2015-07-18\", \"millis\": 1437245366390, \"NBR\": -0.0789156626506024, \"Timestamp\": \"2015-07-18T18:49:26.390000\", \"Year\": 2015, \"Month\": 7, \"Day\": 18, \"DOY\": 199}, {\"SATELLITE\": \"LANDSAT_8\", \"date\": \"2015-08-19\", \"millis\": 1440010177031, \"NBR\": -0.08786049631120053, \"Timestamp\": \"2015-08-19T18:49:37.031000\", \"Year\": 2015, \"Month\": 8, \"Day\": 19, \"DOY\": 231}, {\"SATELLITE\": \"LANDSAT_8\", \"date\": \"2016-07-04\", \"millis\": 1467658184880, \"NBR\": 0.0024543223343332426, \"Timestamp\": \"2016-07-04T18:49:44.880000\", \"Year\": 2016, \"Month\": 7, \"Day\": 4, \"DOY\": 186}, {\"SATELLITE\": \"LANDSAT_8\", \"date\": \"2016-08-05\", \"millis\": 1470422993830, \"NBR\": 0.014786894752102058, \"Timestamp\": \"2016-08-05T18:49:53.830000\", \"Year\": 2016, \"Month\": 8, \"Day\": 5, \"DOY\": 218}, {\"SATELLITE\": \"LANDSAT_8\", \"date\": \"2016-08-21\", \"millis\": 1471805399300, \"NBR\": -0.01238390092879257, \"Timestamp\": \"2016-08-21T18:49:59.300000\", \"Year\": 2016, \"Month\": 8, \"Day\": 21, \"DOY\": 234}, {\"SATELLITE\": \"LANDSAT_8\", \"date\": \"2017-07-07\", \"millis\": 1499453380040, \"NBR\": -0.008914525432616675, \"Timestamp\": \"2017-07-07T18:49:40.040000\", \"Year\": 2017, \"Month\": 7, \"Day\": 7, \"DOY\": 188}, {\"SATELLITE\": \"LANDSAT_8\", \"date\": \"2017-07-23\", \"millis\": 1500835786200, \"NBR\": 0.05200108902804247, \"Timestamp\": \"2017-07-23T18:49:46.200000\", \"Year\": 2017, \"Month\": 7, \"Day\": 23, \"DOY\": 204}, {\"SATELLITE\": \"LANDSAT_8\", \"date\": \"2017-08-08\", \"millis\": 1502218193010, \"NBR\": 0.042375324300951284, \"Timestamp\": \"2017-08-08T18:49:53.010000\", \"Year\": 2017, \"Month\": 8, \"Day\": 8, \"DOY\": 220}, {\"SATELLITE\": \"LANDSAT_8\", \"date\": \"2018-07-10\", \"millis\": 1531248540320, \"NBR\": 0.06858846918489066, \"Timestamp\": \"2018-07-10T18:49:00.320000\", \"Year\": 2018, \"Month\": 7, \"Day\": 10, \"DOY\": 191}, {\"SATELLITE\": \"LANDSAT_8\", \"date\": \"2018-07-26\", \"millis\": 1532630946540, \"NBR\": 0.02801336417373426, \"Timestamp\": \"2018-07-26T18:49:06.540000\", \"Year\": 2018, \"Month\": 7, \"Day\": 26, \"DOY\": 207}, {\"SATELLITE\": \"LANDSAT_8\", \"date\": \"2019-07-29\", \"millis\": 1564426194398, \"NBR\": 0.05415162454873646, \"Timestamp\": \"2019-07-29T18:49:54.398000\", \"Year\": 2019, \"Month\": 7, \"Day\": 29, \"DOY\": 210}, {\"SATELLITE\": \"LANDSAT_8\", \"date\": \"2019-08-14\", \"millis\": 1565808600151, \"NBR\": 0.06922660897782586, \"Timestamp\": \"2019-08-14T18:50:00.151000\", \"Year\": 2019, \"Month\": 8, \"Day\": 14, \"DOY\": 226}, {\"SATELLITE\": \"LANDSAT_8\", \"date\": \"2019-08-30\", \"millis\": 1567191003947, \"NBR\": 0.11025716819391072, \"Timestamp\": \"2019-08-30T18:50:03.947000\", \"Year\": 2019, \"Month\": 8, \"Day\": 30, \"DOY\": 242}, {\"SATELLITE\": \"LANDSAT_8\", \"date\": \"2020-07-15\", \"millis\": 1594838984703, \"NBR\": 0.04822834645669291, \"Timestamp\": \"2020-07-15T18:49:44.703000\", \"Year\": 2020, \"Month\": 7, \"Day\": 15, \"DOY\": 197}, {\"SATELLITE\": \"LANDSAT_8\", \"date\": \"2020-07-31\", \"millis\": 1596221389013, \"NBR\": 0.07435508345978756, \"Timestamp\": \"2020-07-31T18:49:49.013000\", \"Year\": 2020, \"Month\": 7, \"Day\": 31, \"DOY\": 213}, {\"SATELLITE\": \"LANDSAT_8\", \"date\": \"2020-08-16\", \"millis\": 1597603793721, \"NBR\": 0.12594670406732117, \"Timestamp\": \"2020-08-16T18:49:53.721000\", \"Year\": 2020, \"Month\": 8, \"Day\": 16, \"DOY\": 229}, {\"SATELLITE\": \"LANDSAT_8\", \"date\": \"2021-07-02\", \"millis\": 1625251786157, \"NBR\": 0.05579773321708806, \"Timestamp\": \"2021-07-02T18:49:46.157000\", \"Year\": 2021, \"Month\": 7, \"Day\": 2, \"DOY\": 183}, {\"SATELLITE\": \"LANDSAT_8\", \"date\": \"2021-07-18\", \"millis\": 1626634188567, \"NBR\": 0.08878718535469107, \"Timestamp\": \"2021-07-18T18:49:48.567000\", \"Year\": 2021, \"Month\": 7, \"Day\": 18, \"DOY\": 199}, {\"SATELLITE\": \"LANDSAT_8\", \"date\": \"2021-08-03\", \"millis\": 1628016596756, \"NBR\": 0.09930139720558882, \"Timestamp\": \"2021-08-03T18:49:56.756000\", \"Year\": 2021, \"Month\": 8, \"Day\": 3, \"DOY\": 215}, {\"SATELLITE\": \"LANDSAT_8\", \"date\": \"2021-08-19\", \"millis\": 1629399002251, \"NBR\": 0.12377111167128813, \"Timestamp\": \"2021-08-19T18:50:02.251000\", \"Year\": 2021, \"Month\": 8, \"Day\": 19, \"DOY\": 231}, {\"SATELLITE\": \"LANDSAT_8\", \"date\": \"2013-07-12\", \"millis\": 1373655135460, \"NBR\": -0.23875224955008997, \"Timestamp\": \"2013-07-12T18:52:15.460000\", \"Year\": 2013, \"Month\": 7, \"Day\": 12, \"DOY\": 193}, {\"SATELLITE\": \"LANDSAT_8\", \"date\": \"2013-07-28\", \"millis\": 1375037535580, \"NBR\": -0.21547314578005114, \"Timestamp\": \"2013-07-28T18:52:15.580000\", \"Year\": 2013, \"Month\": 7, \"Day\": 28, \"DOY\": 209}, {\"SATELLITE\": \"LANDSAT_8\", \"date\": \"2013-08-13\", \"millis\": 1376419936320, \"NBR\": -0.22542134831460675, \"Timestamp\": \"2013-08-13T18:52:16.320000\", \"Year\": 2013, \"Month\": 8, \"Day\": 13, \"DOY\": 225}, {\"SATELLITE\": \"LANDSAT_8\", \"date\": \"2014-07-15\", \"millis\": 1405450208370, \"NBR\": -0.1606060606060606, \"Timestamp\": \"2014-07-15T18:50:08.370000\", \"Year\": 2014, \"Month\": 7, \"Day\": 15, \"DOY\": 196}, {\"SATELLITE\": \"LANDSAT_8\", \"date\": \"2014-07-31\", \"millis\": 1406832613990, \"NBR\": -0.12495942875689711, \"Timestamp\": \"2014-07-31T18:50:13.990000\", \"Year\": 2014, \"Month\": 7, \"Day\": 31, \"DOY\": 212}, {\"SATELLITE\": \"LANDSAT_8\", \"date\": \"2014-08-16\", \"millis\": 1408215020170, \"NBR\": -0.03381267003497863, \"Timestamp\": \"2014-08-16T18:50:20.170000\", \"Year\": 2014, \"Month\": 8, \"Day\": 16, \"DOY\": 228}, {\"SATELLITE\": \"LANDSAT_8\", \"date\": \"2014-09-01\", \"millis\": 1409597422360, \"NBR\": -0.07848718991459944, \"Timestamp\": \"2014-09-01T18:50:22.360000\", \"Year\": 2014, \"Month\": 9, \"Day\": 1, \"DOY\": 244}, {\"SATELLITE\": \"LANDSAT_8\", \"date\": \"2015-07-02\", \"millis\": 1435862980810, \"NBR\": -0.07832744405182568, \"Timestamp\": \"2015-07-02T18:49:40.810000\", \"Year\": 2015, \"Month\": 7, \"Day\": 2, \"DOY\": 183}, {\"SATELLITE\": \"LANDSAT_8\", \"date\": \"2015-07-18\", \"millis\": 1437245390280, \"NBR\": -0.08072289156626505, \"Timestamp\": \"2015-07-18T18:49:50.280000\", \"Year\": 2015, \"Month\": 7, \"Day\": 18, \"DOY\": 199}, {\"SATELLITE\": \"LANDSAT_8\", \"date\": \"2015-08-19\", \"millis\": 1440010200918, \"NBR\": -0.08847184986595175, \"Timestamp\": \"2015-08-19T18:50:00.918000\", \"Year\": 2015, \"Month\": 8, \"Day\": 19, \"DOY\": 231}, {\"SATELLITE\": \"LANDSAT_8\", \"date\": \"2016-07-04\", \"millis\": 1467658208770, \"NBR\": -0.0035393411380343046, \"Timestamp\": \"2016-07-04T18:50:08.770000\", \"Year\": 2016, \"Month\": 7, \"Day\": 4, \"DOY\": 186}, {\"SATELLITE\": \"LANDSAT_8\", \"date\": \"2016-08-05\", \"millis\": 1470423017710, \"NBR\": 0.012159814707585408, \"Timestamp\": \"2016-08-05T18:50:17.710000\", \"Year\": 2016, \"Month\": 8, \"Day\": 5, \"DOY\": 218}, {\"SATELLITE\": \"LANDSAT_8\", \"date\": \"2016-08-21\", \"millis\": 1471805423190, \"NBR\": -0.014833127317676144, \"Timestamp\": \"2016-08-21T18:50:23.190000\", \"Year\": 2016, \"Month\": 8, \"Day\": 21, \"DOY\": 234}, {\"SATELLITE\": \"LANDSAT_8\", \"date\": \"2017-07-07\", \"millis\": 1499453403920, \"NBR\": -0.011764705882352941, \"Timestamp\": \"2017-07-07T18:50:03.920000\", \"Year\": 2017, \"Month\": 7, \"Day\": 7, \"DOY\": 188}, {\"SATELLITE\": \"LANDSAT_8\", \"date\": \"2017-07-23\", \"millis\": 1500835810100, \"NBR\": 0.04730831973898858, \"Timestamp\": \"2017-07-23T18:50:10.100000\", \"Year\": 2017, \"Month\": 7, \"Day\": 23, \"DOY\": 204}, {\"SATELLITE\": \"LANDSAT_8\", \"date\": \"2017-08-08\", \"millis\": 1502218216900, \"NBR\": 0.040046096225871505, \"Timestamp\": \"2017-08-08T18:50:16.900000\", \"Year\": 2017, \"Month\": 8, \"Day\": 8, \"DOY\": 220}, {\"SATELLITE\": \"LANDSAT_8\", \"date\": \"2018-07-10\", \"millis\": 1531248564210, \"NBR\": 0.06683168316831684, \"Timestamp\": \"2018-07-10T18:49:24.210000\", \"Year\": 2018, \"Month\": 7, \"Day\": 10, \"DOY\": 191}, {\"SATELLITE\": \"LANDSAT_8\", \"date\": \"2018-07-26\", \"millis\": 1532630970430, \"NBR\": 0.02701312065860561, \"Timestamp\": \"2018-07-26T18:49:30.430000\", \"Year\": 2018, \"Month\": 7, \"Day\": 26, \"DOY\": 207}, {\"SATELLITE\": \"LANDSAT_8\", \"date\": \"2019-07-29\", \"millis\": 1564426218289, \"NBR\": 0.053497942386831275, \"Timestamp\": \"2019-07-29T18:50:18.289000\", \"Year\": 2019, \"Month\": 7, \"Day\": 29, \"DOY\": 210}, {\"SATELLITE\": \"LANDSAT_8\", \"date\": \"2019-08-14\", \"millis\": 1565808624038, \"NBR\": 0.06796642296236122, \"Timestamp\": \"2019-08-14T18:50:24.038000\", \"Year\": 2019, \"Month\": 8, \"Day\": 14, \"DOY\": 226}, {\"SATELLITE\": \"LANDSAT_8\", \"date\": \"2019-08-30\", \"millis\": 1567191027834, \"NBR\": 0.10569583088667057, \"Timestamp\": \"2019-08-30T18:50:27.834000\", \"Year\": 2019, \"Month\": 8, \"Day\": 30, \"DOY\": 242}, {\"SATELLITE\": \"LANDSAT_8\", \"date\": \"2020-07-15\", \"millis\": 1594839008585, \"NBR\": 0.0465173517105587, \"Timestamp\": \"2020-07-15T18:50:08.585000\", \"Year\": 2020, \"Month\": 7, \"Day\": 15, \"DOY\": 197}, {\"SATELLITE\": \"LANDSAT_8\", \"date\": \"2020-07-31\", \"millis\": 1596221412900, \"NBR\": 0.07121212121212121, \"Timestamp\": \"2020-07-31T18:50:12.900000\", \"Year\": 2020, \"Month\": 7, \"Day\": 31, \"DOY\": 213}, {\"SATELLITE\": \"LANDSAT_8\", \"date\": \"2021-07-02\", \"millis\": 1625251810040, \"NBR\": 0.05302042590178183, \"Timestamp\": \"2021-07-02T18:50:10.040000\", \"Year\": 2021, \"Month\": 7, \"Day\": 2, \"DOY\": 183}, {\"SATELLITE\": \"LANDSAT_8\", \"date\": \"2021-07-18\", \"millis\": 1626634212458, \"NBR\": 0.08340929808568824, \"Timestamp\": \"2021-07-18T18:50:12.458000\", \"Year\": 2021, \"Month\": 7, \"Day\": 18, \"DOY\": 199}, {\"SATELLITE\": \"LANDSAT_8\", \"date\": \"2021-08-03\", \"millis\": 1628016620647, \"NBR\": 0.09653280119730606, \"Timestamp\": \"2021-08-03T18:50:20.647000\", \"Year\": 2021, \"Month\": 8, \"Day\": 3, \"DOY\": 215}, {\"SATELLITE\": \"LANDSAT_8\", \"date\": \"2021-08-19\", \"millis\": 1629399026142, \"NBR\": 0.12084592145015106, \"Timestamp\": \"2021-08-19T18:50:26.142000\", \"Year\": 2021, \"Month\": 8, \"Day\": 19, \"DOY\": 231}, {\"SATELLITE\": \"LANDSAT_8\", \"date\": \"2013-07-03\", \"millis\": 1372877881900, \"NBR\": -0.22381477398015434, \"Timestamp\": \"2013-07-03T18:58:01.900000\", \"Year\": 2013, \"Month\": 7, \"Day\": 3, \"DOY\": 184}, {\"SATELLITE\": \"LANDSAT_8\", \"date\": \"2013-07-19\", \"millis\": 1374260280780, \"NBR\": -0.24025974025974026, \"Timestamp\": \"2013-07-19T18:58:00.780000\", \"Year\": 2013, \"Month\": 7, \"Day\": 19, \"DOY\": 200}, {\"SATELLITE\": \"LANDSAT_8\", \"date\": \"2013-08-04\", \"millis\": 1375642683640, \"NBR\": -0.18035190615835778, \"Timestamp\": \"2013-08-04T18:58:03.640000\", \"Year\": 2013, \"Month\": 8, \"Day\": 4, \"DOY\": 216}, {\"SATELLITE\": \"LANDSAT_8\", \"date\": \"2013-08-20\", \"millis\": 1377025084880, \"NBR\": -0.247890719164323, \"Timestamp\": \"2013-08-20T18:58:04.880000\", \"Year\": 2013, \"Month\": 8, \"Day\": 20, \"DOY\": 232}, {\"SATELLITE\": \"LANDSAT_8\", \"date\": \"2014-07-06\", \"millis\": 1404672952700, \"NBR\": -0.1471513456833275, \"Timestamp\": \"2014-07-06T18:55:52.700000\", \"Year\": 2014, \"Month\": 7, \"Day\": 6, \"DOY\": 187}, {\"SATELLITE\": \"LANDSAT_8\", \"date\": \"2014-08-07\", \"millis\": 1407437764670, \"NBR\": -0.16623853211009174, \"Timestamp\": \"2014-08-07T18:56:04.670000\", \"Year\": 2014, \"Month\": 8, \"Day\": 7, \"DOY\": 219}, {\"SATELLITE\": \"LANDSAT_8\", \"date\": \"2014-08-23\", \"millis\": 1408820167780, \"NBR\": -0.10367892976588629, \"Timestamp\": \"2014-08-23T18:56:07.780000\", \"Year\": 2014, \"Month\": 8, \"Day\": 23, \"DOY\": 235}, {\"SATELLITE\": \"LANDSAT_8\", \"date\": \"2015-07-09\", \"millis\": 1436468132980, \"NBR\": 0.07285180572851806, \"Timestamp\": \"2015-07-09T18:55:32.980000\", \"Year\": 2015, \"Month\": 7, \"Day\": 9, \"DOY\": 190}, {\"SATELLITE\": \"LANDSAT_8\", \"date\": \"2015-08-26\", \"millis\": 1440615350421, \"NBR\": -0.027392120075046905, \"Timestamp\": \"2015-08-26T18:55:50.421000\", \"Year\": 2015, \"Month\": 8, \"Day\": 26, \"DOY\": 238}, {\"SATELLITE\": \"LANDSAT_8\", \"date\": \"2016-07-27\", \"millis\": 1469645763410, \"NBR\": 0.025880885562831305, \"Timestamp\": \"2016-07-27T18:56:03.410000\", \"Year\": 2016, \"Month\": 7, \"Day\": 27, \"DOY\": 209}, {\"SATELLITE\": \"LANDSAT_8\", \"date\": \"2016-08-12\", \"millis\": 1471028165500, \"NBR\": 0.021136063408190225, \"Timestamp\": \"2016-08-12T18:56:05.500000\", \"Year\": 2016, \"Month\": 8, \"Day\": 12, \"DOY\": 225}, {\"SATELLITE\": \"LANDSAT_8\", \"date\": \"2016-08-28\", \"millis\": 1472410572980, \"NBR\": 0.06745640013162224, \"Timestamp\": \"2016-08-28T18:56:12.980000\", \"Year\": 2016, \"Month\": 8, \"Day\": 28, \"DOY\": 241}, {\"SATELLITE\": \"LANDSAT_8\", \"date\": \"2017-07-14\", \"millis\": 1500058552140, \"NBR\": 0.03662138216184288, \"Timestamp\": \"2017-07-14T18:55:52.140000\", \"Year\": 2017, \"Month\": 7, \"Day\": 14, \"DOY\": 195}, {\"SATELLITE\": \"LANDSAT_8\", \"date\": \"2017-07-30\", \"millis\": 1501440960260, \"NBR\": 0.021237864077669904, \"Timestamp\": \"2017-07-30T18:56:00.260000\", \"Year\": 2017, \"Month\": 7, \"Day\": 30, \"DOY\": 211}, {\"SATELLITE\": \"LANDSAT_8\", \"date\": \"2017-08-31\", \"millis\": 1504205769260, \"NBR\": 0.07612814330003445, \"Timestamp\": \"2017-08-31T18:56:09.260000\", \"Year\": 2017, \"Month\": 8, \"Day\": 31, \"DOY\": 243}, {\"SATELLITE\": \"LANDSAT_8\", \"date\": \"2018-07-01\", \"millis\": 1530471306670, \"NBR\": 0.08583925642427556, \"Timestamp\": \"2018-07-01T18:55:06.670000\", \"Year\": 2018, \"Month\": 7, \"Day\": 1, \"DOY\": 182}, {\"SATELLITE\": \"LANDSAT_8\", \"date\": \"2018-07-17\", \"millis\": 1531853714150, \"NBR\": 0.019944598337950138, \"Timestamp\": \"2018-07-17T18:55:14.150000\", \"Year\": 2018, \"Month\": 7, \"Day\": 17, \"DOY\": 198}, {\"SATELLITE\": \"LANDSAT_8\", \"date\": \"2018-08-18\", \"millis\": 1534618530681, \"NBR\": 0.058569667077681874, \"Timestamp\": \"2018-08-18T18:55:30.681000\", \"Year\": 2018, \"Month\": 8, \"Day\": 18, \"DOY\": 230}, {\"SATELLITE\": \"LANDSAT_8\", \"date\": \"2019-07-20\", \"millis\": 1563648961141, \"NBR\": 0.08660984327742645, \"Timestamp\": \"2019-07-20T18:56:01.141000\", \"Year\": 2019, \"Month\": 7, \"Day\": 20, \"DOY\": 201}, {\"SATELLITE\": \"LANDSAT_8\", \"date\": \"2019-08-05\", \"millis\": 1565031367987, \"NBR\": 0.09002572163475278, \"Timestamp\": \"2019-08-05T18:56:07.987000\", \"Year\": 2019, \"Month\": 8, \"Day\": 5, \"DOY\": 217}, {\"SATELLITE\": \"LANDSAT_8\", \"date\": \"2020-07-22\", \"millis\": 1595444157671, \"NBR\": 0.06500541711809317, \"Timestamp\": \"2020-07-22T18:55:57.671000\", \"Year\": 2020, \"Month\": 7, \"Day\": 22, \"DOY\": 204}, {\"SATELLITE\": \"LANDSAT_8\", \"date\": \"2020-08-07\", \"millis\": 1596826561075, \"NBR\": 0.12804354053279862, \"Timestamp\": \"2020-08-07T18:56:01.075000\", \"Year\": 2020, \"Month\": 8, \"Day\": 7, \"DOY\": 220}, {\"SATELLITE\": \"LANDSAT_8\", \"date\": \"2020-08-23\", \"millis\": 1598208968332, \"NBR\": 0.09639613243480809, \"Timestamp\": \"2020-08-23T18:56:08.332000\", \"Year\": 2020, \"Month\": 8, \"Day\": 23, \"DOY\": 236}, {\"SATELLITE\": \"LANDSAT_8\", \"date\": \"2021-07-09\", \"millis\": 1625856957517, \"NBR\": 0.07640395275970113, \"Timestamp\": \"2021-07-09T18:55:57.517000\", \"Year\": 2021, \"Month\": 7, \"Day\": 9, \"DOY\": 190}, {\"SATELLITE\": \"LANDSAT_8\", \"date\": \"2021-07-25\", \"millis\": 1627239363358, \"NBR\": 0.0889662027833002, \"Timestamp\": \"2021-07-25T18:56:03.358000\", \"Year\": 2021, \"Month\": 7, \"Day\": 25, \"DOY\": 206}, {\"SATELLITE\": \"LANDSAT_8\", \"date\": \"2021-08-10\", \"millis\": 1628621770306, \"NBR\": 0.16097278517660682, \"Timestamp\": \"2021-08-10T18:56:10.306000\", \"Year\": 2021, \"Month\": 8, \"Day\": 10, \"DOY\": 222}, {\"SATELLITE\": \"LANDSAT_7\", \"date\": \"1999-07-14\", \"millis\": 931977759967, \"NBR\": 0.6285714285714286, \"Timestamp\": \"1999-07-14T18:42:39.967000\", \"Year\": 1999, \"Month\": 7, \"Day\": 14, \"DOY\": 195}, {\"SATELLITE\": \"LANDSAT_7\", \"date\": \"1999-07-30\", \"millis\": 933360165537, \"NBR\": 0.6475409836065574, \"Timestamp\": \"1999-07-30T18:42:45.537000\", \"Year\": 1999, \"Month\": 7, \"Day\": 30, \"DOY\": 211}, {\"SATELLITE\": \"LANDSAT_7\", \"date\": \"2000-08-01\", \"millis\": 965155262108, \"NBR\": 0.6103575832305795, \"Timestamp\": \"2000-08-01T18:41:02.108000\", \"Year\": 2000, \"Month\": 8, \"Day\": 1, \"DOY\": 214}, {\"SATELLITE\": \"LANDSAT_7\", \"date\": \"2000-08-17\", \"millis\": 966537656140, \"NBR\": 0.6444066354742662, \"Timestamp\": \"2000-08-17T18:40:56.140000\", \"Year\": 2000, \"Month\": 8, \"Day\": 17, \"DOY\": 230}, {\"SATELLITE\": \"LANDSAT_7\", \"date\": \"2001-08-20\", \"millis\": 998332720911, \"NBR\": 0.6749539594843462, \"Timestamp\": \"2001-08-20T18:38:40.911000\", \"Year\": 2001, \"Month\": 8, \"Day\": 20, \"DOY\": 232}, {\"SATELLITE\": \"LANDSAT_7\", \"date\": \"2002-07-06\", \"millis\": 1025980697570, \"NBR\": 0.5813614852566437, \"Timestamp\": \"2002-07-06T18:38:17.570000\", \"Year\": 2002, \"Month\": 7, \"Day\": 6, \"DOY\": 187}, {\"SATELLITE\": \"LANDSAT_7\", \"date\": \"2002-07-22\", \"millis\": 1027363088070, \"NBR\": 0.6357749898826386, \"Timestamp\": \"2002-07-22T18:38:08.070000\", \"Year\": 2002, \"Month\": 7, \"Day\": 22, \"DOY\": 203}, {\"SATELLITE\": \"LANDSAT_7\", \"date\": \"2003-07-25\", \"millis\": 1059158302400, \"NBR\": 0.6380471380471381, \"Timestamp\": \"2003-07-25T18:38:22.400000\", \"Year\": 2003, \"Month\": 7, \"Day\": 25, \"DOY\": 206}, {\"SATELLITE\": \"LANDSAT_7\", \"date\": \"2003-08-10\", \"millis\": 1060540696290, \"NBR\": 0.6508999581414818, \"Timestamp\": \"2003-08-10T18:38:16.290000\", \"Year\": 2003, \"Month\": 8, \"Day\": 10, \"DOY\": 222}, {\"SATELLITE\": \"LANDSAT_7\", \"date\": \"2003-08-26\", \"millis\": 1061923094840, \"NBR\": 0.5998138669148441, \"Timestamp\": \"2003-08-26T18:38:14.840000\", \"Year\": 2003, \"Month\": 8, \"Day\": 26, \"DOY\": 238}, {\"SATELLITE\": \"LANDSAT_7\", \"date\": \"2004-07-27\", \"millis\": 1090953525040, \"NBR\": 0.6088273474686283, \"Timestamp\": \"2004-07-27T18:38:45.040000\", \"Year\": 2004, \"Month\": 7, \"Day\": 27, \"DOY\": 209}, {\"SATELLITE\": \"LANDSAT_7\", \"date\": \"2004-08-12\", \"millis\": 1092335920480, \"NBR\": 0.5882874889086069, \"Timestamp\": \"2004-08-12T18:38:40.480000\", \"Year\": 2004, \"Month\": 8, \"Day\": 12, \"DOY\": 225}, {\"SATELLITE\": \"LANDSAT_7\", \"date\": \"2005-07-14\", \"millis\": 1121366357790, \"NBR\": 0.6166738289643318, \"Timestamp\": \"2005-07-14T18:39:17.790000\", \"Year\": 2005, \"Month\": 7, \"Day\": 14, \"DOY\": 195}, {\"SATELLITE\": \"LANDSAT_7\", \"date\": \"2005-07-30\", \"millis\": 1122748756260, \"NBR\": 0.6441558441558441, \"Timestamp\": \"2005-07-30T18:39:16.260000\", \"Year\": 2005, \"Month\": 7, \"Day\": 30, \"DOY\": 211}, {\"SATELLITE\": \"LANDSAT_7\", \"date\": \"2005-08-31\", \"millis\": 1125513544270, \"NBR\": 0.6565176022835395, \"Timestamp\": \"2005-08-31T18:39:04.270000\", \"Year\": 2005, \"Month\": 8, \"Day\": 31, \"DOY\": 243}, {\"SATELLITE\": \"LANDSAT_7\", \"date\": \"2006-07-01\", \"millis\": 1151779186220, \"NBR\": 0.6191228763334651, \"Timestamp\": \"2006-07-01T18:39:46.220000\", \"Year\": 2006, \"Month\": 7, \"Day\": 1, \"DOY\": 182}, {\"SATELLITE\": \"LANDSAT_7\", \"date\": \"2006-08-18\", \"millis\": 1155926371890, \"NBR\": 0.6267456622936944, \"Timestamp\": \"2006-08-18T18:39:31.890000\", \"Year\": 2006, \"Month\": 8, \"Day\": 18, \"DOY\": 230}, {\"SATELLITE\": \"LANDSAT_7\", \"date\": \"2007-07-04\", \"millis\": 1183574406280, \"NBR\": 0.5984158415841584, \"Timestamp\": \"2007-07-04T18:40:06.280000\", \"Year\": 2007, \"Month\": 7, \"Day\": 4, \"DOY\": 185}, {\"SATELLITE\": \"LANDSAT_7\", \"date\": \"2007-08-05\", \"millis\": 1186339198030, \"NBR\": 0.5898277276456112, \"Timestamp\": \"2007-08-05T18:39:58.030000\", \"Year\": 2007, \"Month\": 8, \"Day\": 5, \"DOY\": 217}, {\"SATELLITE\": \"LANDSAT_7\", \"date\": \"2008-07-22\", \"millis\": 1216751950220, \"NBR\": 0.6227472967561073, \"Timestamp\": \"2008-07-22T18:39:10.220000\", \"Year\": 2008, \"Month\": 7, \"Day\": 22, \"DOY\": 204}, {\"SATELLITE\": \"LANDSAT_7\", \"date\": \"2009-07-09\", \"millis\": 1247164813310, \"NBR\": 0.6143020159756561, \"Timestamp\": \"2009-07-09T18:40:13.310000\", \"Year\": 2009, \"Month\": 7, \"Day\": 9, \"DOY\": 190}, {\"SATELLITE\": \"LANDSAT_7\", \"date\": \"2009-07-25\", \"millis\": 1248547208580, \"NBR\": 0.6134574087329993, \"Timestamp\": \"2009-07-25T18:40:08.580000\", \"Year\": 2009, \"Month\": 7, \"Day\": 25, \"DOY\": 206}, {\"SATELLITE\": \"LANDSAT_7\", \"date\": \"2009-08-10\", \"millis\": 1249929602510, \"NBR\": 0.6323468111713214, \"Timestamp\": \"2009-08-10T18:40:02.510000\", \"Year\": 2009, \"Month\": 8, \"Day\": 10, \"DOY\": 222}, {\"SATELLITE\": \"LANDSAT_7\", \"date\": \"2010-08-13\", \"millis\": 1281724925040, \"NBR\": 0.6277093072673183, \"Timestamp\": \"2010-08-13T18:42:05.040000\", \"Year\": 2010, \"Month\": 8, \"Day\": 13, \"DOY\": 225}, {\"SATELLITE\": \"LANDSAT_7\", \"date\": \"2011-08-16\", \"millis\": 1313520196400, \"NBR\": 0.648479427549195, \"Timestamp\": \"2011-08-16T18:43:16.400000\", \"Year\": 2011, \"Month\": 8, \"Day\": 16, \"DOY\": 228}, {\"SATELLITE\": \"LANDSAT_7\", \"date\": \"2011-09-01\", \"millis\": 1314902593500, \"NBR\": 0.5979941496030088, \"Timestamp\": \"2011-09-01T18:43:13.500000\", \"Year\": 2011, \"Month\": 9, \"Day\": 1, \"DOY\": 244}, {\"SATELLITE\": \"LANDSAT_7\", \"date\": \"2013-07-04\", \"millis\": 1372963520960, \"NBR\": -0.1332518337408313, \"Timestamp\": \"2013-07-04T18:45:20.960000\", \"Year\": 2013, \"Month\": 7, \"Day\": 4, \"DOY\": 185}, {\"SATELLITE\": \"LANDSAT_7\", \"date\": \"2013-08-05\", \"millis\": 1375728307480, \"NBR\": -0.1374680306905371, \"Timestamp\": \"2013-08-05T18:45:07.480000\", \"Year\": 2013, \"Month\": 8, \"Day\": 5, \"DOY\": 217}, {\"SATELLITE\": \"LANDSAT_7\", \"date\": \"2014-07-07\", \"millis\": 1404758843710, \"NBR\": -0.1073038773669973, \"Timestamp\": \"2014-07-07T18:47:23.710000\", \"Year\": 2014, \"Month\": 7, \"Day\": 7, \"DOY\": 188}, {\"SATELLITE\": \"LANDSAT_7\", \"date\": \"2015-07-10\", \"millis\": 1436554175340, \"NBR\": -0.01675363911013458, \"Timestamp\": \"2015-07-10T18:49:35.340000\", \"Year\": 2015, \"Month\": 7, \"Day\": 10, \"DOY\": 191}, {\"SATELLITE\": \"LANDSAT_7\", \"date\": \"2015-08-27\", \"millis\": 1440701382930, \"NBR\": -0.0488974113135187, \"Timestamp\": \"2015-08-27T18:49:42.930000\", \"Year\": 2015, \"Month\": 8, \"Day\": 27, \"DOY\": 239}, {\"SATELLITE\": \"LANDSAT_7\", \"date\": \"2016-07-28\", \"millis\": 1469731948550, \"NBR\": 0.007146783947223749, \"Timestamp\": \"2016-07-28T18:52:28.550000\", \"Year\": 2016, \"Month\": 7, \"Day\": 28, \"DOY\": 210}, {\"SATELLITE\": \"LANDSAT_7\", \"date\": \"2016-08-13\", \"millis\": 1471114349550, \"NBR\": 0.13653333333333334, \"Timestamp\": \"2016-08-13T18:52:29.550000\", \"Year\": 2016, \"Month\": 8, \"Day\": 13, \"DOY\": 226}, {\"SATELLITE\": \"LANDSAT_7\", \"date\": \"2016-08-29\", \"millis\": 1472496753100, \"NBR\": 0.015262515262515262, \"Timestamp\": \"2016-08-29T18:52:33.100000\", \"Year\": 2016, \"Month\": 8, \"Day\": 29, \"DOY\": 242}, {\"SATELLITE\": \"LANDSAT_7\", \"date\": \"2017-07-15\", \"millis\": 1500144751890, \"NBR\": 0.03981141959140912, \"Timestamp\": \"2017-07-15T18:52:31.890000\", \"Year\": 2017, \"Month\": 7, \"Day\": 15, \"DOY\": 196}, {\"SATELLITE\": \"LANDSAT_7\", \"date\": \"2017-07-31\", \"millis\": 1501527150570, \"NBR\": 0.020766773162939296, \"Timestamp\": \"2017-07-31T18:52:30.570000\", \"Year\": 2017, \"Month\": 7, \"Day\": 31, \"DOY\": 212}, {\"SATELLITE\": \"LANDSAT_7\", \"date\": \"2017-08-16\", \"millis\": 1502909548560, \"NBR\": 0.06075726445553273, \"Timestamp\": \"2017-08-16T18:52:28.560000\", \"Year\": 2017, \"Month\": 8, \"Day\": 16, \"DOY\": 228}, {\"SATELLITE\": \"LANDSAT_7\", \"date\": \"2018-07-18\", \"millis\": 1531939736160, \"NBR\": 0.04599145513948228, \"Timestamp\": \"2018-07-18T18:48:56.160000\", \"Year\": 2018, \"Month\": 7, \"Day\": 18, \"DOY\": 199}, {\"SATELLITE\": \"LANDSAT_7\", \"date\": \"2018-08-03\", \"millis\": 1533322119300, \"NBR\": 0.06734250543084722, \"Timestamp\": \"2018-08-03T18:48:39.300000\", \"Year\": 2018, \"Month\": 8, \"Day\": 3, \"DOY\": 215}, {\"SATELLITE\": \"LANDSAT_7\", \"date\": \"2018-08-19\", \"millis\": 1534704501010, \"NBR\": 0.05326413548210871, \"Timestamp\": \"2018-08-19T18:48:21.010000\", \"Year\": 2018, \"Month\": 8, \"Day\": 19, \"DOY\": 231}, {\"SATELLITE\": \"LANDSAT_7\", \"date\": \"2019-07-21\", \"millis\": 1563734285072, \"NBR\": 0.06764260474507824, \"Timestamp\": \"2019-07-21T18:38:05.072000\", \"Year\": 2019, \"Month\": 7, \"Day\": 21, \"DOY\": 202}, {\"SATELLITE\": \"LANDSAT_7\", \"date\": \"2020-07-23\", \"millis\": 1595528352850, \"NBR\": 0.06817610062893081, \"Timestamp\": \"2020-07-23T18:19:12.850000\", \"Year\": 2020, \"Month\": 7, \"Day\": 23, \"DOY\": 205}, {\"SATELLITE\": \"LANDSAT_7\", \"date\": \"2020-08-08\", \"millis\": 1596910692676, \"NBR\": 0.1367936589107645, \"Timestamp\": \"2020-08-08T18:18:12.676000\", \"Year\": 2020, \"Month\": 8, \"Day\": 8, \"DOY\": 221}, {\"SATELLITE\": \"LANDSAT_7\", \"date\": \"2021-07-10\", \"millis\": 1625939588009, \"NBR\": 0.08770279802492359, \"Timestamp\": \"2021-07-10T17:53:08.009000\", \"Year\": 2021, \"Month\": 7, \"Day\": 10, \"DOY\": 191}, {\"SATELLITE\": \"LANDSAT_7\", \"date\": \"2021-07-26\", \"millis\": 1627321905151, \"NBR\": 0.09020217729393468, \"Timestamp\": \"2021-07-26T17:51:45.151000\", \"Year\": 2021, \"Month\": 7, \"Day\": 26, \"DOY\": 207}, {\"SATELLITE\": \"LANDSAT_7\", \"date\": \"2021-08-11\", \"millis\": 1628704220187, \"NBR\": 0.08938839519079979, \"Timestamp\": \"2021-08-11T17:50:20.187000\", \"Year\": 2021, \"Month\": 8, \"Day\": 11, \"DOY\": 223}, {\"SATELLITE\": \"LANDSAT_7\", \"date\": \"1999-07-14\", \"millis\": 931977783845, \"NBR\": 0.6282499029879705, \"Timestamp\": \"1999-07-14T18:43:03.845000\", \"Year\": 1999, \"Month\": 7, \"Day\": 14, \"DOY\": 195}, {\"SATELLITE\": \"LANDSAT_7\", \"date\": \"1999-07-30\", \"millis\": 933360189418, \"NBR\": 0.6658456486042693, \"Timestamp\": \"1999-07-30T18:43:09.418000\", \"Year\": 1999, \"Month\": 7, \"Day\": 30, \"DOY\": 211}, {\"SATELLITE\": \"LANDSAT_7\", \"date\": \"2000-08-01\", \"millis\": 965155285976, \"NBR\": 0.6097159324825031, \"Timestamp\": \"2000-08-01T18:41:25.976000\", \"Year\": 2000, \"Month\": 8, \"Day\": 1, \"DOY\": 214}, {\"SATELLITE\": \"LANDSAT_7\", \"date\": \"2000-08-17\", \"millis\": 966537680024, \"NBR\": 0.6276910088644998, \"Timestamp\": \"2000-08-17T18:41:20.024000\", \"Year\": 2000, \"Month\": 8, \"Day\": 17, \"DOY\": 230}, {\"SATELLITE\": \"LANDSAT_7\", \"date\": \"2001-08-20\", \"millis\": 998332744783, \"NBR\": 0.6743542435424354, \"Timestamp\": \"2001-08-20T18:39:04.783000\", \"Year\": 2001, \"Month\": 8, \"Day\": 20, \"DOY\": 232}, {\"SATELLITE\": \"LANDSAT_7\", \"date\": \"2002-07-06\", \"millis\": 1025980721440, \"NBR\": 0.5818181818181818, \"Timestamp\": \"2002-07-06T18:38:41.440000\", \"Year\": 2002, \"Month\": 7, \"Day\": 6, \"DOY\": 187}, {\"SATELLITE\": \"LANDSAT_7\", \"date\": \"2002-07-22\", \"millis\": 1027363111940, \"NBR\": 0.6363636363636364, \"Timestamp\": \"2002-07-22T18:38:31.940000\", \"Year\": 2002, \"Month\": 7, \"Day\": 22, \"DOY\": 203}, {\"SATELLITE\": \"LANDSAT_7\", \"date\": \"2003-07-25\", \"millis\": 1059158326290, \"NBR\": 0.6197301854974705, \"Timestamp\": \"2003-07-25T18:38:46.290000\", \"Year\": 2003, \"Month\": 7, \"Day\": 25, \"DOY\": 206}, {\"SATELLITE\": \"LANDSAT_7\", \"date\": \"2003-08-10\", \"millis\": 1060540720170, \"NBR\": 0.6452991452991453, \"Timestamp\": \"2003-08-10T18:38:40.170000\", \"Year\": 2003, \"Month\": 8, \"Day\": 10, \"DOY\": 222}, {\"SATELLITE\": \"LANDSAT_7\", \"date\": \"2003-08-26\", \"millis\": 1061923118720, \"NBR\": 0.6001863932898416, \"Timestamp\": \"2003-08-26T18:38:38.720000\", \"Year\": 2003, \"Month\": 8, \"Day\": 26, \"DOY\": 238}, {\"SATELLITE\": \"LANDSAT_7\", \"date\": \"2004-07-27\", \"millis\": 1090953548920, \"NBR\": 0.6143651132962804, \"Timestamp\": \"2004-07-27T18:39:08.920000\", \"Year\": 2004, \"Month\": 7, \"Day\": 27, \"DOY\": 209}, {\"SATELLITE\": \"LANDSAT_7\", \"date\": \"2004-08-12\", \"millis\": 1092335944360, \"NBR\": 0.5990888382687927, \"Timestamp\": \"2004-08-12T18:39:04.360000\", \"Year\": 2004, \"Month\": 8, \"Day\": 12, \"DOY\": 225}, {\"SATELLITE\": \"LANDSAT_7\", \"date\": \"2005-07-14\", \"millis\": 1121366381670, \"NBR\": 0.6315331010452961, \"Timestamp\": \"2005-07-14T18:39:41.670000\", \"Year\": 2005, \"Month\": 7, \"Day\": 14, \"DOY\": 195}, {\"SATELLITE\": \"LANDSAT_7\", \"date\": \"2005-07-30\", \"millis\": 1122748780140, \"NBR\": 0.6353637901861252, \"Timestamp\": \"2005-07-30T18:39:40.140000\", \"Year\": 2005, \"Month\": 7, \"Day\": 30, \"DOY\": 211}, {\"SATELLITE\": \"LANDSAT_7\", \"date\": \"2005-08-31\", \"millis\": 1125513568160, \"NBR\": 0.6563245823389021, \"Timestamp\": \"2005-08-31T18:39:28.160000\", \"Year\": 2005, \"Month\": 8, \"Day\": 31, \"DOY\": 243}, {\"SATELLITE\": \"LANDSAT_7\", \"date\": \"2006-07-01\", \"millis\": 1151779210110, \"NBR\": 0.6188976377952756, \"Timestamp\": \"2006-07-01T18:40:10.110000\", \"Year\": 2006, \"Month\": 7, \"Day\": 1, \"DOY\": 182}, {\"SATELLITE\": \"LANDSAT_7\", \"date\": \"2006-08-18\", \"millis\": 1155926395770, \"NBR\": 0.6253724989357173, \"Timestamp\": \"2006-08-18T18:39:55.770000\", \"Year\": 2006, \"Month\": 8, \"Day\": 18, \"DOY\": 230}, {\"SATELLITE\": \"LANDSAT_7\", \"date\": \"2007-07-04\", \"millis\": 1183574430160, \"NBR\": 0.5996829171621086, \"Timestamp\": \"2007-07-04T18:40:30.160000\", \"Year\": 2007, \"Month\": 7, \"Day\": 4, \"DOY\": 185}, {\"SATELLITE\": \"LANDSAT_7\", \"date\": \"2007-08-05\", \"millis\": 1186339221910, \"NBR\": 0.5891980360065466, \"Timestamp\": \"2007-08-05T18:40:21.910000\", \"Year\": 2007, \"Month\": 8, \"Day\": 5, \"DOY\": 217}, {\"SATELLITE\": \"LANDSAT_7\", \"date\": \"2008-07-06\", \"millis\": 1215369586290, \"NBR\": 0.6091331269349846, \"Timestamp\": \"2008-07-06T18:39:46.290000\", \"Year\": 2008, \"Month\": 7, \"Day\": 6, \"DOY\": 188}, {\"SATELLITE\": \"LANDSAT_7\", \"date\": \"2008-07-22\", \"millis\": 1216751974100, \"NBR\": 0.622792937399679, \"Timestamp\": \"2008-07-22T18:39:34.100000\", \"Year\": 2008, \"Month\": 7, \"Day\": 22, \"DOY\": 204}, {\"SATELLITE\": \"LANDSAT_7\", \"date\": \"2009-07-09\", \"millis\": 1247164837190, \"NBR\": 0.6006051437216339, \"Timestamp\": \"2009-07-09T18:40:37.190000\", \"Year\": 2009, \"Month\": 7, \"Day\": 9, \"DOY\": 190}, {\"SATELLITE\": \"LANDSAT_7\", \"date\": \"2009-07-25\", \"millis\": 1248547232460, \"NBR\": 0.6128103634400863, \"Timestamp\": \"2009-07-25T18:40:32.460000\", \"Year\": 2009, \"Month\": 7, \"Day\": 25, \"DOY\": 206}, {\"SATELLITE\": \"LANDSAT_7\", \"date\": \"2009-08-10\", \"millis\": 1249929626390, \"NBR\": 0.6324822101297614, \"Timestamp\": \"2009-08-10T18:40:26.390000\", \"Year\": 2009, \"Month\": 8, \"Day\": 10, \"DOY\": 222}, {\"SATELLITE\": \"LANDSAT_7\", \"date\": \"2010-08-13\", \"millis\": 1281724948920, \"NBR\": 0.6274509803921569, \"Timestamp\": \"2010-08-13T18:42:28.920000\", \"Year\": 2010, \"Month\": 8, \"Day\": 13, \"DOY\": 225}, {\"SATELLITE\": \"LANDSAT_7\", \"date\": \"2011-07-31\", \"millis\": 1312137823880, \"NBR\": 0.6247405562474055, \"Timestamp\": \"2011-07-31T18:43:43.880000\", \"Year\": 2011, \"Month\": 7, \"Day\": 31, \"DOY\": 212}, {\"SATELLITE\": \"LANDSAT_7\", \"date\": \"2011-08-16\", \"millis\": 1313520220290, \"NBR\": 0.6381865736704446, \"Timestamp\": \"2011-08-16T18:43:40.290000\", \"Year\": 2011, \"Month\": 8, \"Day\": 16, \"DOY\": 228}, {\"SATELLITE\": \"LANDSAT_7\", \"date\": \"2011-09-01\", \"millis\": 1314902617390, \"NBR\": 0.6192468619246861, \"Timestamp\": \"2011-09-01T18:43:37.390000\", \"Year\": 2011, \"Month\": 9, \"Day\": 1, \"DOY\": 244}, {\"SATELLITE\": \"LANDSAT_7\", \"date\": \"2013-07-04\", \"millis\": 1372963544840, \"NBR\": -0.13869499241274658, \"Timestamp\": \"2013-07-04T18:45:44.840000\", \"Year\": 2013, \"Month\": 7, \"Day\": 4, \"DOY\": 185}, {\"SATELLITE\": \"LANDSAT_7\", \"date\": \"2013-08-05\", \"millis\": 1375728331360, \"NBR\": -0.16133043207957726, \"Timestamp\": \"2013-08-05T18:45:31.360000\", \"Year\": 2013, \"Month\": 8, \"Day\": 5, \"DOY\": 217}, {\"SATELLITE\": \"LANDSAT_7\", \"date\": \"2014-07-07\", \"millis\": 1404758867590, \"NBR\": -0.12177777777777778, \"Timestamp\": \"2014-07-07T18:47:47.590000\", \"Year\": 2014, \"Month\": 7, \"Day\": 7, \"DOY\": 188}, {\"SATELLITE\": \"LANDSAT_7\", \"date\": \"2015-08-27\", \"millis\": 1440701406820, \"NBR\": -0.02622950819672131, \"Timestamp\": \"2015-08-27T18:50:06.820000\", \"Year\": 2015, \"Month\": 8, \"Day\": 27, \"DOY\": 239}, {\"SATELLITE\": \"LANDSAT_7\", \"date\": \"2016-07-28\", \"millis\": 1469731972430, \"NBR\": 0.01864736988588923, \"Timestamp\": \"2016-07-28T18:52:52.430000\", \"Year\": 2016, \"Month\": 7, \"Day\": 28, \"DOY\": 210}, {\"SATELLITE\": \"LANDSAT_7\", \"date\": \"2016-08-13\", \"millis\": 1471114373440, \"NBR\": 0.15246995994659546, \"Timestamp\": \"2016-08-13T18:52:53.440000\", \"Year\": 2016, \"Month\": 8, \"Day\": 13, \"DOY\": 226}, {\"SATELLITE\": \"LANDSAT_7\", \"date\": \"2016-08-29\", \"millis\": 1472496776980, \"NBR\": 0.00851581508515815, \"Timestamp\": \"2016-08-29T18:52:56.980000\", \"Year\": 2016, \"Month\": 8, \"Day\": 29, \"DOY\": 242}, {\"SATELLITE\": \"LANDSAT_7\", \"date\": \"2017-07-15\", \"millis\": 1500144775770, \"NBR\": 0.038893239363090575, \"Timestamp\": \"2017-07-15T18:52:55.770000\", \"Year\": 2017, \"Month\": 7, \"Day\": 15, \"DOY\": 196}, {\"SATELLITE\": \"LANDSAT_7\", \"date\": \"2017-07-31\", \"millis\": 1501527174460, \"NBR\": 0.02160576153640971, \"Timestamp\": \"2017-07-31T18:52:54.460000\", \"Year\": 2017, \"Month\": 7, \"Day\": 31, \"DOY\": 212}, {\"SATELLITE\": \"LANDSAT_7\", \"date\": \"2017-08-16\", \"millis\": 1502909572450, \"NBR\": 0.046263345195729534, \"Timestamp\": \"2017-08-16T18:52:52.450000\", \"Year\": 2017, \"Month\": 8, \"Day\": 16, \"DOY\": 228}, {\"SATELLITE\": \"LANDSAT_7\", \"date\": \"2018-07-18\", \"millis\": 1531939760040, \"NBR\": 0.046511627906976744, \"Timestamp\": \"2018-07-18T18:49:20.040000\", \"Year\": 2018, \"Month\": 7, \"Day\": 18, \"DOY\": 199}, {\"SATELLITE\": \"LANDSAT_7\", \"date\": \"2018-08-03\", \"millis\": 1533322143180, \"NBR\": 0.08306471609223903, \"Timestamp\": \"2018-08-03T18:49:03.180000\", \"Year\": 2018, \"Month\": 8, \"Day\": 3, \"DOY\": 215}, {\"SATELLITE\": \"LANDSAT_7\", \"date\": \"2018-08-19\", \"millis\": 1534704524900, \"NBR\": 0.04743729552889858, \"Timestamp\": \"2018-08-19T18:48:44.900000\", \"Year\": 2018, \"Month\": 8, \"Day\": 19, \"DOY\": 231}, {\"SATELLITE\": \"LANDSAT_7\", \"date\": \"2019-07-21\", \"millis\": 1563734308953, \"NBR\": 0.0672036244651397, \"Timestamp\": \"2019-07-21T18:38:28.953000\", \"Year\": 2019, \"Month\": 7, \"Day\": 21, \"DOY\": 202}, {\"SATELLITE\": \"LANDSAT_7\", \"date\": \"2020-07-23\", \"millis\": 1595528376731, \"NBR\": 0.06827916351725875, \"Timestamp\": \"2020-07-23T18:19:36.731000\", \"Year\": 2020, \"Month\": 7, \"Day\": 23, \"DOY\": 205}, {\"SATELLITE\": \"LANDSAT_7\", \"date\": \"2020-08-08\", \"millis\": 1596910716558, \"NBR\": 0.07235338918507235, \"Timestamp\": \"2020-08-08T18:18:36.558000\", \"Year\": 2020, \"Month\": 8, \"Day\": 8, \"DOY\": 221}, {\"SATELLITE\": \"LANDSAT_7\", \"date\": \"2021-07-10\", \"millis\": 1625939611890, \"NBR\": 0.07445048451902624, \"Timestamp\": \"2021-07-10T17:53:31.890000\", \"Year\": 2021, \"Month\": 7, \"Day\": 10, \"DOY\": 191}, {\"SATELLITE\": \"LANDSAT_7\", \"date\": \"2021-07-26\", \"millis\": 1627321929032, \"NBR\": 0.08801253591015931, \"Timestamp\": \"2021-07-26T17:52:09.032000\", \"Year\": 2021, \"Month\": 7, \"Day\": 26, \"DOY\": 207}, {\"SATELLITE\": \"LANDSAT_7\", \"date\": \"2021-08-11\", \"millis\": 1628704244070, \"NBR\": 0.08953275907073871, \"Timestamp\": \"2021-08-11T17:50:44.070000\", \"Year\": 2021, \"Month\": 8, \"Day\": 11, \"DOY\": 223}, {\"SATELLITE\": \"LANDSAT_7\", \"date\": \"1999-07-05\", \"millis\": 931200528388, \"NBR\": 0.6135940409683427, \"Timestamp\": \"1999-07-05T18:48:48.388000\", \"Year\": 1999, \"Month\": 7, \"Day\": 5, \"DOY\": 186}, {\"SATELLITE\": \"LANDSAT_7\", \"date\": \"1999-08-22\", \"millis\": 935347736344, \"NBR\": 0.6322738386308069, \"Timestamp\": \"1999-08-22T18:48:56.344000\", \"Year\": 1999, \"Month\": 8, \"Day\": 22, \"DOY\": 234}, {\"SATELLITE\": \"LANDSAT_7\", \"date\": \"2000-07-23\", \"millis\": 964378039493, \"NBR\": 0.6589513462446859, \"Timestamp\": \"2000-07-23T18:47:19.493000\", \"Year\": 2000, \"Month\": 7, \"Day\": 23, \"DOY\": 205}, {\"SATELLITE\": \"LANDSAT_7\", \"date\": \"2000-08-08\", \"millis\": 965760426614, \"NBR\": 0.6703296703296703, \"Timestamp\": \"2000-08-08T18:47:06.614000\", \"Year\": 2000, \"Month\": 8, \"Day\": 8, \"DOY\": 221}, {\"SATELLITE\": \"LANDSAT_7\", \"date\": \"2001-07-10\", \"millis\": 994790724934, \"NBR\": 0.6433970653623833, \"Timestamp\": \"2001-07-10T18:45:24.934000\", \"Year\": 2001, \"Month\": 7, \"Day\": 10, \"DOY\": 191}, {\"SATELLITE\": \"LANDSAT_7\", \"date\": \"2001-07-26\", \"millis\": 996173116590, \"NBR\": 0.6382575757575758, \"Timestamp\": \"2001-07-26T18:45:16.590000\", \"Year\": 2001, \"Month\": 7, \"Day\": 26, \"DOY\": 207}, {\"SATELLITE\": \"LANDSAT_7\", \"date\": \"2001-08-11\", \"millis\": 997555497850, \"NBR\": 0.6442725954567424, \"Timestamp\": \"2001-08-11T18:44:57.850000\", \"Year\": 2001, \"Month\": 8, \"Day\": 11, \"DOY\": 223}, {\"SATELLITE\": \"LANDSAT_7\", \"date\": \"2001-08-27\", \"millis\": 998937887681, \"NBR\": 0.639, \"Timestamp\": \"2001-08-27T18:44:47.681000\", \"Year\": 2001, \"Month\": 8, \"Day\": 27, \"DOY\": 239}, {\"SATELLITE\": \"LANDSAT_7\", \"date\": \"2002-07-29\", \"millis\": 1027968257360, \"NBR\": 0.6450676982591876, \"Timestamp\": \"2002-07-29T18:44:17.360000\", \"Year\": 2002, \"Month\": 7, \"Day\": 29, \"DOY\": 210}, {\"SATELLITE\": \"LANDSAT_7\", \"date\": \"2002-08-14\", \"millis\": 1029350653420, \"NBR\": 0.6356513222331048, \"Timestamp\": \"2002-08-14T18:44:13.420000\", \"Year\": 2002, \"Month\": 8, \"Day\": 14, \"DOY\": 226}, {\"SATELLITE\": \"LANDSAT_7\", \"date\": \"2004-08-19\", \"millis\": 1092941090620, \"NBR\": 0.6339193381592554, \"Timestamp\": \"2004-08-19T18:44:50.620000\", \"Year\": 2004, \"Month\": 8, \"Day\": 19, \"DOY\": 232}, {\"SATELLITE\": \"LANDSAT_7\", \"date\": \"2006-07-08\", \"millis\": 1152384353830, \"NBR\": 0.6367753623188406, \"Timestamp\": \"2006-07-08T18:45:53.830000\", \"Year\": 2006, \"Month\": 7, \"Day\": 8, \"DOY\": 189}, {\"SATELLITE\": \"LANDSAT_7\", \"date\": \"2006-07-24\", \"millis\": 1153766745130, \"NBR\": 0.6547448736289938, \"Timestamp\": \"2006-07-24T18:45:45.130000\", \"Year\": 2006, \"Month\": 7, \"Day\": 24, \"DOY\": 205}, {\"SATELLITE\": \"LANDSAT_7\", \"date\": \"2006-08-25\", \"millis\": 1156531541410, \"NBR\": 0.6663296258847321, \"Timestamp\": \"2006-08-25T18:45:41.410000\", \"Year\": 2006, \"Month\": 8, \"Day\": 25, \"DOY\": 237}, {\"SATELLITE\": \"LANDSAT_7\", \"date\": \"2007-07-27\", \"millis\": 1185561971770, \"NBR\": 0.5896032831737346, \"Timestamp\": \"2007-07-27T18:46:11.770000\", \"Year\": 2007, \"Month\": 7, \"Day\": 27, \"DOY\": 208}, {\"SATELLITE\": \"LANDSAT_7\", \"date\": \"2007-08-28\", \"millis\": 1188326759440, \"NBR\": 0.6409227683049148, \"Timestamp\": \"2007-08-28T18:45:59.440000\", \"Year\": 2007, \"Month\": 8, \"Day\": 28, \"DOY\": 240}, {\"SATELLITE\": \"LANDSAT_7\", \"date\": \"2009-07-16\", \"millis\": 1247769982200, \"NBR\": 0.6422836752899197, \"Timestamp\": \"2009-07-16T18:46:22.200000\", \"Year\": 2009, \"Month\": 7, \"Day\": 16, \"DOY\": 197}, {\"SATELLITE\": \"LANDSAT_7\", \"date\": \"2009-08-17\", \"millis\": 1250534773230, \"NBR\": 0.584250635055038, \"Timestamp\": \"2009-08-17T18:46:13.230000\", \"Year\": 2009, \"Month\": 8, \"Day\": 17, \"DOY\": 229}, {\"SATELLITE\": \"LANDSAT_7\", \"date\": \"2010-07-19\", \"millis\": 1279565296440, \"NBR\": 0.6061013907581875, \"Timestamp\": \"2010-07-19T18:48:16.440000\", \"Year\": 2010, \"Month\": 7, \"Day\": 19, \"DOY\": 200}, {\"SATELLITE\": \"LANDSAT_7\", \"date\": \"2010-08-04\", \"millis\": 1280947695810, \"NBR\": 0.6268248175182481, \"Timestamp\": \"2010-08-04T18:48:15.810000\", \"Year\": 2010, \"Month\": 8, \"Day\": 4, \"DOY\": 216}, {\"SATELLITE\": \"LANDSAT_7\", \"date\": \"2011-07-06\", \"millis\": 1309978174580, \"NBR\": 0.5701519213583557, \"Timestamp\": \"2011-07-06T18:49:34.580000\", \"Year\": 2011, \"Month\": 7, \"Day\": 6, \"DOY\": 187}, {\"SATELLITE\": \"LANDSAT_7\", \"date\": \"2011-07-22\", \"millis\": 1311360573110, \"NBR\": 0.6281872971719982, \"Timestamp\": \"2011-07-22T18:49:33.110000\", \"Year\": 2011, \"Month\": 7, \"Day\": 22, \"DOY\": 203}, {\"SATELLITE\": \"LANDSAT_7\", \"date\": \"2011-08-07\", \"millis\": 1312742968250, \"NBR\": 0.6413345690454124, \"Timestamp\": \"2011-08-07T18:49:28.250000\", \"Year\": 2011, \"Month\": 8, \"Day\": 7, \"DOY\": 219}, {\"SATELLITE\": \"LANDSAT_7\", \"date\": \"2011-08-23\", \"millis\": 1314125366390, \"NBR\": 0.6658278812279819, \"Timestamp\": \"2011-08-23T18:49:26.390000\", \"Year\": 2011, \"Month\": 8, \"Day\": 23, \"DOY\": 235}, {\"SATELLITE\": \"LANDSAT_7\", \"date\": \"2012-07-08\", \"millis\": 1341773444780, \"NBR\": -0.09432544156332207, \"Timestamp\": \"2012-07-08T18:50:44.780000\", \"Year\": 2012, \"Month\": 7, \"Day\": 8, \"DOY\": 190}, {\"SATELLITE\": \"LANDSAT_7\", \"date\": \"2012-07-24\", \"millis\": 1343155855810, \"NBR\": -0.10923076923076923, \"Timestamp\": \"2012-07-24T18:50:55.810000\", \"Year\": 2012, \"Month\": 7, \"Day\": 24, \"DOY\": 206}, {\"SATELLITE\": \"LANDSAT_7\", \"date\": \"2012-08-25\", \"millis\": 1345920676760, \"NBR\": -0.10199203187250996, \"Timestamp\": \"2012-08-25T18:51:16.760000\", \"Year\": 2012, \"Month\": 8, \"Day\": 25, \"DOY\": 238}, {\"SATELLITE\": \"LANDSAT_7\", \"date\": \"2013-07-11\", \"millis\": 1373568686940, \"NBR\": -0.14899240171787248, \"Timestamp\": \"2013-07-11T18:51:26.940000\", \"Year\": 2013, \"Month\": 7, \"Day\": 11, \"DOY\": 192}, {\"SATELLITE\": \"LANDSAT_7\", \"date\": \"2013-07-27\", \"millis\": 1374951079890, \"NBR\": -0.15750421585160201, \"Timestamp\": \"2013-07-27T18:51:19.890000\", \"Year\": 2013, \"Month\": 7, \"Day\": 27, \"DOY\": 208}, {\"SATELLITE\": \"LANDSAT_7\", \"date\": \"2014-07-14\", \"millis\": 1405364013810, \"NBR\": -0.1155403301152289, \"Timestamp\": \"2014-07-14T18:53:33.810000\", \"Year\": 2014, \"Month\": 7, \"Day\": 14, \"DOY\": 195}, {\"SATELLITE\": \"LANDSAT_7\", \"date\": \"2014-07-30\", \"millis\": 1406746420830, \"NBR\": -0.0790729379686435, \"Timestamp\": \"2014-07-30T18:53:40.830000\", \"Year\": 2014, \"Month\": 7, \"Day\": 30, \"DOY\": 211}, {\"SATELLITE\": \"LANDSAT_7\", \"date\": \"2015-08-18\", \"millis\": 1439924153900, \"NBR\": -0.028627838104639685, \"Timestamp\": \"2015-08-18T18:55:53.900000\", \"Year\": 2015, \"Month\": 8, \"Day\": 18, \"DOY\": 230}, {\"SATELLITE\": \"LANDSAT_7\", \"date\": \"2016-08-04\", \"millis\": 1470337120150, \"NBR\": 0.044866004215597714, \"Timestamp\": \"2016-08-04T18:58:40.150000\", \"Year\": 2016, \"Month\": 8, \"Day\": 4, \"DOY\": 217}, {\"SATELLITE\": \"LANDSAT_7\", \"date\": \"2017-07-22\", \"millis\": 1500749922360, \"NBR\": 0.06155120066243445, \"Timestamp\": \"2017-07-22T18:58:42.360000\", \"Year\": 2017, \"Month\": 7, \"Day\": 22, \"DOY\": 203}, {\"SATELLITE\": \"LANDSAT_7\", \"date\": \"2017-08-07\", \"millis\": 1502132320310, \"NBR\": 0.09473684210526316, \"Timestamp\": \"2017-08-07T18:58:40.310000\", \"Year\": 2017, \"Month\": 8, \"Day\": 7, \"DOY\": 219}, {\"SATELLITE\": \"LANDSAT_7\", \"date\": \"2018-07-25\", \"millis\": 1532544899780, \"NBR\": 0.0974304068522484, \"Timestamp\": \"2018-07-25T18:54:59.780000\", \"Year\": 2018, \"Month\": 7, \"Day\": 25, \"DOY\": 206}, {\"SATELLITE\": \"LANDSAT_7\", \"date\": \"2018-08-10\", \"millis\": 1533927282290, \"NBR\": 0.1155724362452523, \"Timestamp\": \"2018-08-10T18:54:42.290000\", \"Year\": 2018, \"Month\": 8, \"Day\": 10, \"DOY\": 222}, {\"SATELLITE\": \"LANDSAT_7\", \"date\": \"2019-07-28\", \"millis\": 1564339438984, \"NBR\": 0.07117534769566403, \"Timestamp\": \"2019-07-28T18:43:58.984000\", \"Year\": 2019, \"Month\": 7, \"Day\": 28, \"DOY\": 209}, {\"SATELLITE\": \"LANDSAT_7\", \"date\": \"2020-07-14\", \"millis\": 1594751156880, \"NBR\": 0.10021786492374728, \"Timestamp\": \"2020-07-14T18:25:56.880000\", \"Year\": 2020, \"Month\": 7, \"Day\": 14, \"DOY\": 196}, {\"SATELLITE\": \"LANDSAT_7\", \"date\": \"2020-07-30\", \"millis\": 1596133497482, \"NBR\": 0.059408676429953025, \"Timestamp\": \"2020-07-30T18:24:57.482000\", \"Year\": 2020, \"Month\": 7, \"Day\": 30, \"DOY\": 212}, {\"SATELLITE\": \"LANDSAT_7\", \"date\": \"2021-08-18\", \"millis\": 1629309353559, \"NBR\": 0.1575049843349473, \"Timestamp\": \"2021-08-18T17:55:53.559000\", \"Year\": 2021, \"Month\": 8, \"Day\": 18, \"DOY\": 230}, {\"SATELLITE\": \"LANDSAT_5\", \"date\": \"1985-07-15\", \"millis\": 490299587823, \"NBR\": 0.6736138419189933, \"Timestamp\": \"1985-07-15T18:19:47.823000\", \"Year\": 1985, \"Month\": 7, \"Day\": 15, \"DOY\": 196}, {\"SATELLITE\": \"LANDSAT_5\", \"date\": \"1985-08-16\", \"millis\": 493064370680, \"NBR\": 0.683340582862114, \"Timestamp\": \"1985-08-16T18:19:30.680000\", \"Year\": 1985, \"Month\": 8, \"Day\": 16, \"DOY\": 228}, {\"SATELLITE\": \"LANDSAT_5\", \"date\": \"1986-07-18\", \"millis\": 522094350531, \"NBR\": 0.6696774193548387, \"Timestamp\": \"1986-07-18T18:12:30.531000\", \"Year\": 1986, \"Month\": 7, \"Day\": 18, \"DOY\": 199}, {\"SATELLITE\": \"LANDSAT_5\", \"date\": \"1986-08-19\", \"millis\": 524859081054, \"NBR\": 0.6998191681735986, \"Timestamp\": \"1986-08-19T18:11:21.054000\", \"Year\": 1986, \"Month\": 8, \"Day\": 19, \"DOY\": 231}, {\"SATELLITE\": \"LANDSAT_5\", \"date\": \"1987-08-22\", \"millis\": 556654567706, \"NBR\": 0.6225764756570443, \"Timestamp\": \"1987-08-22T18:16:07.706000\", \"Year\": 1987, \"Month\": 8, \"Day\": 22, \"DOY\": 234}, {\"SATELLITE\": \"LANDSAT_5\", \"date\": \"1988-07-07\", \"millis\": 584302832378, \"NBR\": 0.6472617507546357, \"Timestamp\": \"1988-07-07T18:20:32.378000\", \"Year\": 1988, \"Month\": 7, \"Day\": 7, \"DOY\": 189}, {\"SATELLITE\": \"LANDSAT_5\", \"date\": \"1988-07-23\", \"millis\": 585685235815, \"NBR\": 0.6919720767888308, \"Timestamp\": \"1988-07-23T18:20:35.815000\", \"Year\": 1988, \"Month\": 7, \"Day\": 23, \"DOY\": 205}, {\"SATELLITE\": \"LANDSAT_5\", \"date\": \"1988-08-08\", \"millis\": 587067635137, \"NBR\": 0.6305841924398625, \"Timestamp\": \"1988-08-08T18:20:35.137000\", \"Year\": 1988, \"Month\": 8, \"Day\": 8, \"DOY\": 221}, {\"SATELLITE\": \"LANDSAT_5\", \"date\": \"1989-07-10\", \"millis\": 616097840838, \"NBR\": 0.6731563421828909, \"Timestamp\": \"1989-07-10T18:17:20.838000\", \"Year\": 1989, \"Month\": 7, \"Day\": 10, \"DOY\": 191}, {\"SATELLITE\": \"LANDSAT_5\", \"date\": \"1989-07-26\", \"millis\": 617480221785, \"NBR\": 0.66921768707483, \"Timestamp\": \"1989-07-26T18:17:01.785000\", \"Year\": 1989, \"Month\": 7, \"Day\": 26, \"DOY\": 207}, {\"SATELLITE\": \"LANDSAT_5\", \"date\": \"1989-08-11\", \"millis\": 618862599553, \"NBR\": 0.6604127579737336, \"Timestamp\": \"1989-08-11T18:16:39.553000\", \"Year\": 1989, \"Month\": 8, \"Day\": 11, \"DOY\": 223}, {\"SATELLITE\": \"LANDSAT_5\", \"date\": \"1990-07-29\", \"millis\": 649274994993, \"NBR\": 0.649059982094897, \"Timestamp\": \"1990-07-29T18:09:54.993000\", \"Year\": 1990, \"Month\": 7, \"Day\": 29, \"DOY\": 210}, {\"SATELLITE\": \"LANDSAT_5\", \"date\": \"1990-08-14\", \"millis\": 650657390575, \"NBR\": 0.5903197925669835, \"Timestamp\": \"1990-08-14T18:09:50.575000\", \"Year\": 1990, \"Month\": 8, \"Day\": 14, \"DOY\": 226}, {\"SATELLITE\": \"LANDSAT_5\", \"date\": \"1991-08-01\", \"millis\": 681070400060, \"NBR\": 0.5298773248911753, \"Timestamp\": \"1991-08-01T18:13:20.060000\", \"Year\": 1991, \"Month\": 8, \"Day\": 1, \"DOY\": 213}, {\"SATELLITE\": \"LANDSAT_5\", \"date\": \"1991-08-17\", \"millis\": 682452804631, \"NBR\": 0.6137339055793991, \"Timestamp\": \"1991-08-17T18:13:24.631000\", \"Year\": 1991, \"Month\": 8, \"Day\": 17, \"DOY\": 229}, {\"SATELLITE\": \"LANDSAT_5\", \"date\": \"1992-08-03\", \"millis\": 712865557786, \"NBR\": 0.5551257253384912, \"Timestamp\": \"1992-08-03T18:12:37.786000\", \"Year\": 1992, \"Month\": 8, \"Day\": 3, \"DOY\": 216}, {\"SATELLITE\": \"LANDSAT_5\", \"date\": \"1993-08-06\", \"millis\": 744660736430, \"NBR\": 0.5576649264356905, \"Timestamp\": \"1993-08-06T18:12:16.430000\", \"Year\": 1993, \"Month\": 8, \"Day\": 6, \"DOY\": 218}, {\"SATELLITE\": \"LANDSAT_5\", \"date\": \"1994-08-25\", \"millis\": 777838016092, \"NBR\": 0.6136257582827811, \"Timestamp\": \"1994-08-25T18:06:56.092000\", \"Year\": 1994, \"Month\": 8, \"Day\": 25, \"DOY\": 237}, {\"SATELLITE\": \"LANDSAT_5\", \"date\": \"1995-07-11\", \"millis\": 805485291694, \"NBR\": 0.6318327974276527, \"Timestamp\": \"1995-07-11T17:54:51.694000\", \"Year\": 1995, \"Month\": 7, \"Day\": 11, \"DOY\": 192}, {\"SATELLITE\": \"LANDSAT_5\", \"date\": \"1995-07-27\", \"millis\": 806867648464, \"NBR\": 0.6400541271989174, \"Timestamp\": \"1995-07-27T17:54:08.464000\", \"Year\": 1995, \"Month\": 7, \"Day\": 27, \"DOY\": 208}, {\"SATELLITE\": \"LANDSAT_5\", \"date\": \"1996-07-13\", \"millis\": 837281050858, \"NBR\": 0.6349717969379532, \"Timestamp\": \"1996-07-13T18:04:10.858000\", \"Year\": 1996, \"Month\": 7, \"Day\": 13, \"DOY\": 195}, {\"SATELLITE\": \"LANDSAT_5\", \"date\": \"1996-07-29\", \"millis\": 838663502323, \"NBR\": 0.64882400648824, \"Timestamp\": \"1996-07-29T18:05:02.323000\", \"Year\": 1996, \"Month\": 7, \"Day\": 29, \"DOY\": 211}, {\"SATELLITE\": \"LANDSAT_5\", \"date\": \"1996-08-14\", \"millis\": 840045952170, \"NBR\": 0.6544368600682594, \"Timestamp\": \"1996-08-14T18:05:52.170000\", \"Year\": 1996, \"Month\": 8, \"Day\": 14, \"DOY\": 227}, {\"SATELLITE\": \"LANDSAT_5\", \"date\": \"1997-07-16\", \"millis\": 869077223955, \"NBR\": 0.6119644300727567, \"Timestamp\": \"1997-07-16T18:20:23.955000\", \"Year\": 1997, \"Month\": 7, \"Day\": 16, \"DOY\": 197}, {\"SATELLITE\": \"LANDSAT_5\", \"date\": \"1997-08-01\", \"millis\": 870459655806, \"NBR\": 0.6268839103869653, \"Timestamp\": \"1997-08-01T18:20:55.806000\", \"Year\": 1997, \"Month\": 8, \"Day\": 1, \"DOY\": 213}, {\"SATELLITE\": \"LANDSAT_5\", \"date\": \"1998-07-19\", \"millis\": 900872889464, \"NBR\": 0.6471990464839095, \"Timestamp\": \"1998-07-19T18:28:09.464000\", \"Year\": 1998, \"Month\": 7, \"Day\": 19, \"DOY\": 200}, {\"SATELLITE\": \"LANDSAT_5\", \"date\": \"1998-08-04\", \"millis\": 902255293361, \"NBR\": 0.6449305847707194, \"Timestamp\": \"1998-08-04T18:28:13.361000\", \"Year\": 1998, \"Month\": 8, \"Day\": 4, \"DOY\": 216}, {\"SATELLITE\": \"LANDSAT_5\", \"date\": \"1999-07-22\", \"millis\": 932668055928, \"NBR\": 0.6483084185680567, \"Timestamp\": \"1999-07-22T18:27:35.928000\", \"Year\": 1999, \"Month\": 7, \"Day\": 22, \"DOY\": 203}, {\"SATELLITE\": \"LANDSAT_5\", \"date\": \"1999-08-23\", \"millis\": 935432838957, \"NBR\": 0.6040184177480117, \"Timestamp\": \"1999-08-23T18:27:18.957000\", \"Year\": 1999, \"Month\": 8, \"Day\": 23, \"DOY\": 235}, {\"SATELLITE\": \"LANDSAT_5\", \"date\": \"2000-08-09\", \"millis\": 965845640663, \"NBR\": 0.6413908671973189, \"Timestamp\": \"2000-08-09T18:27:20.663000\", \"Year\": 2000, \"Month\": 8, \"Day\": 9, \"DOY\": 222}, {\"SATELLITE\": \"LANDSAT_5\", \"date\": \"2000-08-25\", \"millis\": 967228060846, \"NBR\": 0.7005395683453237, \"Timestamp\": \"2000-08-25T18:27:40.846000\", \"Year\": 2000, \"Month\": 8, \"Day\": 25, \"DOY\": 238}, {\"SATELLITE\": \"LANDSAT_5\", \"date\": \"2001-07-11\", \"millis\": 994876216405, \"NBR\": 0.6319733555370525, \"Timestamp\": \"2001-07-11T18:30:16.405000\", \"Year\": 2001, \"Month\": 7, \"Day\": 11, \"DOY\": 192}, {\"SATELLITE\": \"LANDSAT_5\", \"date\": \"2001-07-27\", \"millis\": 996258611066, \"NBR\": 0.6062346185397867, \"Timestamp\": \"2001-07-27T18:30:11.066000\", \"Year\": 2001, \"Month\": 7, \"Day\": 27, \"DOY\": 208}, {\"SATELLITE\": \"LANDSAT_5\", \"date\": \"2001-08-12\", \"millis\": 997641009638, \"NBR\": 0.6328460877042132, \"Timestamp\": \"2001-08-12T18:30:09.638000\", \"Year\": 2001, \"Month\": 8, \"Day\": 12, \"DOY\": 224}, {\"SATELLITE\": \"LANDSAT_5\", \"date\": \"2001-08-28\", \"millis\": 999023403153, \"NBR\": 0.6531468531468532, \"Timestamp\": \"2001-08-28T18:30:03.153000\", \"Year\": 2001, \"Month\": 8, \"Day\": 28, \"DOY\": 240}, {\"SATELLITE\": \"LANDSAT_5\", \"date\": \"2002-07-14\", \"millis\": 1026671124420, \"NBR\": 0.6624334289225727, \"Timestamp\": \"2002-07-14T18:25:24.420000\", \"Year\": 2002, \"Month\": 7, \"Day\": 14, \"DOY\": 195}, {\"SATELLITE\": \"LANDSAT_5\", \"date\": \"2002-07-30\", \"millis\": 1028053502800, \"NBR\": 0.6486373165618449, \"Timestamp\": \"2002-07-30T18:25:02.800000\", \"Year\": 2002, \"Month\": 7, \"Day\": 30, \"DOY\": 211}, {\"SATELLITE\": \"LANDSAT_5\", \"date\": \"2002-08-31\", \"millis\": 1030818244460, \"NBR\": 0.6823308270676691, \"Timestamp\": \"2002-08-31T18:24:04.460000\", \"Year\": 2002, \"Month\": 8, \"Day\": 31, \"DOY\": 243}, {\"SATELLITE\": \"LANDSAT_5\", \"date\": \"2003-07-17\", \"millis\": 1058466378670, \"NBR\": 0.6315352697095435, \"Timestamp\": \"2003-07-17T18:26:18.670000\", \"Year\": 2003, \"Month\": 7, \"Day\": 17, \"DOY\": 198}, {\"SATELLITE\": \"LANDSAT_5\", \"date\": \"2003-08-18\", \"millis\": 1061231213740, \"NBR\": 0.6138482023968043, \"Timestamp\": \"2003-08-18T18:26:53.740000\", \"Year\": 2003, \"Month\": 8, \"Day\": 18, \"DOY\": 230}, {\"SATELLITE\": \"LANDSAT_5\", \"date\": \"2004-07-03\", \"millis\": 1088879511500, \"NBR\": 0.6316176470588235, \"Timestamp\": \"2004-07-03T18:31:51.500000\", \"Year\": 2004, \"Month\": 7, \"Day\": 3, \"DOY\": 185}, {\"SATELLITE\": \"LANDSAT_5\", \"date\": \"2004-08-20\", \"millis\": 1093026782670, \"NBR\": 0.6453900709219859, \"Timestamp\": \"2004-08-20T18:33:02.670000\", \"Year\": 2004, \"Month\": 8, \"Day\": 20, \"DOY\": 233}, {\"SATELLITE\": \"LANDSAT_5\", \"date\": \"2005-08-07\", \"millis\": 1123439871820, \"NBR\": 0.5435235318617243, \"Timestamp\": \"2005-08-07T18:37:51.820000\", \"Year\": 2005, \"Month\": 8, \"Day\": 7, \"DOY\": 219}, {\"SATELLITE\": \"LANDSAT_5\", \"date\": \"2005-08-23\", \"millis\": 1124822277300, \"NBR\": 0.6512141280353201, \"Timestamp\": \"2005-08-23T18:37:57.300000\", \"Year\": 2005, \"Month\": 8, \"Day\": 23, \"DOY\": 235}, {\"SATELLITE\": \"LANDSAT_5\", \"date\": \"2006-07-09\", \"millis\": 1152470570700, \"NBR\": 0.6366279069767442, \"Timestamp\": \"2006-07-09T18:42:50.700000\", \"Year\": 2006, \"Month\": 7, \"Day\": 9, \"DOY\": 190}, {\"SATELLITE\": \"LANDSAT_5\", \"date\": \"2006-07-25\", \"millis\": 1153852983260, \"NBR\": 0.6415478615071283, \"Timestamp\": \"2006-07-25T18:43:03.260000\", \"Year\": 2006, \"Month\": 7, \"Day\": 25, \"DOY\": 206}, {\"SATELLITE\": \"LANDSAT_5\", \"date\": \"2006-08-10\", \"millis\": 1155235394580, \"NBR\": 0.6675235646958012, \"Timestamp\": \"2006-08-10T18:43:14.580000\", \"Year\": 2006, \"Month\": 8, \"Day\": 10, \"DOY\": 222}, {\"SATELLITE\": \"LANDSAT_5\", \"date\": \"2006-08-26\", \"millis\": 1156617805450, \"NBR\": 0.6737269040108157, \"Timestamp\": \"2006-08-26T18:43:25.450000\", \"Year\": 2006, \"Month\": 8, \"Day\": 26, \"DOY\": 238}, {\"SATELLITE\": \"LANDSAT_5\", \"date\": \"2007-07-12\", \"millis\": 1184265814140, \"NBR\": 0.6103795507358637, \"Timestamp\": \"2007-07-12T18:43:34.140000\", \"Year\": 2007, \"Month\": 7, \"Day\": 12, \"DOY\": 193}, {\"SATELLITE\": \"LANDSAT_5\", \"date\": \"2007-07-28\", \"millis\": 1185648205010, \"NBR\": 0.6260290082320659, \"Timestamp\": \"2007-07-28T18:43:25.010000\", \"Year\": 2007, \"Month\": 7, \"Day\": 28, \"DOY\": 209}, {\"SATELLITE\": \"LANDSAT_5\", \"date\": \"2007-08-13\", \"millis\": 1187030594640, \"NBR\": 0.7322834645669292, \"Timestamp\": \"2007-08-13T18:43:14.640000\", \"Year\": 2007, \"Month\": 8, \"Day\": 13, \"DOY\": 225}, {\"SATELLITE\": \"LANDSAT_5\", \"date\": \"2007-08-29\", \"millis\": 1188412983310, \"NBR\": 0.621172353455818, \"Timestamp\": \"2007-08-29T18:43:03.310000\", \"Year\": 2007, \"Month\": 8, \"Day\": 29, \"DOY\": 241}, {\"SATELLITE\": \"LANDSAT_5\", \"date\": \"2008-07-14\", \"millis\": 1216060603380, \"NBR\": 0.6400164001640016, \"Timestamp\": \"2008-07-14T18:36:43.380000\", \"Year\": 2008, \"Month\": 7, \"Day\": 14, \"DOY\": 196}, {\"SATELLITE\": \"LANDSAT_5\", \"date\": \"2008-07-30\", \"millis\": 1217442974780, \"NBR\": 0.6323833126807105, \"Timestamp\": \"2008-07-30T18:36:14.780000\", \"Year\": 2008, \"Month\": 7, \"Day\": 30, \"DOY\": 212}, {\"SATELLITE\": \"LANDSAT_5\", \"date\": \"2008-08-15\", \"millis\": 1218825346170, \"NBR\": 0.6083439761600681, \"Timestamp\": \"2008-08-15T18:35:46.170000\", \"Year\": 2008, \"Month\": 8, \"Day\": 15, \"DOY\": 228}, {\"SATELLITE\": \"LANDSAT_5\", \"date\": \"2009-07-01\", \"millis\": 1246473509270, \"NBR\": 0.6317053642914331, \"Timestamp\": \"2009-07-01T18:38:29.270000\", \"Year\": 2009, \"Month\": 7, \"Day\": 1, \"DOY\": 182}, {\"SATELLITE\": \"LANDSAT_5\", \"date\": \"2009-08-18\", \"millis\": 1250620754100, \"NBR\": 0.6242371403661726, \"Timestamp\": \"2009-08-18T18:39:14.100000\", \"Year\": 2009, \"Month\": 8, \"Day\": 18, \"DOY\": 230}, {\"SATELLITE\": \"LANDSAT_5\", \"date\": \"2010-07-04\", \"millis\": 1278268824780, \"NBR\": 0.5536319156943922, \"Timestamp\": \"2010-07-04T18:40:24.780000\", \"Year\": 2010, \"Month\": 7, \"Day\": 4, \"DOY\": 185}, {\"SATELLITE\": \"LANDSAT_5\", \"date\": \"2010-07-20\", \"millis\": 1279651220920, \"NBR\": 0.6181965881397238, \"Timestamp\": \"2010-07-20T18:40:20.920000\", \"Year\": 2010, \"Month\": 7, \"Day\": 20, \"DOY\": 201}, {\"SATELLITE\": \"LANDSAT_5\", \"date\": \"2011-07-07\", \"millis\": 1310063943550, \"NBR\": 0.6050552922590837, \"Timestamp\": \"2011-07-07T18:39:03.550000\", \"Year\": 2011, \"Month\": 7, \"Day\": 7, \"DOY\": 188}, {\"SATELLITE\": \"LANDSAT_5\", \"date\": \"2011-07-23\", \"millis\": 1311446335790, \"NBR\": 0.6016771488469602, \"Timestamp\": \"2011-07-23T18:38:55.790000\", \"Year\": 2011, \"Month\": 7, \"Day\": 23, \"DOY\": 204}, {\"SATELLITE\": \"LANDSAT_5\", \"date\": \"2011-08-08\", \"millis\": 1312828726410, \"NBR\": 0.6260364842454395, \"Timestamp\": \"2011-08-08T18:38:46.410000\", \"Year\": 2011, \"Month\": 8, \"Day\": 8, \"DOY\": 220}, {\"SATELLITE\": \"LANDSAT_5\", \"date\": \"2011-08-24\", \"millis\": 1314211117970, \"NBR\": 0.5904347826086956, \"Timestamp\": \"2011-08-24T18:38:37.970000\", \"Year\": 2011, \"Month\": 8, \"Day\": 24, \"DOY\": 236}, {\"SATELLITE\": \"LANDSAT_5\", \"date\": \"1985-07-15\", \"millis\": 490299611663, \"NBR\": 0.6742722265932337, \"Timestamp\": \"1985-07-15T18:20:11.663000\", \"Year\": 1985, \"Month\": 7, \"Day\": 15, \"DOY\": 196}, {\"SATELLITE\": \"LANDSAT_5\", \"date\": \"1985-08-16\", \"millis\": 493064394522, \"NBR\": 0.6835664335664335, \"Timestamp\": \"1985-08-16T18:19:54.522000\", \"Year\": 1985, \"Month\": 8, \"Day\": 16, \"DOY\": 228}, {\"SATELLITE\": \"LANDSAT_5\", \"date\": \"1986-07-18\", \"millis\": 522094374393, \"NBR\": 0.6719486081370449, \"Timestamp\": \"1986-07-18T18:12:54.393000\", \"Year\": 1986, \"Month\": 7, \"Day\": 18, \"DOY\": 199}, {\"SATELLITE\": \"LANDSAT_5\", \"date\": \"1986-08-03\", \"millis\": 523476740239, \"NBR\": 0.6323024054982818, \"Timestamp\": \"1986-08-03T18:12:20.239000\", \"Year\": 1986, \"Month\": 8, \"Day\": 3, \"DOY\": 215}, {\"SATELLITE\": \"LANDSAT_5\", \"date\": \"1986-08-19\", \"millis\": 524859104776, \"NBR\": 0.6999548124717578, \"Timestamp\": \"1986-08-19T18:11:44.776000\", \"Year\": 1986, \"Month\": 8, \"Day\": 19, \"DOY\": 231}, {\"SATELLITE\": \"LANDSAT_5\", \"date\": \"1988-07-23\", \"millis\": 585685259616, \"NBR\": 0.6920384951881015, \"Timestamp\": \"1988-07-23T18:20:59.616000\", \"Year\": 1988, \"Month\": 7, \"Day\": 23, \"DOY\": 205}, {\"SATELLITE\": \"LANDSAT_5\", \"date\": \"1988-08-08\", \"millis\": 587067658940, \"NBR\": 0.6600173460537727, \"Timestamp\": \"1988-08-08T18:20:58.940000\", \"Year\": 1988, \"Month\": 8, \"Day\": 8, \"DOY\": 221}, {\"SATELLITE\": \"LANDSAT_5\", \"date\": \"1989-07-10\", \"millis\": 616097864673, \"NBR\": 0.6718009478672986, \"Timestamp\": \"1989-07-10T18:17:44.673000\", \"Year\": 1989, \"Month\": 7, \"Day\": 10, \"DOY\": 191}, {\"SATELLITE\": \"LANDSAT_5\", \"date\": \"1989-07-26\", \"millis\": 617480245477, \"NBR\": 0.6425243540872512, \"Timestamp\": \"1989-07-26T18:17:25.477000\", \"Year\": 1989, \"Month\": 7, \"Day\": 26, \"DOY\": 207}, {\"SATELLITE\": \"LANDSAT_5\", \"date\": \"1989-08-11\", \"millis\": 618862623391, \"NBR\": 0.660235294117647, \"Timestamp\": \"1989-08-11T18:17:03.391000\", \"Year\": 1989, \"Month\": 8, \"Day\": 11, \"DOY\": 223}, {\"SATELLITE\": \"LANDSAT_5\", \"date\": \"1990-08-14\", \"millis\": 650657414445, \"NBR\": 0.590653396797923, \"Timestamp\": \"1990-08-14T18:10:14.445000\", \"Year\": 1990, \"Month\": 8, \"Day\": 14, \"DOY\": 226}, {\"SATELLITE\": \"LANDSAT_5\", \"date\": \"1991-08-17\", \"millis\": 682452828382, \"NBR\": 0.6135820181731229, \"Timestamp\": \"1991-08-17T18:13:48.382000\", \"Year\": 1991, \"Month\": 8, \"Day\": 17, \"DOY\": 229}, {\"SATELLITE\": \"LANDSAT_5\", \"date\": \"1992-08-03\", \"millis\": 712865581708, \"NBR\": 0.5540475036354823, \"Timestamp\": \"1992-08-03T18:13:01.708000\", \"Year\": 1992, \"Month\": 8, \"Day\": 3, \"DOY\": 216}, {\"SATELLITE\": \"LANDSAT_5\", \"date\": \"1993-07-05\", \"millis\": 741895959847, \"NBR\": 0.516245487364621, \"Timestamp\": \"1993-07-05T18:12:39.847000\", \"Year\": 1993, \"Month\": 7, \"Day\": 5, \"DOY\": 186}, {\"SATELLITE\": \"LANDSAT_5\", \"date\": \"1993-08-06\", \"millis\": 744660760238, \"NBR\": 0.5571360834518729, \"Timestamp\": \"1993-08-06T18:12:40.238000\", \"Year\": 1993, \"Month\": 8, \"Day\": 6, \"DOY\": 218}, {\"SATELLITE\": \"LANDSAT_5\", \"date\": \"1994-08-25\", \"millis\": 777838039932, \"NBR\": 0.6140186915887851, \"Timestamp\": \"1994-08-25T18:07:19.932000\", \"Year\": 1994, \"Month\": 8, \"Day\": 25, \"DOY\": 237}, {\"SATELLITE\": \"LANDSAT_5\", \"date\": \"1995-07-11\", \"millis\": 805485315560, \"NBR\": 0.635205097570689, \"Timestamp\": \"1995-07-11T17:55:15.560000\", \"Year\": 1995, \"Month\": 7, \"Day\": 11, \"DOY\": 192}, {\"SATELLITE\": \"LANDSAT_5\", \"date\": \"1995-07-27\", \"millis\": 806867672331, \"NBR\": 0.6388261851015802, \"Timestamp\": \"1995-07-27T17:54:32.331000\", \"Year\": 1995, \"Month\": 7, \"Day\": 27, \"DOY\": 208}, {\"SATELLITE\": \"LANDSAT_5\", \"date\": \"1996-07-13\", \"millis\": 837281074606, \"NBR\": 0.6355591311343524, \"Timestamp\": \"1996-07-13T18:04:34.606000\", \"Year\": 1996, \"Month\": 7, \"Day\": 13, \"DOY\": 195}, {\"SATELLITE\": \"LANDSAT_5\", \"date\": \"1996-07-29\", \"millis\": 838663526072, \"NBR\": 0.648019599836668, \"Timestamp\": \"1996-07-29T18:05:26.072000\", \"Year\": 1996, \"Month\": 7, \"Day\": 29, \"DOY\": 211}, {\"SATELLITE\": \"LANDSAT_5\", \"date\": \"1996-08-14\", \"millis\": 840045976066, \"NBR\": 0.654257595207531, \"Timestamp\": \"1996-08-14T18:06:16.066000\", \"Year\": 1996, \"Month\": 8, \"Day\": 14, \"DOY\": 227}, {\"SATELLITE\": \"LANDSAT_5\", \"date\": \"1997-07-16\", \"millis\": 869077247733, \"NBR\": 0.6114933225414811, \"Timestamp\": \"1997-07-16T18:20:47.733000\", \"Year\": 1997, \"Month\": 7, \"Day\": 16, \"DOY\": 197}, {\"SATELLITE\": \"LANDSAT_5\", \"date\": \"1997-08-01\", \"millis\": 870459679584, \"NBR\": 0.6264814058030241, \"Timestamp\": \"1997-08-01T18:21:19.584000\", \"Year\": 1997, \"Month\": 8, \"Day\": 1, \"DOY\": 213}, {\"SATELLITE\": \"LANDSAT_5\", \"date\": \"1998-07-19\", \"millis\": 900872913268, \"NBR\": 0.6475735879077168, \"Timestamp\": \"1998-07-19T18:28:33.268000\", \"Year\": 1998, \"Month\": 7, \"Day\": 19, \"DOY\": 200}, {\"SATELLITE\": \"LANDSAT_5\", \"date\": \"1998-08-04\", \"millis\": 902255317162, \"NBR\": 0.6448755799240826, \"Timestamp\": \"1998-08-04T18:28:37.162000\", \"Year\": 1998, \"Month\": 8, \"Day\": 4, \"DOY\": 216}, {\"SATELLITE\": \"LANDSAT_5\", \"date\": \"1999-07-22\", \"millis\": 932668079753, \"NBR\": 0.6478484011054086, \"Timestamp\": \"1999-07-22T18:27:59.753000\", \"Year\": 1999, \"Month\": 7, \"Day\": 22, \"DOY\": 203}, {\"SATELLITE\": \"LANDSAT_5\", \"date\": \"2000-08-09\", \"millis\": 965845664505, \"NBR\": 0.6416040100250626, \"Timestamp\": \"2000-08-09T18:27:44.505000\", \"Year\": 2000, \"Month\": 8, \"Day\": 9, \"DOY\": 222}, {\"SATELLITE\": \"LANDSAT_5\", \"date\": \"2001-07-11\", \"millis\": 994876240116, \"NBR\": 0.6330427563304276, \"Timestamp\": \"2001-07-11T18:30:40.116000\", \"Year\": 2001, \"Month\": 7, \"Day\": 11, \"DOY\": 192}, {\"SATELLITE\": \"LANDSAT_5\", \"date\": \"2001-07-27\", \"millis\": 996258634923, \"NBR\": 0.6067461949814891, \"Timestamp\": \"2001-07-27T18:30:34.923000\", \"Year\": 2001, \"Month\": 7, \"Day\": 27, \"DOY\": 208}, {\"SATELLITE\": \"LANDSAT_5\", \"date\": \"2001-08-12\", \"millis\": 997641033496, \"NBR\": 0.6560175054704596, \"Timestamp\": \"2001-08-12T18:30:33.496000\", \"Year\": 2001, \"Month\": 8, \"Day\": 12, \"DOY\": 224}, {\"SATELLITE\": \"LANDSAT_5\", \"date\": \"2001-08-28\", \"millis\": 999023426866, \"NBR\": 0.651685393258427, \"Timestamp\": \"2001-08-28T18:30:26.866000\", \"Year\": 2001, \"Month\": 8, \"Day\": 28, \"DOY\": 240}, {\"SATELLITE\": \"LANDSAT_5\", \"date\": \"2002-07-14\", \"millis\": 1026671148110, \"NBR\": 0.6632527652601393, \"Timestamp\": \"2002-07-14T18:25:48.110000\", \"Year\": 2002, \"Month\": 7, \"Day\": 14, \"DOY\": 195}, {\"SATELLITE\": \"LANDSAT_5\", \"date\": \"2002-08-31\", \"millis\": 1030818268290, \"NBR\": 0.6844088553933113, \"Timestamp\": \"2002-08-31T18:24:28.290000\", \"Year\": 2002, \"Month\": 8, \"Day\": 31, \"DOY\": 243}, {\"SATELLITE\": \"LANDSAT_5\", \"date\": \"2003-07-17\", \"millis\": 1058466402500, \"NBR\": 0.6323651452282157, \"Timestamp\": \"2003-07-17T18:26:42.500000\", \"Year\": 2003, \"Month\": 7, \"Day\": 17, \"DOY\": 198}, {\"SATELLITE\": \"LANDSAT_5\", \"date\": \"2003-08-18\", \"millis\": 1061231237570, \"NBR\": 0.6147686832740213, \"Timestamp\": \"2003-08-18T18:27:17.570000\", \"Year\": 2003, \"Month\": 8, \"Day\": 18, \"DOY\": 230}, {\"SATELLITE\": \"LANDSAT_5\", \"date\": \"2004-08-20\", \"millis\": 1093026806500, \"NBR\": 0.6456483126110124, \"Timestamp\": \"2004-08-20T18:33:26.500000\", \"Year\": 2004, \"Month\": 8, \"Day\": 20, \"DOY\": 233}, {\"SATELLITE\": \"LANDSAT_5\", \"date\": \"2005-08-07\", \"millis\": 1123439895650, \"NBR\": 0.5442092154420921, \"Timestamp\": \"2005-08-07T18:38:15.650000\", \"Year\": 2005, \"Month\": 8, \"Day\": 7, \"DOY\": 219}, {\"SATELLITE\": \"LANDSAT_5\", \"date\": \"2005-08-23\", \"millis\": 1124822301130, \"NBR\": 0.6463251670378619, \"Timestamp\": \"2005-08-23T18:38:21.130000\", \"Year\": 2005, \"Month\": 8, \"Day\": 23, \"DOY\": 235}, {\"SATELLITE\": \"LANDSAT_5\", \"date\": \"2006-07-25\", \"millis\": 1153853007100, \"NBR\": 0.6455389584174405, \"Timestamp\": \"2006-07-25T18:43:27.100000\", \"Year\": 2006, \"Month\": 7, \"Day\": 25, \"DOY\": 206}, {\"SATELLITE\": \"LANDSAT_5\", \"date\": \"2006-08-10\", \"millis\": 1155235418410, \"NBR\": 0.6659473457056538, \"Timestamp\": \"2006-08-10T18:43:38.410000\", \"Year\": 2006, \"Month\": 8, \"Day\": 10, \"DOY\": 222}, {\"SATELLITE\": \"LANDSAT_5\", \"date\": \"2006-08-26\", \"millis\": 1156617829280, \"NBR\": 0.6709090909090909, \"Timestamp\": \"2006-08-26T18:43:49.280000\", \"Year\": 2006, \"Month\": 8, \"Day\": 26, \"DOY\": 238}, {\"SATELLITE\": \"LANDSAT_5\", \"date\": \"2007-07-12\", \"millis\": 1184265837830, \"NBR\": 0.6105508145849495, \"Timestamp\": \"2007-07-12T18:43:57.830000\", \"Year\": 2007, \"Month\": 7, \"Day\": 12, \"DOY\": 193}, {\"SATELLITE\": \"LANDSAT_5\", \"date\": \"2007-07-28\", \"millis\": 1185648228840, \"NBR\": 0.6241610738255033, \"Timestamp\": \"2007-07-28T18:43:48.840000\", \"Year\": 2007, \"Month\": 7, \"Day\": 28, \"DOY\": 209}, {\"SATELLITE\": \"LANDSAT_5\", \"date\": \"2007-08-13\", \"millis\": 1187030618470, \"NBR\": 0.7335190343546889, \"Timestamp\": \"2007-08-13T18:43:38.470000\", \"Year\": 2007, \"Month\": 8, \"Day\": 13, \"DOY\": 225}, {\"SATELLITE\": \"LANDSAT_5\", \"date\": \"2007-08-29\", \"millis\": 1188413007140, \"NBR\": 0.6013628620102215, \"Timestamp\": \"2007-08-29T18:43:27.140000\", \"Year\": 2007, \"Month\": 8, \"Day\": 29, \"DOY\": 241}, {\"SATELLITE\": \"LANDSAT_5\", \"date\": \"2008-07-14\", \"millis\": 1216060627070, \"NBR\": 0.6389802631578947, \"Timestamp\": \"2008-07-14T18:37:07.070000\", \"Year\": 2008, \"Month\": 7, \"Day\": 14, \"DOY\": 196}, {\"SATELLITE\": \"LANDSAT_5\", \"date\": \"2008-07-30\", \"millis\": 1217442998610, \"NBR\": 0.6317749275961936, \"Timestamp\": \"2008-07-30T18:36:38.610000\", \"Year\": 2008, \"Month\": 7, \"Day\": 30, \"DOY\": 212}, {\"SATELLITE\": \"LANDSAT_5\", \"date\": \"2008-08-15\", \"millis\": 1218825370000, \"NBR\": 0.611978068325601, \"Timestamp\": \"2008-08-15T18:36:10\", \"Year\": 2008, \"Month\": 8, \"Day\": 15, \"DOY\": 228}, {\"SATELLITE\": \"LANDSAT_5\", \"date\": \"2009-07-01\", \"millis\": 1246473533100, \"NBR\": 0.6308186195826645, \"Timestamp\": \"2009-07-01T18:38:53.100000\", \"Year\": 2009, \"Month\": 7, \"Day\": 1, \"DOY\": 182}, {\"SATELLITE\": \"LANDSAT_5\", \"date\": \"2009-07-17\", \"millis\": 1247855948940, \"NBR\": 0.5741769987174006, \"Timestamp\": \"2009-07-17T18:39:08.940000\", \"Year\": 2009, \"Month\": 7, \"Day\": 17, \"DOY\": 198}, {\"SATELLITE\": \"LANDSAT_5\", \"date\": \"2009-08-18\", \"millis\": 1250620777930, \"NBR\": 0.6279878313776619, \"Timestamp\": \"2009-08-18T18:39:37.930000\", \"Year\": 2009, \"Month\": 8, \"Day\": 18, \"DOY\": 230}, {\"SATELLITE\": \"LANDSAT_5\", \"date\": \"2010-07-04\", \"millis\": 1278268848610, \"NBR\": 0.553280242700038, \"Timestamp\": \"2010-07-04T18:40:48.610000\", \"Year\": 2010, \"Month\": 7, \"Day\": 4, \"DOY\": 185}, {\"SATELLITE\": \"LANDSAT_5\", \"date\": \"2010-07-20\", \"millis\": 1279651244750, \"NBR\": 0.622168284789644, \"Timestamp\": \"2010-07-20T18:40:44.750000\", \"Year\": 2010, \"Month\": 7, \"Day\": 20, \"DOY\": 201}, {\"SATELLITE\": \"LANDSAT_5\", \"date\": \"2011-07-07\", \"millis\": 1310063967380, \"NBR\": 0.6039603960396039, \"Timestamp\": \"2011-07-07T18:39:27.380000\", \"Year\": 2011, \"Month\": 7, \"Day\": 7, \"DOY\": 188}, {\"SATELLITE\": \"LANDSAT_5\", \"date\": \"2011-07-23\", \"millis\": 1311446359620, \"NBR\": 0.6013456686291001, \"Timestamp\": \"2011-07-23T18:39:19.620000\", \"Year\": 2011, \"Month\": 7, \"Day\": 23, \"DOY\": 204}, {\"SATELLITE\": \"LANDSAT_5\", \"date\": \"2011-08-08\", \"millis\": 1312828750240, \"NBR\": 0.6039360393603936, \"Timestamp\": \"2011-08-08T18:39:10.240000\", \"Year\": 2011, \"Month\": 8, \"Day\": 8, \"DOY\": 220}, {\"SATELLITE\": \"LANDSAT_5\", \"date\": \"2011-08-24\", \"millis\": 1314211141800, \"NBR\": 0.5958815958815958, \"Timestamp\": \"2011-08-24T18:39:01.800000\", \"Year\": 2011, \"Month\": 8, \"Day\": 24, \"DOY\": 236}, {\"SATELLITE\": \"LANDSAT_5\", \"date\": \"1984-07-03\", \"millis\": 457727074942, \"NBR\": 0.6754997675499768, \"Timestamp\": \"1984-07-03T18:24:34.942000\", \"Year\": 1984, \"Month\": 7, \"Day\": 3, \"DOY\": 185}, {\"SATELLITE\": \"LANDSAT_5\", \"date\": \"1984-07-19\", \"millis\": 459109494904, \"NBR\": 0.6879179670084707, \"Timestamp\": \"1984-07-19T18:24:54.904000\", \"Year\": 1984, \"Month\": 7, \"Day\": 19, \"DOY\": 201}, {\"SATELLITE\": \"LANDSAT_5\", \"date\": \"1984-08-04\", \"millis\": 460491928468, \"NBR\": 0.6418455915943353, \"Timestamp\": \"1984-08-04T18:25:28.468000\", \"Year\": 1984, \"Month\": 8, \"Day\": 4, \"DOY\": 217}, {\"SATELLITE\": \"LANDSAT_5\", \"date\": \"1985-07-06\", \"millis\": 489522361976, \"NBR\": 0.688032272523532, \"Timestamp\": \"1985-07-06T18:26:01.976000\", \"Year\": 1985, \"Month\": 7, \"Day\": 6, \"DOY\": 187}, {\"SATELLITE\": \"LANDSAT_5\", \"date\": \"1985-07-22\", \"millis\": 490904755480, \"NBR\": 0.6613496932515337, \"Timestamp\": \"1985-07-22T18:25:55.480000\", \"Year\": 1985, \"Month\": 7, \"Day\": 22, \"DOY\": 203}, {\"SATELLITE\": \"LANDSAT_5\", \"date\": \"1987-07-28\", \"millis\": 554494893564, \"NBR\": 0.6169374692269818, \"Timestamp\": \"1987-07-28T18:21:33.564000\", \"Year\": 1987, \"Month\": 7, \"Day\": 28, \"DOY\": 209}, {\"SATELLITE\": \"LANDSAT_5\", \"date\": \"1987-08-29\", \"millis\": 557259749729, \"NBR\": 0.620323325635104, \"Timestamp\": \"1987-08-29T18:22:29.729000\", \"Year\": 1987, \"Month\": 8, \"Day\": 29, \"DOY\": 241}, {\"SATELLITE\": \"LANDSAT_5\", \"date\": \"1988-08-31\", \"millis\": 589055210626, \"NBR\": 0.6256899147014551, \"Timestamp\": \"1988-08-31T18:26:50.626000\", \"Year\": 1988, \"Month\": 8, \"Day\": 31, \"DOY\": 244}, {\"SATELLITE\": \"LANDSAT_5\", \"date\": \"1990-07-20\", \"millis\": 648497766753, \"NBR\": 0.6797613127797116, \"Timestamp\": \"1990-07-20T18:16:06.753000\", \"Year\": 1990, \"Month\": 7, \"Day\": 20, \"DOY\": 201}, {\"SATELLITE\": \"LANDSAT_5\", \"date\": \"1990-08-05\", \"millis\": 649880162966, \"NBR\": 0.6683518705763397, \"Timestamp\": \"1990-08-05T18:16:02.966000\", \"Year\": 1990, \"Month\": 8, \"Day\": 5, \"DOY\": 217}, {\"SATELLITE\": \"LANDSAT_5\", \"date\": \"1991-07-07\", \"millis\": 678910755866, \"NBR\": 0.6250616674888998, \"Timestamp\": \"1991-07-07T18:19:15.866000\", \"Year\": 1991, \"Month\": 7, \"Day\": 7, \"DOY\": 188}, {\"SATELLITE\": \"LANDSAT_5\", \"date\": \"1991-07-23\", \"millis\": 680293169244, \"NBR\": 0.638148667601683, \"Timestamp\": \"1991-07-23T18:19:29.244000\", \"Year\": 1991, \"Month\": 7, \"Day\": 23, \"DOY\": 204}, {\"SATELLITE\": \"LANDSAT_5\", \"date\": \"1991-08-08\", \"millis\": 681675574128, \"NBR\": 0.6248077908764736, \"Timestamp\": \"1991-08-08T18:19:34.128000\", \"Year\": 1991, \"Month\": 8, \"Day\": 8, \"DOY\": 220}, {\"SATELLITE\": \"LANDSAT_5\", \"date\": \"1991-08-24\", \"millis\": 683057980589, \"NBR\": 0.636462289744981, \"Timestamp\": \"1991-08-24T18:19:40.589000\", \"Year\": 1991, \"Month\": 8, \"Day\": 24, \"DOY\": 236}, {\"SATELLITE\": \"LANDSAT_5\", \"date\": \"1992-08-10\", \"millis\": 713470722415, \"NBR\": 0.5497737556561086, \"Timestamp\": \"1992-08-10T18:18:42.415000\", \"Year\": 1992, \"Month\": 8, \"Day\": 10, \"DOY\": 223}, {\"SATELLITE\": \"LANDSAT_5\", \"date\": \"1992-08-26\", \"millis\": 714853106296, \"NBR\": 0.6076610562971562, \"Timestamp\": \"1992-08-26T18:18:26.296000\", \"Year\": 1992, \"Month\": 8, \"Day\": 26, \"DOY\": 239}, {\"SATELLITE\": \"LANDSAT_5\", \"date\": \"1993-08-29\", \"millis\": 746648305428, \"NBR\": 0.534804753820034, \"Timestamp\": \"1993-08-29T18:18:25.428000\", \"Year\": 1993, \"Month\": 8, \"Day\": 29, \"DOY\": 241}, {\"SATELLITE\": \"LANDSAT_5\", \"date\": \"1994-07-15\", \"millis\": 774296051745, \"NBR\": 0.6156156156156156, \"Timestamp\": \"1994-07-15T18:14:11.745000\", \"Year\": 1994, \"Month\": 7, \"Day\": 15, \"DOY\": 196}, {\"SATELLITE\": \"LANDSAT_5\", \"date\": \"1994-07-31\", \"millis\": 775678424069, \"NBR\": 0.6060301507537689, \"Timestamp\": \"1994-07-31T18:13:44.069000\", \"Year\": 1994, \"Month\": 7, \"Day\": 31, \"DOY\": 212}, {\"SATELLITE\": \"LANDSAT_5\", \"date\": \"1994-08-16\", \"millis\": 777060800116, \"NBR\": 0.6483516483516484, \"Timestamp\": \"1994-08-16T18:13:20.116000\", \"Year\": 1994, \"Month\": 8, \"Day\": 16, \"DOY\": 228}, {\"SATELLITE\": \"LANDSAT_5\", \"date\": \"1994-09-01\", \"millis\": 778443176446, \"NBR\": 0.6362672322375398, \"Timestamp\": \"1994-09-01T18:12:56.446000\", \"Year\": 1994, \"Month\": 9, \"Day\": 1, \"DOY\": 244}, {\"SATELLITE\": \"LANDSAT_5\", \"date\": \"1995-08-03\", \"millis\": 807472800150, \"NBR\": 0.6492146596858639, \"Timestamp\": \"1995-08-03T18:00:00.150000\", \"Year\": 1995, \"Month\": 8, \"Day\": 3, \"DOY\": 215}, {\"SATELLITE\": \"LANDSAT_5\", \"date\": \"1996-08-21\", \"millis\": 840651144418, \"NBR\": 0.6490066225165563, \"Timestamp\": \"1996-08-21T18:12:24.418000\", \"Year\": 1996, \"Month\": 8, \"Day\": 21, \"DOY\": 234}, {\"SATELLITE\": \"LANDSAT_5\", \"date\": \"1997-07-07\", \"millis\": 868299976153, \"NBR\": 0.6429240862230553, \"Timestamp\": \"1997-07-07T18:26:16.153000\", \"Year\": 1997, \"Month\": 7, \"Day\": 7, \"DOY\": 188}, {\"SATELLITE\": \"LANDSAT_5\", \"date\": \"1997-07-23\", \"millis\": 869682408878, \"NBR\": 0.6374822527212494, \"Timestamp\": \"1997-07-23T18:26:48.878000\", \"Year\": 1997, \"Month\": 7, \"Day\": 23, \"DOY\": 204}, {\"SATELLITE\": \"LANDSAT_5\", \"date\": \"1997-08-08\", \"millis\": 871064840131, \"NBR\": 0.6166666666666667, \"Timestamp\": \"1997-08-08T18:27:20.131000\", \"Year\": 1997, \"Month\": 8, \"Day\": 8, \"DOY\": 220}, {\"SATELLITE\": \"LANDSAT_5\", \"date\": \"1998-08-11\", \"millis\": 902860468757, \"NBR\": 0.6502415458937199, \"Timestamp\": \"1998-08-11T18:34:28.757000\", \"Year\": 1998, \"Month\": 8, \"Day\": 11, \"DOY\": 223}, {\"SATELLITE\": \"LANDSAT_5\", \"date\": \"1998-08-27\", \"millis\": 904242880098, \"NBR\": 0.7332652018395504, \"Timestamp\": \"1998-08-27T18:34:40.098000\", \"Year\": 1998, \"Month\": 8, \"Day\": 27, \"DOY\": 239}, {\"SATELLITE\": \"LANDSAT_5\", \"date\": \"1999-07-29\", \"millis\": 933273225000, \"NBR\": 0.6449375866851595, \"Timestamp\": \"1999-07-29T18:33:45\", \"Year\": 1999, \"Month\": 7, \"Day\": 29, \"DOY\": 210}, {\"SATELLITE\": \"LANDSAT_5\", \"date\": \"2000-07-15\", \"millis\": 963685984564, \"NBR\": 0.6321009918845807, \"Timestamp\": \"2000-07-15T18:33:04.564000\", \"Year\": 2000, \"Month\": 7, \"Day\": 15, \"DOY\": 197}, {\"SATELLITE\": \"LANDSAT_5\", \"date\": \"2000-08-16\", \"millis\": 966450822614, \"NBR\": 0.687888942077549, \"Timestamp\": \"2000-08-16T18:33:42.614000\", \"Year\": 2000, \"Month\": 8, \"Day\": 16, \"DOY\": 229}, {\"SATELLITE\": \"LANDSAT_5\", \"date\": \"2001-07-02\", \"millis\": 994098985587, \"NBR\": 0.6267281105990783, \"Timestamp\": \"2001-07-02T18:36:25.587000\", \"Year\": 2001, \"Month\": 7, \"Day\": 2, \"DOY\": 183}, {\"SATELLITE\": \"LANDSAT_5\", \"date\": \"2001-08-19\", \"millis\": 998246180200, \"NBR\": 0.6681795259707514, \"Timestamp\": \"2001-08-19T18:36:20.200000\", \"Year\": 2001, \"Month\": 8, \"Day\": 19, \"DOY\": 231}, {\"SATELLITE\": \"LANDSAT_5\", \"date\": \"2002-07-05\", \"millis\": 1025893906530, \"NBR\": 0.6237716424894713, \"Timestamp\": \"2002-07-05T18:31:46.530000\", \"Year\": 2002, \"Month\": 7, \"Day\": 5, \"DOY\": 186}, {\"SATELLITE\": \"LANDSAT_5\", \"date\": \"2002-07-21\", \"millis\": 1027276287630, \"NBR\": 0.6431574030826717, \"Timestamp\": \"2002-07-21T18:31:27.630000\", \"Year\": 2002, \"Month\": 7, \"Day\": 21, \"DOY\": 202}, {\"SATELLITE\": \"LANDSAT_5\", \"date\": \"2002-08-22\", \"millis\": 1030041029300, \"NBR\": 0.6362735381565907, \"Timestamp\": \"2002-08-22T18:30:29.300000\", \"Year\": 2002, \"Month\": 8, \"Day\": 22, \"DOY\": 234}, {\"SATELLITE\": \"LANDSAT_5\", \"date\": \"2003-08-25\", \"millis\": 1061836392860, \"NBR\": 0.6869109947643979, \"Timestamp\": \"2003-08-25T18:33:12.860000\", \"Year\": 2003, \"Month\": 8, \"Day\": 25, \"DOY\": 237}, {\"SATELLITE\": \"LANDSAT_5\", \"date\": \"2004-07-26\", \"millis\": 1090867118300, \"NBR\": 0.6268364348677767, \"Timestamp\": \"2004-07-26T18:38:38.300000\", \"Year\": 2004, \"Month\": 7, \"Day\": 26, \"DOY\": 208}, {\"SATELLITE\": \"LANDSAT_5\", \"date\": \"2004-08-11\", \"millis\": 1092249537770, \"NBR\": 0.6128712871287129, \"Timestamp\": \"2004-08-11T18:38:57.770000\", \"Year\": 2004, \"Month\": 8, \"Day\": 11, \"DOY\": 224}, {\"SATELLITE\": \"LANDSAT_5\", \"date\": \"2005-07-29\", \"millis\": 1122662638200, \"NBR\": 0.6079923882017126, \"Timestamp\": \"2005-07-29T18:43:58.200000\", \"Year\": 2005, \"Month\": 7, \"Day\": 29, \"DOY\": 210}, {\"SATELLITE\": \"LANDSAT_5\", \"date\": \"2005-08-14\", \"millis\": 1124045045320, \"NBR\": 0.6115537848605578, \"Timestamp\": \"2005-08-14T18:44:05.320000\", \"Year\": 2005, \"Month\": 8, \"Day\": 14, \"DOY\": 226}, {\"SATELLITE\": \"LANDSAT_5\", \"date\": \"2006-07-16\", \"millis\": 1153075747140, \"NBR\": 0.6627486437613019, \"Timestamp\": \"2006-07-16T18:49:07.140000\", \"Year\": 2006, \"Month\": 7, \"Day\": 16, \"DOY\": 197}, {\"SATELLITE\": \"LANDSAT_5\", \"date\": \"2006-08-17\", \"millis\": 1155840570100, \"NBR\": 0.6225225225225225, \"Timestamp\": \"2006-08-17T18:49:30.100000\", \"Year\": 2006, \"Month\": 8, \"Day\": 17, \"DOY\": 229}, {\"SATELLITE\": \"LANDSAT_5\", \"date\": \"2007-07-03\", \"millis\": 1183488589200, \"NBR\": 0.5948136142625607, \"Timestamp\": \"2007-07-03T18:49:49.200000\", \"Year\": 2007, \"Month\": 7, \"Day\": 3, \"DOY\": 184}, {\"SATELLITE\": \"LANDSAT_5\", \"date\": \"2007-08-04\", \"millis\": 1186253371330, \"NBR\": 0.657117278424351, \"Timestamp\": \"2007-08-04T18:49:31.330000\", \"Year\": 2007, \"Month\": 8, \"Day\": 4, \"DOY\": 216}, {\"SATELLITE\": \"LANDSAT_5\", \"date\": \"2008-07-21\", \"millis\": 1216665761700, \"NBR\": 0.6083481349911191, \"Timestamp\": \"2008-07-21T18:42:41.700000\", \"Year\": 2008, \"Month\": 7, \"Day\": 21, \"DOY\": 203}, {\"SATELLITE\": \"LANDSAT_5\", \"date\": \"2008-08-22\", \"millis\": 1219430506110, \"NBR\": 0.5897435897435898, \"Timestamp\": \"2008-08-22T18:41:46.110000\", \"Year\": 2008, \"Month\": 8, \"Day\": 22, \"DOY\": 235}, {\"SATELLITE\": \"LANDSAT_5\", \"date\": \"2009-07-24\", \"millis\": 1248461102410, \"NBR\": 0.6331994645247657, \"Timestamp\": \"2009-07-24T18:45:02.410000\", \"Year\": 2009, \"Month\": 7, \"Day\": 24, \"DOY\": 205}, {\"SATELLITE\": \"LANDSAT_5\", \"date\": \"2010-07-27\", \"millis\": 1280256389530, \"NBR\": 0.5998185117967332, \"Timestamp\": \"2010-07-27T18:46:29.530000\", \"Year\": 2010, \"Month\": 7, \"Day\": 27, \"DOY\": 208}, {\"SATELLITE\": \"LANDSAT_5\", \"date\": \"2010-08-12\", \"millis\": 1281638783120, \"NBR\": 0.6339746597841389, \"Timestamp\": \"2010-08-12T18:46:23.120000\", \"Year\": 2010, \"Month\": 8, \"Day\": 12, \"DOY\": 224}, {\"SATELLITE\": \"LANDSAT_5\", \"date\": \"2011-07-30\", \"millis\": 1312051502040, \"NBR\": 0.6010757507844016, \"Timestamp\": \"2011-07-30T18:45:02.040000\", \"Year\": 2011, \"Month\": 7, \"Day\": 30, \"DOY\": 211}, {\"SATELLITE\": \"LANDSAT_5\", \"date\": \"2011-08-15\", \"millis\": 1313433893480, \"NBR\": 0.6304347826086957, \"Timestamp\": \"2011-08-15T18:44:53.480000\", \"Year\": 2011, \"Month\": 8, \"Day\": 15, \"DOY\": 227}]}}, {\"mode\": \"vega-lite\"});\n",
              "</script>"
            ],
            "text/plain": [
              "alt.Chart(...)"
            ]
          },
          "metadata": {},
          "execution_count": 317
        }
      ]
    },
    {
      "cell_type": "code",
      "source": [
        "df_mean = df_nbr.groupby(['NBR','Year']).median().reset_index()\n",
        "df_mean"
      ],
      "metadata": {
        "colab": {
          "base_uri": "https://localhost:8080/",
          "height": 423
        },
        "id": "t0EehI1LSeXq",
        "outputId": "1fca810a-b593-442f-bd36-c669585ff9b8"
      },
      "execution_count": 318,
      "outputs": [
        {
          "output_type": "execute_result",
          "data": {
            "text/plain": [
              "          NBR  Year        millis  Month   Day    DOY\n",
              "0   -0.247891  2013  1.377025e+12    8.0  20.0  232.0\n",
              "1   -0.240260  2013  1.374260e+12    7.0  19.0  200.0\n",
              "2   -0.238752  2013  1.373655e+12    7.0  12.0  193.0\n",
              "3   -0.232396  2013  1.373655e+12    7.0  12.0  193.0\n",
              "4   -0.225421  2013  1.376420e+12    8.0  13.0  225.0\n",
              "..        ...   ...           ...    ...   ...    ...\n",
              "382  0.699955  1986  5.248591e+11    8.0  19.0  231.0\n",
              "383  0.700540  2000  9.672281e+11    8.0  25.0  238.0\n",
              "384  0.732283  2007  1.187031e+12    8.0  13.0  225.0\n",
              "385  0.733265  1998  9.042429e+11    8.0  27.0  239.0\n",
              "386  0.733519  2007  1.187031e+12    8.0  13.0  225.0\n",
              "\n",
              "[387 rows x 6 columns]"
            ],
            "text/html": [
              "\n",
              "  <div id=\"df-4c44b94d-bf51-4efc-a161-d465fd70ed36\">\n",
              "    <div class=\"colab-df-container\">\n",
              "      <div>\n",
              "<style scoped>\n",
              "    .dataframe tbody tr th:only-of-type {\n",
              "        vertical-align: middle;\n",
              "    }\n",
              "\n",
              "    .dataframe tbody tr th {\n",
              "        vertical-align: top;\n",
              "    }\n",
              "\n",
              "    .dataframe thead th {\n",
              "        text-align: right;\n",
              "    }\n",
              "</style>\n",
              "<table border=\"1\" class=\"dataframe\">\n",
              "  <thead>\n",
              "    <tr style=\"text-align: right;\">\n",
              "      <th></th>\n",
              "      <th>NBR</th>\n",
              "      <th>Year</th>\n",
              "      <th>millis</th>\n",
              "      <th>Month</th>\n",
              "      <th>Day</th>\n",
              "      <th>DOY</th>\n",
              "    </tr>\n",
              "  </thead>\n",
              "  <tbody>\n",
              "    <tr>\n",
              "      <th>0</th>\n",
              "      <td>-0.247891</td>\n",
              "      <td>2013</td>\n",
              "      <td>1.377025e+12</td>\n",
              "      <td>8.0</td>\n",
              "      <td>20.0</td>\n",
              "      <td>232.0</td>\n",
              "    </tr>\n",
              "    <tr>\n",
              "      <th>1</th>\n",
              "      <td>-0.240260</td>\n",
              "      <td>2013</td>\n",
              "      <td>1.374260e+12</td>\n",
              "      <td>7.0</td>\n",
              "      <td>19.0</td>\n",
              "      <td>200.0</td>\n",
              "    </tr>\n",
              "    <tr>\n",
              "      <th>2</th>\n",
              "      <td>-0.238752</td>\n",
              "      <td>2013</td>\n",
              "      <td>1.373655e+12</td>\n",
              "      <td>7.0</td>\n",
              "      <td>12.0</td>\n",
              "      <td>193.0</td>\n",
              "    </tr>\n",
              "    <tr>\n",
              "      <th>3</th>\n",
              "      <td>-0.232396</td>\n",
              "      <td>2013</td>\n",
              "      <td>1.373655e+12</td>\n",
              "      <td>7.0</td>\n",
              "      <td>12.0</td>\n",
              "      <td>193.0</td>\n",
              "    </tr>\n",
              "    <tr>\n",
              "      <th>4</th>\n",
              "      <td>-0.225421</td>\n",
              "      <td>2013</td>\n",
              "      <td>1.376420e+12</td>\n",
              "      <td>8.0</td>\n",
              "      <td>13.0</td>\n",
              "      <td>225.0</td>\n",
              "    </tr>\n",
              "    <tr>\n",
              "      <th>...</th>\n",
              "      <td>...</td>\n",
              "      <td>...</td>\n",
              "      <td>...</td>\n",
              "      <td>...</td>\n",
              "      <td>...</td>\n",
              "      <td>...</td>\n",
              "    </tr>\n",
              "    <tr>\n",
              "      <th>382</th>\n",
              "      <td>0.699955</td>\n",
              "      <td>1986</td>\n",
              "      <td>5.248591e+11</td>\n",
              "      <td>8.0</td>\n",
              "      <td>19.0</td>\n",
              "      <td>231.0</td>\n",
              "    </tr>\n",
              "    <tr>\n",
              "      <th>383</th>\n",
              "      <td>0.700540</td>\n",
              "      <td>2000</td>\n",
              "      <td>9.672281e+11</td>\n",
              "      <td>8.0</td>\n",
              "      <td>25.0</td>\n",
              "      <td>238.0</td>\n",
              "    </tr>\n",
              "    <tr>\n",
              "      <th>384</th>\n",
              "      <td>0.732283</td>\n",
              "      <td>2007</td>\n",
              "      <td>1.187031e+12</td>\n",
              "      <td>8.0</td>\n",
              "      <td>13.0</td>\n",
              "      <td>225.0</td>\n",
              "    </tr>\n",
              "    <tr>\n",
              "      <th>385</th>\n",
              "      <td>0.733265</td>\n",
              "      <td>1998</td>\n",
              "      <td>9.042429e+11</td>\n",
              "      <td>8.0</td>\n",
              "      <td>27.0</td>\n",
              "      <td>239.0</td>\n",
              "    </tr>\n",
              "    <tr>\n",
              "      <th>386</th>\n",
              "      <td>0.733519</td>\n",
              "      <td>2007</td>\n",
              "      <td>1.187031e+12</td>\n",
              "      <td>8.0</td>\n",
              "      <td>13.0</td>\n",
              "      <td>225.0</td>\n",
              "    </tr>\n",
              "  </tbody>\n",
              "</table>\n",
              "<p>387 rows × 6 columns</p>\n",
              "</div>\n",
              "      <button class=\"colab-df-convert\" onclick=\"convertToInteractive('df-4c44b94d-bf51-4efc-a161-d465fd70ed36')\"\n",
              "              title=\"Convert this dataframe to an interactive table.\"\n",
              "              style=\"display:none;\">\n",
              "        \n",
              "  <svg xmlns=\"http://www.w3.org/2000/svg\" height=\"24px\"viewBox=\"0 0 24 24\"\n",
              "       width=\"24px\">\n",
              "    <path d=\"M0 0h24v24H0V0z\" fill=\"none\"/>\n",
              "    <path d=\"M18.56 5.44l.94 2.06.94-2.06 2.06-.94-2.06-.94-.94-2.06-.94 2.06-2.06.94zm-11 1L8.5 8.5l.94-2.06 2.06-.94-2.06-.94L8.5 2.5l-.94 2.06-2.06.94zm10 10l.94 2.06.94-2.06 2.06-.94-2.06-.94-.94-2.06-.94 2.06-2.06.94z\"/><path d=\"M17.41 7.96l-1.37-1.37c-.4-.4-.92-.59-1.43-.59-.52 0-1.04.2-1.43.59L10.3 9.45l-7.72 7.72c-.78.78-.78 2.05 0 2.83L4 21.41c.39.39.9.59 1.41.59.51 0 1.02-.2 1.41-.59l7.78-7.78 2.81-2.81c.8-.78.8-2.07 0-2.86zM5.41 20L4 18.59l7.72-7.72 1.47 1.35L5.41 20z\"/>\n",
              "  </svg>\n",
              "      </button>\n",
              "      \n",
              "  <style>\n",
              "    .colab-df-container {\n",
              "      display:flex;\n",
              "      flex-wrap:wrap;\n",
              "      gap: 12px;\n",
              "    }\n",
              "\n",
              "    .colab-df-convert {\n",
              "      background-color: #E8F0FE;\n",
              "      border: none;\n",
              "      border-radius: 50%;\n",
              "      cursor: pointer;\n",
              "      display: none;\n",
              "      fill: #1967D2;\n",
              "      height: 32px;\n",
              "      padding: 0 0 0 0;\n",
              "      width: 32px;\n",
              "    }\n",
              "\n",
              "    .colab-df-convert:hover {\n",
              "      background-color: #E2EBFA;\n",
              "      box-shadow: 0px 1px 2px rgba(60, 64, 67, 0.3), 0px 1px 3px 1px rgba(60, 64, 67, 0.15);\n",
              "      fill: #174EA6;\n",
              "    }\n",
              "\n",
              "    [theme=dark] .colab-df-convert {\n",
              "      background-color: #3B4455;\n",
              "      fill: #D2E3FC;\n",
              "    }\n",
              "\n",
              "    [theme=dark] .colab-df-convert:hover {\n",
              "      background-color: #434B5C;\n",
              "      box-shadow: 0px 1px 3px 1px rgba(0, 0, 0, 0.15);\n",
              "      filter: drop-shadow(0px 1px 2px rgba(0, 0, 0, 0.3));\n",
              "      fill: #FFFFFF;\n",
              "    }\n",
              "  </style>\n",
              "\n",
              "      <script>\n",
              "        const buttonEl =\n",
              "          document.querySelector('#df-4c44b94d-bf51-4efc-a161-d465fd70ed36 button.colab-df-convert');\n",
              "        buttonEl.style.display =\n",
              "          google.colab.kernel.accessAllowed ? 'block' : 'none';\n",
              "\n",
              "        async function convertToInteractive(key) {\n",
              "          const element = document.querySelector('#df-4c44b94d-bf51-4efc-a161-d465fd70ed36');\n",
              "          const dataTable =\n",
              "            await google.colab.kernel.invokeFunction('convertToInteractive',\n",
              "                                                     [key], {});\n",
              "          if (!dataTable) return;\n",
              "\n",
              "          const docLinkHtml = 'Like what you see? Visit the ' +\n",
              "            '<a target=\"_blank\" href=https://colab.research.google.com/notebooks/data_table.ipynb>data table notebook</a>'\n",
              "            + ' to learn more about interactive tables.';\n",
              "          element.innerHTML = '';\n",
              "          dataTable['output_type'] = 'display_data';\n",
              "          await google.colab.output.renderOutput(dataTable, element);\n",
              "          const docLink = document.createElement('div');\n",
              "          docLink.innerHTML = docLinkHtml;\n",
              "          element.appendChild(docLink);\n",
              "        }\n",
              "      </script>\n",
              "    </div>\n",
              "  </div>\n",
              "  "
            ]
          },
          "metadata": {},
          "execution_count": 318
        }
      ]
    },
    {
      "cell_type": "code",
      "source": [
        "##Gráfico Série Temporal\n",
        "alt.Chart(df_mean).mark_line().encode(\n",
        "    x=alt.X('Year', title='Data',axis=alt.Axis(labelAngle=-80)),\n",
        "    y=alt.Y('NBR:Q', title='NBR', scale=alt.Scale(domain=[-0.5, 1])),\n",
        "    \n",
        "    \n",
        "    tooltip=[\n",
        "             alt.Tooltip('Year:N', title='Data'),\n",
        "             alt.Tooltip('NBR:Q'),\n",
        "             \n",
        "             ]).properties(title='Série histórica NBR por ano',width=800, height=400).interactive()"
      ],
      "metadata": {
        "colab": {
          "base_uri": "https://localhost:8080/",
          "height": 502
        },
        "id": "0B5xg1yQV0n6",
        "outputId": "2d221ce4-c635-41e5-f125-38c1edc4b6ce"
      },
      "execution_count": 319,
      "outputs": [
        {
          "output_type": "execute_result",
          "data": {
            "text/html": [
              "\n",
              "<div id=\"altair-viz-3b0dda677ac147239c1c9e806e708317\"></div>\n",
              "<script type=\"text/javascript\">\n",
              "  var VEGA_DEBUG = (typeof VEGA_DEBUG == \"undefined\") ? {} : VEGA_DEBUG;\n",
              "  (function(spec, embedOpt){\n",
              "    let outputDiv = document.currentScript.previousElementSibling;\n",
              "    if (outputDiv.id !== \"altair-viz-3b0dda677ac147239c1c9e806e708317\") {\n",
              "      outputDiv = document.getElementById(\"altair-viz-3b0dda677ac147239c1c9e806e708317\");\n",
              "    }\n",
              "    const paths = {\n",
              "      \"vega\": \"https://cdn.jsdelivr.net/npm//vega@5?noext\",\n",
              "      \"vega-lib\": \"https://cdn.jsdelivr.net/npm//vega-lib?noext\",\n",
              "      \"vega-lite\": \"https://cdn.jsdelivr.net/npm//vega-lite@4.17.0?noext\",\n",
              "      \"vega-embed\": \"https://cdn.jsdelivr.net/npm//vega-embed@6?noext\",\n",
              "    };\n",
              "\n",
              "    function maybeLoadScript(lib, version) {\n",
              "      var key = `${lib.replace(\"-\", \"\")}_version`;\n",
              "      return (VEGA_DEBUG[key] == version) ?\n",
              "        Promise.resolve(paths[lib]) :\n",
              "        new Promise(function(resolve, reject) {\n",
              "          var s = document.createElement('script');\n",
              "          document.getElementsByTagName(\"head\")[0].appendChild(s);\n",
              "          s.async = true;\n",
              "          s.onload = () => {\n",
              "            VEGA_DEBUG[key] = version;\n",
              "            return resolve(paths[lib]);\n",
              "          };\n",
              "          s.onerror = () => reject(`Error loading script: ${paths[lib]}`);\n",
              "          s.src = paths[lib];\n",
              "        });\n",
              "    }\n",
              "\n",
              "    function showError(err) {\n",
              "      outputDiv.innerHTML = `<div class=\"error\" style=\"color:red;\">${err}</div>`;\n",
              "      throw err;\n",
              "    }\n",
              "\n",
              "    function displayChart(vegaEmbed) {\n",
              "      vegaEmbed(outputDiv, spec, embedOpt)\n",
              "        .catch(err => showError(`Javascript Error: ${err.message}<br>This usually means there's a typo in your chart specification. See the javascript console for the full traceback.`));\n",
              "    }\n",
              "\n",
              "    if(typeof define === \"function\" && define.amd) {\n",
              "      requirejs.config({paths});\n",
              "      require([\"vega-embed\"], displayChart, err => showError(`Error loading script: ${err.message}`));\n",
              "    } else {\n",
              "      maybeLoadScript(\"vega\", \"5\")\n",
              "        .then(() => maybeLoadScript(\"vega-lite\", \"4.17.0\"))\n",
              "        .then(() => maybeLoadScript(\"vega-embed\", \"6\"))\n",
              "        .catch(showError)\n",
              "        .then(() => displayChart(vegaEmbed));\n",
              "    }\n",
              "  })({\"config\": {\"view\": {\"continuousWidth\": 400, \"continuousHeight\": 300}}, \"data\": {\"name\": \"data-018b7a2478350aeabd96a625ff281e98\"}, \"mark\": \"line\", \"encoding\": {\"tooltip\": [{\"field\": \"Year\", \"title\": \"Data\", \"type\": \"nominal\"}, {\"field\": \"NBR\", \"type\": \"quantitative\"}], \"x\": {\"axis\": {\"labelAngle\": -80}, \"field\": \"Year\", \"title\": \"Data\", \"type\": \"quantitative\"}, \"y\": {\"field\": \"NBR\", \"scale\": {\"domain\": [-0.5, 1]}, \"title\": \"NBR\", \"type\": \"quantitative\"}}, \"height\": 400, \"selection\": {\"selector021\": {\"type\": \"interval\", \"bind\": \"scales\", \"encodings\": [\"x\", \"y\"]}}, \"title\": \"S\\u00e9rie hist\\u00f3rica NBR por ano\", \"width\": 800, \"$schema\": \"https://vega.github.io/schema/vega-lite/v4.17.0.json\", \"datasets\": {\"data-018b7a2478350aeabd96a625ff281e98\": [{\"NBR\": -0.247890719164323, \"Year\": 2013, \"millis\": 1377025084880.0, \"Month\": 8.0, \"Day\": 20.0, \"DOY\": 232.0}, {\"NBR\": -0.24025974025974026, \"Year\": 2013, \"millis\": 1374260280780.0, \"Month\": 7.0, \"Day\": 19.0, \"DOY\": 200.0}, {\"NBR\": -0.23875224955008997, \"Year\": 2013, \"millis\": 1373655135460.0, \"Month\": 7.0, \"Day\": 12.0, \"DOY\": 193.0}, {\"NBR\": -0.23239649440918705, \"Year\": 2013, \"millis\": 1373655111580.0, \"Month\": 7.0, \"Day\": 12.0, \"DOY\": 193.0}, {\"NBR\": -0.22542134831460675, \"Year\": 2013, \"millis\": 1376419936320.0, \"Month\": 8.0, \"Day\": 13.0, \"DOY\": 225.0}, {\"NBR\": -0.22381477398015434, \"Year\": 2013, \"millis\": 1372877881900.0, \"Month\": 7.0, \"Day\": 3.0, \"DOY\": 184.0}, {\"NBR\": -0.2157968970380818, \"Year\": 2013, \"millis\": 1376419912430.0, \"Month\": 8.0, \"Day\": 13.0, \"DOY\": 225.0}, {\"NBR\": -0.21547314578005114, \"Year\": 2013, \"millis\": 1375037535580.0, \"Month\": 7.0, \"Day\": 28.0, \"DOY\": 209.0}, {\"NBR\": -0.2128, \"Year\": 2013, \"millis\": 1375037511700.0, \"Month\": 7.0, \"Day\": 28.0, \"DOY\": 209.0}, {\"NBR\": -0.18035190615835778, \"Year\": 2013, \"millis\": 1375642683640.0, \"Month\": 8.0, \"Day\": 4.0, \"DOY\": 216.0}, {\"NBR\": -0.16623853211009174, \"Year\": 2014, \"millis\": 1407437764670.0, \"Month\": 8.0, \"Day\": 7.0, \"DOY\": 219.0}, {\"NBR\": -0.16133043207957726, \"Year\": 2013, \"millis\": 1375728331360.0, \"Month\": 8.0, \"Day\": 5.0, \"DOY\": 217.0}, {\"NBR\": -0.1606060606060606, \"Year\": 2014, \"millis\": 1405450208370.0, \"Month\": 7.0, \"Day\": 15.0, \"DOY\": 196.0}, {\"NBR\": -0.15750421585160201, \"Year\": 2013, \"millis\": 1374951079890.0, \"Month\": 7.0, \"Day\": 27.0, \"DOY\": 208.0}, {\"NBR\": -0.15732040012124887, \"Year\": 2014, \"millis\": 1405450184480.0, \"Month\": 7.0, \"Day\": 15.0, \"DOY\": 196.0}, {\"NBR\": -0.14899240171787248, \"Year\": 2013, \"millis\": 1373568686940.0, \"Month\": 7.0, \"Day\": 11.0, \"DOY\": 192.0}, {\"NBR\": -0.1471513456833275, \"Year\": 2014, \"millis\": 1404672952700.0, \"Month\": 7.0, \"Day\": 6.0, \"DOY\": 187.0}, {\"NBR\": -0.13869499241274658, \"Year\": 2013, \"millis\": 1372963544840.0, \"Month\": 7.0, \"Day\": 4.0, \"DOY\": 185.0}, {\"NBR\": -0.1374680306905371, \"Year\": 2013, \"millis\": 1375728307480.0, \"Month\": 8.0, \"Day\": 5.0, \"DOY\": 217.0}, {\"NBR\": -0.1332518337408313, \"Year\": 2013, \"millis\": 1372963520960.0, \"Month\": 7.0, \"Day\": 4.0, \"DOY\": 185.0}, {\"NBR\": -0.12495942875689711, \"Year\": 2014, \"millis\": 1406832613990.0, \"Month\": 7.0, \"Day\": 31.0, \"DOY\": 212.0}, {\"NBR\": -0.12177777777777778, \"Year\": 2014, \"millis\": 1404758867590.0, \"Month\": 7.0, \"Day\": 7.0, \"DOY\": 188.0}, {\"NBR\": -0.11649214659685864, \"Year\": 2014, \"millis\": 1406832590110.0, \"Month\": 7.0, \"Day\": 31.0, \"DOY\": 212.0}, {\"NBR\": -0.1155403301152289, \"Year\": 2014, \"millis\": 1405364013810.0, \"Month\": 7.0, \"Day\": 14.0, \"DOY\": 195.0}, {\"NBR\": -0.10923076923076923, \"Year\": 2012, \"millis\": 1343155855810.0, \"Month\": 7.0, \"Day\": 24.0, \"DOY\": 206.0}, {\"NBR\": -0.1073038773669973, \"Year\": 2014, \"millis\": 1404758843710.0, \"Month\": 7.0, \"Day\": 7.0, \"DOY\": 188.0}, {\"NBR\": -0.10367892976588629, \"Year\": 2014, \"millis\": 1408820167780.0, \"Month\": 8.0, \"Day\": 23.0, \"DOY\": 235.0}, {\"NBR\": -0.10199203187250996, \"Year\": 2012, \"millis\": 1345920676760.0, \"Month\": 8.0, \"Day\": 25.0, \"DOY\": 238.0}, {\"NBR\": -0.09432544156332207, \"Year\": 2012, \"millis\": 1341773444780.0, \"Month\": 7.0, \"Day\": 8.0, \"DOY\": 190.0}, {\"NBR\": -0.08847184986595175, \"Year\": 2015, \"millis\": 1440010200918.0, \"Month\": 8.0, \"Day\": 19.0, \"DOY\": 231.0}, {\"NBR\": -0.08786049631120053, \"Year\": 2015, \"millis\": 1440010177031.0, \"Month\": 8.0, \"Day\": 19.0, \"DOY\": 231.0}, {\"NBR\": -0.08072289156626505, \"Year\": 2015, \"millis\": 1437245390280.0, \"Month\": 7.0, \"Day\": 18.0, \"DOY\": 199.0}, {\"NBR\": -0.0790729379686435, \"Year\": 2014, \"millis\": 1406746420830.0, \"Month\": 7.0, \"Day\": 30.0, \"DOY\": 211.0}, {\"NBR\": -0.0789156626506024, \"Year\": 2015, \"millis\": 1437245366390.0, \"Month\": 7.0, \"Day\": 18.0, \"DOY\": 199.0}, {\"NBR\": -0.07848718991459944, \"Year\": 2014, \"millis\": 1409597422360.0, \"Month\": 9.0, \"Day\": 1.0, \"DOY\": 244.0}, {\"NBR\": -0.07832744405182568, \"Year\": 2015, \"millis\": 1435862980810.0, \"Month\": 7.0, \"Day\": 2.0, \"DOY\": 183.0}, {\"NBR\": -0.0734094616639478, \"Year\": 2014, \"millis\": 1409597398470.0, \"Month\": 9.0, \"Day\": 1.0, \"DOY\": 244.0}, {\"NBR\": -0.07337278106508875, \"Year\": 2015, \"millis\": 1435862956920.0, \"Month\": 7.0, \"Day\": 2.0, \"DOY\": 183.0}, {\"NBR\": -0.0488974113135187, \"Year\": 2015, \"millis\": 1440701382930.0, \"Month\": 8.0, \"Day\": 27.0, \"DOY\": 239.0}, {\"NBR\": -0.03381267003497863, \"Year\": 2014, \"millis\": 1408215020170.0, \"Month\": 8.0, \"Day\": 16.0, \"DOY\": 228.0}, {\"NBR\": -0.03288958496476116, \"Year\": 2014, \"millis\": 1408214996280.0, \"Month\": 8.0, \"Day\": 16.0, \"DOY\": 228.0}, {\"NBR\": -0.028627838104639685, \"Year\": 2015, \"millis\": 1439924153900.0, \"Month\": 8.0, \"Day\": 18.0, \"DOY\": 230.0}, {\"NBR\": -0.027392120075046905, \"Year\": 2015, \"millis\": 1440615350421.0, \"Month\": 8.0, \"Day\": 26.0, \"DOY\": 238.0}, {\"NBR\": -0.02622950819672131, \"Year\": 2015, \"millis\": 1440701406820.0, \"Month\": 8.0, \"Day\": 27.0, \"DOY\": 239.0}, {\"NBR\": -0.01675363911013458, \"Year\": 2015, \"millis\": 1436554175340.0, \"Month\": 7.0, \"Day\": 10.0, \"DOY\": 191.0}, {\"NBR\": -0.014833127317676144, \"Year\": 2016, \"millis\": 1471805423190.0, \"Month\": 8.0, \"Day\": 21.0, \"DOY\": 234.0}, {\"NBR\": -0.01238390092879257, \"Year\": 2016, \"millis\": 1471805399300.0, \"Month\": 8.0, \"Day\": 21.0, \"DOY\": 234.0}, {\"NBR\": -0.011764705882352941, \"Year\": 2017, \"millis\": 1499453403920.0, \"Month\": 7.0, \"Day\": 7.0, \"DOY\": 188.0}, {\"NBR\": -0.008914525432616675, \"Year\": 2017, \"millis\": 1499453380040.0, \"Month\": 7.0, \"Day\": 7.0, \"DOY\": 188.0}, {\"NBR\": -0.0035393411380343046, \"Year\": 2016, \"millis\": 1467658208770.0, \"Month\": 7.0, \"Day\": 4.0, \"DOY\": 186.0}, {\"NBR\": 0.0024543223343332426, \"Year\": 2016, \"millis\": 1467658184880.0, \"Month\": 7.0, \"Day\": 4.0, \"DOY\": 186.0}, {\"NBR\": 0.007146783947223749, \"Year\": 2016, \"millis\": 1469731948550.0, \"Month\": 7.0, \"Day\": 28.0, \"DOY\": 210.0}, {\"NBR\": 0.00851581508515815, \"Year\": 2016, \"millis\": 1472496776980.0, \"Month\": 8.0, \"Day\": 29.0, \"DOY\": 242.0}, {\"NBR\": 0.012159814707585408, \"Year\": 2016, \"millis\": 1470423017710.0, \"Month\": 8.0, \"Day\": 5.0, \"DOY\": 218.0}, {\"NBR\": 0.014786894752102058, \"Year\": 2016, \"millis\": 1470422993830.0, \"Month\": 8.0, \"Day\": 5.0, \"DOY\": 218.0}, {\"NBR\": 0.015262515262515262, \"Year\": 2016, \"millis\": 1472496753100.0, \"Month\": 8.0, \"Day\": 29.0, \"DOY\": 242.0}, {\"NBR\": 0.01864736988588923, \"Year\": 2016, \"millis\": 1469731972430.0, \"Month\": 7.0, \"Day\": 28.0, \"DOY\": 210.0}, {\"NBR\": 0.019944598337950138, \"Year\": 2018, \"millis\": 1531853714150.0, \"Month\": 7.0, \"Day\": 17.0, \"DOY\": 198.0}, {\"NBR\": 0.020766773162939296, \"Year\": 2017, \"millis\": 1501527150570.0, \"Month\": 7.0, \"Day\": 31.0, \"DOY\": 212.0}, {\"NBR\": 0.021136063408190225, \"Year\": 2016, \"millis\": 1471028165500.0, \"Month\": 8.0, \"Day\": 12.0, \"DOY\": 225.0}, {\"NBR\": 0.021237864077669904, \"Year\": 2017, \"millis\": 1501440960260.0, \"Month\": 7.0, \"Day\": 30.0, \"DOY\": 211.0}, {\"NBR\": 0.02160576153640971, \"Year\": 2017, \"millis\": 1501527174460.0, \"Month\": 7.0, \"Day\": 31.0, \"DOY\": 212.0}, {\"NBR\": 0.025880885562831305, \"Year\": 2016, \"millis\": 1469645763410.0, \"Month\": 7.0, \"Day\": 27.0, \"DOY\": 209.0}, {\"NBR\": 0.02701312065860561, \"Year\": 2018, \"millis\": 1532630970430.0, \"Month\": 7.0, \"Day\": 26.0, \"DOY\": 207.0}, {\"NBR\": 0.02801336417373426, \"Year\": 2018, \"millis\": 1532630946540.0, \"Month\": 7.0, \"Day\": 26.0, \"DOY\": 207.0}, {\"NBR\": 0.03662138216184288, \"Year\": 2017, \"millis\": 1500058552140.0, \"Month\": 7.0, \"Day\": 14.0, \"DOY\": 195.0}, {\"NBR\": 0.038893239363090575, \"Year\": 2017, \"millis\": 1500144775770.0, \"Month\": 7.0, \"Day\": 15.0, \"DOY\": 196.0}, {\"NBR\": 0.03981141959140912, \"Year\": 2017, \"millis\": 1500144751890.0, \"Month\": 7.0, \"Day\": 15.0, \"DOY\": 196.0}, {\"NBR\": 0.040046096225871505, \"Year\": 2017, \"millis\": 1502218216900.0, \"Month\": 8.0, \"Day\": 8.0, \"DOY\": 220.0}, {\"NBR\": 0.042375324300951284, \"Year\": 2017, \"millis\": 1502218193010.0, \"Month\": 8.0, \"Day\": 8.0, \"DOY\": 220.0}, {\"NBR\": 0.044866004215597714, \"Year\": 2016, \"millis\": 1470337120150.0, \"Month\": 8.0, \"Day\": 4.0, \"DOY\": 217.0}, {\"NBR\": 0.04599145513948228, \"Year\": 2018, \"millis\": 1531939736160.0, \"Month\": 7.0, \"Day\": 18.0, \"DOY\": 199.0}, {\"NBR\": 0.046263345195729534, \"Year\": 2017, \"millis\": 1502909572450.0, \"Month\": 8.0, \"Day\": 16.0, \"DOY\": 228.0}, {\"NBR\": 0.046511627906976744, \"Year\": 2018, \"millis\": 1531939760040.0, \"Month\": 7.0, \"Day\": 18.0, \"DOY\": 199.0}, {\"NBR\": 0.0465173517105587, \"Year\": 2020, \"millis\": 1594839008585.0, \"Month\": 7.0, \"Day\": 15.0, \"DOY\": 197.0}, {\"NBR\": 0.04730831973898858, \"Year\": 2017, \"millis\": 1500835810100.0, \"Month\": 7.0, \"Day\": 23.0, \"DOY\": 204.0}, {\"NBR\": 0.04743729552889858, \"Year\": 2018, \"millis\": 1534704524900.0, \"Month\": 8.0, \"Day\": 19.0, \"DOY\": 231.0}, {\"NBR\": 0.04822834645669291, \"Year\": 2020, \"millis\": 1594838984703.0, \"Month\": 7.0, \"Day\": 15.0, \"DOY\": 197.0}, {\"NBR\": 0.05200108902804247, \"Year\": 2017, \"millis\": 1500835786200.0, \"Month\": 7.0, \"Day\": 23.0, \"DOY\": 204.0}, {\"NBR\": 0.05302042590178183, \"Year\": 2021, \"millis\": 1625251810040.0, \"Month\": 7.0, \"Day\": 2.0, \"DOY\": 183.0}, {\"NBR\": 0.05326413548210871, \"Year\": 2018, \"millis\": 1534704501010.0, \"Month\": 8.0, \"Day\": 19.0, \"DOY\": 231.0}, {\"NBR\": 0.053497942386831275, \"Year\": 2019, \"millis\": 1564426218289.0, \"Month\": 7.0, \"Day\": 29.0, \"DOY\": 210.0}, {\"NBR\": 0.05415162454873646, \"Year\": 2019, \"millis\": 1564426194398.0, \"Month\": 7.0, \"Day\": 29.0, \"DOY\": 210.0}, {\"NBR\": 0.05579773321708806, \"Year\": 2021, \"millis\": 1625251786157.0, \"Month\": 7.0, \"Day\": 2.0, \"DOY\": 183.0}, {\"NBR\": 0.058569667077681874, \"Year\": 2018, \"millis\": 1534618530681.0, \"Month\": 8.0, \"Day\": 18.0, \"DOY\": 230.0}, {\"NBR\": 0.059408676429953025, \"Year\": 2020, \"millis\": 1596133497482.0, \"Month\": 7.0, \"Day\": 30.0, \"DOY\": 212.0}, {\"NBR\": 0.06075726445553273, \"Year\": 2017, \"millis\": 1502909548560.0, \"Month\": 8.0, \"Day\": 16.0, \"DOY\": 228.0}, {\"NBR\": 0.06155120066243445, \"Year\": 2017, \"millis\": 1500749922360.0, \"Month\": 7.0, \"Day\": 22.0, \"DOY\": 203.0}, {\"NBR\": 0.06500541711809317, \"Year\": 2020, \"millis\": 1595444157671.0, \"Month\": 7.0, \"Day\": 22.0, \"DOY\": 204.0}, {\"NBR\": 0.06683168316831684, \"Year\": 2018, \"millis\": 1531248564210.0, \"Month\": 7.0, \"Day\": 10.0, \"DOY\": 191.0}, {\"NBR\": 0.0672036244651397, \"Year\": 2019, \"millis\": 1563734308953.0, \"Month\": 7.0, \"Day\": 21.0, \"DOY\": 202.0}, {\"NBR\": 0.06734250543084722, \"Year\": 2018, \"millis\": 1533322119300.0, \"Month\": 8.0, \"Day\": 3.0, \"DOY\": 215.0}, {\"NBR\": 0.06745640013162224, \"Year\": 2016, \"millis\": 1472410572980.0, \"Month\": 8.0, \"Day\": 28.0, \"DOY\": 241.0}, {\"NBR\": 0.06764260474507824, \"Year\": 2019, \"millis\": 1563734285072.0, \"Month\": 7.0, \"Day\": 21.0, \"DOY\": 202.0}, {\"NBR\": 0.06796642296236122, \"Year\": 2019, \"millis\": 1565808624038.0, \"Month\": 8.0, \"Day\": 14.0, \"DOY\": 226.0}, {\"NBR\": 0.06817610062893081, \"Year\": 2020, \"millis\": 1595528352850.0, \"Month\": 7.0, \"Day\": 23.0, \"DOY\": 205.0}, {\"NBR\": 0.06827916351725875, \"Year\": 2020, \"millis\": 1595528376731.0, \"Month\": 7.0, \"Day\": 23.0, \"DOY\": 205.0}, {\"NBR\": 0.06858846918489066, \"Year\": 2018, \"millis\": 1531248540320.0, \"Month\": 7.0, \"Day\": 10.0, \"DOY\": 191.0}, {\"NBR\": 0.06922660897782586, \"Year\": 2019, \"millis\": 1565808600151.0, \"Month\": 8.0, \"Day\": 14.0, \"DOY\": 226.0}, {\"NBR\": 0.07117534769566403, \"Year\": 2019, \"millis\": 1564339438984.0, \"Month\": 7.0, \"Day\": 28.0, \"DOY\": 209.0}, {\"NBR\": 0.07121212121212121, \"Year\": 2020, \"millis\": 1596221412900.0, \"Month\": 7.0, \"Day\": 31.0, \"DOY\": 213.0}, {\"NBR\": 0.07235338918507235, \"Year\": 2020, \"millis\": 1596910716558.0, \"Month\": 8.0, \"Day\": 8.0, \"DOY\": 221.0}, {\"NBR\": 0.07285180572851806, \"Year\": 2015, \"millis\": 1436468132980.0, \"Month\": 7.0, \"Day\": 9.0, \"DOY\": 190.0}, {\"NBR\": 0.07435508345978756, \"Year\": 2020, \"millis\": 1596221389013.0, \"Month\": 7.0, \"Day\": 31.0, \"DOY\": 213.0}, {\"NBR\": 0.07445048451902624, \"Year\": 2021, \"millis\": 1625939611890.0, \"Month\": 7.0, \"Day\": 10.0, \"DOY\": 191.0}, {\"NBR\": 0.07612814330003445, \"Year\": 2017, \"millis\": 1504205769260.0, \"Month\": 8.0, \"Day\": 31.0, \"DOY\": 243.0}, {\"NBR\": 0.07640395275970113, \"Year\": 2021, \"millis\": 1625856957517.0, \"Month\": 7.0, \"Day\": 9.0, \"DOY\": 190.0}, {\"NBR\": 0.08306471609223903, \"Year\": 2018, \"millis\": 1533322143180.0, \"Month\": 8.0, \"Day\": 3.0, \"DOY\": 215.0}, {\"NBR\": 0.08340929808568824, \"Year\": 2021, \"millis\": 1626634212458.0, \"Month\": 7.0, \"Day\": 18.0, \"DOY\": 199.0}, {\"NBR\": 0.08583925642427556, \"Year\": 2018, \"millis\": 1530471306670.0, \"Month\": 7.0, \"Day\": 1.0, \"DOY\": 182.0}, {\"NBR\": 0.08660984327742645, \"Year\": 2019, \"millis\": 1563648961141.0, \"Month\": 7.0, \"Day\": 20.0, \"DOY\": 201.0}, {\"NBR\": 0.08770279802492359, \"Year\": 2021, \"millis\": 1625939588009.0, \"Month\": 7.0, \"Day\": 10.0, \"DOY\": 191.0}, {\"NBR\": 0.08801253591015931, \"Year\": 2021, \"millis\": 1627321929032.0, \"Month\": 7.0, \"Day\": 26.0, \"DOY\": 207.0}, {\"NBR\": 0.08878718535469107, \"Year\": 2021, \"millis\": 1626634188567.0, \"Month\": 7.0, \"Day\": 18.0, \"DOY\": 199.0}, {\"NBR\": 0.0889662027833002, \"Year\": 2021, \"millis\": 1627239363358.0, \"Month\": 7.0, \"Day\": 25.0, \"DOY\": 206.0}, {\"NBR\": 0.08938839519079979, \"Year\": 2021, \"millis\": 1628704220187.0, \"Month\": 8.0, \"Day\": 11.0, \"DOY\": 223.0}, {\"NBR\": 0.08953275907073871, \"Year\": 2021, \"millis\": 1628704244070.0, \"Month\": 8.0, \"Day\": 11.0, \"DOY\": 223.0}, {\"NBR\": 0.09002572163475278, \"Year\": 2019, \"millis\": 1565031367987.0, \"Month\": 8.0, \"Day\": 5.0, \"DOY\": 217.0}, {\"NBR\": 0.09020217729393468, \"Year\": 2021, \"millis\": 1627321905151.0, \"Month\": 7.0, \"Day\": 26.0, \"DOY\": 207.0}, {\"NBR\": 0.09473684210526316, \"Year\": 2017, \"millis\": 1502132320310.0, \"Month\": 8.0, \"Day\": 7.0, \"DOY\": 219.0}, {\"NBR\": 0.09639613243480809, \"Year\": 2020, \"millis\": 1598208968332.0, \"Month\": 8.0, \"Day\": 23.0, \"DOY\": 236.0}, {\"NBR\": 0.09653280119730606, \"Year\": 2021, \"millis\": 1628016620647.0, \"Month\": 8.0, \"Day\": 3.0, \"DOY\": 215.0}, {\"NBR\": 0.0974304068522484, \"Year\": 2018, \"millis\": 1532544899780.0, \"Month\": 7.0, \"Day\": 25.0, \"DOY\": 206.0}, {\"NBR\": 0.09930139720558882, \"Year\": 2021, \"millis\": 1628016596756.0, \"Month\": 8.0, \"Day\": 3.0, \"DOY\": 215.0}, {\"NBR\": 0.10021786492374728, \"Year\": 2020, \"millis\": 1594751156880.0, \"Month\": 7.0, \"Day\": 14.0, \"DOY\": 196.0}, {\"NBR\": 0.10569583088667057, \"Year\": 2019, \"millis\": 1567191027834.0, \"Month\": 8.0, \"Day\": 30.0, \"DOY\": 242.0}, {\"NBR\": 0.11025716819391072, \"Year\": 2019, \"millis\": 1567191003947.0, \"Month\": 8.0, \"Day\": 30.0, \"DOY\": 242.0}, {\"NBR\": 0.1155724362452523, \"Year\": 2018, \"millis\": 1533927282290.0, \"Month\": 8.0, \"Day\": 10.0, \"DOY\": 222.0}, {\"NBR\": 0.12084592145015106, \"Year\": 2021, \"millis\": 1629399026142.0, \"Month\": 8.0, \"Day\": 19.0, \"DOY\": 231.0}, {\"NBR\": 0.12377111167128813, \"Year\": 2021, \"millis\": 1629399002251.0, \"Month\": 8.0, \"Day\": 19.0, \"DOY\": 231.0}, {\"NBR\": 0.12594670406732117, \"Year\": 2020, \"millis\": 1597603793721.0, \"Month\": 8.0, \"Day\": 16.0, \"DOY\": 229.0}, {\"NBR\": 0.12804354053279862, \"Year\": 2020, \"millis\": 1596826561075.0, \"Month\": 8.0, \"Day\": 7.0, \"DOY\": 220.0}, {\"NBR\": 0.13653333333333334, \"Year\": 2016, \"millis\": 1471114349550.0, \"Month\": 8.0, \"Day\": 13.0, \"DOY\": 226.0}, {\"NBR\": 0.1367936589107645, \"Year\": 2020, \"millis\": 1596910692676.0, \"Month\": 8.0, \"Day\": 8.0, \"DOY\": 221.0}, {\"NBR\": 0.15246995994659546, \"Year\": 2016, \"millis\": 1471114373440.0, \"Month\": 8.0, \"Day\": 13.0, \"DOY\": 226.0}, {\"NBR\": 0.1575049843349473, \"Year\": 2021, \"millis\": 1629309353559.0, \"Month\": 8.0, \"Day\": 18.0, \"DOY\": 230.0}, {\"NBR\": 0.16097278517660682, \"Year\": 2021, \"millis\": 1628621770306.0, \"Month\": 8.0, \"Day\": 10.0, \"DOY\": 222.0}, {\"NBR\": 0.516245487364621, \"Year\": 1993, \"millis\": 741895959847.0, \"Month\": 7.0, \"Day\": 5.0, \"DOY\": 186.0}, {\"NBR\": 0.5298773248911753, \"Year\": 1991, \"millis\": 681070400060.0, \"Month\": 8.0, \"Day\": 1.0, \"DOY\": 213.0}, {\"NBR\": 0.534804753820034, \"Year\": 1993, \"millis\": 746648305428.0, \"Month\": 8.0, \"Day\": 29.0, \"DOY\": 241.0}, {\"NBR\": 0.5435235318617243, \"Year\": 2005, \"millis\": 1123439871820.0, \"Month\": 8.0, \"Day\": 7.0, \"DOY\": 219.0}, {\"NBR\": 0.5442092154420921, \"Year\": 2005, \"millis\": 1123439895650.0, \"Month\": 8.0, \"Day\": 7.0, \"DOY\": 219.0}, {\"NBR\": 0.5497737556561086, \"Year\": 1992, \"millis\": 713470722415.0, \"Month\": 8.0, \"Day\": 10.0, \"DOY\": 223.0}, {\"NBR\": 0.553280242700038, \"Year\": 2010, \"millis\": 1278268848610.0, \"Month\": 7.0, \"Day\": 4.0, \"DOY\": 185.0}, {\"NBR\": 0.5536319156943922, \"Year\": 2010, \"millis\": 1278268824780.0, \"Month\": 7.0, \"Day\": 4.0, \"DOY\": 185.0}, {\"NBR\": 0.5540475036354823, \"Year\": 1992, \"millis\": 712865581708.0, \"Month\": 8.0, \"Day\": 3.0, \"DOY\": 216.0}, {\"NBR\": 0.5551257253384912, \"Year\": 1992, \"millis\": 712865557786.0, \"Month\": 8.0, \"Day\": 3.0, \"DOY\": 216.0}, {\"NBR\": 0.5571360834518729, \"Year\": 1993, \"millis\": 744660760238.0, \"Month\": 8.0, \"Day\": 6.0, \"DOY\": 218.0}, {\"NBR\": 0.5576649264356905, \"Year\": 1993, \"millis\": 744660736430.0, \"Month\": 8.0, \"Day\": 6.0, \"DOY\": 218.0}, {\"NBR\": 0.5701519213583557, \"Year\": 2011, \"millis\": 1309978174580.0, \"Month\": 7.0, \"Day\": 6.0, \"DOY\": 187.0}, {\"NBR\": 0.5741769987174006, \"Year\": 2009, \"millis\": 1247855948940.0, \"Month\": 7.0, \"Day\": 17.0, \"DOY\": 198.0}, {\"NBR\": 0.5813614852566437, \"Year\": 2002, \"millis\": 1025980697570.0, \"Month\": 7.0, \"Day\": 6.0, \"DOY\": 187.0}, {\"NBR\": 0.5818181818181818, \"Year\": 2002, \"millis\": 1025980721440.0, \"Month\": 7.0, \"Day\": 6.0, \"DOY\": 187.0}, {\"NBR\": 0.584250635055038, \"Year\": 2009, \"millis\": 1250534773230.0, \"Month\": 8.0, \"Day\": 17.0, \"DOY\": 229.0}, {\"NBR\": 0.5882874889086069, \"Year\": 2004, \"millis\": 1092335920480.0, \"Month\": 8.0, \"Day\": 12.0, \"DOY\": 225.0}, {\"NBR\": 0.5891980360065466, \"Year\": 2007, \"millis\": 1186339221910.0, \"Month\": 8.0, \"Day\": 5.0, \"DOY\": 217.0}, {\"NBR\": 0.5896032831737346, \"Year\": 2007, \"millis\": 1185561971770.0, \"Month\": 7.0, \"Day\": 27.0, \"DOY\": 208.0}, {\"NBR\": 0.5897435897435898, \"Year\": 2008, \"millis\": 1219430506110.0, \"Month\": 8.0, \"Day\": 22.0, \"DOY\": 235.0}, {\"NBR\": 0.5898277276456112, \"Year\": 2007, \"millis\": 1186339198030.0, \"Month\": 8.0, \"Day\": 5.0, \"DOY\": 217.0}, {\"NBR\": 0.5903197925669835, \"Year\": 1990, \"millis\": 650657390575.0, \"Month\": 8.0, \"Day\": 14.0, \"DOY\": 226.0}, {\"NBR\": 0.5904347826086956, \"Year\": 2011, \"millis\": 1314211117970.0, \"Month\": 8.0, \"Day\": 24.0, \"DOY\": 236.0}, {\"NBR\": 0.590653396797923, \"Year\": 1990, \"millis\": 650657414445.0, \"Month\": 8.0, \"Day\": 14.0, \"DOY\": 226.0}, {\"NBR\": 0.5948136142625607, \"Year\": 2007, \"millis\": 1183488589200.0, \"Month\": 7.0, \"Day\": 3.0, \"DOY\": 184.0}, {\"NBR\": 0.5958815958815958, \"Year\": 2011, \"millis\": 1314211141800.0, \"Month\": 8.0, \"Day\": 24.0, \"DOY\": 236.0}, {\"NBR\": 0.5979941496030088, \"Year\": 2011, \"millis\": 1314902593500.0, \"Month\": 9.0, \"Day\": 1.0, \"DOY\": 244.0}, {\"NBR\": 0.5984158415841584, \"Year\": 2007, \"millis\": 1183574406280.0, \"Month\": 7.0, \"Day\": 4.0, \"DOY\": 185.0}, {\"NBR\": 0.5990888382687927, \"Year\": 2004, \"millis\": 1092335944360.0, \"Month\": 8.0, \"Day\": 12.0, \"DOY\": 225.0}, {\"NBR\": 0.5996829171621086, \"Year\": 2007, \"millis\": 1183574430160.0, \"Month\": 7.0, \"Day\": 4.0, \"DOY\": 185.0}, {\"NBR\": 0.5998138669148441, \"Year\": 2003, \"millis\": 1061923094840.0, \"Month\": 8.0, \"Day\": 26.0, \"DOY\": 238.0}, {\"NBR\": 0.5998185117967332, \"Year\": 2010, \"millis\": 1280256389530.0, \"Month\": 7.0, \"Day\": 27.0, \"DOY\": 208.0}, {\"NBR\": 0.6001863932898416, \"Year\": 2003, \"millis\": 1061923118720.0, \"Month\": 8.0, \"Day\": 26.0, \"DOY\": 238.0}, {\"NBR\": 0.6006051437216339, \"Year\": 2009, \"millis\": 1247164837190.0, \"Month\": 7.0, \"Day\": 9.0, \"DOY\": 190.0}, {\"NBR\": 0.6010757507844016, \"Year\": 2011, \"millis\": 1312051502040.0, \"Month\": 7.0, \"Day\": 30.0, \"DOY\": 211.0}, {\"NBR\": 0.6013456686291001, \"Year\": 2011, \"millis\": 1311446359620.0, \"Month\": 7.0, \"Day\": 23.0, \"DOY\": 204.0}, {\"NBR\": 0.6013628620102215, \"Year\": 2007, \"millis\": 1188413007140.0, \"Month\": 8.0, \"Day\": 29.0, \"DOY\": 241.0}, {\"NBR\": 0.6016771488469602, \"Year\": 2011, \"millis\": 1311446335790.0, \"Month\": 7.0, \"Day\": 23.0, \"DOY\": 204.0}, {\"NBR\": 0.6039360393603936, \"Year\": 2011, \"millis\": 1312828750240.0, \"Month\": 8.0, \"Day\": 8.0, \"DOY\": 220.0}, {\"NBR\": 0.6039603960396039, \"Year\": 2011, \"millis\": 1310063967380.0, \"Month\": 7.0, \"Day\": 7.0, \"DOY\": 188.0}, {\"NBR\": 0.6040184177480117, \"Year\": 1999, \"millis\": 935432838957.0, \"Month\": 8.0, \"Day\": 23.0, \"DOY\": 235.0}, {\"NBR\": 0.6050552922590837, \"Year\": 2011, \"millis\": 1310063943550.0, \"Month\": 7.0, \"Day\": 7.0, \"DOY\": 188.0}, {\"NBR\": 0.6060301507537689, \"Year\": 1994, \"millis\": 775678424069.0, \"Month\": 7.0, \"Day\": 31.0, \"DOY\": 212.0}, {\"NBR\": 0.6061013907581875, \"Year\": 2010, \"millis\": 1279565296440.0, \"Month\": 7.0, \"Day\": 19.0, \"DOY\": 200.0}, {\"NBR\": 0.6062346185397867, \"Year\": 2001, \"millis\": 996258611066.0, \"Month\": 7.0, \"Day\": 27.0, \"DOY\": 208.0}, {\"NBR\": 0.6067461949814891, \"Year\": 2001, \"millis\": 996258634923.0, \"Month\": 7.0, \"Day\": 27.0, \"DOY\": 208.0}, {\"NBR\": 0.6076610562971562, \"Year\": 1992, \"millis\": 714853106296.0, \"Month\": 8.0, \"Day\": 26.0, \"DOY\": 239.0}, {\"NBR\": 0.6079923882017126, \"Year\": 2005, \"millis\": 1122662638200.0, \"Month\": 7.0, \"Day\": 29.0, \"DOY\": 210.0}, {\"NBR\": 0.6083439761600681, \"Year\": 2008, \"millis\": 1218825346170.0, \"Month\": 8.0, \"Day\": 15.0, \"DOY\": 228.0}, {\"NBR\": 0.6083481349911191, \"Year\": 2008, \"millis\": 1216665761700.0, \"Month\": 7.0, \"Day\": 21.0, \"DOY\": 203.0}, {\"NBR\": 0.6088273474686283, \"Year\": 2004, \"millis\": 1090953525040.0, \"Month\": 7.0, \"Day\": 27.0, \"DOY\": 209.0}, {\"NBR\": 0.6091331269349846, \"Year\": 2008, \"millis\": 1215369586290.0, \"Month\": 7.0, \"Day\": 6.0, \"DOY\": 188.0}, {\"NBR\": 0.6097159324825031, \"Year\": 2000, \"millis\": 965155285976.0, \"Month\": 8.0, \"Day\": 1.0, \"DOY\": 214.0}, {\"NBR\": 0.6103575832305795, \"Year\": 2000, \"millis\": 965155262108.0, \"Month\": 8.0, \"Day\": 1.0, \"DOY\": 214.0}, {\"NBR\": 0.6103795507358637, \"Year\": 2007, \"millis\": 1184265814140.0, \"Month\": 7.0, \"Day\": 12.0, \"DOY\": 193.0}, {\"NBR\": 0.6105508145849495, \"Year\": 2007, \"millis\": 1184265837830.0, \"Month\": 7.0, \"Day\": 12.0, \"DOY\": 193.0}, {\"NBR\": 0.6114933225414811, \"Year\": 1997, \"millis\": 869077247733.0, \"Month\": 7.0, \"Day\": 16.0, \"DOY\": 197.0}, {\"NBR\": 0.6115537848605578, \"Year\": 2005, \"millis\": 1124045045320.0, \"Month\": 8.0, \"Day\": 14.0, \"DOY\": 226.0}, {\"NBR\": 0.6119644300727567, \"Year\": 1997, \"millis\": 869077223955.0, \"Month\": 7.0, \"Day\": 16.0, \"DOY\": 197.0}, {\"NBR\": 0.611978068325601, \"Year\": 2008, \"millis\": 1218825370000.0, \"Month\": 8.0, \"Day\": 15.0, \"DOY\": 228.0}, {\"NBR\": 0.6128103634400863, \"Year\": 2009, \"millis\": 1248547232460.0, \"Month\": 7.0, \"Day\": 25.0, \"DOY\": 206.0}, {\"NBR\": 0.6128712871287129, \"Year\": 2004, \"millis\": 1092249537770.0, \"Month\": 8.0, \"Day\": 11.0, \"DOY\": 224.0}, {\"NBR\": 0.6134574087329993, \"Year\": 2009, \"millis\": 1248547208580.0, \"Month\": 7.0, \"Day\": 25.0, \"DOY\": 206.0}, {\"NBR\": 0.6135820181731229, \"Year\": 1991, \"millis\": 682452828382.0, \"Month\": 8.0, \"Day\": 17.0, \"DOY\": 229.0}, {\"NBR\": 0.6135940409683427, \"Year\": 1999, \"millis\": 931200528388.0, \"Month\": 7.0, \"Day\": 5.0, \"DOY\": 186.0}, {\"NBR\": 0.6136257582827811, \"Year\": 1994, \"millis\": 777838016092.0, \"Month\": 8.0, \"Day\": 25.0, \"DOY\": 237.0}, {\"NBR\": 0.6137339055793991, \"Year\": 1991, \"millis\": 682452804631.0, \"Month\": 8.0, \"Day\": 17.0, \"DOY\": 229.0}, {\"NBR\": 0.6138482023968043, \"Year\": 2003, \"millis\": 1061231213740.0, \"Month\": 8.0, \"Day\": 18.0, \"DOY\": 230.0}, {\"NBR\": 0.6140186915887851, \"Year\": 1994, \"millis\": 777838039932.0, \"Month\": 8.0, \"Day\": 25.0, \"DOY\": 237.0}, {\"NBR\": 0.6143020159756561, \"Year\": 2009, \"millis\": 1247164813310.0, \"Month\": 7.0, \"Day\": 9.0, \"DOY\": 190.0}, {\"NBR\": 0.6143651132962804, \"Year\": 2004, \"millis\": 1090953548920.0, \"Month\": 7.0, \"Day\": 27.0, \"DOY\": 209.0}, {\"NBR\": 0.6147686832740213, \"Year\": 2003, \"millis\": 1061231237570.0, \"Month\": 8.0, \"Day\": 18.0, \"DOY\": 230.0}, {\"NBR\": 0.6156156156156156, \"Year\": 1994, \"millis\": 774296051745.0, \"Month\": 7.0, \"Day\": 15.0, \"DOY\": 196.0}, {\"NBR\": 0.6166666666666667, \"Year\": 1997, \"millis\": 871064840131.0, \"Month\": 8.0, \"Day\": 8.0, \"DOY\": 220.0}, {\"NBR\": 0.6166738289643318, \"Year\": 2005, \"millis\": 1121366357790.0, \"Month\": 7.0, \"Day\": 14.0, \"DOY\": 195.0}, {\"NBR\": 0.6169374692269818, \"Year\": 1987, \"millis\": 554494893564.0, \"Month\": 7.0, \"Day\": 28.0, \"DOY\": 209.0}, {\"NBR\": 0.6181965881397238, \"Year\": 2010, \"millis\": 1279651220920.0, \"Month\": 7.0, \"Day\": 20.0, \"DOY\": 201.0}, {\"NBR\": 0.6188976377952756, \"Year\": 2006, \"millis\": 1151779210110.0, \"Month\": 7.0, \"Day\": 1.0, \"DOY\": 182.0}, {\"NBR\": 0.6191228763334651, \"Year\": 2006, \"millis\": 1151779186220.0, \"Month\": 7.0, \"Day\": 1.0, \"DOY\": 182.0}, {\"NBR\": 0.6192468619246861, \"Year\": 2011, \"millis\": 1314902617390.0, \"Month\": 9.0, \"Day\": 1.0, \"DOY\": 244.0}, {\"NBR\": 0.6197301854974705, \"Year\": 2003, \"millis\": 1059158326290.0, \"Month\": 7.0, \"Day\": 25.0, \"DOY\": 206.0}, {\"NBR\": 0.620323325635104, \"Year\": 1987, \"millis\": 557259749729.0, \"Month\": 8.0, \"Day\": 29.0, \"DOY\": 241.0}, {\"NBR\": 0.621172353455818, \"Year\": 2007, \"millis\": 1188412983310.0, \"Month\": 8.0, \"Day\": 29.0, \"DOY\": 241.0}, {\"NBR\": 0.622168284789644, \"Year\": 2010, \"millis\": 1279651244750.0, \"Month\": 7.0, \"Day\": 20.0, \"DOY\": 201.0}, {\"NBR\": 0.6225225225225225, \"Year\": 2006, \"millis\": 1155840570100.0, \"Month\": 8.0, \"Day\": 17.0, \"DOY\": 229.0}, {\"NBR\": 0.6225764756570443, \"Year\": 1987, \"millis\": 556654567706.0, \"Month\": 8.0, \"Day\": 22.0, \"DOY\": 234.0}, {\"NBR\": 0.6227472967561073, \"Year\": 2008, \"millis\": 1216751950220.0, \"Month\": 7.0, \"Day\": 22.0, \"DOY\": 204.0}, {\"NBR\": 0.622792937399679, \"Year\": 2008, \"millis\": 1216751974100.0, \"Month\": 7.0, \"Day\": 22.0, \"DOY\": 204.0}, {\"NBR\": 0.6237716424894713, \"Year\": 2002, \"millis\": 1025893906530.0, \"Month\": 7.0, \"Day\": 5.0, \"DOY\": 186.0}, {\"NBR\": 0.6241610738255033, \"Year\": 2007, \"millis\": 1185648228840.0, \"Month\": 7.0, \"Day\": 28.0, \"DOY\": 209.0}, {\"NBR\": 0.6242371403661726, \"Year\": 2009, \"millis\": 1250620754100.0, \"Month\": 8.0, \"Day\": 18.0, \"DOY\": 230.0}, {\"NBR\": 0.6247405562474055, \"Year\": 2011, \"millis\": 1312137823880.0, \"Month\": 7.0, \"Day\": 31.0, \"DOY\": 212.0}, {\"NBR\": 0.6248077908764736, \"Year\": 1991, \"millis\": 681675574128.0, \"Month\": 8.0, \"Day\": 8.0, \"DOY\": 220.0}, {\"NBR\": 0.6250616674888998, \"Year\": 1991, \"millis\": 678910755866.0, \"Month\": 7.0, \"Day\": 7.0, \"DOY\": 188.0}, {\"NBR\": 0.6253724989357173, \"Year\": 2006, \"millis\": 1155926395770.0, \"Month\": 8.0, \"Day\": 18.0, \"DOY\": 230.0}, {\"NBR\": 0.6256899147014551, \"Year\": 1988, \"millis\": 589055210626.0, \"Month\": 8.0, \"Day\": 31.0, \"DOY\": 244.0}, {\"NBR\": 0.6260290082320659, \"Year\": 2007, \"millis\": 1185648205010.0, \"Month\": 7.0, \"Day\": 28.0, \"DOY\": 209.0}, {\"NBR\": 0.6260364842454395, \"Year\": 2011, \"millis\": 1312828726410.0, \"Month\": 8.0, \"Day\": 8.0, \"DOY\": 220.0}, {\"NBR\": 0.6264814058030241, \"Year\": 1997, \"millis\": 870459679584.0, \"Month\": 8.0, \"Day\": 1.0, \"DOY\": 213.0}, {\"NBR\": 0.6267281105990783, \"Year\": 2001, \"millis\": 994098985587.0, \"Month\": 7.0, \"Day\": 2.0, \"DOY\": 183.0}, {\"NBR\": 0.6267456622936944, \"Year\": 2006, \"millis\": 1155926371890.0, \"Month\": 8.0, \"Day\": 18.0, \"DOY\": 230.0}, {\"NBR\": 0.6268248175182481, \"Year\": 2010, \"millis\": 1280947695810.0, \"Month\": 8.0, \"Day\": 4.0, \"DOY\": 216.0}, {\"NBR\": 0.6268364348677767, \"Year\": 2004, \"millis\": 1090867118300.0, \"Month\": 7.0, \"Day\": 26.0, \"DOY\": 208.0}, {\"NBR\": 0.6268839103869653, \"Year\": 1997, \"millis\": 870459655806.0, \"Month\": 8.0, \"Day\": 1.0, \"DOY\": 213.0}, {\"NBR\": 0.6274509803921569, \"Year\": 2010, \"millis\": 1281724948920.0, \"Month\": 8.0, \"Day\": 13.0, \"DOY\": 225.0}, {\"NBR\": 0.6276910088644998, \"Year\": 2000, \"millis\": 966537680024.0, \"Month\": 8.0, \"Day\": 17.0, \"DOY\": 230.0}, {\"NBR\": 0.6277093072673183, \"Year\": 2010, \"millis\": 1281724925040.0, \"Month\": 8.0, \"Day\": 13.0, \"DOY\": 225.0}, {\"NBR\": 0.6279878313776619, \"Year\": 2009, \"millis\": 1250620777930.0, \"Month\": 8.0, \"Day\": 18.0, \"DOY\": 230.0}, {\"NBR\": 0.6281872971719982, \"Year\": 2011, \"millis\": 1311360573110.0, \"Month\": 7.0, \"Day\": 22.0, \"DOY\": 203.0}, {\"NBR\": 0.6282499029879705, \"Year\": 1999, \"millis\": 931977783845.0, \"Month\": 7.0, \"Day\": 14.0, \"DOY\": 195.0}, {\"NBR\": 0.6285714285714286, \"Year\": 1999, \"millis\": 931977759967.0, \"Month\": 7.0, \"Day\": 14.0, \"DOY\": 195.0}, {\"NBR\": 0.6304347826086957, \"Year\": 2011, \"millis\": 1313433893480.0, \"Month\": 8.0, \"Day\": 15.0, \"DOY\": 227.0}, {\"NBR\": 0.6305841924398625, \"Year\": 1988, \"millis\": 587067635137.0, \"Month\": 8.0, \"Day\": 8.0, \"DOY\": 221.0}, {\"NBR\": 0.6308186195826645, \"Year\": 2009, \"millis\": 1246473533100.0, \"Month\": 7.0, \"Day\": 1.0, \"DOY\": 182.0}, {\"NBR\": 0.6315331010452961, \"Year\": 2005, \"millis\": 1121366381670.0, \"Month\": 7.0, \"Day\": 14.0, \"DOY\": 195.0}, {\"NBR\": 0.6315352697095435, \"Year\": 2003, \"millis\": 1058466378670.0, \"Month\": 7.0, \"Day\": 17.0, \"DOY\": 198.0}, {\"NBR\": 0.6316176470588235, \"Year\": 2004, \"millis\": 1088879511500.0, \"Month\": 7.0, \"Day\": 3.0, \"DOY\": 185.0}, {\"NBR\": 0.6317053642914331, \"Year\": 2009, \"millis\": 1246473509270.0, \"Month\": 7.0, \"Day\": 1.0, \"DOY\": 182.0}, {\"NBR\": 0.6317749275961936, \"Year\": 2008, \"millis\": 1217442998610.0, \"Month\": 7.0, \"Day\": 30.0, \"DOY\": 212.0}, {\"NBR\": 0.6318327974276527, \"Year\": 1995, \"millis\": 805485291694.0, \"Month\": 7.0, \"Day\": 11.0, \"DOY\": 192.0}, {\"NBR\": 0.6319733555370525, \"Year\": 2001, \"millis\": 994876216405.0, \"Month\": 7.0, \"Day\": 11.0, \"DOY\": 192.0}, {\"NBR\": 0.6321009918845807, \"Year\": 2000, \"millis\": 963685984564.0, \"Month\": 7.0, \"Day\": 15.0, \"DOY\": 197.0}, {\"NBR\": 0.6322738386308069, \"Year\": 1999, \"millis\": 935347736344.0, \"Month\": 8.0, \"Day\": 22.0, \"DOY\": 234.0}, {\"NBR\": 0.6323024054982818, \"Year\": 1986, \"millis\": 523476740239.0, \"Month\": 8.0, \"Day\": 3.0, \"DOY\": 215.0}, {\"NBR\": 0.6323468111713214, \"Year\": 2009, \"millis\": 1249929602510.0, \"Month\": 8.0, \"Day\": 10.0, \"DOY\": 222.0}, {\"NBR\": 0.6323651452282157, \"Year\": 2003, \"millis\": 1058466402500.0, \"Month\": 7.0, \"Day\": 17.0, \"DOY\": 198.0}, {\"NBR\": 0.6323833126807105, \"Year\": 2008, \"millis\": 1217442974780.0, \"Month\": 7.0, \"Day\": 30.0, \"DOY\": 212.0}, {\"NBR\": 0.6324822101297614, \"Year\": 2009, \"millis\": 1249929626390.0, \"Month\": 8.0, \"Day\": 10.0, \"DOY\": 222.0}, {\"NBR\": 0.6328460877042132, \"Year\": 2001, \"millis\": 997641009638.0, \"Month\": 8.0, \"Day\": 12.0, \"DOY\": 224.0}, {\"NBR\": 0.6330427563304276, \"Year\": 2001, \"millis\": 994876240116.0, \"Month\": 7.0, \"Day\": 11.0, \"DOY\": 192.0}, {\"NBR\": 0.6331994645247657, \"Year\": 2009, \"millis\": 1248461102410.0, \"Month\": 7.0, \"Day\": 24.0, \"DOY\": 205.0}, {\"NBR\": 0.6339193381592554, \"Year\": 2004, \"millis\": 1092941090620.0, \"Month\": 8.0, \"Day\": 19.0, \"DOY\": 232.0}, {\"NBR\": 0.6339746597841389, \"Year\": 2010, \"millis\": 1281638783120.0, \"Month\": 8.0, \"Day\": 12.0, \"DOY\": 224.0}, {\"NBR\": 0.6349717969379532, \"Year\": 1996, \"millis\": 837281050858.0, \"Month\": 7.0, \"Day\": 13.0, \"DOY\": 195.0}, {\"NBR\": 0.635205097570689, \"Year\": 1995, \"millis\": 805485315560.0, \"Month\": 7.0, \"Day\": 11.0, \"DOY\": 192.0}, {\"NBR\": 0.6353637901861252, \"Year\": 2005, \"millis\": 1122748780140.0, \"Month\": 7.0, \"Day\": 30.0, \"DOY\": 211.0}, {\"NBR\": 0.6355591311343524, \"Year\": 1996, \"millis\": 837281074606.0, \"Month\": 7.0, \"Day\": 13.0, \"DOY\": 195.0}, {\"NBR\": 0.6356513222331048, \"Year\": 2002, \"millis\": 1029350653420.0, \"Month\": 8.0, \"Day\": 14.0, \"DOY\": 226.0}, {\"NBR\": 0.6357749898826386, \"Year\": 2002, \"millis\": 1027363088070.0, \"Month\": 7.0, \"Day\": 22.0, \"DOY\": 203.0}, {\"NBR\": 0.6362672322375398, \"Year\": 1994, \"millis\": 778443176446.0, \"Month\": 9.0, \"Day\": 1.0, \"DOY\": 244.0}, {\"NBR\": 0.6362735381565907, \"Year\": 2002, \"millis\": 1030041029300.0, \"Month\": 8.0, \"Day\": 22.0, \"DOY\": 234.0}, {\"NBR\": 0.6363636363636364, \"Year\": 2002, \"millis\": 1027363111940.0, \"Month\": 7.0, \"Day\": 22.0, \"DOY\": 203.0}, {\"NBR\": 0.636462289744981, \"Year\": 1991, \"millis\": 683057980589.0, \"Month\": 8.0, \"Day\": 24.0, \"DOY\": 236.0}, {\"NBR\": 0.6366279069767442, \"Year\": 2006, \"millis\": 1152470570700.0, \"Month\": 7.0, \"Day\": 9.0, \"DOY\": 190.0}, {\"NBR\": 0.6367753623188406, \"Year\": 2006, \"millis\": 1152384353830.0, \"Month\": 7.0, \"Day\": 8.0, \"DOY\": 189.0}, {\"NBR\": 0.6374822527212494, \"Year\": 1997, \"millis\": 869682408878.0, \"Month\": 7.0, \"Day\": 23.0, \"DOY\": 204.0}, {\"NBR\": 0.6380471380471381, \"Year\": 2003, \"millis\": 1059158302400.0, \"Month\": 7.0, \"Day\": 25.0, \"DOY\": 206.0}, {\"NBR\": 0.638148667601683, \"Year\": 1991, \"millis\": 680293169244.0, \"Month\": 7.0, \"Day\": 23.0, \"DOY\": 204.0}, {\"NBR\": 0.6381865736704446, \"Year\": 2011, \"millis\": 1313520220290.0, \"Month\": 8.0, \"Day\": 16.0, \"DOY\": 228.0}, {\"NBR\": 0.6382575757575758, \"Year\": 2001, \"millis\": 996173116590.0, \"Month\": 7.0, \"Day\": 26.0, \"DOY\": 207.0}, {\"NBR\": 0.6388261851015802, \"Year\": 1995, \"millis\": 806867672331.0, \"Month\": 7.0, \"Day\": 27.0, \"DOY\": 208.0}, {\"NBR\": 0.6389802631578947, \"Year\": 2008, \"millis\": 1216060627070.0, \"Month\": 7.0, \"Day\": 14.0, \"DOY\": 196.0}, {\"NBR\": 0.639, \"Year\": 2001, \"millis\": 998937887681.0, \"Month\": 8.0, \"Day\": 27.0, \"DOY\": 239.0}, {\"NBR\": 0.6400164001640016, \"Year\": 2008, \"millis\": 1216060603380.0, \"Month\": 7.0, \"Day\": 14.0, \"DOY\": 196.0}, {\"NBR\": 0.6400541271989174, \"Year\": 1995, \"millis\": 806867648464.0, \"Month\": 7.0, \"Day\": 27.0, \"DOY\": 208.0}, {\"NBR\": 0.6409227683049148, \"Year\": 2007, \"millis\": 1188326759440.0, \"Month\": 8.0, \"Day\": 28.0, \"DOY\": 240.0}, {\"NBR\": 0.6413345690454124, \"Year\": 2011, \"millis\": 1312742968250.0, \"Month\": 8.0, \"Day\": 7.0, \"DOY\": 219.0}, {\"NBR\": 0.6413908671973189, \"Year\": 2000, \"millis\": 965845640663.0, \"Month\": 8.0, \"Day\": 9.0, \"DOY\": 222.0}, {\"NBR\": 0.6415478615071283, \"Year\": 2006, \"millis\": 1153852983260.0, \"Month\": 7.0, \"Day\": 25.0, \"DOY\": 206.0}, {\"NBR\": 0.6416040100250626, \"Year\": 2000, \"millis\": 965845664505.0, \"Month\": 8.0, \"Day\": 9.0, \"DOY\": 222.0}, {\"NBR\": 0.6418455915943353, \"Year\": 1984, \"millis\": 460491928468.0, \"Month\": 8.0, \"Day\": 4.0, \"DOY\": 217.0}, {\"NBR\": 0.6422836752899197, \"Year\": 2009, \"millis\": 1247769982200.0, \"Month\": 7.0, \"Day\": 16.0, \"DOY\": 197.0}, {\"NBR\": 0.6425243540872512, \"Year\": 1989, \"millis\": 617480245477.0, \"Month\": 7.0, \"Day\": 26.0, \"DOY\": 207.0}, {\"NBR\": 0.6429240862230553, \"Year\": 1997, \"millis\": 868299976153.0, \"Month\": 7.0, \"Day\": 7.0, \"DOY\": 188.0}, {\"NBR\": 0.6431574030826717, \"Year\": 2002, \"millis\": 1027276287630.0, \"Month\": 7.0, \"Day\": 21.0, \"DOY\": 202.0}, {\"NBR\": 0.6433970653623833, \"Year\": 2001, \"millis\": 994790724934.0, \"Month\": 7.0, \"Day\": 10.0, \"DOY\": 191.0}, {\"NBR\": 0.6441558441558441, \"Year\": 2005, \"millis\": 1122748756260.0, \"Month\": 7.0, \"Day\": 30.0, \"DOY\": 211.0}, {\"NBR\": 0.6442725954567424, \"Year\": 2001, \"millis\": 997555497850.0, \"Month\": 8.0, \"Day\": 11.0, \"DOY\": 223.0}, {\"NBR\": 0.6444066354742662, \"Year\": 2000, \"millis\": 966537656140.0, \"Month\": 8.0, \"Day\": 17.0, \"DOY\": 230.0}, {\"NBR\": 0.6448755799240826, \"Year\": 1998, \"millis\": 902255317162.0, \"Month\": 8.0, \"Day\": 4.0, \"DOY\": 216.0}, {\"NBR\": 0.6449305847707194, \"Year\": 1998, \"millis\": 902255293361.0, \"Month\": 8.0, \"Day\": 4.0, \"DOY\": 216.0}, {\"NBR\": 0.6449375866851595, \"Year\": 1999, \"millis\": 933273225000.0, \"Month\": 7.0, \"Day\": 29.0, \"DOY\": 210.0}, {\"NBR\": 0.6450676982591876, \"Year\": 2002, \"millis\": 1027968257360.0, \"Month\": 7.0, \"Day\": 29.0, \"DOY\": 210.0}, {\"NBR\": 0.6452991452991453, \"Year\": 2003, \"millis\": 1060540720170.0, \"Month\": 8.0, \"Day\": 10.0, \"DOY\": 222.0}, {\"NBR\": 0.6453900709219859, \"Year\": 2004, \"millis\": 1093026782670.0, \"Month\": 8.0, \"Day\": 20.0, \"DOY\": 233.0}, {\"NBR\": 0.6455389584174405, \"Year\": 2006, \"millis\": 1153853007100.0, \"Month\": 7.0, \"Day\": 25.0, \"DOY\": 206.0}, {\"NBR\": 0.6456483126110124, \"Year\": 2004, \"millis\": 1093026806500.0, \"Month\": 8.0, \"Day\": 20.0, \"DOY\": 233.0}, {\"NBR\": 0.6463251670378619, \"Year\": 2005, \"millis\": 1124822301130.0, \"Month\": 8.0, \"Day\": 23.0, \"DOY\": 235.0}, {\"NBR\": 0.6471990464839095, \"Year\": 1998, \"millis\": 900872889464.0, \"Month\": 7.0, \"Day\": 19.0, \"DOY\": 200.0}, {\"NBR\": 0.6472617507546357, \"Year\": 1988, \"millis\": 584302832378.0, \"Month\": 7.0, \"Day\": 7.0, \"DOY\": 189.0}, {\"NBR\": 0.6475409836065574, \"Year\": 1999, \"millis\": 933360165537.0, \"Month\": 7.0, \"Day\": 30.0, \"DOY\": 211.0}, {\"NBR\": 0.6475735879077168, \"Year\": 1998, \"millis\": 900872913268.0, \"Month\": 7.0, \"Day\": 19.0, \"DOY\": 200.0}, {\"NBR\": 0.6478484011054086, \"Year\": 1999, \"millis\": 932668079753.0, \"Month\": 7.0, \"Day\": 22.0, \"DOY\": 203.0}, {\"NBR\": 0.648019599836668, \"Year\": 1996, \"millis\": 838663526072.0, \"Month\": 7.0, \"Day\": 29.0, \"DOY\": 211.0}, {\"NBR\": 0.6483084185680567, \"Year\": 1999, \"millis\": 932668055928.0, \"Month\": 7.0, \"Day\": 22.0, \"DOY\": 203.0}, {\"NBR\": 0.6483516483516484, \"Year\": 1994, \"millis\": 777060800116.0, \"Month\": 8.0, \"Day\": 16.0, \"DOY\": 228.0}, {\"NBR\": 0.648479427549195, \"Year\": 2011, \"millis\": 1313520196400.0, \"Month\": 8.0, \"Day\": 16.0, \"DOY\": 228.0}, {\"NBR\": 0.6486373165618449, \"Year\": 2002, \"millis\": 1028053502800.0, \"Month\": 7.0, \"Day\": 30.0, \"DOY\": 211.0}, {\"NBR\": 0.64882400648824, \"Year\": 1996, \"millis\": 838663502323.0, \"Month\": 7.0, \"Day\": 29.0, \"DOY\": 211.0}, {\"NBR\": 0.6490066225165563, \"Year\": 1996, \"millis\": 840651144418.0, \"Month\": 8.0, \"Day\": 21.0, \"DOY\": 234.0}, {\"NBR\": 0.649059982094897, \"Year\": 1990, \"millis\": 649274994993.0, \"Month\": 7.0, \"Day\": 29.0, \"DOY\": 210.0}, {\"NBR\": 0.6492146596858639, \"Year\": 1995, \"millis\": 807472800150.0, \"Month\": 8.0, \"Day\": 3.0, \"DOY\": 215.0}, {\"NBR\": 0.6502415458937199, \"Year\": 1998, \"millis\": 902860468757.0, \"Month\": 8.0, \"Day\": 11.0, \"DOY\": 223.0}, {\"NBR\": 0.6508999581414818, \"Year\": 2003, \"millis\": 1060540696290.0, \"Month\": 8.0, \"Day\": 10.0, \"DOY\": 222.0}, {\"NBR\": 0.6512141280353201, \"Year\": 2005, \"millis\": 1124822277300.0, \"Month\": 8.0, \"Day\": 23.0, \"DOY\": 235.0}, {\"NBR\": 0.651685393258427, \"Year\": 2001, \"millis\": 999023426866.0, \"Month\": 8.0, \"Day\": 28.0, \"DOY\": 240.0}, {\"NBR\": 0.6531468531468532, \"Year\": 2001, \"millis\": 999023403153.0, \"Month\": 8.0, \"Day\": 28.0, \"DOY\": 240.0}, {\"NBR\": 0.654257595207531, \"Year\": 1996, \"millis\": 840045976066.0, \"Month\": 8.0, \"Day\": 14.0, \"DOY\": 227.0}, {\"NBR\": 0.6544368600682594, \"Year\": 1996, \"millis\": 840045952170.0, \"Month\": 8.0, \"Day\": 14.0, \"DOY\": 227.0}, {\"NBR\": 0.6547448736289938, \"Year\": 2006, \"millis\": 1153766745130.0, \"Month\": 7.0, \"Day\": 24.0, \"DOY\": 205.0}, {\"NBR\": 0.6560175054704596, \"Year\": 2001, \"millis\": 997641033496.0, \"Month\": 8.0, \"Day\": 12.0, \"DOY\": 224.0}, {\"NBR\": 0.6563245823389021, \"Year\": 2005, \"millis\": 1125513568160.0, \"Month\": 8.0, \"Day\": 31.0, \"DOY\": 243.0}, {\"NBR\": 0.6565176022835395, \"Year\": 2005, \"millis\": 1125513544270.0, \"Month\": 8.0, \"Day\": 31.0, \"DOY\": 243.0}, {\"NBR\": 0.657117278424351, \"Year\": 2007, \"millis\": 1186253371330.0, \"Month\": 8.0, \"Day\": 4.0, \"DOY\": 216.0}, {\"NBR\": 0.6589513462446859, \"Year\": 2000, \"millis\": 964378039493.0, \"Month\": 7.0, \"Day\": 23.0, \"DOY\": 205.0}, {\"NBR\": 0.6600173460537727, \"Year\": 1988, \"millis\": 587067658940.0, \"Month\": 8.0, \"Day\": 8.0, \"DOY\": 221.0}, {\"NBR\": 0.660235294117647, \"Year\": 1989, \"millis\": 618862623391.0, \"Month\": 8.0, \"Day\": 11.0, \"DOY\": 223.0}, {\"NBR\": 0.6604127579737336, \"Year\": 1989, \"millis\": 618862599553.0, \"Month\": 8.0, \"Day\": 11.0, \"DOY\": 223.0}, {\"NBR\": 0.6613496932515337, \"Year\": 1985, \"millis\": 490904755480.0, \"Month\": 7.0, \"Day\": 22.0, \"DOY\": 203.0}, {\"NBR\": 0.6624334289225727, \"Year\": 2002, \"millis\": 1026671124420.0, \"Month\": 7.0, \"Day\": 14.0, \"DOY\": 195.0}, {\"NBR\": 0.6627486437613019, \"Year\": 2006, \"millis\": 1153075747140.0, \"Month\": 7.0, \"Day\": 16.0, \"DOY\": 197.0}, {\"NBR\": 0.6632527652601393, \"Year\": 2002, \"millis\": 1026671148110.0, \"Month\": 7.0, \"Day\": 14.0, \"DOY\": 195.0}, {\"NBR\": 0.6658278812279819, \"Year\": 2011, \"millis\": 1314125366390.0, \"Month\": 8.0, \"Day\": 23.0, \"DOY\": 235.0}, {\"NBR\": 0.6658456486042693, \"Year\": 1999, \"millis\": 933360189418.0, \"Month\": 7.0, \"Day\": 30.0, \"DOY\": 211.0}, {\"NBR\": 0.6659473457056538, \"Year\": 2006, \"millis\": 1155235418410.0, \"Month\": 8.0, \"Day\": 10.0, \"DOY\": 222.0}, {\"NBR\": 0.6663296258847321, \"Year\": 2006, \"millis\": 1156531541410.0, \"Month\": 8.0, \"Day\": 25.0, \"DOY\": 237.0}, {\"NBR\": 0.6675235646958012, \"Year\": 2006, \"millis\": 1155235394580.0, \"Month\": 8.0, \"Day\": 10.0, \"DOY\": 222.0}, {\"NBR\": 0.6681795259707514, \"Year\": 2001, \"millis\": 998246180200.0, \"Month\": 8.0, \"Day\": 19.0, \"DOY\": 231.0}, {\"NBR\": 0.6683518705763397, \"Year\": 1990, \"millis\": 649880162966.0, \"Month\": 8.0, \"Day\": 5.0, \"DOY\": 217.0}, {\"NBR\": 0.66921768707483, \"Year\": 1989, \"millis\": 617480221785.0, \"Month\": 7.0, \"Day\": 26.0, \"DOY\": 207.0}, {\"NBR\": 0.6696774193548387, \"Year\": 1986, \"millis\": 522094350531.0, \"Month\": 7.0, \"Day\": 18.0, \"DOY\": 199.0}, {\"NBR\": 0.6703296703296703, \"Year\": 2000, \"millis\": 965760426614.0, \"Month\": 8.0, \"Day\": 8.0, \"DOY\": 221.0}, {\"NBR\": 0.6709090909090909, \"Year\": 2006, \"millis\": 1156617829280.0, \"Month\": 8.0, \"Day\": 26.0, \"DOY\": 238.0}, {\"NBR\": 0.6718009478672986, \"Year\": 1989, \"millis\": 616097864673.0, \"Month\": 7.0, \"Day\": 10.0, \"DOY\": 191.0}, {\"NBR\": 0.6719486081370449, \"Year\": 1986, \"millis\": 522094374393.0, \"Month\": 7.0, \"Day\": 18.0, \"DOY\": 199.0}, {\"NBR\": 0.6731563421828909, \"Year\": 1989, \"millis\": 616097840838.0, \"Month\": 7.0, \"Day\": 10.0, \"DOY\": 191.0}, {\"NBR\": 0.6736138419189933, \"Year\": 1985, \"millis\": 490299587823.0, \"Month\": 7.0, \"Day\": 15.0, \"DOY\": 196.0}, {\"NBR\": 0.6737269040108157, \"Year\": 2006, \"millis\": 1156617805450.0, \"Month\": 8.0, \"Day\": 26.0, \"DOY\": 238.0}, {\"NBR\": 0.6742722265932337, \"Year\": 1985, \"millis\": 490299611663.0, \"Month\": 7.0, \"Day\": 15.0, \"DOY\": 196.0}, {\"NBR\": 0.6743542435424354, \"Year\": 2001, \"millis\": 998332744783.0, \"Month\": 8.0, \"Day\": 20.0, \"DOY\": 232.0}, {\"NBR\": 0.6749539594843462, \"Year\": 2001, \"millis\": 998332720911.0, \"Month\": 8.0, \"Day\": 20.0, \"DOY\": 232.0}, {\"NBR\": 0.6754997675499768, \"Year\": 1984, \"millis\": 457727074942.0, \"Month\": 7.0, \"Day\": 3.0, \"DOY\": 185.0}, {\"NBR\": 0.6797613127797116, \"Year\": 1990, \"millis\": 648497766753.0, \"Month\": 7.0, \"Day\": 20.0, \"DOY\": 201.0}, {\"NBR\": 0.6823308270676691, \"Year\": 2002, \"millis\": 1030818244460.0, \"Month\": 8.0, \"Day\": 31.0, \"DOY\": 243.0}, {\"NBR\": 0.683340582862114, \"Year\": 1985, \"millis\": 493064370680.0, \"Month\": 8.0, \"Day\": 16.0, \"DOY\": 228.0}, {\"NBR\": 0.6835664335664335, \"Year\": 1985, \"millis\": 493064394522.0, \"Month\": 8.0, \"Day\": 16.0, \"DOY\": 228.0}, {\"NBR\": 0.6844088553933113, \"Year\": 2002, \"millis\": 1030818268290.0, \"Month\": 8.0, \"Day\": 31.0, \"DOY\": 243.0}, {\"NBR\": 0.6869109947643979, \"Year\": 2003, \"millis\": 1061836392860.0, \"Month\": 8.0, \"Day\": 25.0, \"DOY\": 237.0}, {\"NBR\": 0.687888942077549, \"Year\": 2000, \"millis\": 966450822614.0, \"Month\": 8.0, \"Day\": 16.0, \"DOY\": 229.0}, {\"NBR\": 0.6879179670084707, \"Year\": 1984, \"millis\": 459109494904.0, \"Month\": 7.0, \"Day\": 19.0, \"DOY\": 201.0}, {\"NBR\": 0.688032272523532, \"Year\": 1985, \"millis\": 489522361976.0, \"Month\": 7.0, \"Day\": 6.0, \"DOY\": 187.0}, {\"NBR\": 0.6919720767888308, \"Year\": 1988, \"millis\": 585685235815.0, \"Month\": 7.0, \"Day\": 23.0, \"DOY\": 205.0}, {\"NBR\": 0.6920384951881015, \"Year\": 1988, \"millis\": 585685259616.0, \"Month\": 7.0, \"Day\": 23.0, \"DOY\": 205.0}, {\"NBR\": 0.6998191681735986, \"Year\": 1986, \"millis\": 524859081054.0, \"Month\": 8.0, \"Day\": 19.0, \"DOY\": 231.0}, {\"NBR\": 0.6999548124717578, \"Year\": 1986, \"millis\": 524859104776.0, \"Month\": 8.0, \"Day\": 19.0, \"DOY\": 231.0}, {\"NBR\": 0.7005395683453237, \"Year\": 2000, \"millis\": 967228060846.0, \"Month\": 8.0, \"Day\": 25.0, \"DOY\": 238.0}, {\"NBR\": 0.7322834645669292, \"Year\": 2007, \"millis\": 1187030594640.0, \"Month\": 8.0, \"Day\": 13.0, \"DOY\": 225.0}, {\"NBR\": 0.7332652018395504, \"Year\": 1998, \"millis\": 904242880098.0, \"Month\": 8.0, \"Day\": 27.0, \"DOY\": 239.0}, {\"NBR\": 0.7335190343546889, \"Year\": 2007, \"millis\": 1187030618470.0, \"Month\": 8.0, \"Day\": 13.0, \"DOY\": 225.0}]}}, {\"mode\": \"vega-lite\"});\n",
              "</script>"
            ],
            "text/plain": [
              "alt.Chart(...)"
            ]
          },
          "metadata": {},
          "execution_count": 319
        }
      ]
    },
    {
      "cell_type": "markdown",
      "source": [
        "############################################### ################\n",
        "### FUNÇÕES DE TRANSFORMAÇÃO ALTERNATIVA ###\n",
        "############################################### ################\n",
        "\n",
        "Roy et al. (2016) A Tabela 2 fornece coeficientes de regressão OLS e RMA\n",
        "para transformar a refletância de superfície ETM+ em refletância de superfície OLI e vice-versa. \n",
        "O tutorial acima demonstra apenas a transformação de ETM+ para OLI por OLS regressão. Abaixo estão as funções para todas as opções de transformação. Modifique o acima funções de wrapper `prepOLI` e `prepETM` conforme necessário para adicionar/remover/substituir funções de transformação. Além disso, use o dicionário `coeficientes` abaixo em vez do definido acima (o seguinte inclui todos os conjuntos de coeficientes)."
      ],
      "metadata": {
        "id": "FcXxnAUYTMoj"
      }
    },
    {
      "cell_type": "code",
      "source": [
        "##Define OLS and RMA surface regression coefficients.\n",
        "def coefficients(image):\n",
        "  etm2oli_ols: {\n",
        "      'itcps': ee.Image.constant([0.0003, 0.0088, 0.0061, 0.0412, 0.0254, 0.0172]).multiply(10000),\n",
        "      'slopes': ee.Image.constant([0.8474, 0.8483, 0.9047, 0.8462, 0.8937, 0.9071])\n",
        "      }\n",
        "def oli2etm_ols(image): \n",
        "  {\n",
        "          'itcps': ee.Image.constant([0.0183, 0.0123, 0.0123, 0.0448, 0.0306, 0.0116]).multiply(10000),\n",
        "          'slopes': ee.Image.constant([0.885, 0.9317, 0.9372, 0.8339, 0.8639, 0.9165])\n",
        "          }\n",
        "def rma(image): \n",
        "  {\n",
        "      'itcps': ee.Image.constant([-0.0095, -0.0016, -0.0022, -0.0021, -0.0030, 0.0029]).multiply(10000),\n",
        "      'slopes': ee.Image.constant([0.9785, 0.9542, 0.9825, 1.0073, 1.0171, 0.9949])\n",
        "      }\n",
        "              \n",
        "\n",
        "##Define function to apply OLS ETM+ to OLI transformation.\n",
        "def etm2oli_ols(img):\n",
        "  return img.select(['Blue', 'Green', 'Red', 'NIR', 'SWIR1', 'SWIR2'])\\\n",
        "  .multiply(coefficients.etm2oli_ols.slopes)\\\n",
        "  .add(coefficients.etm2oli_ols.itcps)\\\n",
        "  .round()\\\n",
        "  .toShort()\\\n",
        "  .addBands(img.select('pixel_qa')\\\n",
        "  );\n",
        "\n",
        "\n",
        "##Define function to apply OLS OLI to ETM+ transformation.\n",
        "def oli2etm_ols(img):\n",
        "  return ee.Image(\n",
        "      img.select(['Blue', 'Green', 'Red', 'NIR', 'SWIR1', 'SWIR2'])\\\n",
        "      .multiply(coefficients.oli2etm_ols.slopes)\\\n",
        "      .add(coefficients.oli2etm_ols.itcps)\\\n",
        "      .round()\\\n",
        "      .toShort()\\\n",
        "      .addBands(img.select('pixel_qa'))\\\n",
        "      .copyProperties(img, ['system:time_start'])\\\n",
        "  )\n",
        "\n",
        "##Define function to apply RMA OLI to ETM+ transformation.\n",
        "def oli2etm_rma(img):\n",
        "  return ee.Image(\n",
        "    img.select(['Blue', 'Green', 'Red', 'NIR', 'SWIR1', 'SWIR2'])\n",
        "      .subtract(coefficients.rma.itcps)\n",
        "      .divide(coefficients.rma.slopes)\n",
        "      .round()\n",
        "      .toShort()\n",
        "      .addBands(img.select('pixel_qa'))\n",
        "      .copyProperties(img, ['system:time_start'])\n",
        "  );\n",
        "\n",
        "\n",
        "##Define function to apply RMA ETM+ to OLI transformation.\n",
        "def etm2oli_rma(img):\n",
        "  return ee.Image(\n",
        "    img.select(['Blue', 'Green', 'Red', 'NIR', 'SWIR1', 'SWIR2'])\n",
        "      .multiply(coefficients.rma.slopes)\n",
        "      .add(coefficients.rma.itcps)\n",
        "      .round()\n",
        "      .toShort()\n",
        "      .addBands(img.select('pixel_qa'))\n",
        "      .copyProperties(img, ['system:time_start'])\n",
        "  )"
      ],
      "metadata": {
        "id": "t8UBV0pqTmDS"
      },
      "execution_count": 320,
      "outputs": []
    }
  ]
}